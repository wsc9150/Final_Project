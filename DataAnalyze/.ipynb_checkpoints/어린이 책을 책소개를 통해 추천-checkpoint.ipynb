{
 "cells": [
  {
   "cell_type": "code",
   "execution_count": 1,
   "metadata": {},
   "outputs": [],
   "source": [
    "import json\n",
    "import pandas as pd\n",
    "import numpy as np\n",
    "\n",
    "import requests\n",
    "\n",
    "from tqdm import tqdm_notebook"
   ]
  },
  {
   "cell_type": "code",
   "execution_count": 2,
   "metadata": {},
   "outputs": [],
   "source": [
    "%matplotlib inline\n",
    "\n",
    "import pandas as pd\n",
    "import numpy as np\n",
    "import matplotlib.pyplot as plt\n",
    "import seaborn as sns\n",
    "from scipy import stats\n",
    "from ast import literal_eval\n",
    "from sklearn.feature_extraction.text import TfidfVectorizer, CountVectorizer\n",
    "from sklearn.metrics.pairwise import linear_kernel, cosine_similarity\n",
    "from nltk.stem.snowball import SnowballStemmer\n",
    "from nltk.stem.wordnet import WordNetLemmatizer\n",
    "from nltk.corpus import wordnet\n",
    "# import SVD\n",
    "# import accuracy\n",
    "\n",
    "import warnings; warnings.simplefilter('ignore')"
   ]
  },
  {
   "cell_type": "markdown",
   "metadata": {},
   "source": [
    "# 어린이 책을 책소개를 통해 비슷한 책 추천해주기"
   ]
  },
  {
   "cell_type": "code",
   "execution_count": 4,
   "metadata": {},
   "outputs": [],
   "source": [
    "# 데이터 불러오기\n",
    "children = pd.read_csv('./data/final/content_re/children_df.csv',encoding='utf-8')"
   ]
  },
  {
   "cell_type": "code",
   "execution_count": 5,
   "metadata": {},
   "outputs": [
    {
     "data": {
      "text/html": [
       "<div>\n",
       "<style scoped>\n",
       "    .dataframe tbody tr th:only-of-type {\n",
       "        vertical-align: middle;\n",
       "    }\n",
       "\n",
       "    .dataframe tbody tr th {\n",
       "        vertical-align: top;\n",
       "    }\n",
       "\n",
       "    .dataframe thead th {\n",
       "        text-align: right;\n",
       "    }\n",
       "</style>\n",
       "<table border=\"1\" class=\"dataframe\">\n",
       "  <thead>\n",
       "    <tr style=\"text-align: right;\">\n",
       "      <th></th>\n",
       "      <th>no</th>\n",
       "      <th>ranking</th>\n",
       "      <th>bookname</th>\n",
       "      <th>authors</th>\n",
       "      <th>publisher</th>\n",
       "      <th>publication_year</th>\n",
       "      <th>isbn13</th>\n",
       "      <th>addition_symbol</th>\n",
       "      <th>vol</th>\n",
       "      <th>class_no</th>\n",
       "      <th>loan_count</th>\n",
       "      <th>bookImageURL</th>\n",
       "    </tr>\n",
       "  </thead>\n",
       "  <tbody>\n",
       "    <tr>\n",
       "      <th>0</th>\n",
       "      <td>1</td>\n",
       "      <td>1</td>\n",
       "      <td>(설민석의) 한국사 대모험</td>\n",
       "      <td>글: 설민석,그림: 정현희</td>\n",
       "      <td>휴먼큐브</td>\n",
       "      <td>NaN</td>\n",
       "      <td>9791188874262</td>\n",
       "      <td>74910.0</td>\n",
       "      <td>9.0</td>\n",
       "      <td>911.0</td>\n",
       "      <td>3,213</td>\n",
       "      <td>https://image.aladin.co.kr/product/17950/14/co...</td>\n",
       "    </tr>\n",
       "    <tr>\n",
       "      <th>1</th>\n",
       "      <td>2</td>\n",
       "      <td>2</td>\n",
       "      <td>(설민석의) 한국사 대모험</td>\n",
       "      <td>글: 설민석,그림: 정현희</td>\n",
       "      <td>휴먼큐브</td>\n",
       "      <td>NaN</td>\n",
       "      <td>9791188874217</td>\n",
       "      <td>74910.0</td>\n",
       "      <td>8.0</td>\n",
       "      <td>911.0</td>\n",
       "      <td>3,164</td>\n",
       "      <td>https://image.aladin.co.kr/product/16868/13/co...</td>\n",
       "    </tr>\n",
       "    <tr>\n",
       "      <th>2</th>\n",
       "      <td>3</td>\n",
       "      <td>3</td>\n",
       "      <td>설민석의 한국사 대모험 11 - 고구려 편 : 부마 온달, 태학에 들어가다!</td>\n",
       "      <td>설민석, 스토리박스 (지은이), 정현희 (그림), 태건 역사 연구소 (감수)</td>\n",
       "      <td>아이휴먼</td>\n",
       "      <td>2019.0</td>\n",
       "      <td>9791188874385</td>\n",
       "      <td>74910.0</td>\n",
       "      <td>11.0</td>\n",
       "      <td>911.0</td>\n",
       "      <td>3,099</td>\n",
       "      <td>https://image.aladin.co.kr/product/20004/68/co...</td>\n",
       "    </tr>\n",
       "  </tbody>\n",
       "</table>\n",
       "</div>"
      ],
      "text/plain": [
       "   no  ranking                                    bookname  \\\n",
       "0   1        1                              (설민석의) 한국사 대모험   \n",
       "1   2        2                              (설민석의) 한국사 대모험   \n",
       "2   3        3  설민석의 한국사 대모험 11 - 고구려 편 : 부마 온달, 태학에 들어가다!   \n",
       "\n",
       "                                      authors publisher  publication_year  \\\n",
       "0                              글: 설민석,그림: 정현희      휴먼큐브               NaN   \n",
       "1                              글: 설민석,그림: 정현희      휴먼큐브               NaN   \n",
       "2  설민석, 스토리박스 (지은이), 정현희 (그림), 태건 역사 연구소 (감수)      아이휴먼            2019.0   \n",
       "\n",
       "          isbn13  addition_symbol   vol  class_no loan_count  \\\n",
       "0  9791188874262          74910.0   9.0     911.0      3,213   \n",
       "1  9791188874217          74910.0   8.0     911.0      3,164   \n",
       "2  9791188874385          74910.0  11.0     911.0      3,099   \n",
       "\n",
       "                                        bookImageURL  \n",
       "0  https://image.aladin.co.kr/product/17950/14/co...  \n",
       "1  https://image.aladin.co.kr/product/16868/13/co...  \n",
       "2  https://image.aladin.co.kr/product/20004/68/co...  "
      ]
     },
     "execution_count": 5,
     "metadata": {},
     "output_type": "execute_result"
    }
   ],
   "source": [
    "children.head(3)"
   ]
  },
  {
   "cell_type": "markdown",
   "metadata": {},
   "source": [
    "## merge로 책소개 가져오기"
   ]
  },
  {
   "cell_type": "code",
   "execution_count": 6,
   "metadata": {},
   "outputs": [],
   "source": [
    "# 책 소개글이 포함되어 있는 전체 데이터 가져오기 \n",
    "book = pd.read_csv('./data/final/library_book_df.csv',encoding='utf-8')"
   ]
  },
  {
   "cell_type": "code",
   "execution_count": 7,
   "metadata": {},
   "outputs": [
    {
     "data": {
      "text/html": [
       "<div>\n",
       "<style scoped>\n",
       "    .dataframe tbody tr th:only-of-type {\n",
       "        vertical-align: middle;\n",
       "    }\n",
       "\n",
       "    .dataframe tbody tr th {\n",
       "        vertical-align: top;\n",
       "    }\n",
       "\n",
       "    .dataframe thead th {\n",
       "        text-align: right;\n",
       "    }\n",
       "</style>\n",
       "<table border=\"1\" class=\"dataframe\">\n",
       "  <thead>\n",
       "    <tr style=\"text-align: right;\">\n",
       "      <th></th>\n",
       "      <th>no</th>\n",
       "      <th>ranking</th>\n",
       "      <th>bookname</th>\n",
       "      <th>authors</th>\n",
       "      <th>publisher</th>\n",
       "      <th>publication_year</th>\n",
       "      <th>isbn13</th>\n",
       "      <th>addition_symbol</th>\n",
       "      <th>vol</th>\n",
       "      <th>class_no</th>\n",
       "      <th>loan_count</th>\n",
       "      <th>bookImageURL</th>\n",
       "      <th>keyword</th>\n",
       "      <th>describe</th>\n",
       "    </tr>\n",
       "  </thead>\n",
       "  <tbody>\n",
       "    <tr>\n",
       "      <th>0</th>\n",
       "      <td>1</td>\n",
       "      <td>1</td>\n",
       "      <td>여행의 이유 :김영하 산문</td>\n",
       "      <td>지은이: 김영하</td>\n",
       "      <td>문학동네</td>\n",
       "      <td>2019.0</td>\n",
       "      <td>9788954655972</td>\n",
       "      <td>3810.0</td>\n",
       "      <td>NaN</td>\n",
       "      <td>816.7</td>\n",
       "      <td>13,336</td>\n",
       "      <td>https://image.aladin.co.kr/product/18827/60/co...</td>\n",
       "      <td>['여행', '김영하', '여행의', '사유', '산문', '인간', '매혹적', ...</td>\n",
       "      <td>“이 책을 쓰는 데 내 모든 여행의 경험이 필요했다”여행-일상-여행의 고리를 잇는 ...</td>\n",
       "    </tr>\n",
       "  </tbody>\n",
       "</table>\n",
       "</div>"
      ],
      "text/plain": [
       "   no  ranking        bookname   authors publisher  publication_year  \\\n",
       "0   1        1  여행의 이유 :김영하 산문  지은이: 김영하      문학동네            2019.0   \n",
       "\n",
       "          isbn13  addition_symbol  vol  class_no loan_count  \\\n",
       "0  9788954655972           3810.0  NaN     816.7     13,336   \n",
       "\n",
       "                                        bookImageURL  \\\n",
       "0  https://image.aladin.co.kr/product/18827/60/co...   \n",
       "\n",
       "                                             keyword  \\\n",
       "0  ['여행', '김영하', '여행의', '사유', '산문', '인간', '매혹적', ...   \n",
       "\n",
       "                                            describe  \n",
       "0  “이 책을 쓰는 데 내 모든 여행의 경험이 필요했다”여행-일상-여행의 고리를 잇는 ...  "
      ]
     },
     "execution_count": 7,
     "metadata": {},
     "output_type": "execute_result"
    }
   ],
   "source": [
    "book.head(1)"
   ]
  },
  {
   "cell_type": "code",
   "execution_count": 16,
   "metadata": {},
   "outputs": [],
   "source": [
    "child_result=pd.merge(children,book,on='isbn13',how='left')"
   ]
  },
  {
   "cell_type": "code",
   "execution_count": 10,
   "metadata": {
    "scrolled": true
   },
   "outputs": [
    {
     "data": {
      "text/html": [
       "<div>\n",
       "<style scoped>\n",
       "    .dataframe tbody tr th:only-of-type {\n",
       "        vertical-align: middle;\n",
       "    }\n",
       "\n",
       "    .dataframe tbody tr th {\n",
       "        vertical-align: top;\n",
       "    }\n",
       "\n",
       "    .dataframe thead th {\n",
       "        text-align: right;\n",
       "    }\n",
       "</style>\n",
       "<table border=\"1\" class=\"dataframe\">\n",
       "  <thead>\n",
       "    <tr style=\"text-align: right;\">\n",
       "      <th></th>\n",
       "      <th>no_x</th>\n",
       "      <th>ranking_x</th>\n",
       "      <th>bookname_x</th>\n",
       "      <th>authors_x</th>\n",
       "      <th>publisher_x</th>\n",
       "      <th>publication_year_x</th>\n",
       "      <th>isbn13</th>\n",
       "      <th>addition_symbol_x</th>\n",
       "      <th>vol_x</th>\n",
       "      <th>class_no_x</th>\n",
       "      <th>...</th>\n",
       "      <th>authors_y</th>\n",
       "      <th>publisher_y</th>\n",
       "      <th>publication_year_y</th>\n",
       "      <th>addition_symbol_y</th>\n",
       "      <th>vol_y</th>\n",
       "      <th>class_no_y</th>\n",
       "      <th>loan_count_y</th>\n",
       "      <th>bookImageURL_y</th>\n",
       "      <th>keyword</th>\n",
       "      <th>describe</th>\n",
       "    </tr>\n",
       "  </thead>\n",
       "  <tbody>\n",
       "    <tr>\n",
       "      <th>0</th>\n",
       "      <td>1</td>\n",
       "      <td>1</td>\n",
       "      <td>(설민석의) 한국사 대모험</td>\n",
       "      <td>글: 설민석,그림: 정현희</td>\n",
       "      <td>휴먼큐브</td>\n",
       "      <td>NaN</td>\n",
       "      <td>9791188874262</td>\n",
       "      <td>74910.0</td>\n",
       "      <td>9.0</td>\n",
       "      <td>911.0</td>\n",
       "      <td>...</td>\n",
       "      <td>NaN</td>\n",
       "      <td>NaN</td>\n",
       "      <td>NaN</td>\n",
       "      <td>NaN</td>\n",
       "      <td>NaN</td>\n",
       "      <td>NaN</td>\n",
       "      <td>NaN</td>\n",
       "      <td>NaN</td>\n",
       "      <td>NaN</td>\n",
       "      <td>NaN</td>\n",
       "    </tr>\n",
       "    <tr>\n",
       "      <th>1</th>\n",
       "      <td>2</td>\n",
       "      <td>2</td>\n",
       "      <td>(설민석의) 한국사 대모험</td>\n",
       "      <td>글: 설민석,그림: 정현희</td>\n",
       "      <td>휴먼큐브</td>\n",
       "      <td>NaN</td>\n",
       "      <td>9791188874217</td>\n",
       "      <td>74910.0</td>\n",
       "      <td>8.0</td>\n",
       "      <td>911.0</td>\n",
       "      <td>...</td>\n",
       "      <td>NaN</td>\n",
       "      <td>NaN</td>\n",
       "      <td>NaN</td>\n",
       "      <td>NaN</td>\n",
       "      <td>NaN</td>\n",
       "      <td>NaN</td>\n",
       "      <td>NaN</td>\n",
       "      <td>NaN</td>\n",
       "      <td>NaN</td>\n",
       "      <td>NaN</td>\n",
       "    </tr>\n",
       "    <tr>\n",
       "      <th>2</th>\n",
       "      <td>3</td>\n",
       "      <td>3</td>\n",
       "      <td>설민석의 한국사 대모험 11 - 고구려 편 : 부마 온달, 태학에 들어가다!</td>\n",
       "      <td>설민석, 스토리박스 (지은이), 정현희 (그림), 태건 역사 연구소 (감수)</td>\n",
       "      <td>아이휴먼</td>\n",
       "      <td>2019.0</td>\n",
       "      <td>9791188874385</td>\n",
       "      <td>74910.0</td>\n",
       "      <td>11.0</td>\n",
       "      <td>911.0</td>\n",
       "      <td>...</td>\n",
       "      <td>설민석, 스토리박스 (지은이), 정현희 (그림), 태건 역사 연구소 (감수)</td>\n",
       "      <td>아이휴먼</td>\n",
       "      <td>2019.0</td>\n",
       "      <td>74910.0</td>\n",
       "      <td>11.0</td>\n",
       "      <td>911.0</td>\n",
       "      <td>8,723</td>\n",
       "      <td>https://image.aladin.co.kr/product/20004/68/co...</td>\n",
       "      <td>['온달', '고구려', '설민석의한국사대모험', '한국사', '시작', '역사',...</td>\n",
       "      <td>재미있는 스토리와 다양한 한국사 이야기를 통해 어린이들에게 지식과 감동, 재미를 심...</td>\n",
       "    </tr>\n",
       "    <tr>\n",
       "      <th>3</th>\n",
       "      <td>4</td>\n",
       "      <td>4</td>\n",
       "      <td>(설민석의) 한국사 대모험</td>\n",
       "      <td>글: 설민석,그림: 정현희</td>\n",
       "      <td>휴먼큐브</td>\n",
       "      <td>NaN</td>\n",
       "      <td>9791188874293</td>\n",
       "      <td>74910.0</td>\n",
       "      <td>10.0</td>\n",
       "      <td>911.0</td>\n",
       "      <td>...</td>\n",
       "      <td>NaN</td>\n",
       "      <td>NaN</td>\n",
       "      <td>NaN</td>\n",
       "      <td>NaN</td>\n",
       "      <td>NaN</td>\n",
       "      <td>NaN</td>\n",
       "      <td>NaN</td>\n",
       "      <td>NaN</td>\n",
       "      <td>NaN</td>\n",
       "      <td>NaN</td>\n",
       "    </tr>\n",
       "    <tr>\n",
       "      <th>4</th>\n",
       "      <td>5</td>\n",
       "      <td>5</td>\n",
       "      <td>(추리 천재) 엉덩이 탐정</td>\n",
       "      <td>트롤 글·그림 ;김정화 옮김</td>\n",
       "      <td>미래엔</td>\n",
       "      <td>NaN</td>\n",
       "      <td>9791164131914</td>\n",
       "      <td>74830.0</td>\n",
       "      <td>8.0</td>\n",
       "      <td>833.6</td>\n",
       "      <td>...</td>\n",
       "      <td>NaN</td>\n",
       "      <td>NaN</td>\n",
       "      <td>NaN</td>\n",
       "      <td>NaN</td>\n",
       "      <td>NaN</td>\n",
       "      <td>NaN</td>\n",
       "      <td>NaN</td>\n",
       "      <td>NaN</td>\n",
       "      <td>NaN</td>\n",
       "      <td>NaN</td>\n",
       "    </tr>\n",
       "  </tbody>\n",
       "</table>\n",
       "<p>5 rows × 25 columns</p>\n",
       "</div>"
      ],
      "text/plain": [
       "   no_x  ranking_x                                  bookname_x  \\\n",
       "0     1          1                              (설민석의) 한국사 대모험   \n",
       "1     2          2                              (설민석의) 한국사 대모험   \n",
       "2     3          3  설민석의 한국사 대모험 11 - 고구려 편 : 부마 온달, 태학에 들어가다!   \n",
       "3     4          4                              (설민석의) 한국사 대모험   \n",
       "4     5          5                              (추리 천재) 엉덩이 탐정   \n",
       "\n",
       "                                    authors_x publisher_x  publication_year_x  \\\n",
       "0                              글: 설민석,그림: 정현희        휴먼큐브                 NaN   \n",
       "1                              글: 설민석,그림: 정현희        휴먼큐브                 NaN   \n",
       "2  설민석, 스토리박스 (지은이), 정현희 (그림), 태건 역사 연구소 (감수)        아이휴먼              2019.0   \n",
       "3                              글: 설민석,그림: 정현희        휴먼큐브                 NaN   \n",
       "4                             트롤 글·그림 ;김정화 옮김         미래엔                 NaN   \n",
       "\n",
       "          isbn13  addition_symbol_x  vol_x  class_no_x  ...  \\\n",
       "0  9791188874262            74910.0    9.0       911.0  ...   \n",
       "1  9791188874217            74910.0    8.0       911.0  ...   \n",
       "2  9791188874385            74910.0   11.0       911.0  ...   \n",
       "3  9791188874293            74910.0   10.0       911.0  ...   \n",
       "4  9791164131914            74830.0    8.0       833.6  ...   \n",
       "\n",
       "                                    authors_y publisher_y  publication_year_y  \\\n",
       "0                                         NaN         NaN                 NaN   \n",
       "1                                         NaN         NaN                 NaN   \n",
       "2  설민석, 스토리박스 (지은이), 정현희 (그림), 태건 역사 연구소 (감수)        아이휴먼              2019.0   \n",
       "3                                         NaN         NaN                 NaN   \n",
       "4                                         NaN         NaN                 NaN   \n",
       "\n",
       "   addition_symbol_y vol_y class_no_y loan_count_y  \\\n",
       "0                NaN   NaN        NaN          NaN   \n",
       "1                NaN   NaN        NaN          NaN   \n",
       "2            74910.0  11.0      911.0        8,723   \n",
       "3                NaN   NaN        NaN          NaN   \n",
       "4                NaN   NaN        NaN          NaN   \n",
       "\n",
       "                                      bookImageURL_y  \\\n",
       "0                                                NaN   \n",
       "1                                                NaN   \n",
       "2  https://image.aladin.co.kr/product/20004/68/co...   \n",
       "3                                                NaN   \n",
       "4                                                NaN   \n",
       "\n",
       "                                             keyword  \\\n",
       "0                                                NaN   \n",
       "1                                                NaN   \n",
       "2  ['온달', '고구려', '설민석의한국사대모험', '한국사', '시작', '역사',...   \n",
       "3                                                NaN   \n",
       "4                                                NaN   \n",
       "\n",
       "                                            describe  \n",
       "0                                                NaN  \n",
       "1                                                NaN  \n",
       "2  재미있는 스토리와 다양한 한국사 이야기를 통해 어린이들에게 지식과 감동, 재미를 심...  \n",
       "3                                                NaN  \n",
       "4                                                NaN  \n",
       "\n",
       "[5 rows x 25 columns]"
      ]
     },
     "execution_count": 10,
     "metadata": {},
     "output_type": "execute_result"
    }
   ],
   "source": [
    "child_result.head()"
   ]
  },
  {
   "cell_type": "code",
   "execution_count": 17,
   "metadata": {},
   "outputs": [],
   "source": [
    "# 데이터프레임으로 바꾸기\n",
    "child_result.to_csv('./data/final/content_re/child_result.csv',encoding='utf-8-sig',index=False)"
   ]
  },
  {
   "cell_type": "code",
   "execution_count": 20,
   "metadata": {},
   "outputs": [],
   "source": [
    "# 직접 엑셀에서 수정 후 데이터 불러오기\n",
    "child_result=pd.read_excel('./data/final/content_re/child_result.xlsx')"
   ]
  },
  {
   "cell_type": "code",
   "execution_count": 21,
   "metadata": {},
   "outputs": [
    {
     "data": {
      "text/html": [
       "<div>\n",
       "<style scoped>\n",
       "    .dataframe tbody tr th:only-of-type {\n",
       "        vertical-align: middle;\n",
       "    }\n",
       "\n",
       "    .dataframe tbody tr th {\n",
       "        vertical-align: top;\n",
       "    }\n",
       "\n",
       "    .dataframe thead th {\n",
       "        text-align: right;\n",
       "    }\n",
       "</style>\n",
       "<table border=\"1\" class=\"dataframe\">\n",
       "  <thead>\n",
       "    <tr style=\"text-align: right;\">\n",
       "      <th></th>\n",
       "      <th>no</th>\n",
       "      <th>ranking</th>\n",
       "      <th>bookname</th>\n",
       "      <th>authors</th>\n",
       "      <th>publisher</th>\n",
       "      <th>publication_year</th>\n",
       "      <th>isbn13</th>\n",
       "      <th>addition_symbol</th>\n",
       "      <th>vol</th>\n",
       "      <th>class_no</th>\n",
       "      <th>loan_count_x</th>\n",
       "      <th>bookImageURL_x</th>\n",
       "      <th>keyword</th>\n",
       "      <th>describe</th>\n",
       "    </tr>\n",
       "  </thead>\n",
       "  <tbody>\n",
       "    <tr>\n",
       "      <th>0</th>\n",
       "      <td>1</td>\n",
       "      <td>1</td>\n",
       "      <td>(설민석의) 한국사 대모험</td>\n",
       "      <td>글: 설민석,그림: 정현희</td>\n",
       "      <td>휴먼큐브</td>\n",
       "      <td>NaN</td>\n",
       "      <td>9791188874262</td>\n",
       "      <td>74910.0</td>\n",
       "      <td>9.0</td>\n",
       "      <td>911.0</td>\n",
       "      <td>3213</td>\n",
       "      <td>https://image.aladin.co.kr/product/17950/14/co...</td>\n",
       "      <td>NaN</td>\n",
       "      <td>NaN</td>\n",
       "    </tr>\n",
       "    <tr>\n",
       "      <th>1</th>\n",
       "      <td>2</td>\n",
       "      <td>2</td>\n",
       "      <td>(설민석의) 한국사 대모험</td>\n",
       "      <td>글: 설민석,그림: 정현희</td>\n",
       "      <td>휴먼큐브</td>\n",
       "      <td>NaN</td>\n",
       "      <td>9791188874217</td>\n",
       "      <td>74910.0</td>\n",
       "      <td>8.0</td>\n",
       "      <td>911.0</td>\n",
       "      <td>3164</td>\n",
       "      <td>https://image.aladin.co.kr/product/16868/13/co...</td>\n",
       "      <td>NaN</td>\n",
       "      <td>NaN</td>\n",
       "    </tr>\n",
       "    <tr>\n",
       "      <th>2</th>\n",
       "      <td>3</td>\n",
       "      <td>3</td>\n",
       "      <td>설민석의 한국사 대모험 11 - 고구려 편 : 부마 온달, 태학에 들어가다!</td>\n",
       "      <td>설민석, 스토리박스 (지은이), 정현희 (그림), 태건 역사 연구소 (감수)</td>\n",
       "      <td>아이휴먼</td>\n",
       "      <td>2019.0</td>\n",
       "      <td>9791188874385</td>\n",
       "      <td>74910.0</td>\n",
       "      <td>11.0</td>\n",
       "      <td>911.0</td>\n",
       "      <td>3099</td>\n",
       "      <td>https://image.aladin.co.kr/product/20004/68/co...</td>\n",
       "      <td>['온달', '고구려', '설민석의한국사대모험', '한국사', '시작', '역사',...</td>\n",
       "      <td>재미있는 스토리와 다양한 한국사 이야기를 통해 어린이들에게 지식과 감동, 재미를 심...</td>\n",
       "    </tr>\n",
       "  </tbody>\n",
       "</table>\n",
       "</div>"
      ],
      "text/plain": [
       "   no  ranking                                    bookname  \\\n",
       "0   1        1                              (설민석의) 한국사 대모험   \n",
       "1   2        2                              (설민석의) 한국사 대모험   \n",
       "2   3        3  설민석의 한국사 대모험 11 - 고구려 편 : 부마 온달, 태학에 들어가다!   \n",
       "\n",
       "                                      authors publisher  publication_year  \\\n",
       "0                              글: 설민석,그림: 정현희      휴먼큐브               NaN   \n",
       "1                              글: 설민석,그림: 정현희      휴먼큐브               NaN   \n",
       "2  설민석, 스토리박스 (지은이), 정현희 (그림), 태건 역사 연구소 (감수)      아이휴먼            2019.0   \n",
       "\n",
       "          isbn13  addition_symbol   vol  class_no  loan_count_x  \\\n",
       "0  9791188874262          74910.0   9.0     911.0          3213   \n",
       "1  9791188874217          74910.0   8.0     911.0          3164   \n",
       "2  9791188874385          74910.0  11.0     911.0          3099   \n",
       "\n",
       "                                      bookImageURL_x  \\\n",
       "0  https://image.aladin.co.kr/product/17950/14/co...   \n",
       "1  https://image.aladin.co.kr/product/16868/13/co...   \n",
       "2  https://image.aladin.co.kr/product/20004/68/co...   \n",
       "\n",
       "                                             keyword  \\\n",
       "0                                                NaN   \n",
       "1                                                NaN   \n",
       "2  ['온달', '고구려', '설민석의한국사대모험', '한국사', '시작', '역사',...   \n",
       "\n",
       "                                            describe  \n",
       "0                                                NaN  \n",
       "1                                                NaN  \n",
       "2  재미있는 스토리와 다양한 한국사 이야기를 통해 어린이들에게 지식과 감동, 재미를 심...  "
      ]
     },
     "execution_count": 21,
     "metadata": {},
     "output_type": "execute_result"
    }
   ],
   "source": [
    "child_result.head(3)"
   ]
  },
  {
   "cell_type": "code",
   "execution_count": 22,
   "metadata": {},
   "outputs": [
    {
     "data": {
      "text/plain": [
       "978"
      ]
     },
     "execution_count": 22,
     "metadata": {},
     "output_type": "execute_result"
    }
   ],
   "source": [
    "len(child_result)"
   ]
  },
  {
   "cell_type": "code",
   "execution_count": 25,
   "metadata": {},
   "outputs": [
    {
     "data": {
      "text/plain": [
       "470"
      ]
     },
     "execution_count": 25,
     "metadata": {},
     "output_type": "execute_result"
    }
   ],
   "source": [
    "# 어린이 책 중 책소개가 없는 책의 수\n",
    "child_result['describe'].isnull().sum()"
   ]
  },
  {
   "cell_type": "code",
   "execution_count": 27,
   "metadata": {},
   "outputs": [],
   "source": [
    "# 책소개가 없는 데이터만 따로 뽑기\n",
    "child_na_df=child_result[child_result['describe'].isnull()]"
   ]
  },
  {
   "cell_type": "code",
   "execution_count": 28,
   "metadata": {},
   "outputs": [],
   "source": [
    "# 책소개가 있는 데이터만 따로 뽑기\n",
    "child_revised_df=child_result[pd.notnull(child_result['describe'])]"
   ]
  },
  {
   "cell_type": "code",
   "execution_count": 29,
   "metadata": {},
   "outputs": [
    {
     "name": "stdout",
     "output_type": "stream",
     "text": [
      "470\n",
      "508\n"
     ]
    }
   ],
   "source": [
    "print(len(child_na_df))\n",
    "print(len(child_revised_df))"
   ]
  },
  {
   "cell_type": "markdown",
   "metadata": {},
   "source": [
    "## API키를 통해 책 소개 가져오기"
   ]
  },
  {
   "cell_type": "code",
   "execution_count": 35,
   "metadata": {},
   "outputs": [],
   "source": [
    "# 도서 상세조회 api 이용\n",
    "# api 주소 호출을 위한 url 변수 생성\n",
    "api_url = [\n",
    "    'http://data4library.kr/api/srchDtlList?authKey=2de07acdbc8edb45815b0788321c701a3d0881ebcdc8952f7c41c3f7f958a10c&isbn13=',\n",
    "    'http://data4library.kr/api/srchDtlList?authKey=c96c4e4696015af34412e7a7e6fdde51471b8afd01dc99500d1da873f4d6606a&isbn13=',\n",
    "    'http://data4library.kr/api/srchDtlList?authKey=19eb5917bd75c9176a7491885f27acc65bc61e6e75f55c35f29946b94ec16d74&isbn13=',\n",
    "    'http://data4library.kr/api/srchDtlList?authKey=76c1e62b08217a3170bfb33f6939c24ec881a7681bc647665ab0e4059723d0b4&isbn13=',\n",
    "    'http://data4library.kr/api/srchDtlList?authKey=1aef030f94fbc0535a4863fdd659db4defd2b53ed15d2e38dd2b274c8ae4e66a&isbn13='\n",
    "]\n",
    "rest_url = '&format=json'"
   ]
  },
  {
   "cell_type": "code",
   "execution_count": 30,
   "metadata": {},
   "outputs": [],
   "source": [
    "# 청소년도서 isbn 리스트 생성\n",
    "child_na_isbn = list(child_na_df['isbn13'].astype(str))"
   ]
  },
  {
   "cell_type": "code",
   "execution_count": 33,
   "metadata": {},
   "outputs": [
    {
     "data": {
      "text/html": [
       "<div>\n",
       "<style scoped>\n",
       "    .dataframe tbody tr th:only-of-type {\n",
       "        vertical-align: middle;\n",
       "    }\n",
       "\n",
       "    .dataframe tbody tr th {\n",
       "        vertical-align: top;\n",
       "    }\n",
       "\n",
       "    .dataframe thead th {\n",
       "        text-align: right;\n",
       "    }\n",
       "</style>\n",
       "<table border=\"1\" class=\"dataframe\">\n",
       "  <thead>\n",
       "    <tr style=\"text-align: right;\">\n",
       "      <th></th>\n",
       "      <th>isbn13</th>\n",
       "      <th>describe</th>\n",
       "    </tr>\n",
       "  </thead>\n",
       "  <tbody>\n",
       "  </tbody>\n",
       "</table>\n",
       "</div>"
      ],
      "text/plain": [
       "Empty DataFrame\n",
       "Columns: [isbn13, describe]\n",
       "Index: []"
      ]
     },
     "execution_count": 33,
     "metadata": {},
     "output_type": "execute_result"
    }
   ],
   "source": [
    "# isbn과 키워드리스트를 가지는 데이터프레임 생성\n",
    "isbn_desc_df_child = pd.DataFrame(columns = ['isbn13', 'describe'])\n",
    "isbn_desc_df_child"
   ]
  },
  {
   "cell_type": "code",
   "execution_count": 36,
   "metadata": {},
   "outputs": [
    {
     "data": {
      "application/vnd.jupyter.widget-view+json": {
       "model_id": "edcef60051834a9d9471d8a77355ab0e",
       "version_major": 2,
       "version_minor": 0
      },
      "text/plain": [
       "HBox(children=(HTML(value=''), FloatProgress(value=0.0, max=470.0), HTML(value='')))"
      ]
     },
     "metadata": {},
     "output_type": "display_data"
    },
    {
     "name": "stdout",
     "output_type": "stream",
     "text": [
      "\n"
     ]
    }
   ],
   "source": [
    "# url 요청으로 키워드 json 파일 다운로드\n",
    "for i in tqdm_notebook(range(len(child_na_isbn))) :\n",
    "    desc_url = api_url[1] + child_na_isbn[i] + rest_url\n",
    "    \n",
    "    response = requests.get(desc_url)\n",
    "    desc_json = response.json()\n",
    "    \n",
    "    if 'detail' in desc_json['response'].keys():\n",
    "        describe = desc_json['response']['detail'][0]['book']['description']\n",
    "    else:\n",
    "        describe = \"\"\n",
    "        \n",
    "    isbn_desc_df_child.loc[i] = [child_na_isbn[i], describe]"
   ]
  },
  {
   "cell_type": "code",
   "execution_count": 40,
   "metadata": {},
   "outputs": [],
   "source": [
    "# 책소개가 없는 데이터에 책소개 채워넣기\n",
    "child_na_df['describe']=isbn_desc_df_child['describe']"
   ]
  },
  {
   "cell_type": "code",
   "execution_count": 41,
   "metadata": {},
   "outputs": [],
   "source": [
    "child_df=pd.concat([child_na_df,child_revised_df],ignore_index=True)"
   ]
  },
  {
   "cell_type": "code",
   "execution_count": 42,
   "metadata": {},
   "outputs": [
    {
     "name": "stdout",
     "output_type": "stream",
     "text": [
      "<class 'pandas.core.frame.DataFrame'>\n",
      "RangeIndex: 978 entries, 0 to 977\n",
      "Data columns (total 14 columns):\n",
      " #   Column            Non-Null Count  Dtype  \n",
      "---  ------            --------------  -----  \n",
      " 0   no                978 non-null    int64  \n",
      " 1   ranking           978 non-null    int64  \n",
      " 2   bookname          978 non-null    object \n",
      " 3   authors           978 non-null    object \n",
      " 4   publisher         978 non-null    object \n",
      " 5   publication_year  480 non-null    float64\n",
      " 6   isbn13            978 non-null    int64  \n",
      " 7   addition_symbol   932 non-null    float64\n",
      " 8   vol               797 non-null    float64\n",
      " 9   class_no          931 non-null    float64\n",
      " 10  loan_count_x      978 non-null    int64  \n",
      " 11  bookImageURL_x    977 non-null    object \n",
      " 12  keyword           512 non-null    object \n",
      " 13  describe          801 non-null    object \n",
      "dtypes: float64(4), int64(4), object(6)\n",
      "memory usage: 107.1+ KB\n"
     ]
    }
   ],
   "source": [
    "child_df.info()"
   ]
  },
  {
   "cell_type": "code",
   "execution_count": 44,
   "metadata": {},
   "outputs": [],
   "source": [
    "### 책 소개가 없는 데이터 채우기\n",
    "child_na_describe=child_df[child_df['describe'].isnull()]"
   ]
  },
  {
   "cell_type": "code",
   "execution_count": 79,
   "metadata": {},
   "outputs": [],
   "source": [
    "### 책 소개가 있는 데이터 채우기\n",
    "child_describe=child_df[pd.notnull(child_df['describe'])]"
   ]
  },
  {
   "cell_type": "code",
   "execution_count": 80,
   "metadata": {},
   "outputs": [
    {
     "name": "stdout",
     "output_type": "stream",
     "text": [
      "978\n",
      "801\n"
     ]
    }
   ],
   "source": [
    "print(len(child_df))\n",
    "print(len(child_describe))"
   ]
  },
  {
   "cell_type": "code",
   "execution_count": 45,
   "metadata": {},
   "outputs": [
    {
     "data": {
      "text/plain": [
       "177"
      ]
     },
     "execution_count": 45,
     "metadata": {},
     "output_type": "execute_result"
    }
   ],
   "source": [
    "len(child_na_describe)"
   ]
  },
  {
   "cell_type": "code",
   "execution_count": 46,
   "metadata": {},
   "outputs": [],
   "source": [
    "child_na_describe.reset_index(drop=True,inplace=True)"
   ]
  },
  {
   "cell_type": "markdown",
   "metadata": {},
   "source": [
    "# 부족한 책 크롤링해서 찾기"
   ]
  },
  {
   "cell_type": "code",
   "execution_count": 48,
   "metadata": {},
   "outputs": [],
   "source": [
    "# 크롤링\n",
    "from urllib.request import urlopen\n",
    "from bs4 import BeautifulSoup\n",
    "from urllib.error import HTTPError\n",
    "from urllib.error import URLError"
   ]
  },
  {
   "cell_type": "code",
   "execution_count": 49,
   "metadata": {},
   "outputs": [],
   "source": [
    "# 오픈을 할때 예외처리를 통해 만약 오류가 생기면 원인을 알수 있게 함수 있음\n",
    "try :\n",
    "    html = urlopen('https://pythondojang.bitbucket.io/weather/observation/currentweather.html')\n",
    "except HTTPError as he :\n",
    "    print('http error')\n",
    "except URLError as ue :\n",
    "    print('url error')\n",
    "else :\n",
    "    soup = BeautifulSoup(html.read(), 'html.parser')"
   ]
  },
  {
   "cell_type": "code",
   "execution_count": 50,
   "metadata": {},
   "outputs": [],
   "source": [
    "from selenium import webdriver\n",
    "from bs4 import BeautifulSoup\n",
    "import requests\n",
    "from tqdm import tqdm_notebook\n",
    "from bs4 import BeautifulSoup\n",
    "import time"
   ]
  },
  {
   "cell_type": "code",
   "execution_count": 69,
   "metadata": {},
   "outputs": [],
   "source": [
    "# isbn 리스트 생성\n",
    "na_describe_list = list(child_na_describe['isbn13'].astype(str))"
   ]
  },
  {
   "cell_type": "code",
   "execution_count": 74,
   "metadata": {},
   "outputs": [
    {
     "data": {
      "text/plain": [
       "177"
      ]
     },
     "execution_count": 74,
     "metadata": {},
     "output_type": "execute_result"
    }
   ],
   "source": [
    "len(na_describe_list)"
   ]
  },
  {
   "cell_type": "code",
   "execution_count": 75,
   "metadata": {},
   "outputs": [
    {
     "data": {
      "text/plain": [
       "<selenium.webdriver.chrome.webdriver.WebDriver (session=\"8c91309a330dae42606df396c8a8ea1e\")>"
      ]
     },
     "execution_count": 75,
     "metadata": {},
     "output_type": "execute_result"
    }
   ],
   "source": [
    "# 자동화 웹 페이지 열기\n",
    "path = './driver/chromedriver.exe'\n",
    "driver = webdriver.Chrome(path)\n",
    "driver"
   ]
  },
  {
   "cell_type": "code",
   "execution_count": 76,
   "metadata": {},
   "outputs": [],
   "source": [
    "isbn_url = 'http://www.kyobobook.co.kr/product/detailViewKor.laf?ejkGb=KOR&mallGb=KOR&barcode='\n",
    "rest_url = '&orderClick=LAG&Kc='"
   ]
  },
  {
   "cell_type": "code",
   "execution_count": 77,
   "metadata": {},
   "outputs": [
    {
     "data": {
      "application/vnd.jupyter.widget-view+json": {
       "model_id": "56bba262fbb04b1393e6524f06c5bf7e",
       "version_major": 2,
       "version_minor": 0
      },
      "text/plain": [
       "HBox(children=(HTML(value=''), FloatProgress(value=0.0, max=177.0), HTML(value='')))"
      ]
     },
     "metadata": {},
     "output_type": "display_data"
    },
    {
     "name": "stdout",
     "output_type": "stream",
     "text": [
      "\n"
     ]
    }
   ],
   "source": [
    "intro = []\n",
    "\n",
    "for i in tqdm_notebook(range(len(na_describe_list))) :\n",
    "    url = isbn_url + str(na_describe_list[i]) + rest_url\n",
    "    driver.get(url)\n",
    "    \n",
    "    a_list = driver.find_elements_by_css_selector('div.box_detail_article')\n",
    "    time.sleep(1.5)\n",
    "    a_list = driver.find_elements_by_css_selector('div.box_detail_article')\n",
    "    \n",
    "    if len(a_list) > 0 :\n",
    "        intro.append(a_list[0].text)\n",
    "    else :\n",
    "        intro.append('')\n",
    "        continue\n",
    "    \n"
   ]
  },
  {
   "cell_type": "code",
   "execution_count": 78,
   "metadata": {},
   "outputs": [
    {
     "data": {
      "text/plain": [
       "177"
      ]
     },
     "execution_count": 78,
     "metadata": {},
     "output_type": "execute_result"
    }
   ],
   "source": [
    "len(intro)"
   ]
  },
  {
   "cell_type": "code",
   "execution_count": 81,
   "metadata": {},
   "outputs": [],
   "source": [
    "child_na_describe['describe']=intro"
   ]
  },
  {
   "cell_type": "code",
   "execution_count": 82,
   "metadata": {},
   "outputs": [
    {
     "data": {
      "text/html": [
       "<div>\n",
       "<style scoped>\n",
       "    .dataframe tbody tr th:only-of-type {\n",
       "        vertical-align: middle;\n",
       "    }\n",
       "\n",
       "    .dataframe tbody tr th {\n",
       "        vertical-align: top;\n",
       "    }\n",
       "\n",
       "    .dataframe thead th {\n",
       "        text-align: right;\n",
       "    }\n",
       "</style>\n",
       "<table border=\"1\" class=\"dataframe\">\n",
       "  <thead>\n",
       "    <tr style=\"text-align: right;\">\n",
       "      <th></th>\n",
       "      <th>no</th>\n",
       "      <th>ranking</th>\n",
       "      <th>bookname</th>\n",
       "      <th>authors</th>\n",
       "      <th>publisher</th>\n",
       "      <th>publication_year</th>\n",
       "      <th>isbn13</th>\n",
       "      <th>addition_symbol</th>\n",
       "      <th>vol</th>\n",
       "      <th>class_no</th>\n",
       "      <th>loan_count_x</th>\n",
       "      <th>bookImageURL_x</th>\n",
       "      <th>keyword</th>\n",
       "      <th>describe</th>\n",
       "    </tr>\n",
       "  </thead>\n",
       "  <tbody>\n",
       "    <tr>\n",
       "      <th>0</th>\n",
       "      <td>474</td>\n",
       "      <td>474</td>\n",
       "      <td>쿠키런 서바이벌 대작전</td>\n",
       "      <td>글: 김강현 ;그림: 김기수</td>\n",
       "      <td>서울문화사</td>\n",
       "      <td>NaN</td>\n",
       "      <td>9788926388426</td>\n",
       "      <td>67400.0</td>\n",
       "      <td>4.0</td>\n",
       "      <td>372.42</td>\n",
       "      <td>912</td>\n",
       "      <td>http://image.aladin.co.kr/product/7057/44/cove...</td>\n",
       "      <td>NaN</td>\n",
       "      <td>안전상식 학습만화 「쿠키런 서바이벌 대작전」 제4권 《산과 하늘 편》. 웨어울프맛 ...</td>\n",
       "    </tr>\n",
       "    <tr>\n",
       "      <th>1</th>\n",
       "      <td>476</td>\n",
       "      <td>476</td>\n",
       "      <td>쿠키런 서바이벌 대작전</td>\n",
       "      <td>글: 김강현 ;그림: 김기수</td>\n",
       "      <td>서울문화사</td>\n",
       "      <td>NaN</td>\n",
       "      <td>9788926388280</td>\n",
       "      <td>67400.0</td>\n",
       "      <td>3.0</td>\n",
       "      <td>372.42</td>\n",
       "      <td>909</td>\n",
       "      <td>https://bookthumb-phinf.pstatic.net/cover/094/...</td>\n",
       "      <td>NaN</td>\n",
       "      <td>안전상식 학습만화 「쿠키런 서바이벌 대작전」 3권 《도시 편》. 마법의 재료가 적힌...</td>\n",
       "    </tr>\n",
       "    <tr>\n",
       "      <th>2</th>\n",
       "      <td>477</td>\n",
       "      <td>477</td>\n",
       "      <td>어린이 과학 형사대 CSI</td>\n",
       "      <td>글: 고희정 ;그림: 서용남</td>\n",
       "      <td>가나출판사</td>\n",
       "      <td>NaN</td>\n",
       "      <td>9788957364642</td>\n",
       "      <td>74400.0</td>\n",
       "      <td>5.0</td>\n",
       "      <td>400.00</td>\n",
       "      <td>905</td>\n",
       "      <td>https://bookthumb-phinf.pstatic.net/cover/054/...</td>\n",
       "      <td>NaN</td>\n",
       "      <td>추리로 배우는 교과서 과학\\n\\n『어린이 과학 형사대 CSI』시리즈 제5권《CSI,...</td>\n",
       "    </tr>\n",
       "    <tr>\n",
       "      <th>3</th>\n",
       "      <td>479</td>\n",
       "      <td>479</td>\n",
       "      <td>(만화로 보는)그리스 로마 신화</td>\n",
       "      <td>토머스 불핀치 지음;서영 그림</td>\n",
       "      <td>가나출판사</td>\n",
       "      <td>2005.0</td>\n",
       "      <td>9788957363041</td>\n",
       "      <td>73840.0</td>\n",
       "      <td>4.0</td>\n",
       "      <td>219.00</td>\n",
       "      <td>903</td>\n",
       "      <td>https://bookthumb-phinf.pstatic.net/cover/015/...</td>\n",
       "      <td>NaN</td>\n",
       "      <td>어린이용 그리스·로마 신화 베스트셀러. 아름다운 여신과 뛰어난 영웅, 그리고 신비로...</td>\n",
       "    </tr>\n",
       "    <tr>\n",
       "      <th>4</th>\n",
       "      <td>485</td>\n",
       "      <td>485</td>\n",
       "      <td>이사도라 문</td>\n",
       "      <td>해리엇 먼캐스터 지음 ;심연희 옮김</td>\n",
       "      <td>북이십일</td>\n",
       "      <td>NaN</td>\n",
       "      <td>9788950977948</td>\n",
       "      <td>74840.0</td>\n",
       "      <td>4.0</td>\n",
       "      <td>843.00</td>\n",
       "      <td>897</td>\n",
       "      <td>https://image.aladin.co.kr/product/18783/20/co...</td>\n",
       "      <td>NaN</td>\n",
       "      <td>“평범한 생일 파티를 열고 싶어!”\\n\\n뱀파이어 요정 이사도라의 생일이에요.\\n엄...</td>\n",
       "    </tr>\n",
       "  </tbody>\n",
       "</table>\n",
       "</div>"
      ],
      "text/plain": [
       "    no  ranking           bookname              authors publisher  \\\n",
       "0  474      474       쿠키런 서바이벌 대작전      글: 김강현 ;그림: 김기수     서울문화사   \n",
       "1  476      476       쿠키런 서바이벌 대작전      글: 김강현 ;그림: 김기수     서울문화사   \n",
       "2  477      477     어린이 과학 형사대 CSI      글: 고희정 ;그림: 서용남     가나출판사   \n",
       "3  479      479  (만화로 보는)그리스 로마 신화     토머스 불핀치 지음;서영 그림     가나출판사   \n",
       "4  485      485             이사도라 문  해리엇 먼캐스터 지음 ;심연희 옮김      북이십일   \n",
       "\n",
       "   publication_year         isbn13  addition_symbol  vol  class_no  \\\n",
       "0               NaN  9788926388426          67400.0  4.0    372.42   \n",
       "1               NaN  9788926388280          67400.0  3.0    372.42   \n",
       "2               NaN  9788957364642          74400.0  5.0    400.00   \n",
       "3            2005.0  9788957363041          73840.0  4.0    219.00   \n",
       "4               NaN  9788950977948          74840.0  4.0    843.00   \n",
       "\n",
       "   loan_count_x                                     bookImageURL_x keyword  \\\n",
       "0           912  http://image.aladin.co.kr/product/7057/44/cove...     NaN   \n",
       "1           909  https://bookthumb-phinf.pstatic.net/cover/094/...     NaN   \n",
       "2           905  https://bookthumb-phinf.pstatic.net/cover/054/...     NaN   \n",
       "3           903  https://bookthumb-phinf.pstatic.net/cover/015/...     NaN   \n",
       "4           897  https://image.aladin.co.kr/product/18783/20/co...     NaN   \n",
       "\n",
       "                                            describe  \n",
       "0  안전상식 학습만화 「쿠키런 서바이벌 대작전」 제4권 《산과 하늘 편》. 웨어울프맛 ...  \n",
       "1  안전상식 학습만화 「쿠키런 서바이벌 대작전」 3권 《도시 편》. 마법의 재료가 적힌...  \n",
       "2  추리로 배우는 교과서 과학\\n\\n『어린이 과학 형사대 CSI』시리즈 제5권《CSI,...  \n",
       "3  어린이용 그리스·로마 신화 베스트셀러. 아름다운 여신과 뛰어난 영웅, 그리고 신비로...  \n",
       "4  “평범한 생일 파티를 열고 싶어!”\\n\\n뱀파이어 요정 이사도라의 생일이에요.\\n엄...  "
      ]
     },
     "execution_count": 82,
     "metadata": {},
     "output_type": "execute_result"
    }
   ],
   "source": [
    "child_na_describe.head(5)"
   ]
  },
  {
   "cell_type": "code",
   "execution_count": 83,
   "metadata": {},
   "outputs": [],
   "source": [
    "# 최종 child 데이터 넣기\n",
    "child_final_df=pd.concat([child_na_describe,child_describe],ignore_index=True)"
   ]
  },
  {
   "cell_type": "code",
   "execution_count": 84,
   "metadata": {},
   "outputs": [
    {
     "data": {
      "text/plain": [
       "978"
      ]
     },
     "execution_count": 84,
     "metadata": {},
     "output_type": "execute_result"
    }
   ],
   "source": [
    "len(child_final_df)"
   ]
  },
  {
   "cell_type": "code",
   "execution_count": 85,
   "metadata": {},
   "outputs": [],
   "source": [
    "# csv 파일로 변환하기\n",
    "child_final_df.to_csv('./data/final/content_re/child_final_df.csv',encoding='utf-8-sig',index=False)"
   ]
  },
  {
   "cell_type": "code",
   "execution_count": 136,
   "metadata": {},
   "outputs": [],
   "source": [
    "# 남은 빈칸 찾아 직접 최대한 채워넣고 데이터 불러오기\n",
    "\n",
    "child_final_df=pd.read_excel('./data/final/content_re/child_final_df.xlsx')\n",
    "\n"
   ]
  },
  {
   "cell_type": "code",
   "execution_count": 137,
   "metadata": {},
   "outputs": [
    {
     "data": {
      "text/html": [
       "<div>\n",
       "<style scoped>\n",
       "    .dataframe tbody tr th:only-of-type {\n",
       "        vertical-align: middle;\n",
       "    }\n",
       "\n",
       "    .dataframe tbody tr th {\n",
       "        vertical-align: top;\n",
       "    }\n",
       "\n",
       "    .dataframe thead th {\n",
       "        text-align: right;\n",
       "    }\n",
       "</style>\n",
       "<table border=\"1\" class=\"dataframe\">\n",
       "  <thead>\n",
       "    <tr style=\"text-align: right;\">\n",
       "      <th></th>\n",
       "      <th>no</th>\n",
       "      <th>ranking</th>\n",
       "      <th>bookname</th>\n",
       "      <th>authors</th>\n",
       "      <th>publisher</th>\n",
       "      <th>publication_year</th>\n",
       "      <th>isbn13</th>\n",
       "      <th>addition_symbol</th>\n",
       "      <th>vol</th>\n",
       "      <th>class_no</th>\n",
       "      <th>loan_count_x</th>\n",
       "      <th>bookImageURL_x</th>\n",
       "      <th>keyword</th>\n",
       "      <th>describe</th>\n",
       "    </tr>\n",
       "  </thead>\n",
       "  <tbody>\n",
       "    <tr>\n",
       "      <th>0</th>\n",
       "      <td>474</td>\n",
       "      <td>474</td>\n",
       "      <td>쿠키런 서바이벌 대작전</td>\n",
       "      <td>글: 김강현 ;그림: 김기수</td>\n",
       "      <td>서울문화사</td>\n",
       "      <td>NaN</td>\n",
       "      <td>9788926388426</td>\n",
       "      <td>67400.0</td>\n",
       "      <td>4.0</td>\n",
       "      <td>372.42</td>\n",
       "      <td>912</td>\n",
       "      <td>http://image.aladin.co.kr/product/7057/44/cove...</td>\n",
       "      <td>NaN</td>\n",
       "      <td>안전상식 학습만화 「쿠키런 서바이벌 대작전」 제4권 《산과 하늘 편》. 웨어울프맛 ...</td>\n",
       "    </tr>\n",
       "    <tr>\n",
       "      <th>1</th>\n",
       "      <td>476</td>\n",
       "      <td>476</td>\n",
       "      <td>쿠키런 서바이벌 대작전</td>\n",
       "      <td>글: 김강현 ;그림: 김기수</td>\n",
       "      <td>서울문화사</td>\n",
       "      <td>NaN</td>\n",
       "      <td>9788926388280</td>\n",
       "      <td>67400.0</td>\n",
       "      <td>3.0</td>\n",
       "      <td>372.42</td>\n",
       "      <td>909</td>\n",
       "      <td>https://bookthumb-phinf.pstatic.net/cover/094/...</td>\n",
       "      <td>NaN</td>\n",
       "      <td>안전상식 학습만화 「쿠키런 서바이벌 대작전」 3권 《도시 편》. 마법의 재료가 적힌...</td>\n",
       "    </tr>\n",
       "    <tr>\n",
       "      <th>2</th>\n",
       "      <td>477</td>\n",
       "      <td>477</td>\n",
       "      <td>어린이 과학 형사대 CSI</td>\n",
       "      <td>글: 고희정 ;그림: 서용남</td>\n",
       "      <td>가나출판사</td>\n",
       "      <td>NaN</td>\n",
       "      <td>9788957364642</td>\n",
       "      <td>74400.0</td>\n",
       "      <td>5.0</td>\n",
       "      <td>400.00</td>\n",
       "      <td>905</td>\n",
       "      <td>https://bookthumb-phinf.pstatic.net/cover/054/...</td>\n",
       "      <td>NaN</td>\n",
       "      <td>추리로 배우는 교과서 과학\\n\\n『어린이 과학 형사대 CSI』시리즈 제5권《CSI,...</td>\n",
       "    </tr>\n",
       "  </tbody>\n",
       "</table>\n",
       "</div>"
      ],
      "text/plain": [
       "    no  ranking        bookname          authors publisher  publication_year  \\\n",
       "0  474      474    쿠키런 서바이벌 대작전  글: 김강현 ;그림: 김기수     서울문화사               NaN   \n",
       "1  476      476    쿠키런 서바이벌 대작전  글: 김강현 ;그림: 김기수     서울문화사               NaN   \n",
       "2  477      477  어린이 과학 형사대 CSI  글: 고희정 ;그림: 서용남     가나출판사               NaN   \n",
       "\n",
       "          isbn13  addition_symbol  vol  class_no  loan_count_x  \\\n",
       "0  9788926388426          67400.0  4.0    372.42           912   \n",
       "1  9788926388280          67400.0  3.0    372.42           909   \n",
       "2  9788957364642          74400.0  5.0    400.00           905   \n",
       "\n",
       "                                      bookImageURL_x keyword  \\\n",
       "0  http://image.aladin.co.kr/product/7057/44/cove...     NaN   \n",
       "1  https://bookthumb-phinf.pstatic.net/cover/094/...     NaN   \n",
       "2  https://bookthumb-phinf.pstatic.net/cover/054/...     NaN   \n",
       "\n",
       "                                            describe  \n",
       "0  안전상식 학습만화 「쿠키런 서바이벌 대작전」 제4권 《산과 하늘 편》. 웨어울프맛 ...  \n",
       "1  안전상식 학습만화 「쿠키런 서바이벌 대작전」 3권 《도시 편》. 마법의 재료가 적힌...  \n",
       "2  추리로 배우는 교과서 과학\\n\\n『어린이 과학 형사대 CSI』시리즈 제5권《CSI,...  "
      ]
     },
     "execution_count": 137,
     "metadata": {},
     "output_type": "execute_result"
    }
   ],
   "source": [
    "child_final_df.head(3)"
   ]
  },
  {
   "cell_type": "markdown",
   "metadata": {},
   "source": [
    "## TF-IDF를 통한 어린이 책 내용 기반 추천"
   ]
  },
  {
   "cell_type": "code",
   "execution_count": 130,
   "metadata": {},
   "outputs": [
    {
     "data": {
      "text/plain": [
       "978"
      ]
     },
     "execution_count": 130,
     "metadata": {},
     "output_type": "execute_result"
    }
   ],
   "source": [
    "len(child_final_df)"
   ]
  },
  {
   "cell_type": "code",
   "execution_count": 141,
   "metadata": {},
   "outputs": [],
   "source": [
    "# 책 제목 중복데이터 제거 \n",
    "child_final_df_1=child_final_df.drop_duplicates(['bookname'], keep='first')"
   ]
  },
  {
   "cell_type": "code",
   "execution_count": 142,
   "metadata": {},
   "outputs": [
    {
     "data": {
      "text/plain": [
       "511"
      ]
     },
     "execution_count": 142,
     "metadata": {},
     "output_type": "execute_result"
    }
   ],
   "source": [
    "len(child_final_df_1)"
   ]
  },
  {
   "cell_type": "code",
   "execution_count": 143,
   "metadata": {},
   "outputs": [
    {
     "name": "stdout",
     "output_type": "stream",
     "text": [
      "<class 'pandas.core.frame.DataFrame'>\n",
      "Int64Index: 511 entries, 0 to 977\n",
      "Data columns (total 14 columns):\n",
      " #   Column            Non-Null Count  Dtype  \n",
      "---  ------            --------------  -----  \n",
      " 0   no                511 non-null    int64  \n",
      " 1   ranking           511 non-null    int64  \n",
      " 2   bookname          511 non-null    object \n",
      " 3   authors           511 non-null    object \n",
      " 4   publisher         511 non-null    object \n",
      " 5   publication_year  443 non-null    float64\n",
      " 6   isbn13            511 non-null    int64  \n",
      " 7   addition_symbol   465 non-null    float64\n",
      " 8   vol               332 non-null    float64\n",
      " 9   class_no          464 non-null    float64\n",
      " 10  loan_count_x      511 non-null    int64  \n",
      " 11  bookImageURL_x    510 non-null    object \n",
      " 12  keyword           440 non-null    object \n",
      " 13  describe          510 non-null    object \n",
      "dtypes: float64(4), int64(4), object(6)\n",
      "memory usage: 59.9+ KB\n"
     ]
    }
   ],
   "source": [
    "child_final_df_1.info()"
   ]
  },
  {
   "cell_type": "code",
   "execution_count": 144,
   "metadata": {},
   "outputs": [],
   "source": [
    "# 책소개가 있는 데이터만 따로 뽑기\n",
    "child_final_df_revised=child_final_df_1[pd.notnull(child_final_df_1['describe'])]"
   ]
  },
  {
   "cell_type": "code",
   "execution_count": 145,
   "metadata": {},
   "outputs": [],
   "source": [
    "# 데이터프레임 인덱스 정리 필요\n",
    "child_final_df_revised.reset_index(drop=True,inplace=True)"
   ]
  },
  {
   "cell_type": "code",
   "execution_count": 146,
   "metadata": {},
   "outputs": [],
   "source": [
    "# 제목 양쪽 공백제거\n",
    "for i in range(len(child_final_df_revised)):\n",
    "    child_final_df_revised['bookname'][i]=child_final_df_revised['bookname'][i].strip()"
   ]
  },
  {
   "cell_type": "code",
   "execution_count": 148,
   "metadata": {},
   "outputs": [
    {
     "data": {
      "text/plain": [
       "'이사도라 문'"
      ]
     },
     "execution_count": 148,
     "metadata": {},
     "output_type": "execute_result"
    }
   ],
   "source": [
    "child_final_df_revised['bookname'][3]"
   ]
  },
  {
   "cell_type": "code",
   "execution_count": 93,
   "metadata": {},
   "outputs": [],
   "source": [
    "# 블용어 txt파일 리스트 가져오기\n",
    "sw=pd.read_csv('./data/final/한국어불용어100.txt', sep = \"\\t\",  engine='python', encoding = \"utf-8\",header=None)"
   ]
  },
  {
   "cell_type": "code",
   "execution_count": 94,
   "metadata": {},
   "outputs": [],
   "source": [
    "stop_words=list(sw[0].dropna())"
   ]
  },
  {
   "cell_type": "code",
   "execution_count": 149,
   "metadata": {},
   "outputs": [],
   "source": [
    "tf = TfidfVectorizer(analyzer='word', ngram_range=(1, 2), min_df=0, stop_words=stop_words)\n",
    "tfidf_matrix = tf.fit_transform(child_final_df_revised['describe'])"
   ]
  },
  {
   "cell_type": "code",
   "execution_count": 150,
   "metadata": {},
   "outputs": [
    {
     "data": {
      "text/plain": [
       "(510, 24638)"
      ]
     },
     "execution_count": 150,
     "metadata": {},
     "output_type": "execute_result"
    }
   ],
   "source": [
    "tfidf_matrix.shape"
   ]
  },
  {
   "cell_type": "code",
   "execution_count": 151,
   "metadata": {},
   "outputs": [],
   "source": [
    "# linear_kernel는 두 벡터의 dot product 이다.\n",
    "cosine_sim = linear_kernel(tfidf_matrix, tfidf_matrix)"
   ]
  },
  {
   "cell_type": "code",
   "execution_count": 162,
   "metadata": {},
   "outputs": [
    {
     "data": {
      "text/plain": [
       "array([[1.        , 0.        , 0.        , ..., 0.        , 0.        ,\n",
       "        0.        ],\n",
       "       [0.        , 1.        , 0.00104119, ..., 0.00149308, 0.00418494,\n",
       "        0.00758386],\n",
       "       [0.        , 0.00104119, 1.        , ..., 0.01031011, 0.        ,\n",
       "        0.00655631],\n",
       "       ...,\n",
       "       [0.        , 0.00149308, 0.01031011, ..., 1.        , 0.        ,\n",
       "        0.01073386],\n",
       "       [0.        , 0.00418494, 0.        , ..., 0.        , 1.        ,\n",
       "        0.        ],\n",
       "       [0.        , 0.00758386, 0.00655631, ..., 0.01073386, 0.        ,\n",
       "        1.        ]])"
      ]
     },
     "execution_count": 162,
     "metadata": {},
     "output_type": "execute_result"
    }
   ],
   "source": [
    "cosine_sim"
   ]
  },
  {
   "cell_type": "code",
   "execution_count": 152,
   "metadata": {},
   "outputs": [
    {
     "name": "stdout",
     "output_type": "stream",
     "text": [
      "0         쿠키런 서바이벌 대작전\n",
      "1       어린이 과학 형사대 CSI\n",
      "2    (만화로 보는)그리스 로마 신화\n",
      "3               이사도라 문\n",
      "4          용선생 만화 한국사:\n",
      "Name: bookname, dtype: object bookname\n",
      "쿠키런 서바이벌 대작전         0\n",
      "어린이 과학 형사대 CSI       1\n",
      "(만화로 보는)그리스 로마 신화    2\n",
      "이사도라 문               3\n",
      "용선생 만화 한국사:          4\n",
      "dtype: int64\n"
     ]
    }
   ],
   "source": [
    "titles = child_final_df_revised['bookname']\n",
    "indices = pd.Series(child_final_df_revised.index, index=child_final_df_revised['bookname'])\n",
    "\n",
    "print(titles.head(), indices.head())"
   ]
  },
  {
   "cell_type": "code",
   "execution_count": 153,
   "metadata": {},
   "outputs": [],
   "source": [
    "def get_recommendations(title):\n",
    "    idx = indices[title]\n",
    "    sim_scores = list(enumerate(cosine_sim[idx]))\n",
    "    sim_scores = sorted(sim_scores, key=lambda x: x[1], reverse=True)\n",
    "    sim_scores = sim_scores[1:31]\n",
    "    movie_indices = [i[0] for i in sim_scores]\n",
    "    return titles.iloc[movie_indices]"
   ]
  },
  {
   "cell_type": "code",
   "execution_count": 154,
   "metadata": {},
   "outputs": [],
   "source": [
    "idx = indices['이사도라 문']"
   ]
  },
  {
   "cell_type": "code",
   "execution_count": 157,
   "metadata": {},
   "outputs": [
    {
     "data": {
      "text/plain": [
       "3               이사도라 문\n",
       "81       (내 멋대로) 친구 뽑기\n",
       "300            월화수토토토일\n",
       "101           바삭바삭 갈매기\n",
       "38     (기괴하고 요상한) 귀신딱지\n",
       "Name: bookname, dtype: object"
      ]
     },
     "execution_count": 157,
     "metadata": {},
     "output_type": "execute_result"
    }
   ],
   "source": [
    "get_recommendations('나, 생일 바꿀래!').head(5)"
   ]
  },
  {
   "cell_type": "code",
   "execution_count": 159,
   "metadata": {},
   "outputs": [
    {
     "data": {
      "text/plain": [
       "217    쿠키런 서바이벌 대작전 15 : 무인도 편 - 안전상식 학습만화\n",
       "201              쿠키런 서바이벌 대작전 21 (별똥별 산 편)\n",
       "245      쿠키런 서바이벌 대작전 5 : 화재 편 - 안전상식 학습만화\n",
       "209    쿠키런 서바이벌 대작전 16 : 방사능 편 - 안전상식 학습만화\n",
       "198             쿠키런 서바이벌 대작전 27 : 로봇의 심장 편\n",
       "Name: bookname, dtype: object"
      ]
     },
     "execution_count": 159,
     "metadata": {},
     "output_type": "execute_result"
    }
   ],
   "source": [
    "get_recommendations('쿠키런 서바이벌 대작전').head(5)"
   ]
  },
  {
   "cell_type": "code",
   "execution_count": null,
   "metadata": {},
   "outputs": [],
   "source": [
    "용돈 지갑에 구멍났나? "
   ]
  },
  {
   "cell_type": "code",
   "execution_count": 161,
   "metadata": {},
   "outputs": [
    {
     "data": {
      "text/plain": [
       "368                          초등학생을 위한 나의 라임 오렌지나무 (초등용)\n",
       "445                                퀴즈! 과학상식 : 사물 인터넷 과학\n",
       "279                                 (빈대가족의) 덜렁이는 빈대 스타일\n",
       "204                                             프린들 주세요\n",
       "444    초등학생을 위한 욕심쟁이 딸기 아저씨 - 특별판, 사회성 키우기 (나눔, 기쁨, 행복)\n",
       "Name: bookname, dtype: object"
      ]
     },
     "execution_count": 161,
     "metadata": {},
     "output_type": "execute_result"
    }
   ],
   "source": [
    "get_recommendations('초딩의 품격').head(5)"
   ]
  }
 ],
 "metadata": {
  "kernelspec": {
   "display_name": "Python 3",
   "language": "python",
   "name": "python3"
  },
  "language_info": {
   "codemirror_mode": {
    "name": "ipython",
    "version": 3
   },
   "file_extension": ".py",
   "mimetype": "text/x-python",
   "name": "python",
   "nbconvert_exporter": "python",
   "pygments_lexer": "ipython3",
   "version": "3.6.12"
  }
 },
 "nbformat": 4,
 "nbformat_minor": 4
}
