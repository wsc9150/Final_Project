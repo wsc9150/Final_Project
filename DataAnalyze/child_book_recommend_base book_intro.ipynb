{
 "cells": [
  {
   "cell_type": "code",
   "execution_count": 13,
   "metadata": {},
   "outputs": [],
   "source": [
    "%matplotlib inline\n",
    "\n",
    "import pandas as pd\n",
    "import numpy as np\n",
    "import matplotlib.pyplot as plt\n",
    "import seaborn as sns\n",
    "from scipy import stats\n",
    "from ast import literal_eval\n",
    "from sklearn.feature_extraction.text import TfidfVectorizer, CountVectorizer\n",
    "from sklearn.metrics.pairwise import linear_kernel, cosine_similarity\n",
    "from nltk.stem.snowball import SnowballStemmer\n",
    "from nltk.stem.wordnet import WordNetLemmatizer\n",
    "from nltk.corpus import wordnet\n",
    "# import SVD\n",
    "# import accuracy\n",
    "\n",
    "import warnings; warnings.simplefilter('ignore')"
   ]
  },
  {
   "cell_type": "code",
   "execution_count": 12,
   "metadata": {},
   "outputs": [],
   "source": [
    "from newspaper import Article\n",
    "from konlpy.tag import Kkma\n",
    "from konlpy.tag import Twitter\n",
    "from sklearn.feature_extraction.text import TfidfVectorizer\n",
    "from sklearn.feature_extraction.text import CountVectorizer\n",
    "from sklearn.preprocessing import normalize\n",
    "import numpy as np"
   ]
  },
  {
   "cell_type": "code",
   "execution_count": 3,
   "metadata": {},
   "outputs": [],
   "source": [
    "import json\n",
    "import pandas as pd\n",
    "import numpy as np\n",
    "\n",
    "import requests\n",
    "\n",
    "from tqdm import tqdm_notebook\n",
    "from collections import Counter"
   ]
  },
  {
   "cell_type": "markdown",
   "metadata": {},
   "source": [
    "# 어린이 - 책 소개 기반 추천"
   ]
  },
  {
   "cell_type": "markdown",
   "metadata": {},
   "source": [
    "- 데이터 불러오기"
   ]
  },
  {
   "cell_type": "code",
   "execution_count": 4,
   "metadata": {},
   "outputs": [],
   "source": [
    "child_final_df=pd.read_excel('./data/final/content_re/child_final_df.xlsx')"
   ]
  },
  {
   "cell_type": "code",
   "execution_count": 5,
   "metadata": {},
   "outputs": [
    {
     "name": "stdout",
     "output_type": "stream",
     "text": [
      "<class 'pandas.core.frame.DataFrame'>\n",
      "RangeIndex: 978 entries, 0 to 977\n",
      "Data columns (total 14 columns):\n",
      " #   Column            Non-Null Count  Dtype  \n",
      "---  ------            --------------  -----  \n",
      " 0   no                978 non-null    int64  \n",
      " 1   ranking           978 non-null    int64  \n",
      " 2   bookname          978 non-null    object \n",
      " 3   authors           978 non-null    object \n",
      " 4   publisher         978 non-null    object \n",
      " 5   publication_year  480 non-null    float64\n",
      " 6   isbn13            978 non-null    int64  \n",
      " 7   addition_symbol   932 non-null    float64\n",
      " 8   vol               797 non-null    float64\n",
      " 9   class_no          931 non-null    float64\n",
      " 10  loan_count_x      978 non-null    int64  \n",
      " 11  bookImageURL_x    977 non-null    object \n",
      " 12  keyword           512 non-null    object \n",
      " 13  describe          976 non-null    object \n",
      "dtypes: float64(4), int64(4), object(6)\n",
      "memory usage: 107.1+ KB\n"
     ]
    }
   ],
   "source": [
    "child_final_df.info()"
   ]
  },
  {
   "cell_type": "code",
   "execution_count": 6,
   "metadata": {},
   "outputs": [],
   "source": [
    "# 책소개가 없는 데이터지우기\n",
    "child_final_df=child_final_df[pd.notnull(child_final_df['describe'])]"
   ]
  },
  {
   "cell_type": "code",
   "execution_count": 7,
   "metadata": {},
   "outputs": [],
   "source": [
    "# 책 제목 중복 제거 \n",
    "child_final_df.drop_duplicates('bookname',keep='first',inplace=True)"
   ]
  },
  {
   "cell_type": "code",
   "execution_count": 8,
   "metadata": {},
   "outputs": [],
   "source": [
    "# 인덱스 정리\n",
    "child_final_df.reset_index(drop=True,inplace=True)"
   ]
  },
  {
   "cell_type": "code",
   "execution_count": 9,
   "metadata": {},
   "outputs": [
    {
     "name": "stderr",
     "output_type": "stream",
     "text": [
      "C:\\ProgramData\\Anaconda3\\lib\\site-packages\\ipykernel_launcher.py:3: SettingWithCopyWarning: \n",
      "A value is trying to be set on a copy of a slice from a DataFrame\n",
      "\n",
      "See the caveats in the documentation: https://pandas.pydata.org/pandas-docs/stable/user_guide/indexing.html#returning-a-view-versus-a-copy\n",
      "  This is separate from the ipykernel package so we can avoid doing imports until\n"
     ]
    }
   ],
   "source": [
    "# 제목 양쪽 공백제거\n",
    "for i in range(len(child_final_df)):\n",
    "    child_final_df['bookname'][i]=str(child_final_df['bookname'][i]).strip()"
   ]
  },
  {
   "cell_type": "code",
   "execution_count": 10,
   "metadata": {},
   "outputs": [
    {
     "name": "stdout",
     "output_type": "stream",
     "text": [
      "<class 'pandas.core.frame.DataFrame'>\n",
      "RangeIndex: 510 entries, 0 to 509\n",
      "Data columns (total 14 columns):\n",
      " #   Column            Non-Null Count  Dtype  \n",
      "---  ------            --------------  -----  \n",
      " 0   no                510 non-null    int64  \n",
      " 1   ranking           510 non-null    int64  \n",
      " 2   bookname          510 non-null    object \n",
      " 3   authors           510 non-null    object \n",
      " 4   publisher         510 non-null    object \n",
      " 5   publication_year  442 non-null    float64\n",
      " 6   isbn13            510 non-null    int64  \n",
      " 7   addition_symbol   464 non-null    float64\n",
      " 8   vol               332 non-null    float64\n",
      " 9   class_no          463 non-null    float64\n",
      " 10  loan_count_x      510 non-null    int64  \n",
      " 11  bookImageURL_x    510 non-null    object \n",
      " 12  keyword           439 non-null    object \n",
      " 13  describe          510 non-null    object \n",
      "dtypes: float64(4), int64(4), object(6)\n",
      "memory usage: 55.9+ KB\n"
     ]
    }
   ],
   "source": [
    "child_final_df.info()"
   ]
  },
  {
   "cell_type": "markdown",
   "metadata": {},
   "source": [
    "- 책소개를 형용사+명사 데이터로 바꿈"
   ]
  },
  {
   "cell_type": "code",
   "execution_count": 14,
   "metadata": {},
   "outputs": [],
   "source": [
    "book_intro=[]\n",
    "for i in range(len(child_final_df)):\n",
    "    sentences_tag = []\n",
    "    lines=child_final_df['describe'][i].replace('\\n',' ').split('.')\n",
    "    twitter = Twitter()\n",
    "    for sentence in lines:\n",
    "        morph = twitter.pos(sentence)\n",
    "        sentences_tag.append(morph)\n",
    "    noun_adj_list = []\n",
    "    for sentence1 in sentences_tag:\n",
    "        for word, tag in sentence1:\n",
    "            if tag in ['Noun','Adjective']:\n",
    "                noun_adj_list.append(word)\n",
    "    book_intro.append(noun_adj_list)"
   ]
  },
  {
   "cell_type": "code",
   "execution_count": 15,
   "metadata": {},
   "outputs": [],
   "source": [
    "child_final_df['book_intro']=book_intro"
   ]
  },
  {
   "cell_type": "code",
   "execution_count": 16,
   "metadata": {},
   "outputs": [],
   "source": [
    "intro=[]\n",
    "for i in range(len(child_final_df)):\n",
    "    s=' '.join(child_final_df['book_intro'][i])\n",
    "    intro.append(s)"
   ]
  },
  {
   "cell_type": "code",
   "execution_count": 17,
   "metadata": {},
   "outputs": [],
   "source": [
    "child_final_df['intro']=intro"
   ]
  },
  {
   "cell_type": "code",
   "execution_count": 18,
   "metadata": {},
   "outputs": [
    {
     "data": {
      "text/plain": [
       "0    안전상식 학습만화 「쿠키런 서바이벌 대작전」 제4권 《산과 하늘 편》. 웨어울프맛 ...\n",
       "1    추리로 배우는 교과서 과학\\n\\n『어린이 과학 형사대 CSI』시리즈 제5권《CSI,...\n",
       "2    어린이용 그리스·로마 신화 베스트셀러. 아름다운 여신과 뛰어난 영웅, 그리고 신비로...\n",
       "Name: describe, dtype: object"
      ]
     },
     "execution_count": 18,
     "metadata": {},
     "output_type": "execute_result"
    }
   ],
   "source": [
    "child_final_df['describe'].head(3)"
   ]
  },
  {
   "cell_type": "code",
   "execution_count": 19,
   "metadata": {},
   "outputs": [
    {
     "data": {
      "text/plain": [
       "0    안전 상식 학습만화 쿠키런 서바이벌 작전 제 권 산 하늘 편 웨어울프 맛 쿠키 도움...\n",
       "1    추리 교과서 과학 어린이 과학 형사 시리즈 제 권 새로운 위기 처 이 시리즈 어린이...\n",
       "2    어린이 용 그리스 로마 신화 베스트셀러 아름다운 여신 뛰어난 영웅 신비로운 일 만화...\n",
       "Name: intro, dtype: object"
      ]
     },
     "execution_count": 19,
     "metadata": {},
     "output_type": "execute_result"
    }
   ],
   "source": [
    "child_final_df['intro'].head(3)"
   ]
  },
  {
   "cell_type": "code",
   "execution_count": 50,
   "metadata": {},
   "outputs": [],
   "source": [
    "# 최종데이터 저장\n",
    "child_final_df.to_csv('./data/final/content_re/child_final.csv',encoding='utf-8-sig',index=False)"
   ]
  },
  {
   "cell_type": "markdown",
   "metadata": {},
   "source": [
    "# TF-IDF"
   ]
  },
  {
   "cell_type": "code",
   "execution_count": 21,
   "metadata": {},
   "outputs": [],
   "source": [
    "# 블용어 txt파일 리스트 가져오기\n",
    "sw=pd.read_csv('./data/final/한국어불용어100.txt', sep = \"\\t\",  engine='python', encoding = \"utf-8\",header=None)"
   ]
  },
  {
   "cell_type": "code",
   "execution_count": 22,
   "metadata": {},
   "outputs": [],
   "source": [
    "stop_words=list(sw[0].dropna())"
   ]
  },
  {
   "cell_type": "code",
   "execution_count": 41,
   "metadata": {},
   "outputs": [],
   "source": [
    "tf = TfidfVectorizer(analyzer='word', ngram_range=(1, 2), min_df=1, stop_words=stop_words)\n",
    "tfidf_matrix = tf.fit_transform(child_final_df['intro'])"
   ]
  },
  {
   "cell_type": "code",
   "execution_count": 42,
   "metadata": {},
   "outputs": [],
   "source": [
    "cosine_sim = linear_kernel(tfidf_matrix, tfidf_matrix)"
   ]
  },
  {
   "cell_type": "code",
   "execution_count": 43,
   "metadata": {},
   "outputs": [],
   "source": [
    "titles = child_final_df['bookname']\n",
    "indices = pd.Series(child_final_df.index, index=child_final_df['bookname'])"
   ]
  },
  {
   "cell_type": "code",
   "execution_count": 44,
   "metadata": {},
   "outputs": [],
   "source": [
    "def get_recommendations(title):\n",
    "    idx = indices[title]\n",
    "    sim_scores = list(enumerate(cosine_sim[idx]))\n",
    "    sim_scores = sorted(sim_scores, key=lambda x: x[1], reverse=True)\n",
    "    sim_scores = sim_scores[1:31]\n",
    "    movie_indices = [i[0] for i in sim_scores]\n",
    "    return titles.iloc[movie_indices]"
   ]
  },
  {
   "cell_type": "code",
   "execution_count": 47,
   "metadata": {},
   "outputs": [
    {
     "data": {
      "text/plain": [
       "201                  쿠키런 서바이벌 대작전 21 (별똥별 산 편)\n",
       "217        쿠키런 서바이벌 대작전 15 : 무인도 편 - 안전상식 학습만화\n",
       "245          쿠키런 서바이벌 대작전 5 : 화재 편 - 안전상식 학습만화\n",
       "251          쿠키런 서바이벌 대작전 6 : 동굴 편 - 안전상식 학습만화\n",
       "156               쿠키런 서바이벌 대작전 26 : 사이보그의 역습 편\n",
       "158                  쿠키런 서바이벌 대작전 23 : 차원의 문 편\n",
       "184                쿠키런 서바이벌 대작전 24 : 쿠키볼의 비밀 편\n",
       "198                 쿠키런 서바이벌 대작전 27 : 로봇의 심장 편\n",
       "432    쿠키런 서바이벌 대작전 28 : 최후의 생존자 편 - 안전상식 학습만화\n",
       "209        쿠키런 서바이벌 대작전 16 : 방사능 편 - 안전상식 학습만화\n",
       "Name: bookname, dtype: object"
      ]
     },
     "execution_count": 47,
     "metadata": {},
     "output_type": "execute_result"
    }
   ],
   "source": [
    "get_recommendations('쿠키런 서바이벌 대작전').head(10)"
   ]
  },
  {
   "cell_type": "code",
   "execution_count": 48,
   "metadata": {},
   "outputs": [
    {
     "data": {
      "text/plain": [
       "3                                 이사도라 문\n",
       "91                           마법의 설탕 두 조각\n",
       "426    빈대 가족의 가난 탈출기 - 짠돌이들에게 배우는 경제 지혜!\n",
       "38                       (기괴하고 요상한) 귀신딱지\n",
       "88                           내 멋대로 아빠 뽑기\n",
       "225                 빈대 가족의 덜렁이는 미운 우리 새끼\n",
       "259                              할머니는 도둑\n",
       "326                       엄마 사용법 :김성진 동화\n",
       "353                            엄마가 사라진 날\n",
       "246                          엄마는 게임 수업 중\n",
       "Name: bookname, dtype: object"
      ]
     },
     "execution_count": 48,
     "metadata": {},
     "output_type": "execute_result"
    }
   ],
   "source": [
    "get_recommendations('나, 생일 바꿀래!').head(10)"
   ]
  },
  {
   "cell_type": "code",
   "execution_count": 49,
   "metadata": {},
   "outputs": [
    {
     "data": {
      "text/plain": [
       "368                초등학생을 위한 나의 라임 오렌지나무 (초등용)\n",
       "79                                 아홉 살 마음 사전\n",
       "407                             (책 읽는 강아지) 몽몽\n",
       "233                                     시간 가게\n",
       "66                                    스무고개 탐정\n",
       "445                      퀴즈! 과학상식 : 사물 인터넷 과학\n",
       "191    마인드 스쿨 15 : 너만 보면 떨려! - 사랑을 푹~ 알게 되는 책\n",
       "424                                  Why? 해부학\n",
       "127                       시간을 파는 상점 :김선영 장편소설\n",
       "303                                Why? 동물 의학\n",
       "Name: bookname, dtype: object"
      ]
     },
     "execution_count": 49,
     "metadata": {},
     "output_type": "execute_result"
    }
   ],
   "source": [
    "get_recommendations('초딩의 품격').head(10)"
   ]
  }
 ],
 "metadata": {
  "kernelspec": {
   "display_name": "Python 3",
   "language": "python",
   "name": "python3"
  },
  "language_info": {
   "codemirror_mode": {
    "name": "ipython",
    "version": 3
   },
   "file_extension": ".py",
   "mimetype": "text/x-python",
   "name": "python",
   "nbconvert_exporter": "python",
   "pygments_lexer": "ipython3",
   "version": "3.6.12"
  }
 },
 "nbformat": 4,
 "nbformat_minor": 4
}
