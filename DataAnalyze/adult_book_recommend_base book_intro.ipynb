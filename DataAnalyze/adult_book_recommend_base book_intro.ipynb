{
 "cells": [
  {
   "cell_type": "code",
   "execution_count": 1,
   "metadata": {},
   "outputs": [],
   "source": [
    "%matplotlib inline\n",
    "\n",
    "import pandas as pd\n",
    "import numpy as np\n",
    "import matplotlib.pyplot as plt\n",
    "import seaborn as sns\n",
    "from scipy import stats\n",
    "from ast import literal_eval\n",
    "from sklearn.feature_extraction.text import TfidfVectorizer, CountVectorizer\n",
    "from sklearn.metrics.pairwise import linear_kernel, cosine_similarity\n",
    "from nltk.stem.snowball import SnowballStemmer\n",
    "from nltk.stem.wordnet import WordNetLemmatizer\n",
    "from nltk.corpus import wordnet\n",
    "# import SVD\n",
    "# import accuracy\n",
    "\n",
    "import warnings; warnings.simplefilter('ignore')"
   ]
  },
  {
   "cell_type": "code",
   "execution_count": 2,
   "metadata": {},
   "outputs": [],
   "source": [
    "from newspaper import Article\n",
    "from konlpy.tag import Kkma\n",
    "from konlpy.tag import Twitter\n",
    "from sklearn.feature_extraction.text import TfidfVectorizer\n",
    "from sklearn.feature_extraction.text import CountVectorizer\n",
    "from sklearn.preprocessing import normalize\n",
    "import numpy as np"
   ]
  },
  {
   "cell_type": "code",
   "execution_count": 4,
   "metadata": {},
   "outputs": [],
   "source": [
    "import json\n",
    "import pandas as pd\n",
    "import numpy as np\n",
    "\n",
    "import requests\n",
    "\n",
    "from tqdm import tqdm_notebook\n",
    "from collections import Counter"
   ]
  },
  {
   "cell_type": "markdown",
   "metadata": {},
   "source": [
    "# 성인 - 책 소개 기반 추천"
   ]
  },
  {
   "cell_type": "markdown",
   "metadata": {},
   "source": [
    "- 데이터 불러오기"
   ]
  },
  {
   "cell_type": "code",
   "execution_count": 23,
   "metadata": {},
   "outputs": [],
   "source": [
    "adult_final_df=pd.read_excel('./data/final/content_re/adult_final_df.xlsx')"
   ]
  },
  {
   "cell_type": "code",
   "execution_count": 24,
   "metadata": {},
   "outputs": [
    {
     "name": "stdout",
     "output_type": "stream",
     "text": [
      "<class 'pandas.core.frame.DataFrame'>\n",
      "RangeIndex: 888 entries, 0 to 887\n",
      "Data columns (total 14 columns):\n",
      " #   Column            Non-Null Count  Dtype  \n",
      "---  ------            --------------  -----  \n",
      " 0   no                888 non-null    int64  \n",
      " 1   ranking           888 non-null    int64  \n",
      " 2   bookname          888 non-null    object \n",
      " 3   authors           888 non-null    object \n",
      " 4   publisher         883 non-null    object \n",
      " 5   publication_year  875 non-null    float64\n",
      " 6   isbn13            888 non-null    int64  \n",
      " 7   addition_symbol   872 non-null    float64\n",
      " 8   vol               84 non-null     float64\n",
      " 9   class_no          876 non-null    float64\n",
      " 10  loan_count        888 non-null    int64  \n",
      " 11  bookImageURL      888 non-null    object \n",
      " 12  keyword           842 non-null    object \n",
      " 13  describe          888 non-null    object \n",
      "dtypes: float64(4), int64(4), object(6)\n",
      "memory usage: 97.2+ KB\n"
     ]
    }
   ],
   "source": [
    "adult_final_df.info()"
   ]
  },
  {
   "cell_type": "code",
   "execution_count": 25,
   "metadata": {},
   "outputs": [
    {
     "data": {
      "text/html": [
       "<div>\n",
       "<style scoped>\n",
       "    .dataframe tbody tr th:only-of-type {\n",
       "        vertical-align: middle;\n",
       "    }\n",
       "\n",
       "    .dataframe tbody tr th {\n",
       "        vertical-align: top;\n",
       "    }\n",
       "\n",
       "    .dataframe thead th {\n",
       "        text-align: right;\n",
       "    }\n",
       "</style>\n",
       "<table border=\"1\" class=\"dataframe\">\n",
       "  <thead>\n",
       "    <tr style=\"text-align: right;\">\n",
       "      <th></th>\n",
       "      <th>no</th>\n",
       "      <th>ranking</th>\n",
       "      <th>bookname</th>\n",
       "      <th>authors</th>\n",
       "      <th>publisher</th>\n",
       "      <th>publication_year</th>\n",
       "      <th>isbn13</th>\n",
       "      <th>addition_symbol</th>\n",
       "      <th>vol</th>\n",
       "      <th>class_no</th>\n",
       "      <th>loan_count</th>\n",
       "      <th>bookImageURL</th>\n",
       "      <th>keyword</th>\n",
       "      <th>describe</th>\n",
       "    </tr>\n",
       "  </thead>\n",
       "  <tbody>\n",
       "    <tr>\n",
       "      <th>0</th>\n",
       "      <td>116</td>\n",
       "      <td>116</td>\n",
       "      <td>존리의 부자되기 습관 :대한민국 경제독립 액션 플랜</td>\n",
       "      <td>존리 지음</td>\n",
       "      <td>지식노마드</td>\n",
       "      <td>2020.0</td>\n",
       "      <td>9791187481720</td>\n",
       "      <td>13320.0</td>\n",
       "      <td>NaN</td>\n",
       "      <td>327.04</td>\n",
       "      <td>1371</td>\n",
       "      <td>https://image.aladin.co.kr/product/22631/95/co...</td>\n",
       "      <td>['펀드', '경제독립', '투자', '금융문맹', '부자', '시작', '한국',...</td>\n",
       "      <td>돈을 위해 일하지 말고 돈이 당신을 위해 일하게 하라!!\\n열심히 일하는데 왜 돈에...</td>\n",
       "    </tr>\n",
       "    <tr>\n",
       "      <th>1</th>\n",
       "      <td>469</td>\n",
       "      <td>469</td>\n",
       "      <td>당신이 옳다 :정혜신의 적정심리학</td>\n",
       "      <td>정혜신</td>\n",
       "      <td>NaN</td>\n",
       "      <td>NaN</td>\n",
       "      <td>9788965746669</td>\n",
       "      <td>NaN</td>\n",
       "      <td>NaN</td>\n",
       "      <td>189.00</td>\n",
       "      <td>684</td>\n",
       "      <td>http://image.kyobobook.co.kr/images/book/large...</td>\n",
       "      <td>['공감', '심리', '치유', '심리치유', '콤플렉스', '내공']</td>\n",
       "      <td>안정적인 일상을 위해 스스로 마음의 문제를 해결할 수 있도록 도와주는 공감 행동지침...</td>\n",
       "    </tr>\n",
       "    <tr>\n",
       "      <th>2</th>\n",
       "      <td>648</td>\n",
       "      <td>648</td>\n",
       "      <td>남아 있는 시간을 위하여:100세 철학자의 대표산문선</td>\n",
       "      <td>김형석</td>\n",
       "      <td>NaN</td>\n",
       "      <td>NaN</td>\n",
       "      <td>9788934980629</td>\n",
       "      <td>NaN</td>\n",
       "      <td>NaN</td>\n",
       "      <td>104.00</td>\n",
       "      <td>565</td>\n",
       "      <td>http://image.kyobobook.co.kr/images/book/large...</td>\n",
       "      <td>NaN</td>\n",
       "      <td>인생의 마지막에 가까워질수록 더욱 간절해지는 선하고 아름다운 삶을 향한 고민의 소산...</td>\n",
       "    </tr>\n",
       "    <tr>\n",
       "      <th>3</th>\n",
       "      <td>663</td>\n",
       "      <td>660</td>\n",
       "      <td>인생 우화</td>\n",
       "      <td>류시화</td>\n",
       "      <td>NaN</td>\n",
       "      <td>NaN</td>\n",
       "      <td>9791186686348</td>\n",
       "      <td>NaN</td>\n",
       "      <td>NaN</td>\n",
       "      <td>813.80</td>\n",
       "      <td>556</td>\n",
       "      <td>http://image.kyobobook.co.kr/images/book/large...</td>\n",
       "      <td>NaN</td>\n",
       "      <td>우리 안의 바보는 어떤 엉뚱한 방식으로 문제를 해결하며 살아갈까?\\n류시화 시인이 ...</td>\n",
       "    </tr>\n",
       "    <tr>\n",
       "      <th>4</th>\n",
       "      <td>699</td>\n",
       "      <td>698</td>\n",
       "      <td>인생 수업</td>\n",
       "      <td>엘리자베스 퀴블러 로스,류시화 옮김</td>\n",
       "      <td>이레</td>\n",
       "      <td>2006.0</td>\n",
       "      <td>9788957090817</td>\n",
       "      <td>3840.0</td>\n",
       "      <td>NaN</td>\n",
       "      <td>199.10</td>\n",
       "      <td>535</td>\n",
       "      <td>https://bookthumb-phinf.pstatic.net/cover/024/...</td>\n",
       "      <td>['자신', '마지막', '바쇼하이쿠선집', '삶으로다시떠오르기', '사랑하라한번도...</td>\n",
       "      <td>배움을 얻는다는 것은 다른 사람이 아닌 자기 자신의 인생을 사는 것을 의미합니다. ...</td>\n",
       "    </tr>\n",
       "    <tr>\n",
       "      <th>...</th>\n",
       "      <td>...</td>\n",
       "      <td>...</td>\n",
       "      <td>...</td>\n",
       "      <td>...</td>\n",
       "      <td>...</td>\n",
       "      <td>...</td>\n",
       "      <td>...</td>\n",
       "      <td>...</td>\n",
       "      <td>...</td>\n",
       "      <td>...</td>\n",
       "      <td>...</td>\n",
       "      <td>...</td>\n",
       "      <td>...</td>\n",
       "      <td>...</td>\n",
       "    </tr>\n",
       "    <tr>\n",
       "      <th>883</th>\n",
       "      <td>995</td>\n",
       "      <td>990</td>\n",
       "      <td>수도권 알짜 부동산 답사기 :알짜 노하우</td>\n",
       "      <td>김학렬 지음</td>\n",
       "      <td>지혜로</td>\n",
       "      <td>2019.0</td>\n",
       "      <td>9791187799108</td>\n",
       "      <td>13320.0</td>\n",
       "      <td>NaN</td>\n",
       "      <td>327.87</td>\n",
       "      <td>445</td>\n",
       "      <td>https://image.aladin.co.kr/product/19916/14/co...</td>\n",
       "      <td>['서울', '레시피', '동네', '부동산', '지역분석', '인천', '지역',...</td>\n",
       "      <td>대한민국 역사상 가장 강력한 부동산 규제정책이 펼쳐지고 있다. 내 집 마련을 해야 ...</td>\n",
       "    </tr>\n",
       "    <tr>\n",
       "      <th>884</th>\n",
       "      <td>996</td>\n",
       "      <td>990</td>\n",
       "      <td>사라진 세계</td>\n",
       "      <td>톰 스웨터리치 지음 ;장호연 옮김</td>\n",
       "      <td>허블</td>\n",
       "      <td>2020.0</td>\n",
       "      <td>9791190090070</td>\n",
       "      <td>3840.0</td>\n",
       "      <td>NaN</td>\n",
       "      <td>843.60</td>\n",
       "      <td>445</td>\n",
       "      <td>https://image.aladin.co.kr/product/23332/89/co...</td>\n",
       "      <td>NaN</td>\n",
       "      <td>허리우드가 주목하는, 특히, 아카데미 후보작 《디스트릭트9》으로 세계적인 명성을 쌓...</td>\n",
       "    </tr>\n",
       "    <tr>\n",
       "      <th>885</th>\n",
       "      <td>997</td>\n",
       "      <td>990</td>\n",
       "      <td>나를 아프게 하지 않는다 :상처만 주는 가짜 자존감 나를 지키는 진짜 자존감</td>\n",
       "      <td>전미경 지음</td>\n",
       "      <td>지와인</td>\n",
       "      <td>2019.0</td>\n",
       "      <td>9791196533472</td>\n",
       "      <td>3180.0</td>\n",
       "      <td>NaN</td>\n",
       "      <td>189.10</td>\n",
       "      <td>445</td>\n",
       "      <td>https://image.aladin.co.kr/product/21831/77/co...</td>\n",
       "      <td>['자존감', '사람', '자기', '감정', '가짜', '관계', '시그니처', ...</td>\n",
       "      <td>우리는 어쩌다 자존감의 시대를 살게 되었을까? 원래 자존감이라는 게 이렇게 만들어지...</td>\n",
       "    </tr>\n",
       "    <tr>\n",
       "      <th>886</th>\n",
       "      <td>998</td>\n",
       "      <td>998</td>\n",
       "      <td>김미경의 인생미답 :살다 보면 누구나 마주하는 작고 소소한 질문들</td>\n",
       "      <td>김미경 지음</td>\n",
       "      <td>한경BP</td>\n",
       "      <td>2016.0</td>\n",
       "      <td>9788947540926</td>\n",
       "      <td>3320.0</td>\n",
       "      <td>NaN</td>\n",
       "      <td>199.10</td>\n",
       "      <td>444</td>\n",
       "      <td>http://image.aladin.co.kr/product/8193/51/cove...</td>\n",
       "      <td>['김미경', '자신', '문제', '인생', '사랑', '소소', '질문', '김...</td>\n",
       "      <td>스타 강사 김미경은 오랫동안 데리고 살아온 고민과 나름의 생각을 모두와 공유하고 싶...</td>\n",
       "    </tr>\n",
       "    <tr>\n",
       "      <th>887</th>\n",
       "      <td>999</td>\n",
       "      <td>998</td>\n",
       "      <td>모월모일 :박연준 산문집</td>\n",
       "      <td>지은이: 박연준</td>\n",
       "      <td>문학동네</td>\n",
       "      <td>2020.0</td>\n",
       "      <td>9788954670920</td>\n",
       "      <td>3810.0</td>\n",
       "      <td>NaN</td>\n",
       "      <td>814.70</td>\n",
       "      <td>444</td>\n",
       "      <td>https://image.aladin.co.kr/product/23529/3/cov...</td>\n",
       "      <td>['평범', '박연준', '모월모일', '시인', '특별', '고양이', '산문집'...</td>\n",
       "      <td>눈에 보이지도, 손에 잡히지도 않는 바이러스와의 전쟁으로 일상이 한순간에 달라졌다....</td>\n",
       "    </tr>\n",
       "  </tbody>\n",
       "</table>\n",
       "<p>888 rows × 14 columns</p>\n",
       "</div>"
      ],
      "text/plain": [
       "      no  ranking                                     bookname  \\\n",
       "0    116      116                존리의 부자되기 습관 :대한민국 경제독립 액션 플랜    \n",
       "1    469      469                           당신이 옳다 :정혜신의 적정심리학   \n",
       "2    648      648                남아 있는 시간을 위하여:100세 철학자의 대표산문선   \n",
       "3    663      660                                        인생 우화   \n",
       "4    699      698                                        인생 수업   \n",
       "..   ...      ...                                          ...   \n",
       "883  995      990                      수도권 알짜 부동산 답사기 :알짜 노하우    \n",
       "884  996      990                                      사라진 세계    \n",
       "885  997      990  나를 아프게 하지 않는다 :상처만 주는 가짜 자존감 나를 지키는 진짜 자존감    \n",
       "886  998      998        김미경의 인생미답 :살다 보면 누구나 마주하는 작고 소소한 질문들    \n",
       "887  999      998                               모월모일 :박연준 산문집    \n",
       "\n",
       "                 authors publisher  publication_year         isbn13  \\\n",
       "0                  존리 지음     지식노마드            2020.0  9791187481720   \n",
       "1                    정혜신       NaN               NaN  9788965746669   \n",
       "2                    김형석       NaN               NaN  9788934980629   \n",
       "3                    류시화       NaN               NaN  9791186686348   \n",
       "4    엘리자베스 퀴블러 로스,류시화 옮김        이레            2006.0  9788957090817   \n",
       "..                   ...       ...               ...            ...   \n",
       "883               김학렬 지음       지혜로            2019.0  9791187799108   \n",
       "884   톰 스웨터리치 지음 ;장호연 옮김        허블            2020.0  9791190090070   \n",
       "885               전미경 지음       지와인            2019.0  9791196533472   \n",
       "886               김미경 지음      한경BP            2016.0  9788947540926   \n",
       "887             지은이: 박연준      문학동네            2020.0  9788954670920   \n",
       "\n",
       "     addition_symbol  vol  class_no  loan_count  \\\n",
       "0            13320.0  NaN    327.04        1371   \n",
       "1                NaN  NaN    189.00         684   \n",
       "2                NaN  NaN    104.00         565   \n",
       "3                NaN  NaN    813.80         556   \n",
       "4             3840.0  NaN    199.10         535   \n",
       "..               ...  ...       ...         ...   \n",
       "883          13320.0  NaN    327.87         445   \n",
       "884           3840.0  NaN    843.60         445   \n",
       "885           3180.0  NaN    189.10         445   \n",
       "886           3320.0  NaN    199.10         444   \n",
       "887           3810.0  NaN    814.70         444   \n",
       "\n",
       "                                          bookImageURL  \\\n",
       "0    https://image.aladin.co.kr/product/22631/95/co...   \n",
       "1    http://image.kyobobook.co.kr/images/book/large...   \n",
       "2    http://image.kyobobook.co.kr/images/book/large...   \n",
       "3    http://image.kyobobook.co.kr/images/book/large...   \n",
       "4    https://bookthumb-phinf.pstatic.net/cover/024/...   \n",
       "..                                                 ...   \n",
       "883  https://image.aladin.co.kr/product/19916/14/co...   \n",
       "884  https://image.aladin.co.kr/product/23332/89/co...   \n",
       "885  https://image.aladin.co.kr/product/21831/77/co...   \n",
       "886  http://image.aladin.co.kr/product/8193/51/cove...   \n",
       "887  https://image.aladin.co.kr/product/23529/3/cov...   \n",
       "\n",
       "                                               keyword  \\\n",
       "0    ['펀드', '경제독립', '투자', '금융문맹', '부자', '시작', '한국',...   \n",
       "1             ['공감', '심리', '치유', '심리치유', '콤플렉스', '내공']   \n",
       "2                                                  NaN   \n",
       "3                                                  NaN   \n",
       "4    ['자신', '마지막', '바쇼하이쿠선집', '삶으로다시떠오르기', '사랑하라한번도...   \n",
       "..                                                 ...   \n",
       "883  ['서울', '레시피', '동네', '부동산', '지역분석', '인천', '지역',...   \n",
       "884                                                NaN   \n",
       "885  ['자존감', '사람', '자기', '감정', '가짜', '관계', '시그니처', ...   \n",
       "886  ['김미경', '자신', '문제', '인생', '사랑', '소소', '질문', '김...   \n",
       "887  ['평범', '박연준', '모월모일', '시인', '특별', '고양이', '산문집'...   \n",
       "\n",
       "                                              describe  \n",
       "0    돈을 위해 일하지 말고 돈이 당신을 위해 일하게 하라!!\\n열심히 일하는데 왜 돈에...  \n",
       "1    안정적인 일상을 위해 스스로 마음의 문제를 해결할 수 있도록 도와주는 공감 행동지침...  \n",
       "2    인생의 마지막에 가까워질수록 더욱 간절해지는 선하고 아름다운 삶을 향한 고민의 소산...  \n",
       "3    우리 안의 바보는 어떤 엉뚱한 방식으로 문제를 해결하며 살아갈까?\\n류시화 시인이 ...  \n",
       "4    배움을 얻는다는 것은 다른 사람이 아닌 자기 자신의 인생을 사는 것을 의미합니다. ...  \n",
       "..                                                 ...  \n",
       "883  대한민국 역사상 가장 강력한 부동산 규제정책이 펼쳐지고 있다. 내 집 마련을 해야 ...  \n",
       "884  허리우드가 주목하는, 특히, 아카데미 후보작 《디스트릭트9》으로 세계적인 명성을 쌓...  \n",
       "885  우리는 어쩌다 자존감의 시대를 살게 되었을까? 원래 자존감이라는 게 이렇게 만들어지...  \n",
       "886  스타 강사 김미경은 오랫동안 데리고 살아온 고민과 나름의 생각을 모두와 공유하고 싶...  \n",
       "887  눈에 보이지도, 손에 잡히지도 않는 바이러스와의 전쟁으로 일상이 한순간에 달라졌다....  \n",
       "\n",
       "[888 rows x 14 columns]"
      ]
     },
     "execution_count": 25,
     "metadata": {},
     "output_type": "execute_result"
    }
   ],
   "source": [
    "adult_final_df"
   ]
  },
  {
   "cell_type": "code",
   "execution_count": 26,
   "metadata": {},
   "outputs": [],
   "source": [
    "# 책소개가 없는 데이터지우기\n",
    "adult_final_df=adult_final_df[pd.notnull(adult_final_df['describe'])]"
   ]
  },
  {
   "cell_type": "code",
   "execution_count": 27,
   "metadata": {},
   "outputs": [],
   "source": [
    "# 인덱스 정리\n",
    "adult_final_df.reset_index(drop=True,inplace=True)"
   ]
  },
  {
   "cell_type": "code",
   "execution_count": 33,
   "metadata": {},
   "outputs": [
    {
     "data": {
      "text/plain": [
       "'인생 수업'"
      ]
     },
     "execution_count": 33,
     "metadata": {},
     "output_type": "execute_result"
    }
   ],
   "source": [
    "adult_final_df['bookname'][4]"
   ]
  },
  {
   "cell_type": "markdown",
   "metadata": {},
   "source": [
    "- 책소개를 형용사+명사 데이터로 바꿈"
   ]
  },
  {
   "cell_type": "code",
   "execution_count": 46,
   "metadata": {},
   "outputs": [],
   "source": [
    "book_intro=[]\n",
    "for i in range(len(adult_final_df)):\n",
    "    sentences_tag = []\n",
    "    lines=adult_final_df['describe'][i].replace('\\n',' ').split('.')\n",
    "    twitter = Twitter()\n",
    "    for sentence in lines:\n",
    "        morph = twitter.pos(sentence)\n",
    "        sentences_tag.append(morph)\n",
    "    noun_adj_list = []\n",
    "    for sentence1 in sentences_tag:\n",
    "        for word, tag in sentence1:\n",
    "            if tag in ['Noun','Adjective']:\n",
    "                noun_adj_list.append(word)\n",
    "    book_intro.append(noun_adj_list)"
   ]
  },
  {
   "cell_type": "code",
   "execution_count": 47,
   "metadata": {},
   "outputs": [
    {
     "data": {
      "text/plain": [
       "888"
      ]
     },
     "execution_count": 47,
     "metadata": {},
     "output_type": "execute_result"
    }
   ],
   "source": [
    "len(book_intro)"
   ]
  },
  {
   "cell_type": "code",
   "execution_count": 48,
   "metadata": {},
   "outputs": [],
   "source": [
    "adult_final_df['book_intro']=book_intro"
   ]
  },
  {
   "cell_type": "code",
   "execution_count": 54,
   "metadata": {},
   "outputs": [],
   "source": [
    "intro=[]\n",
    "for i in range(len(adult_final_df)):\n",
    "    s=' '.join(adult_final_df['book_intro'][i])\n",
    "    intro.append(s)"
   ]
  },
  {
   "cell_type": "code",
   "execution_count": 55,
   "metadata": {},
   "outputs": [],
   "source": [
    "adult_final_df['intro']=intro"
   ]
  },
  {
   "cell_type": "code",
   "execution_count": 57,
   "metadata": {},
   "outputs": [
    {
     "data": {
      "text/plain": [
       "0     돈을 위해 일하지 말고 돈이 당신을 위해 일하게 하라!!\\n열심히 일하는데 왜 돈에...\n",
       "1     안정적인 일상을 위해 스스로 마음의 문제를 해결할 수 있도록 도와주는 공감 행동지침...\n",
       "2     인생의 마지막에 가까워질수록 더욱 간절해지는 선하고 아름다운 삶을 향한 고민의 소산...\n",
       "3     우리 안의 바보는 어떤 엉뚱한 방식으로 문제를 해결하며 살아갈까?\\n류시화 시인이 ...\n",
       "4     배움을 얻는다는 것은 다른 사람이 아닌 자기 자신의 인생을 사는 것을 의미합니다. ...\n",
       "5     극한의 제약, 무한의 상상력,\\n히가시노 게이고만이 가능한 고밀도 미스터리!\\n\\n...\n",
       "6     당신은 행복해질 권리가 있다\\n법륜 스님은 지난 30년 동안 우리나라 전국방방곡곡은...\n",
       "7     있는 그대로 참 소중한 당신에게 전하는 진심 가득한 위로의 말\\n2년이 넘도록 전국...\n",
       "8     자유인으로 돌아온 유시민, '어떻게 살 것인지'에 대해 되짚어본다!\\n정치인에서 자...\n",
       "9     바로 지금, 자신에게 맞는 재미를 찾는 것이 진정 나이답게 늙어가는 일이다!\\n멋지...\n",
       "10    여행의 감각을 일깨우는 소설가 김영하의 매혹적인 이야기 『여행의 이유』. 꽤 오래전...\n",
       "11    거대 자본에 휘둘려 인간을 소외시킨 현 상황을 통찰해 대한민국의 미래를 재편하는 조...\n",
       "12    은밀하고 사소하며 일상적이고 자연스럽게 벌어지는 일들 속에서 선량한 우리가 놓치고 ...\n",
       "13    바이오센서를 만드는 과학도에서 이제는 소설을 쓰는 작가 김초엽. 어디에도 없는 그러...\n",
       "14    2012년 12월 19일 국내 독자들과 처음 만났던 『나미야 잡화점의 기적』이 출간...\n",
       "Name: describe, dtype: object"
      ]
     },
     "execution_count": 57,
     "metadata": {},
     "output_type": "execute_result"
    }
   ],
   "source": [
    "adult_final_df['describe'].head(15)"
   ]
  },
  {
   "cell_type": "code",
   "execution_count": 56,
   "metadata": {},
   "outputs": [
    {
     "data": {
      "text/plain": [
       "0     돈 위해 일 돈 당신 위해 일 하라 일 왜 돈 삶 살 있는가 한국인 세계 나라 머리...\n",
       "1     안정 일상 위해 스스로 마음 문제 해결 수 있도록 공감 행동지침 여 년 정신과 의사...\n",
       "2     인생 마지막 더욱 간절해지는 선하고 아름다운 삶 향 고민 소산 고독 병 영원 사랑 ...\n",
       "3     우리 안 바보 어떤 엉뚱한 방식 문제 해결 류시화 시인 우화 인생 우화 폴란드 전해...\n",
       "4     배움 것 다른 사람 아닌 자기 자신 인생 것 의미 갑자기 더 행복해지거나 부자 강해...\n",
       "5     극한 제약 무한 상상력 게이고 가능한 밀도 미스터리 저 야심작 자신 있게 추천 게이...\n",
       "6     당신 행복해질 권리 있다 법륜 스님 지난 동안 우리나라 전국 방방곡곡 세계 개 도시...\n",
       "7     있는 그대로 소중한 당신 전하 진심 가득한 위로 말 전국 서점 베스트셀러 스 테디 ...\n",
       "8     자유 유시민 어떻게 살 것 대해 정치인 자유 유시민 어떻게 살 것 세상 변화 누구 ...\n",
       "9     바로 지금 자신 재미 것 진정 일이 멋지게 나이 사람 위 인생 기술 나 죽 때 재미...\n",
       "10    여행 감각 일 소설가 김영하 매혹 이야기 여행 이유 꽤 부터 여행 대해 저자 처음 ...\n",
       "11    거대 자본 휘 인간 소외 현 상황 통찰 대한민국 미래 재 편하는 조정래 장편소설 천...\n",
       "12    은밀 사소하며 일상 자연 일 속 선량한 우리 있던 차별 혐오 순간 날카롭게 포착 선...\n",
       "13    바이오 센서 과학 도 이제 소설 작가 김 초엽 어디 없는 어딘가 있을 것 같은 상상...\n",
       "14    국내 독자 처음 나미 잡화 점 기적 이 간 만인 쇄 발행 현대문학 쇄 기념 땡큐 에...\n",
       "Name: intro, dtype: object"
      ]
     },
     "execution_count": 56,
     "metadata": {},
     "output_type": "execute_result"
    }
   ],
   "source": [
    "adult_final_df['intro'].head(15)"
   ]
  },
  {
   "cell_type": "markdown",
   "metadata": {},
   "source": [
    "# TF-IDF"
   ]
  },
  {
   "cell_type": "code",
   "execution_count": 58,
   "metadata": {},
   "outputs": [],
   "source": [
    "# 블용어 txt파일 리스트 가져오기\n",
    "sw=pd.read_csv('./data/final/한국어불용어100.txt', sep = \"\\t\",  engine='python', encoding = \"utf-8\",header=None)"
   ]
  },
  {
   "cell_type": "code",
   "execution_count": 59,
   "metadata": {},
   "outputs": [],
   "source": [
    "stop_words=list(sw[0].dropna())"
   ]
  },
  {
   "cell_type": "code",
   "execution_count": 60,
   "metadata": {},
   "outputs": [],
   "source": [
    "tf = TfidfVectorizer(analyzer='word', ngram_range=(1, 2), min_df=1, stop_words=stop_words)\n",
    "tfidf_matrix = tf.fit_transform(adult_final_df['intro'])"
   ]
  },
  {
   "cell_type": "code",
   "execution_count": 61,
   "metadata": {},
   "outputs": [
    {
     "data": {
      "text/plain": [
       "<888x87210 sparse matrix of type '<class 'numpy.float64'>'\n",
       "\twith 150582 stored elements in Compressed Sparse Row format>"
      ]
     },
     "execution_count": 61,
     "metadata": {},
     "output_type": "execute_result"
    }
   ],
   "source": [
    "tfidf_matrix"
   ]
  },
  {
   "cell_type": "code",
   "execution_count": 62,
   "metadata": {},
   "outputs": [],
   "source": [
    "cosine_sim = linear_kernel(tfidf_matrix, tfidf_matrix)"
   ]
  },
  {
   "cell_type": "code",
   "execution_count": 63,
   "metadata": {},
   "outputs": [],
   "source": [
    "titles = adult_final_df['bookname']\n",
    "indices = pd.Series(adult_final_df.index, index=adult_final_df['bookname'])"
   ]
  },
  {
   "cell_type": "code",
   "execution_count": 65,
   "metadata": {},
   "outputs": [],
   "source": [
    "def get_recommendations(title):\n",
    "    idx = indices[title]\n",
    "    sim_scores = list(enumerate(cosine_sim[idx]))\n",
    "    sim_scores = sorted(sim_scores, key=lambda x: x[1], reverse=True)\n",
    "    sim_scores = sim_scores[1:31]\n",
    "    movie_indices = [i[0] for i in sim_scores]\n",
    "    return titles.iloc[movie_indices]"
   ]
  },
  {
   "cell_type": "code",
   "execution_count": 66,
   "metadata": {},
   "outputs": [
    {
     "data": {
      "text/plain": [
       "738      월급쟁이 부자로 은퇴하라 :3년 만에 30년 치 연봉을 번 김 과장의 시스템 마련법 \n",
       "402                         부자언니 부자연습 :가난한 공주 부자되기 프로젝트 \n",
       "395                                  나는 오늘도 경제적 자유를 꿈꾼다 \n",
       "629                     부자 아빠 가난한 아빠:부자들이 들려주는 돈과 투자의 비밀\n",
       "287                          부자언니 부자특강 :평범한 월급쟁이 부자되는 공식\n",
       "764        난생처음 주식투자 :초보도 손실 없이 5할 타율 유지하는 안전한 주식투자 교과서 \n",
       "535                       마법의 돈 굴리기 :자산배분을 이용한 스노우볼 투자법 \n",
       "841    (개인투자보다 안전하고 외국인과 기관투자보다 승률 높은) ETF 투자 실전 가이드북...\n",
       "166    나의 월급 독립 프로젝트 :3년 만에 30억 벌고 퇴사한 슈퍼개미의 실전 주식투자 생중계\n",
       "776    (짐 로저스) 앞으로 5년 한반도 투자 시나리오 =경제통합 한반도를 바라보는 월스트...\n",
       "Name: bookname, dtype: object"
      ]
     },
     "execution_count": 66,
     "metadata": {},
     "output_type": "execute_result"
    }
   ],
   "source": [
    "# ex1\n",
    "get_recommendations('존리의 부자되기 습관 :대한민국 경제독립 액션 플랜').head(10)"
   ]
  },
  {
   "cell_type": "code",
   "execution_count": 67,
   "metadata": {},
   "outputs": [
    {
     "data": {
      "text/plain": [
       "702    나이든 나와 살아가는 법 :흔들리지 않고 의연하게 나이 들 수 있는 후반생의 마음 사전 \n",
       "427                           인생 수업 :잘 물든 단풍은 봄꽃보다 아름답다 \n",
       "314               나는 내 나이가 참 좋다 :우아하고 지혜롭게 세월의 강을 항해하는 법\n",
       "289                       (어차피 살 거라면) 백 살까지 유쾌하게 나이 드는 법\n",
       "53                             하마터면 열심히 살 뻔했다 :야매 득도 에세이\n",
       "339                                    어른답게 삽시다 :이시형 에세이\n",
       "220                            백년을 살아보니 :인생의 황금기는 60~75세\n",
       "50     50부터는 인생관을 바꿔야 산다 :이제 자존심, 꿈, 사람은 버리고 오직 나를 위해서만!\n",
       "2                          남아 있는 시간을 위하여:100세 철학자의 대표산문선\n",
       "504          50 이후, 인생을 결정하는 열 가지 힘 - 하버드 심리학 거장의 마지막 강의\n",
       "Name: bookname, dtype: object"
      ]
     },
     "execution_count": 67,
     "metadata": {},
     "output_type": "execute_result"
    }
   ],
   "source": [
    "# ex2\n",
    "get_recommendations('나는 죽을 때까지 재미있게 살고 싶다').head(10)"
   ]
  },
  {
   "cell_type": "code",
   "execution_count": 68,
   "metadata": {},
   "outputs": [
    {
     "data": {
      "text/plain": [
       "236         해빗 =내 안의 충동을 이겨내는 습관 설계의 법칙 /Habit\n",
       "312                          나는 습관을 조금 바꾸기로 했다\n",
       "858              (흔들리지 않고 끝까지 계속하게 만드는) 루틴의 힘 \n",
       "528                습관의 힘 :반복되는 행동이 만드는 극적인 변화 \n",
       "465        예술하는 습관 :위대한 창조의 순간을 만든 구체적 하루의 기록 \n",
       "332                1만 시간의 재발견 :노력은 왜 우리를 배신하는가\n",
       "61                        12가지 인생의 법칙 :혼돈의 해독제\n",
       "188         미라클모닝 :당신의 하루를 바꾸는 기적 아침 6분이면 충분하다\n",
       "402               부자언니 부자연습 :가난한 공주 부자되기 프로젝트 \n",
       "769    지금까지 산 것처럼 앞으로도 살 건가요? :내 인생의 판을 바꿀 질문 \n",
       "Name: bookname, dtype: object"
      ]
     },
     "execution_count": 68,
     "metadata": {},
     "output_type": "execute_result"
    }
   ],
   "source": [
    "get_recommendations('아주 작은 습관의 힘 :최고의 변화는 어떻게 만들어지는가').head(10)"
   ]
  },
  {
   "cell_type": "code",
   "execution_count": null,
   "metadata": {},
   "outputs": [],
   "source": [
    "# csv 생성\n",
    "adult_final_df.to_csv('./data/final/content_re/adult_final.csv',encoding='utf-8-sig',index=False)"
   ]
  }
 ],
 "metadata": {
  "kernelspec": {
   "display_name": "Python 3",
   "language": "python",
   "name": "python3"
  },
  "language_info": {
   "codemirror_mode": {
    "name": "ipython",
    "version": 3
   },
   "file_extension": ".py",
   "mimetype": "text/x-python",
   "name": "python",
   "nbconvert_exporter": "python",
   "pygments_lexer": "ipython3",
   "version": "3.6.12"
  }
 },
 "nbformat": 4,
 "nbformat_minor": 4
}
