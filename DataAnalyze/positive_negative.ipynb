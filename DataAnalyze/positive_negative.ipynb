{
 "cells": [
  {
   "cell_type": "code",
   "execution_count": 38,
   "metadata": {},
   "outputs": [],
   "source": [
    "import pandas as pd\n",
    "import numpy as np"
   ]
  },
  {
   "cell_type": "markdown",
   "metadata": {},
   "source": [
    "# 책 긍정 부정 분석"
   ]
  },
  {
   "cell_type": "code",
   "execution_count": 1,
   "metadata": {},
   "outputs": [],
   "source": [
    "import pandas as pd\n",
    "import numpy as np"
   ]
  },
  {
   "cell_type": "code",
   "execution_count": 12,
   "metadata": {},
   "outputs": [],
   "source": [
    "healing = pd.read_csv('./data/final/new_final_review_df.csv',encoding='utf-8')"
   ]
  },
  {
   "cell_type": "code",
   "execution_count": 14,
   "metadata": {},
   "outputs": [
    {
     "data": {
      "text/plain": [
       "174"
      ]
     },
     "execution_count": 14,
     "metadata": {},
     "output_type": "execute_result"
    }
   ],
   "source": [
    "healing['review'].isnull().sum()"
   ]
  },
  {
   "cell_type": "code",
   "execution_count": 13,
   "metadata": {},
   "outputs": [
    {
     "data": {
      "text/plain": [
       "2000"
      ]
     },
     "execution_count": 13,
     "metadata": {},
     "output_type": "execute_result"
    }
   ],
   "source": [
    "len(healing)"
   ]
  },
  {
   "cell_type": "code",
   "execution_count": 15,
   "metadata": {},
   "outputs": [
    {
     "data": {
      "text/plain": [
       "1826"
      ]
     },
     "execution_count": 15,
     "metadata": {},
     "output_type": "execute_result"
    }
   ],
   "source": [
    "2000-174"
   ]
  },
  {
   "cell_type": "code",
   "execution_count": 16,
   "metadata": {},
   "outputs": [
    {
     "name": "stdout",
     "output_type": "stream",
     "text": [
      "<class 'pandas.core.frame.DataFrame'>\n",
      "RangeIndex: 2000 entries, 0 to 1999\n",
      "Data columns (total 7 columns):\n",
      " #   Column     Non-Null Count  Dtype \n",
      "---  ------     --------------  ----- \n",
      " 0   title      2000 non-null   object\n",
      " 1   author     1999 non-null   object\n",
      " 2   publisher  1998 non-null   object\n",
      " 3   isbn       2000 non-null   int64 \n",
      " 4   keyword    2000 non-null   object\n",
      " 5   image      1996 non-null   object\n",
      " 6   review     1826 non-null   object\n",
      "dtypes: int64(1), object(6)\n",
      "memory usage: 109.5+ KB\n"
     ]
    }
   ],
   "source": [
    "healing.info()"
   ]
  },
  {
   "cell_type": "code",
   "execution_count": 20,
   "metadata": {},
   "outputs": [],
   "source": [
    "# review가 없는 결측치 제거\n",
    "healing=healing.dropna(subset=['review'])"
   ]
  },
  {
   "cell_type": "code",
   "execution_count": 61,
   "metadata": {},
   "outputs": [],
   "source": [
    "# index 정리\n",
    "healing.reset_index(drop = True, inplace = True)"
   ]
  },
  {
   "cell_type": "code",
   "execution_count": 62,
   "metadata": {
    "scrolled": true
   },
   "outputs": [
    {
     "name": "stdout",
     "output_type": "stream",
     "text": [
      "<class 'pandas.core.frame.DataFrame'>\n",
      "RangeIndex: 1826 entries, 0 to 1825\n",
      "Data columns (total 7 columns):\n",
      " #   Column     Non-Null Count  Dtype \n",
      "---  ------     --------------  ----- \n",
      " 0   title      1826 non-null   object\n",
      " 1   author     1825 non-null   object\n",
      " 2   publisher  1825 non-null   object\n",
      " 3   isbn       1826 non-null   int64 \n",
      " 4   keyword    1826 non-null   object\n",
      " 5   image      1823 non-null   object\n",
      " 6   review     1826 non-null   object\n",
      "dtypes: int64(1), object(6)\n",
      "memory usage: 100.0+ KB\n"
     ]
    }
   ],
   "source": [
    "healing.info()"
   ]
  },
  {
   "cell_type": "code",
   "execution_count": 42,
   "metadata": {},
   "outputs": [],
   "source": [
    "# healing 저장\n",
    "healing.to_csv('./data/final/check.csv',encoding='utf-8-sig',index=False)"
   ]
  },
  {
   "cell_type": "code",
   "execution_count": 50,
   "metadata": {},
   "outputs": [],
   "source": [
    "# 긍정부정 단어 데이터 불러오기\n",
    "sense=pd.read_csv('./data/final/NL_bo_sense_2019.csv',encoding='utf-8')"
   ]
  },
  {
   "cell_type": "code",
   "execution_count": 43,
   "metadata": {},
   "outputs": [
    {
     "data": {
      "text/plain": [
       "24"
      ]
     },
     "execution_count": 43,
     "metadata": {},
     "output_type": "execute_result"
    }
   ],
   "source": [
    "len(healing['review'][0].split('.'))"
   ]
  },
  {
   "cell_type": "code",
   "execution_count": 51,
   "metadata": {},
   "outputs": [],
   "source": [
    "from tqdm import tqdm_notebook"
   ]
  },
  {
   "cell_type": "code",
   "execution_count": 76,
   "metadata": {},
   "outputs": [
    {
     "name": "stderr",
     "output_type": "stream",
     "text": [
      "C:\\ProgramData\\Anaconda3\\lib\\site-packages\\ipykernel_launcher.py:4: TqdmDeprecationWarning: This function will be removed in tqdm==5.0.0\n",
      "Please use `tqdm.notebook.tqdm` instead of `tqdm.tqdm_notebook`\n",
      "  after removing the cwd from sys.path.\n"
     ]
    },
    {
     "data": {
      "application/vnd.jupyter.widget-view+json": {
       "model_id": "71ec37b981004495b701050c3de74281",
       "version_major": 2,
       "version_minor": 0
      },
      "text/plain": [
       "HBox(children=(HTML(value=''), FloatProgress(value=0.0, max=1826.0), HTML(value='')))"
      ]
     },
     "metadata": {},
     "output_type": "display_data"
    },
    {
     "name": "stdout",
     "output_type": "stream",
     "text": [
      "\n"
     ]
    }
   ],
   "source": [
    "positive_score=[]\n",
    "negative_score=[]\n",
    "\n",
    "for number in tqdm_notebook(range(len(healing))):\n",
    "    text=healing['review'][number].split('.')\n",
    "    \n",
    "    positive_check=[]\n",
    "    negative_check=[]\n",
    "\n",
    "    for a in range(len(text)):\n",
    "        string=text[a]\n",
    "\n",
    "        for i in range(len(sense)):\n",
    "            if sense['term'][i] in string:\n",
    "                positive_check.append(float(sense['positive_score'][i]))\n",
    "                negative_check.append(float(sense['negative_score'][i]))\n",
    "                \n",
    "    positive_score.append(sum(positive_check))\n",
    "    negative_score.append(sum(negative_check))  "
   ]
  },
  {
   "cell_type": "code",
   "execution_count": 77,
   "metadata": {},
   "outputs": [
    {
     "name": "stdout",
     "output_type": "stream",
     "text": [
      "1826\n",
      "1826\n"
     ]
    }
   ],
   "source": [
    "print(len(positive_score))\n",
    "print(len(negative_score))"
   ]
  },
  {
   "cell_type": "code",
   "execution_count": 78,
   "metadata": {},
   "outputs": [],
   "source": [
    "healing['positive_score']=positive_score\n",
    "healing['negative_score']=negative_score"
   ]
  },
  {
   "cell_type": "code",
   "execution_count": 79,
   "metadata": {},
   "outputs": [
    {
     "data": {
      "text/html": [
       "<div>\n",
       "<style scoped>\n",
       "    .dataframe tbody tr th:only-of-type {\n",
       "        vertical-align: middle;\n",
       "    }\n",
       "\n",
       "    .dataframe tbody tr th {\n",
       "        vertical-align: top;\n",
       "    }\n",
       "\n",
       "    .dataframe thead th {\n",
       "        text-align: right;\n",
       "    }\n",
       "</style>\n",
       "<table border=\"1\" class=\"dataframe\">\n",
       "  <thead>\n",
       "    <tr style=\"text-align: right;\">\n",
       "      <th></th>\n",
       "      <th>title</th>\n",
       "      <th>author</th>\n",
       "      <th>publisher</th>\n",
       "      <th>isbn</th>\n",
       "      <th>keyword</th>\n",
       "      <th>image</th>\n",
       "      <th>review</th>\n",
       "      <th>positive_score</th>\n",
       "      <th>negative_score</th>\n",
       "    </tr>\n",
       "  </thead>\n",
       "  <tbody>\n",
       "    <tr>\n",
       "      <th>0</th>\n",
       "      <td>파이어족이 온다</td>\n",
       "      <td>스콧 리킨스 (지은이), 박은지 (옮긴이)</td>\n",
       "      <td>지식노마드</td>\n",
       "      <td>9791187481638</td>\n",
       "      <td>['재테크', '경제', '라이프스타일', '행복', '자유', '저축']</td>\n",
       "      <td>https://image.aladin.co.kr/product/20780/79/co...</td>\n",
       "      <td>금융위기 이후 전 세계 젊은이들을 사로잡고 있는라이프스타일 혁명! - 파이어족이 온...</td>\n",
       "      <td>21.81884</td>\n",
       "      <td>16.01194</td>\n",
       "    </tr>\n",
       "    <tr>\n",
       "      <th>1</th>\n",
       "      <td>90년생 재테크!</td>\n",
       "      <td>월재연 슈퍼루키 10인 (지은이)</td>\n",
       "      <td>진서원</td>\n",
       "      <td>9791186647363</td>\n",
       "      <td>['재테크', '종잣돈', '투자가이드', '행복', '테크', '부동산 투자']</td>\n",
       "      <td>https://image.aladin.co.kr/product/22332/30/co...</td>\n",
       "      <td>스마트하고 기상천외한 90년생 재테크‘학자금대출이 까마득해요’ ‘저는 아직도 취업준...</td>\n",
       "      <td>6.25402</td>\n",
       "      <td>5.10247</td>\n",
       "    </tr>\n",
       "    <tr>\n",
       "      <th>2</th>\n",
       "      <td>죽은 경제학자의 살아있는 아이디어</td>\n",
       "      <td>토드 부크홀츠 (지은이), 류현 (옮긴이), 한순구 (감수)</td>\n",
       "      <td>김영사</td>\n",
       "      <td>9788934935605</td>\n",
       "      <td>['경제학', '케인스', '국부론', '마셜', '자유 무역', '애덤 스미스']</td>\n",
       "      <td>https://image.aladin.co.kr/product/456/15/cove...</td>\n",
       "      <td>전 세계 경제학자들이 먼저 읽고 교과서로 채택한 21세기 경제학 고전! 15개국에서...</td>\n",
       "      <td>67.57535</td>\n",
       "      <td>61.58975</td>\n",
       "    </tr>\n",
       "    <tr>\n",
       "      <th>3</th>\n",
       "      <td>만들어진 성장</td>\n",
       "      <td>데이비드 필링 (지은이), 조진서 (옮긴이)</td>\n",
       "      <td>이콘</td>\n",
       "      <td>9791189318161</td>\n",
       "      <td>['행복', '파산', '경제 성장', '세계 경제', '경제학자', '경제 지표']</td>\n",
       "      <td>https://image.aladin.co.kr/product/22253/63/co...</td>\n",
       "      <td>세계는 왜 GDP에 의존하고 있는가?지난 70여 년 동안, 세계 경제를 주도한 것은...</td>\n",
       "      <td>58.28454</td>\n",
       "      <td>52.33018</td>\n",
       "    </tr>\n",
       "  </tbody>\n",
       "</table>\n",
       "</div>"
      ],
      "text/plain": [
       "                title                              author publisher  \\\n",
       "0            파이어족이 온다            스콧 리킨스 (지은이), 박은지 (옮긴이)      지식노마드   \n",
       "1           90년생 재테크!                  월재연 슈퍼루키 10인 (지은이)       진서원   \n",
       "2  죽은 경제학자의 살아있는 아이디어  토드 부크홀츠 (지은이), 류현 (옮긴이), 한순구 (감수)        김영사   \n",
       "3             만들어진 성장           데이비드 필링 (지은이), 조진서 (옮긴이)         이콘   \n",
       "\n",
       "            isbn                                          keyword  \\\n",
       "0  9791187481638        ['재테크', '경제', '라이프스타일', '행복', '자유', '저축']   \n",
       "1  9791186647363    ['재테크', '종잣돈', '투자가이드', '행복', '테크', '부동산 투자']   \n",
       "2  9788934935605   ['경제학', '케인스', '국부론', '마셜', '자유 무역', '애덤 스미스']   \n",
       "3  9791189318161  ['행복', '파산', '경제 성장', '세계 경제', '경제학자', '경제 지표']   \n",
       "\n",
       "                                               image  \\\n",
       "0  https://image.aladin.co.kr/product/20780/79/co...   \n",
       "1  https://image.aladin.co.kr/product/22332/30/co...   \n",
       "2  https://image.aladin.co.kr/product/456/15/cove...   \n",
       "3  https://image.aladin.co.kr/product/22253/63/co...   \n",
       "\n",
       "                                              review  positive_score  \\\n",
       "0  금융위기 이후 전 세계 젊은이들을 사로잡고 있는라이프스타일 혁명! - 파이어족이 온...        21.81884   \n",
       "1  스마트하고 기상천외한 90년생 재테크‘학자금대출이 까마득해요’ ‘저는 아직도 취업준...         6.25402   \n",
       "2  전 세계 경제학자들이 먼저 읽고 교과서로 채택한 21세기 경제학 고전! 15개국에서...        67.57535   \n",
       "3  세계는 왜 GDP에 의존하고 있는가?지난 70여 년 동안, 세계 경제를 주도한 것은...        58.28454   \n",
       "\n",
       "   negative_score  \n",
       "0        16.01194  \n",
       "1         5.10247  \n",
       "2        61.58975  \n",
       "3        52.33018  "
      ]
     },
     "execution_count": 79,
     "metadata": {},
     "output_type": "execute_result"
    }
   ],
   "source": [
    "healing.head(4)"
   ]
  },
  {
   "cell_type": "code",
   "execution_count": 93,
   "metadata": {},
   "outputs": [],
   "source": [
    "# 데이터 저장\n",
    "healing.to_csv('./data/final/healing.csv',encoding='utf-8-sig',index=False)"
   ]
  },
  {
   "cell_type": "code",
   "execution_count": 82,
   "metadata": {},
   "outputs": [
    {
     "data": {
      "text/plain": [
       "1787"
      ]
     },
     "execution_count": 82,
     "metadata": {},
     "output_type": "execute_result"
    }
   ],
   "source": [
    "# 긍정>부정\n",
    "len(healing[healing['positive_score']>healing['negative_score']])"
   ]
  },
  {
   "cell_type": "code",
   "execution_count": 84,
   "metadata": {},
   "outputs": [
    {
     "data": {
      "text/plain": [
       "0"
      ]
     },
     "execution_count": 84,
     "metadata": {},
     "output_type": "execute_result"
    }
   ],
   "source": [
    "# 긍정=부정\n",
    "len(healing[healing['positive_score']==healing['negative_score']])"
   ]
  },
  {
   "cell_type": "code",
   "execution_count": 85,
   "metadata": {},
   "outputs": [
    {
     "data": {
      "text/plain": [
       "39"
      ]
     },
     "execution_count": 85,
     "metadata": {},
     "output_type": "execute_result"
    }
   ],
   "source": [
    "# 긍정<부정\n",
    "len(healing[healing['positive_score']<healing['negative_score']])"
   ]
  },
  {
   "cell_type": "code",
   "execution_count": 86,
   "metadata": {
    "scrolled": true
   },
   "outputs": [
    {
     "data": {
      "text/plain": [
       "1826"
      ]
     },
     "execution_count": 86,
     "metadata": {},
     "output_type": "execute_result"
    }
   ],
   "source": [
    "len(healing)"
   ]
  },
  {
   "cell_type": "code",
   "execution_count": 88,
   "metadata": {},
   "outputs": [
    {
     "data": {
      "text/plain": [
       "1804"
      ]
     },
     "execution_count": 88,
     "metadata": {},
     "output_type": "execute_result"
    }
   ],
   "source": [
    "len(healing['title'].unique())"
   ]
  },
  {
   "cell_type": "code",
   "execution_count": 89,
   "metadata": {},
   "outputs": [],
   "source": [
    "# 책 제목을 기준으로 중복데이터 제거\n",
    "healing_remove=healing.drop_duplicates(['title'])"
   ]
  },
  {
   "cell_type": "code",
   "execution_count": 90,
   "metadata": {},
   "outputs": [
    {
     "data": {
      "text/plain": [
       "1804"
      ]
     },
     "execution_count": 90,
     "metadata": {},
     "output_type": "execute_result"
    }
   ],
   "source": [
    "len(healing_remove)"
   ]
  },
  {
   "cell_type": "code",
   "execution_count": 92,
   "metadata": {},
   "outputs": [],
   "source": [
    "healing_remove.to_csv('./data/final/healing_remove.csv',index=False,encoding='utf-8-sig')"
   ]
  }
 ],
 "metadata": {
  "kernelspec": {
   "display_name": "Python 3",
   "language": "python",
   "name": "python3"
  },
  "language_info": {
   "codemirror_mode": {
    "name": "ipython",
    "version": 3
   },
   "file_extension": ".py",
   "mimetype": "text/x-python",
   "name": "python",
   "nbconvert_exporter": "python",
   "pygments_lexer": "ipython3",
   "version": "3.6.12"
  }
 },
 "nbformat": 4,
 "nbformat_minor": 4
}
