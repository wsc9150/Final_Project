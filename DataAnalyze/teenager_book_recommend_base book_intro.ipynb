{
 "cells": [
  {
   "cell_type": "code",
   "execution_count": 1,
   "metadata": {},
   "outputs": [],
   "source": [
    "%matplotlib inline\n",
    "\n",
    "import pandas as pd\n",
    "import numpy as np\n",
    "import matplotlib.pyplot as plt\n",
    "import seaborn as sns\n",
    "from scipy import stats\n",
    "from ast import literal_eval\n",
    "from sklearn.feature_extraction.text import TfidfVectorizer, CountVectorizer\n",
    "from sklearn.metrics.pairwise import linear_kernel, cosine_similarity\n",
    "from nltk.stem.snowball import SnowballStemmer\n",
    "from nltk.stem.wordnet import WordNetLemmatizer\n",
    "from nltk.corpus import wordnet\n",
    "# import SVD\n",
    "# import accuracy\n",
    "\n",
    "import warnings; warnings.simplefilter('ignore')"
   ]
  },
  {
   "cell_type": "code",
   "execution_count": 2,
   "metadata": {},
   "outputs": [],
   "source": [
    "from newspaper import Article\n",
    "from konlpy.tag import Kkma\n",
    "from konlpy.tag import Twitter\n",
    "from sklearn.feature_extraction.text import TfidfVectorizer\n",
    "from sklearn.feature_extraction.text import CountVectorizer\n",
    "from sklearn.preprocessing import normalize\n",
    "import numpy as np"
   ]
  },
  {
   "cell_type": "code",
   "execution_count": 3,
   "metadata": {},
   "outputs": [],
   "source": [
    "import json\n",
    "import pandas as pd\n",
    "import numpy as np\n",
    "\n",
    "import requests\n",
    "\n",
    "from tqdm import tqdm_notebook\n",
    "from collections import Counter"
   ]
  },
  {
   "cell_type": "markdown",
   "metadata": {},
   "source": [
    "# 청소년 - 책 소개 기반 추천"
   ]
  },
  {
   "cell_type": "markdown",
   "metadata": {},
   "source": [
    "- 데이터불러오기"
   ]
  },
  {
   "cell_type": "code",
   "execution_count": 83,
   "metadata": {},
   "outputs": [],
   "source": [
    "# excel 불러오기\n",
    "teenager_book_revised=pd.read_excel('./data/final/content_re/teenager_book_revised.xlsx')"
   ]
  },
  {
   "cell_type": "code",
   "execution_count": 19,
   "metadata": {},
   "outputs": [
    {
     "name": "stdout",
     "output_type": "stream",
     "text": [
      "<class 'pandas.core.frame.DataFrame'>\n",
      "RangeIndex: 978 entries, 0 to 977\n",
      "Data columns (total 14 columns):\n",
      " #   Column            Non-Null Count  Dtype  \n",
      "---  ------            --------------  -----  \n",
      " 0   no                978 non-null    int64  \n",
      " 1   ranking           978 non-null    int64  \n",
      " 2   bookname          978 non-null    object \n",
      " 3   authors           978 non-null    object \n",
      " 4   publisher         978 non-null    object \n",
      " 5   publication_year  913 non-null    float64\n",
      " 6   isbn13            978 non-null    int64  \n",
      " 7   addition_symbol   916 non-null    float64\n",
      " 8   vol               181 non-null    float64\n",
      " 9   class_no          916 non-null    float64\n",
      " 10  loan_count        978 non-null    int64  \n",
      " 11  bookImageURL      978 non-null    object \n",
      " 12  keyword           540 non-null    object \n",
      " 13  describe          978 non-null    object \n",
      "dtypes: float64(4), int64(4), object(6)\n",
      "memory usage: 107.1+ KB\n"
     ]
    }
   ],
   "source": [
    "teenager_book_revised.info()"
   ]
  },
  {
   "cell_type": "code",
   "execution_count": 84,
   "metadata": {},
   "outputs": [],
   "source": [
    "# 제목 양쪽 공백제거\n",
    "for i in range(len(teenager_book_revised)):\n",
    "    teenager_book_revised['bookname'][i]=str(teenager_book_revised['bookname'][i]).strip()"
   ]
  },
  {
   "cell_type": "code",
   "execution_count": 86,
   "metadata": {},
   "outputs": [],
   "source": [
    "# 책소개가 없는 데이터지우기\n",
    "teenager_book_revised=teenager_book_revised[pd.notnull(teenager_book_revised['describe'])]"
   ]
  },
  {
   "cell_type": "code",
   "execution_count": 85,
   "metadata": {},
   "outputs": [],
   "source": [
    "# 책 제목 중복 제거 \n",
    "teenager_book_revised.drop_duplicates('bookname',keep='first',inplace=True)"
   ]
  },
  {
   "cell_type": "code",
   "execution_count": 87,
   "metadata": {},
   "outputs": [],
   "source": [
    "# 인덱스 정리\n",
    "teenager_book_revised.reset_index(drop=True,inplace=True)"
   ]
  },
  {
   "cell_type": "code",
   "execution_count": 17,
   "metadata": {},
   "outputs": [],
   "source": [
    "# 형용사 + 명사 기반\n",
    "\n",
    "# book_intro=[]\n",
    "# for i in range(len(teenager_book_revised)):\n",
    "#     sentences_tag = []\n",
    "#     lines=teenager_book_revised['describe'][i].replace('\\n',' ').split('.')\n",
    "#     twitter = Twitter()\n",
    "#     for sentence in lines:\n",
    "#         morph = twitter.pos(sentence)\n",
    "#         sentences_tag.append(morph)\n",
    "#     noun_adj_list = []\n",
    "#     for sentence1 in sentences_tag:\n",
    "#         for word, tag in sentence1:\n",
    "#             if tag in ['Noun','Adjective']:\n",
    "#                 noun_adj_list.append(word)\n",
    "#     book_intro.append(noun_adj_list)"
   ]
  },
  {
   "cell_type": "code",
   "execution_count": 88,
   "metadata": {},
   "outputs": [
    {
     "name": "stdout",
     "output_type": "stream",
     "text": [
      "<class 'pandas.core.frame.DataFrame'>\n",
      "RangeIndex: 874 entries, 0 to 873\n",
      "Data columns (total 14 columns):\n",
      " #   Column            Non-Null Count  Dtype  \n",
      "---  ------            --------------  -----  \n",
      " 0   no                874 non-null    int64  \n",
      " 1   ranking           874 non-null    int64  \n",
      " 2   bookname          874 non-null    object \n",
      " 3   authors           874 non-null    object \n",
      " 4   publisher         874 non-null    object \n",
      " 5   publication_year  858 non-null    float64\n",
      " 6   isbn13            874 non-null    int64  \n",
      " 7   addition_symbol   813 non-null    float64\n",
      " 8   vol               99 non-null     float64\n",
      " 9   class_no          813 non-null    float64\n",
      " 10  loan_count        874 non-null    int64  \n",
      " 11  bookImageURL      874 non-null    object \n",
      " 12  keyword           534 non-null    object \n",
      " 13  describe          874 non-null    object \n",
      "dtypes: float64(4), int64(4), object(6)\n",
      "memory usage: 95.7+ KB\n"
     ]
    }
   ],
   "source": [
    "teenager_book_revised.info()"
   ]
  },
  {
   "cell_type": "code",
   "execution_count": 105,
   "metadata": {},
   "outputs": [],
   "source": [
    "# 데이터 저장 \n",
    "teenager_book_revised.to_csv('./data/final/content_re/teenager_final.csv',index=False,encoding='utf-8-sig')"
   ]
  },
  {
   "cell_type": "markdown",
   "metadata": {},
   "source": [
    "# TF-IDF"
   ]
  },
  {
   "cell_type": "code",
   "execution_count": 90,
   "metadata": {},
   "outputs": [],
   "source": [
    "# 블용어 txt파일 리스트 가져오기\n",
    "sw=pd.read_csv('./data/final/한국어불용어100.txt', sep = \"\\t\",  engine='python', encoding = \"utf-8\",header=None)"
   ]
  },
  {
   "cell_type": "code",
   "execution_count": 91,
   "metadata": {},
   "outputs": [],
   "source": [
    "stop_words=list(sw[0].dropna())"
   ]
  },
  {
   "cell_type": "code",
   "execution_count": 92,
   "metadata": {},
   "outputs": [],
   "source": [
    "tf = TfidfVectorizer(analyzer='word', ngram_range=(1, 2), min_df=1, stop_words=stop_words)\n",
    "tfidf_matrix = tf.fit_transform(teenager_book_revised['describe'])"
   ]
  },
  {
   "cell_type": "code",
   "execution_count": 93,
   "metadata": {},
   "outputs": [],
   "source": [
    "cosine_sim = linear_kernel(tfidf_matrix, tfidf_matrix)"
   ]
  },
  {
   "cell_type": "code",
   "execution_count": 94,
   "metadata": {},
   "outputs": [],
   "source": [
    "titles = teenager_book_revised['bookname']\n",
    "indices = pd.Series(teenager_book_revised.index, index=teenager_book_revised['bookname'])"
   ]
  },
  {
   "cell_type": "code",
   "execution_count": 95,
   "metadata": {},
   "outputs": [],
   "source": [
    "def get_recommendations(title):\n",
    "    idx = indices[title]\n",
    "    sim_scores = list(enumerate(cosine_sim[idx]))\n",
    "    sim_scores = sorted(sim_scores, key=lambda x: x[1], reverse=True)\n",
    "    sim_scores = sim_scores[1:31]\n",
    "    movie_indices = [i[0] for i in sim_scores]\n",
    "    return titles.iloc[movie_indices]"
   ]
  },
  {
   "cell_type": "code",
   "execution_count": 96,
   "metadata": {},
   "outputs": [
    {
     "data": {
      "text/plain": [
       "286      녹나무의 파수꾼 =The camphorwood custodian\n",
       "384                              범인 없는 살인의 밤\n",
       "361                                  교통경찰의 밤\n",
       "179                        악의 :히가시노 게이고 장편소설\n",
       "270             운다고 달라지는 일은 아무것도 없겠지만 :박준 산문\n",
       "21                   라플라스의 마녀 :히가시노 게이고 장편소설\n",
       "741    내가 원하는 것을 나도 모를 때 :잃어버린 나를 찾는 인생의 문장들\n",
       "37                                간호사라서 다행이야\n",
       "181                                11문자 살인사건\n",
       "137          방구석 미술관 :가볍고 편하게 시작하는 유쾌한 교양 미술\n",
       "Name: bookname, dtype: object"
      ]
     },
     "execution_count": 96,
     "metadata": {},
     "output_type": "execute_result"
    }
   ],
   "source": [
    "# ex1\n",
    "get_recommendations('나미야 잡화점의 기적 :히가시노 게이고 장편소설').head(10)"
   ]
  },
  {
   "cell_type": "code",
   "execution_count": 98,
   "metadata": {},
   "outputs": [
    {
     "data": {
      "text/plain": [
       "433               시민의 교양 :지금, 여기, 보통 사람들을 위한 현실 인문학\n",
       "186                              지적 대화를 위한 넓고 얕은 지식\n",
       "490                        열한 계단 :나를 흔들어 키운 불편한 지식들\n",
       "472    우리 몸이 세계라면 :분투하고 경합하며 전복되는 우리 몸을 둘러싼 지식의 사회사\n",
       "451                 (1일 1페이지, 세상에서 가장 짧은) 교양 수업 365\n",
       "772                            (재밌어서 밤새 읽는) 천문학 이야기\n",
       "530                               혼자가 혼자에게 :이병률 산문집\n",
       "864                                관계의 물리학 :림태주 에세이\n",
       "741           내가 원하는 것을 나도 모를 때 :잃어버린 나를 찾는 인생의 문장들\n",
       "39                    설민석의 조선왕조실록 :대한민국이 선택한 역사 이야기\n",
       "Name: bookname, dtype: object"
      ]
     },
     "execution_count": 98,
     "metadata": {},
     "output_type": "execute_result"
    }
   ],
   "source": [
    "# ex2\n",
    "get_recommendations('지적 대화를 위한 넓고 얕은 지식 0 :지혜를 찾아 138억 년을 달리는 시간 여행서').head(10)"
   ]
  },
  {
   "cell_type": "code",
   "execution_count": 100,
   "metadata": {},
   "outputs": [
    {
     "data": {
      "text/plain": [
       "169            곰돌이 푸, 행복한 일은 매일 있어 :아직 행복을 기다리는 우리에게\n",
       "131                             12가지 인생의 법칙 :혼돈의 해독제\n",
       "159                          꽃을 보듯 너를 본다 :나태주 인터넷 시집\n",
       "437                              딸에게 주는 레시피 :공지영 에세이\n",
       "238    하고 싶은 대로 살아도 괜찮아 :늘 남에게 애쓰기만 하느라 나를 잃어버린 당신에게\n",
       "209                                      모리와 함께한 화요일\n",
       "801                                오래된 미래:라다크로부터 배우다\n",
       "178                       책을 지키려는 고양이 :나쓰카와 소스케 장편소설\n",
       "103                                 물 만난 물고기 :이찬혁 소설\n",
       "847               수학의 쓸모 :불확실한 미래에서 보통 사람들도 답을 얻는 방법\n",
       "Name: bookname, dtype: object"
      ]
     },
     "execution_count": 100,
     "metadata": {},
     "output_type": "execute_result"
    }
   ],
   "source": [
    "# ex3\n",
    "get_recommendations('곰돌이 푸, 서두르지 않아도 괜찮아 :곰돌이 푸 원작').head(10)"
   ]
  },
  {
   "cell_type": "code",
   "execution_count": 102,
   "metadata": {},
   "outputs": [
    {
     "data": {
      "text/plain": [
       "132                                 개미 :베르나르 베르베르 장편소설\n",
       "355                                                 나무\n",
       "276                               제3인류 :베르나르 베르베르 장편소설\n",
       "838                                              데스 큐어\n",
       "179                                  악의 :히가시노 게이고 장편소설\n",
       "76                                  죽음 :베르나르 베르베르 장편소설\n",
       "452    지적 대화를 위한 넓고 얕은 지식 0 :지혜를 찾아 138억 년을 달리는 시간 여행서\n",
       "481                                 기억 :베르나르 베르베르 장편소설\n",
       "257                                  원미동 사람들 :양귀자 연작소설\n",
       "187                                 목소리를 드릴게요 :정세랑 소설집\n",
       "Name: bookname, dtype: object"
      ]
     },
     "execution_count": 102,
     "metadata": {},
     "output_type": "execute_result"
    }
   ],
   "source": [
    "get_recommendations('파피용 :베르나르 베르베르 장편소설').head(10)"
   ]
  },
  {
   "cell_type": "code",
   "execution_count": 62,
   "metadata": {},
   "outputs": [
    {
     "data": {
      "text/plain": [
       "104    강성태 66일 공부법 - 어떤 시험도 단박에 성적을 올리는 고효율 공부 습관\n",
       "333      공부 마스터 플랜 :서울대 100인이 매일 실천한 60가지 체크 리스트 \n",
       "394                             영어 1등급은 이렇게 공부한다 \n",
       "445           압축 공부 - 공부의 방향을 잡아 속도를 올려주는 1등급의 법칙\n",
       "330                 가짜 1등 배동구 - 박철범의 국내 최초 공부법 소설\n",
       "Name: bookname, dtype: object"
      ]
     },
     "execution_count": 62,
     "metadata": {},
     "output_type": "execute_result"
    }
   ],
   "source": [
    "get_recommendations('조선왕조실톡 2 - 조선 패밀리의 활극').head(5)"
   ]
  },
  {
   "cell_type": "code",
   "execution_count": 103,
   "metadata": {},
   "outputs": [
    {
     "data": {
      "text/plain": [
       "31                 쇼코의 미소 :최은영 소설\n",
       "24                 바깥은 여름 :김애란 소설\n",
       "373              현남 오빠에게 :페미니즘 소설\n",
       "222               오직 두 사람 :김영하 소설\n",
       "33     우리가 빛의 속도로 갈 수 없다면 :김초엽 소설\n",
       "509              마르타의 일 :박서련 장편소설\n",
       "232                    숨 :테드 창 소설\n",
       "64             대도시의 사랑법 :박상영 연작소설\n",
       "225             다이어트 학교 :김혜정 장편소설\n",
       "111      그대 눈동자에 건배 :히가시노 게이고 소설집\n",
       "Name: bookname, dtype: object"
      ]
     },
     "execution_count": 103,
     "metadata": {},
     "output_type": "execute_result"
    }
   ],
   "source": [
    "get_recommendations('내게 무해한 사람 :최은영 소설').head(10)"
   ]
  }
 ],
 "metadata": {
  "kernelspec": {
   "display_name": "Python 3",
   "language": "python",
   "name": "python3"
  },
  "language_info": {
   "codemirror_mode": {
    "name": "ipython",
    "version": 3
   },
   "file_extension": ".py",
   "mimetype": "text/x-python",
   "name": "python",
   "nbconvert_exporter": "python",
   "pygments_lexer": "ipython3",
   "version": "3.6.12"
  }
 },
 "nbformat": 4,
 "nbformat_minor": 4
}
