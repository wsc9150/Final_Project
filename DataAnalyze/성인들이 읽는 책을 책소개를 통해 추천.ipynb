{
 "cells": [
  {
   "cell_type": "code",
   "execution_count": 1,
   "metadata": {},
   "outputs": [],
   "source": [
    "import json\n",
    "import pandas as pd\n",
    "import numpy as np\n",
    "\n",
    "import requests\n",
    "\n",
    "from tqdm import tqdm_notebook"
   ]
  },
  {
   "cell_type": "code",
   "execution_count": 2,
   "metadata": {},
   "outputs": [],
   "source": [
    "%matplotlib inline\n",
    "\n",
    "import pandas as pd\n",
    "import numpy as np\n",
    "import matplotlib.pyplot as plt\n",
    "import seaborn as sns\n",
    "from scipy import stats\n",
    "from ast import literal_eval\n",
    "from sklearn.feature_extraction.text import TfidfVectorizer, CountVectorizer\n",
    "from sklearn.metrics.pairwise import linear_kernel, cosine_similarity\n",
    "from nltk.stem.snowball import SnowballStemmer\n",
    "from nltk.stem.wordnet import WordNetLemmatizer\n",
    "from nltk.corpus import wordnet\n",
    "# import SVD\n",
    "# import accuracy\n",
    "\n",
    "import warnings; warnings.simplefilter('ignore')"
   ]
  },
  {
   "cell_type": "markdown",
   "metadata": {},
   "source": [
    "# 성인 들이 읽는 책을 책소개를 통해 비슷한 책 추천해주기"
   ]
  },
  {
   "cell_type": "code",
   "execution_count": 4,
   "metadata": {},
   "outputs": [],
   "source": [
    "# 데이터 불러오기\n",
    "adult = pd.read_csv('./data/final/content_re/adult_df.csv',encoding='utf-8')"
   ]
  },
  {
   "cell_type": "code",
   "execution_count": 5,
   "metadata": {},
   "outputs": [
    {
     "data": {
      "text/html": [
       "<div>\n",
       "<style scoped>\n",
       "    .dataframe tbody tr th:only-of-type {\n",
       "        vertical-align: middle;\n",
       "    }\n",
       "\n",
       "    .dataframe tbody tr th {\n",
       "        vertical-align: top;\n",
       "    }\n",
       "\n",
       "    .dataframe thead th {\n",
       "        text-align: right;\n",
       "    }\n",
       "</style>\n",
       "<table border=\"1\" class=\"dataframe\">\n",
       "  <thead>\n",
       "    <tr style=\"text-align: right;\">\n",
       "      <th></th>\n",
       "      <th>no</th>\n",
       "      <th>ranking</th>\n",
       "      <th>bookname</th>\n",
       "      <th>authors</th>\n",
       "      <th>publisher</th>\n",
       "      <th>publication_year</th>\n",
       "      <th>isbn13</th>\n",
       "      <th>addition_symbol</th>\n",
       "      <th>vol</th>\n",
       "      <th>class_no</th>\n",
       "      <th>loan_count</th>\n",
       "      <th>bookImageURL</th>\n",
       "    </tr>\n",
       "  </thead>\n",
       "  <tbody>\n",
       "    <tr>\n",
       "      <th>0</th>\n",
       "      <td>1</td>\n",
       "      <td>1</td>\n",
       "      <td>여행의 이유 :김영하 산문</td>\n",
       "      <td>지은이: 김영하</td>\n",
       "      <td>문학동네</td>\n",
       "      <td>2019.0</td>\n",
       "      <td>9788954655972</td>\n",
       "      <td>3810.0</td>\n",
       "      <td>NaN</td>\n",
       "      <td>816.70</td>\n",
       "      <td>4,899</td>\n",
       "      <td>https://image.aladin.co.kr/product/18827/60/co...</td>\n",
       "    </tr>\n",
       "    <tr>\n",
       "      <th>1</th>\n",
       "      <td>2</td>\n",
       "      <td>2</td>\n",
       "      <td>천년의 질문 :조정래 장편소설</td>\n",
       "      <td>저자: 조정래</td>\n",
       "      <td>해냄</td>\n",
       "      <td>2019.0</td>\n",
       "      <td>9788965746829</td>\n",
       "      <td>4810.0</td>\n",
       "      <td>1.0</td>\n",
       "      <td>813.62</td>\n",
       "      <td>4,197</td>\n",
       "      <td>https://image.aladin.co.kr/product/19386/11/co...</td>\n",
       "    </tr>\n",
       "    <tr>\n",
       "      <th>2</th>\n",
       "      <td>3</td>\n",
       "      <td>3</td>\n",
       "      <td>선량한 차별주의자</td>\n",
       "      <td>김지혜 지음</td>\n",
       "      <td>창비</td>\n",
       "      <td>2019.0</td>\n",
       "      <td>9788936477196</td>\n",
       "      <td>3300.0</td>\n",
       "      <td>NaN</td>\n",
       "      <td>334.00</td>\n",
       "      <td>4,140</td>\n",
       "      <td>https://image.aladin.co.kr/product/19874/76/co...</td>\n",
       "    </tr>\n",
       "  </tbody>\n",
       "</table>\n",
       "</div>"
      ],
      "text/plain": [
       "   no  ranking           bookname   authors publisher  publication_year  \\\n",
       "0   1        1    여행의 이유 :김영하 산문   지은이: 김영하      문학동네            2019.0   \n",
       "1   2        2  천년의 질문 :조정래 장편소설    저자: 조정래        해냄            2019.0   \n",
       "2   3        3         선량한 차별주의자     김지혜 지음        창비            2019.0   \n",
       "\n",
       "          isbn13  addition_symbol  vol  class_no loan_count  \\\n",
       "0  9788954655972           3810.0  NaN    816.70      4,899   \n",
       "1  9788965746829           4810.0  1.0    813.62      4,197   \n",
       "2  9788936477196           3300.0  NaN    334.00      4,140   \n",
       "\n",
       "                                        bookImageURL  \n",
       "0  https://image.aladin.co.kr/product/18827/60/co...  \n",
       "1  https://image.aladin.co.kr/product/19386/11/co...  \n",
       "2  https://image.aladin.co.kr/product/19874/76/co...  "
      ]
     },
     "execution_count": 5,
     "metadata": {},
     "output_type": "execute_result"
    }
   ],
   "source": [
    "adult.head(3)"
   ]
  },
  {
   "cell_type": "code",
   "execution_count": 8,
   "metadata": {},
   "outputs": [
    {
     "data": {
      "text/plain": [
       "995"
      ]
     },
     "execution_count": 8,
     "metadata": {},
     "output_type": "execute_result"
    }
   ],
   "source": [
    "len(adult)"
   ]
  },
  {
   "cell_type": "markdown",
   "metadata": {},
   "source": [
    "## merge로 책소개 가져오기"
   ]
  },
  {
   "cell_type": "code",
   "execution_count": 7,
   "metadata": {},
   "outputs": [],
   "source": [
    "# 책 소개글이 포함되어 있는 전체 데이터 가져오기 \n",
    "book = pd.read_csv('./data/final/library_book_df.csv',encoding='utf-8')"
   ]
  },
  {
   "cell_type": "code",
   "execution_count": 9,
   "metadata": {},
   "outputs": [],
   "source": [
    "adult_result=pd.merge(adult,book,on='isbn13',how='left')"
   ]
  },
  {
   "cell_type": "code",
   "execution_count": 11,
   "metadata": {},
   "outputs": [
    {
     "data": {
      "text/plain": [
       "995"
      ]
     },
     "execution_count": 11,
     "metadata": {},
     "output_type": "execute_result"
    }
   ],
   "source": [
    "len(adult_result)"
   ]
  },
  {
   "cell_type": "code",
   "execution_count": 12,
   "metadata": {},
   "outputs": [],
   "source": [
    "# 데이터프레임으로 바꾸기\n",
    "adult_result.to_csv('./data/final/content_re/adult_result.csv',encoding='utf-8-sig',index=False)"
   ]
  },
  {
   "cell_type": "code",
   "execution_count": 13,
   "metadata": {},
   "outputs": [],
   "source": [
    "# 직접 엑셀에서 수정 후 데이터 불러오기\n",
    "adult_result=pd.read_excel('./data/final/content_re/adult_result.xlsx')"
   ]
  },
  {
   "cell_type": "code",
   "execution_count": 14,
   "metadata": {},
   "outputs": [
    {
     "data": {
      "text/html": [
       "<div>\n",
       "<style scoped>\n",
       "    .dataframe tbody tr th:only-of-type {\n",
       "        vertical-align: middle;\n",
       "    }\n",
       "\n",
       "    .dataframe tbody tr th {\n",
       "        vertical-align: top;\n",
       "    }\n",
       "\n",
       "    .dataframe thead th {\n",
       "        text-align: right;\n",
       "    }\n",
       "</style>\n",
       "<table border=\"1\" class=\"dataframe\">\n",
       "  <thead>\n",
       "    <tr style=\"text-align: right;\">\n",
       "      <th></th>\n",
       "      <th>no</th>\n",
       "      <th>ranking</th>\n",
       "      <th>bookname</th>\n",
       "      <th>authors</th>\n",
       "      <th>publisher</th>\n",
       "      <th>publication_year</th>\n",
       "      <th>isbn13</th>\n",
       "      <th>addition_symbol</th>\n",
       "      <th>vol</th>\n",
       "      <th>class_no</th>\n",
       "      <th>loan_count</th>\n",
       "      <th>bookImageURL</th>\n",
       "      <th>keyword</th>\n",
       "      <th>describe</th>\n",
       "    </tr>\n",
       "  </thead>\n",
       "  <tbody>\n",
       "    <tr>\n",
       "      <th>0</th>\n",
       "      <td>1</td>\n",
       "      <td>1</td>\n",
       "      <td>여행의 이유 :김영하 산문</td>\n",
       "      <td>지은이: 김영하</td>\n",
       "      <td>문학동네</td>\n",
       "      <td>2019.0</td>\n",
       "      <td>9788954655972</td>\n",
       "      <td>3810.0</td>\n",
       "      <td>NaN</td>\n",
       "      <td>816.70</td>\n",
       "      <td>4899</td>\n",
       "      <td>https://image.aladin.co.kr/product/18827/60/co...</td>\n",
       "      <td>['여행', '김영하', '여행의', '사유', '산문', '인간', '매혹적', ...</td>\n",
       "      <td>“이 책을 쓰는 데 내 모든 여행의 경험이 필요했다”여행-일상-여행의 고리를 잇는 ...</td>\n",
       "    </tr>\n",
       "    <tr>\n",
       "      <th>1</th>\n",
       "      <td>2</td>\n",
       "      <td>2</td>\n",
       "      <td>천년의 질문 :조정래 장편소설</td>\n",
       "      <td>저자: 조정래</td>\n",
       "      <td>해냄</td>\n",
       "      <td>2019.0</td>\n",
       "      <td>9788965746829</td>\n",
       "      <td>4810.0</td>\n",
       "      <td>1.0</td>\n",
       "      <td>813.62</td>\n",
       "      <td>4197</td>\n",
       "      <td>https://image.aladin.co.kr/product/19386/11/co...</td>\n",
       "      <td>['div', 'li', 'ul', 'strong', 'span', 'br', 'b...</td>\n",
       "      <td>폐허의 역사를 극복하고 경쟁의 도시로 거듭나 세계의 주목을 받는 대한민국에서 기업가...</td>\n",
       "    </tr>\n",
       "    <tr>\n",
       "      <th>2</th>\n",
       "      <td>3</td>\n",
       "      <td>3</td>\n",
       "      <td>선량한 차별주의자</td>\n",
       "      <td>김지혜 지음</td>\n",
       "      <td>창비</td>\n",
       "      <td>2019.0</td>\n",
       "      <td>9788936477196</td>\n",
       "      <td>3300.0</td>\n",
       "      <td>NaN</td>\n",
       "      <td>334.00</td>\n",
       "      <td>4140</td>\n",
       "      <td>https://image.aladin.co.kr/product/19874/76/co...</td>\n",
       "      <td>['차별', '선량', '평등', '연구', '현장', '혐오', '사람', '사회...</td>\n",
       "      <td>선량한 차별주의자들의 세상에서 &amp;#x0D;평등을 외치는 당신을 위한 안내서 &amp;#x0...</td>\n",
       "    </tr>\n",
       "  </tbody>\n",
       "</table>\n",
       "</div>"
      ],
      "text/plain": [
       "   no  ranking           bookname   authors publisher  publication_year  \\\n",
       "0   1        1    여행의 이유 :김영하 산문   지은이: 김영하      문학동네            2019.0   \n",
       "1   2        2  천년의 질문 :조정래 장편소설    저자: 조정래        해냄            2019.0   \n",
       "2   3        3         선량한 차별주의자     김지혜 지음        창비            2019.0   \n",
       "\n",
       "          isbn13  addition_symbol  vol  class_no  loan_count  \\\n",
       "0  9788954655972           3810.0  NaN    816.70        4899   \n",
       "1  9788965746829           4810.0  1.0    813.62        4197   \n",
       "2  9788936477196           3300.0  NaN    334.00        4140   \n",
       "\n",
       "                                        bookImageURL  \\\n",
       "0  https://image.aladin.co.kr/product/18827/60/co...   \n",
       "1  https://image.aladin.co.kr/product/19386/11/co...   \n",
       "2  https://image.aladin.co.kr/product/19874/76/co...   \n",
       "\n",
       "                                             keyword  \\\n",
       "0  ['여행', '김영하', '여행의', '사유', '산문', '인간', '매혹적', ...   \n",
       "1  ['div', 'li', 'ul', 'strong', 'span', 'br', 'b...   \n",
       "2  ['차별', '선량', '평등', '연구', '현장', '혐오', '사람', '사회...   \n",
       "\n",
       "                                            describe  \n",
       "0  “이 책을 쓰는 데 내 모든 여행의 경험이 필요했다”여행-일상-여행의 고리를 잇는 ...  \n",
       "1  폐허의 역사를 극복하고 경쟁의 도시로 거듭나 세계의 주목을 받는 대한민국에서 기업가...  \n",
       "2  선량한 차별주의자들의 세상에서 &#x0D;평등을 외치는 당신을 위한 안내서 &#x0...  "
      ]
     },
     "execution_count": 14,
     "metadata": {},
     "output_type": "execute_result"
    }
   ],
   "source": [
    "adult_result.head(3)"
   ]
  },
  {
   "cell_type": "code",
   "execution_count": 15,
   "metadata": {},
   "outputs": [
    {
     "data": {
      "text/plain": [
       "995"
      ]
     },
     "execution_count": 15,
     "metadata": {},
     "output_type": "execute_result"
    }
   ],
   "source": [
    "len(adult_result)"
   ]
  },
  {
   "cell_type": "markdown",
   "metadata": {},
   "source": [
    "## 크롤링을 통해 책 소개 가져오기"
   ]
  },
  {
   "cell_type": "code",
   "execution_count": 19,
   "metadata": {},
   "outputs": [],
   "source": [
    "# 크롤링\n",
    "from urllib.request import urlopen\n",
    "from bs4 import BeautifulSoup\n",
    "from urllib.error import HTTPError\n",
    "from urllib.error import URLError"
   ]
  },
  {
   "cell_type": "code",
   "execution_count": 20,
   "metadata": {},
   "outputs": [],
   "source": [
    "# 오픈을 할때 예외처리를 통해 만약 오류가 생기면 원인을 알수 있게 함수 있음\n",
    "try :\n",
    "    html = urlopen('https://pythondojang.bitbucket.io/weather/observation/currentweather.html')\n",
    "except HTTPError as he :\n",
    "    print('http error')\n",
    "except URLError as ue :\n",
    "    print('url error')\n",
    "else :\n",
    "    soup = BeautifulSoup(html.read(), 'html.parser')"
   ]
  },
  {
   "cell_type": "code",
   "execution_count": 21,
   "metadata": {},
   "outputs": [],
   "source": [
    "from selenium import webdriver\n",
    "from bs4 import BeautifulSoup\n",
    "import requests\n",
    "from tqdm import tqdm_notebook\n",
    "from bs4 import BeautifulSoup\n",
    "import time"
   ]
  },
  {
   "cell_type": "code",
   "execution_count": 22,
   "metadata": {},
   "outputs": [],
   "source": [
    "# isbn 리스트 생성\n",
    "adult_isbn_list = list(adult_result['isbn13'].astype(str))"
   ]
  },
  {
   "cell_type": "code",
   "execution_count": 28,
   "metadata": {},
   "outputs": [
    {
     "data": {
      "text/plain": [
       "<selenium.webdriver.chrome.webdriver.WebDriver (session=\"e9cd31463d9cd5485463371fc3a2ef6e\")>"
      ]
     },
     "execution_count": 28,
     "metadata": {},
     "output_type": "execute_result"
    }
   ],
   "source": [
    "# 자동화 웹 페이지 열기\n",
    "path = './driver/chromedriver.exe'\n",
    "driver = webdriver.Chrome(path)\n",
    "driver"
   ]
  },
  {
   "cell_type": "code",
   "execution_count": 29,
   "metadata": {},
   "outputs": [],
   "source": [
    "isbn_url = 'http://www.kyobobook.co.kr/product/detailViewKor.laf?ejkGb=KOR&mallGb=KOR&barcode='\n",
    "rest_url = '&orderClick=LAG&Kc='"
   ]
  },
  {
   "cell_type": "code",
   "execution_count": 30,
   "metadata": {},
   "outputs": [
    {
     "data": {
      "application/vnd.jupyter.widget-view+json": {
       "model_id": "1ccd45bc27b840939391e52998c0b621",
       "version_major": 2,
       "version_minor": 0
      },
      "text/plain": [
       "HBox(children=(HTML(value=''), FloatProgress(value=0.0, max=995.0), HTML(value='')))"
      ]
     },
     "metadata": {},
     "output_type": "display_data"
    },
    {
     "name": "stdout",
     "output_type": "stream",
     "text": [
      "\n"
     ]
    }
   ],
   "source": [
    "intro = []\n",
    "\n",
    "for i in tqdm_notebook(range(len(adult_isbn_list))) :\n",
    "    url = isbn_url + str(adult_isbn_list[i]) + rest_url\n",
    "    driver.get(url)\n",
    "    \n",
    "    a_list = driver.find_elements_by_css_selector('div.box_detail_article')\n",
    "    time.sleep(1.5)\n",
    "    a_list = driver.find_elements_by_css_selector('div.box_detail_article')\n",
    "    \n",
    "    if len(a_list) > 0 :\n",
    "        intro.append(a_list[0].text)\n",
    "    else :\n",
    "        intro.append('')\n",
    "        continue"
   ]
  },
  {
   "cell_type": "code",
   "execution_count": null,
   "metadata": {},
   "outputs": [],
   "source": [
    "len(adult_isbn_list)"
   ]
  },
  {
   "cell_type": "code",
   "execution_count": 31,
   "metadata": {},
   "outputs": [
    {
     "data": {
      "text/plain": [
       "995"
      ]
     },
     "execution_count": 31,
     "metadata": {},
     "output_type": "execute_result"
    }
   ],
   "source": [
    "len(intro)"
   ]
  },
  {
   "cell_type": "code",
   "execution_count": 33,
   "metadata": {},
   "outputs": [],
   "source": [
    "adult_result_revised=adult_result"
   ]
  },
  {
   "cell_type": "code",
   "execution_count": 35,
   "metadata": {},
   "outputs": [],
   "source": [
    "adult_result_revised['describe']=intro"
   ]
  },
  {
   "cell_type": "code",
   "execution_count": 37,
   "metadata": {},
   "outputs": [
    {
     "name": "stdout",
     "output_type": "stream",
     "text": [
      "<class 'pandas.core.frame.DataFrame'>\n",
      "RangeIndex: 995 entries, 0 to 994\n",
      "Data columns (total 14 columns):\n",
      " #   Column            Non-Null Count  Dtype  \n",
      "---  ------            --------------  -----  \n",
      " 0   no                995 non-null    int64  \n",
      " 1   ranking           995 non-null    int64  \n",
      " 2   bookname          995 non-null    object \n",
      " 3   authors           995 non-null    object \n",
      " 4   publisher         988 non-null    object \n",
      " 5   publication_year  970 non-null    float64\n",
      " 6   isbn13            995 non-null    int64  \n",
      " 7   addition_symbol   977 non-null    float64\n",
      " 8   vol               181 non-null    float64\n",
      " 9   class_no          983 non-null    float64\n",
      " 10  loan_count        995 non-null    int64  \n",
      " 11  bookImageURL      987 non-null    object \n",
      " 12  keyword           848 non-null    object \n",
      " 13  describe          995 non-null    object \n",
      "dtypes: float64(4), int64(4), object(6)\n",
      "memory usage: 109.0+ KB\n"
     ]
    }
   ],
   "source": [
    "adult_result_revised.info()"
   ]
  },
  {
   "cell_type": "code",
   "execution_count": 44,
   "metadata": {
    "scrolled": true
   },
   "outputs": [],
   "source": [
    "adult_result_revised.to_csv('./data/final/content_re/adult_result_revised.csv',encoding='utf-8-sig',index=False)"
   ]
  },
  {
   "cell_type": "code",
   "execution_count": 42,
   "metadata": {},
   "outputs": [
    {
     "data": {
      "text/plain": [
       "<function str.index>"
      ]
     },
     "execution_count": 42,
     "metadata": {},
     "output_type": "execute_result"
    }
   ],
   "source": [
    "adult_result_revised['describe'][0].index"
   ]
  },
  {
   "cell_type": "code",
   "execution_count": 45,
   "metadata": {},
   "outputs": [],
   "source": [
    "adult_result_revised=pd.read_excel('./data/final/content_re/adult_result_revised.xlsx')"
   ]
  },
  {
   "cell_type": "code",
   "execution_count": 48,
   "metadata": {},
   "outputs": [
    {
     "name": "stdout",
     "output_type": "stream",
     "text": [
      "<class 'pandas.core.frame.DataFrame'>\n",
      "RangeIndex: 995 entries, 0 to 994\n",
      "Data columns (total 14 columns):\n",
      " #   Column            Non-Null Count  Dtype  \n",
      "---  ------            --------------  -----  \n",
      " 0   no                995 non-null    int64  \n",
      " 1   ranking           995 non-null    int64  \n",
      " 2   bookname          995 non-null    object \n",
      " 3   authors           995 non-null    object \n",
      " 4   publisher         988 non-null    object \n",
      " 5   publication_year  970 non-null    float64\n",
      " 6   isbn13            995 non-null    int64  \n",
      " 7   addition_symbol   977 non-null    float64\n",
      " 8   vol               181 non-null    float64\n",
      " 9   class_no          983 non-null    float64\n",
      " 10  loan_count        995 non-null    int64  \n",
      " 11  bookImageURL      987 non-null    object \n",
      " 12  keyword           848 non-null    object \n",
      " 13  describe          983 non-null    object \n",
      "dtypes: float64(4), int64(4), object(6)\n",
      "memory usage: 109.0+ KB\n"
     ]
    }
   ],
   "source": [
    "adult_result_revised.info()"
   ]
  },
  {
   "cell_type": "code",
   "execution_count": 49,
   "metadata": {},
   "outputs": [],
   "source": [
    "# 책소개가 없는 데이터만 따로 뽑기\n",
    "adult_na_df=adult_result_revised[adult_result_revised['describe'].isnull()]"
   ]
  },
  {
   "cell_type": "code",
   "execution_count": 56,
   "metadata": {},
   "outputs": [
    {
     "data": {
      "text/plain": [
       "12"
      ]
     },
     "execution_count": 56,
     "metadata": {},
     "output_type": "execute_result"
    }
   ],
   "source": [
    "len(adult_na_df)"
   ]
  },
  {
   "cell_type": "code",
   "execution_count": 55,
   "metadata": {},
   "outputs": [],
   "source": [
    "# 책소개가 있는 데이터만 따로 뽑기\n",
    "adult_revised=adult_result_revised[pd.notnull(adult_result_revised['describe'])]"
   ]
  },
  {
   "cell_type": "code",
   "execution_count": 57,
   "metadata": {},
   "outputs": [
    {
     "data": {
      "text/plain": [
       "983"
      ]
     },
     "execution_count": 57,
     "metadata": {},
     "output_type": "execute_result"
    }
   ],
   "source": [
    "len(adult_revised)"
   ]
  },
  {
   "cell_type": "code",
   "execution_count": 51,
   "metadata": {},
   "outputs": [],
   "source": [
    "adult_na_df.to_csv('./data/final/content_re/adult_na_df.csv',encoding='utf-8-sig',index=False)"
   ]
  },
  {
   "cell_type": "code",
   "execution_count": 53,
   "metadata": {},
   "outputs": [],
   "source": [
    "# 책소개 이미지 없는 책들을 직접 excel에 찾아서 넣기\n",
    "adult_na_df=pd.read_excel('./data/final/content_re/adult_na_df.xlsx')"
   ]
  },
  {
   "cell_type": "code",
   "execution_count": 54,
   "metadata": {},
   "outputs": [
    {
     "data": {
      "text/html": [
       "<div>\n",
       "<style scoped>\n",
       "    .dataframe tbody tr th:only-of-type {\n",
       "        vertical-align: middle;\n",
       "    }\n",
       "\n",
       "    .dataframe tbody tr th {\n",
       "        vertical-align: top;\n",
       "    }\n",
       "\n",
       "    .dataframe thead th {\n",
       "        text-align: right;\n",
       "    }\n",
       "</style>\n",
       "<table border=\"1\" class=\"dataframe\">\n",
       "  <thead>\n",
       "    <tr style=\"text-align: right;\">\n",
       "      <th></th>\n",
       "      <th>no</th>\n",
       "      <th>ranking</th>\n",
       "      <th>bookname</th>\n",
       "      <th>authors</th>\n",
       "      <th>publisher</th>\n",
       "      <th>publication_year</th>\n",
       "      <th>isbn13</th>\n",
       "      <th>addition_symbol</th>\n",
       "      <th>vol</th>\n",
       "      <th>class_no</th>\n",
       "      <th>loan_count</th>\n",
       "      <th>bookImageURL</th>\n",
       "      <th>keyword</th>\n",
       "      <th>describe</th>\n",
       "    </tr>\n",
       "  </thead>\n",
       "  <tbody>\n",
       "    <tr>\n",
       "      <th>0</th>\n",
       "      <td>116</td>\n",
       "      <td>116</td>\n",
       "      <td>존리의 부자되기 습관 :대한민국 경제독립 액션 플랜</td>\n",
       "      <td>존리 지음</td>\n",
       "      <td>지식노마드</td>\n",
       "      <td>2020.0</td>\n",
       "      <td>9791187481720</td>\n",
       "      <td>13320.0</td>\n",
       "      <td>NaN</td>\n",
       "      <td>327.04</td>\n",
       "      <td>1371</td>\n",
       "      <td>https://image.aladin.co.kr/product/22631/95/co...</td>\n",
       "      <td>['펀드', '경제독립', '투자', '금융문맹', '부자', '시작', '한국',...</td>\n",
       "      <td>돈을 위해 일하지 말고 돈이 당신을 위해 일하게 하라!!\\n열심히 일하는데 왜 돈에...</td>\n",
       "    </tr>\n",
       "    <tr>\n",
       "      <th>1</th>\n",
       "      <td>469</td>\n",
       "      <td>469</td>\n",
       "      <td>당신이 옳다 :정혜신의 적정심리학</td>\n",
       "      <td>정혜신</td>\n",
       "      <td>NaN</td>\n",
       "      <td>NaN</td>\n",
       "      <td>9788965746669</td>\n",
       "      <td>NaN</td>\n",
       "      <td>NaN</td>\n",
       "      <td>189.00</td>\n",
       "      <td>684</td>\n",
       "      <td>http://image.kyobobook.co.kr/images/book/large...</td>\n",
       "      <td>['공감', '심리', '치유', '심리치유', '콤플렉스', '내공']</td>\n",
       "      <td>안정적인 일상을 위해 스스로 마음의 문제를 해결할 수 있도록 도와주는 공감 행동지침...</td>\n",
       "    </tr>\n",
       "    <tr>\n",
       "      <th>2</th>\n",
       "      <td>541</td>\n",
       "      <td>541</td>\n",
       "      <td>82년생 김지영 :조남주 장편소설</td>\n",
       "      <td>조남주 지음</td>\n",
       "      <td>NaN</td>\n",
       "      <td>2018.0</td>\n",
       "      <td>9788937473135</td>\n",
       "      <td>3810.0</td>\n",
       "      <td>NaN</td>\n",
       "      <td>813.70</td>\n",
       "      <td>631</td>\n",
       "      <td>http://image.kyobobook.co.kr/images/book/large...</td>\n",
       "      <td>['페미니즘', '인생', '한국 여성', '성 차별', '고백', '성 평등']</td>\n",
       "      <td>공포, 피로, 당황, 놀람, 혼란, 좌절의 연속에 대한 한국 여자의 인생 현장 보고...</td>\n",
       "    </tr>\n",
       "    <tr>\n",
       "      <th>3</th>\n",
       "      <td>648</td>\n",
       "      <td>648</td>\n",
       "      <td>남아 있는 시간을 위하여:100세 철학자의 대표산문선</td>\n",
       "      <td>김형석</td>\n",
       "      <td>NaN</td>\n",
       "      <td>NaN</td>\n",
       "      <td>9788934980629</td>\n",
       "      <td>NaN</td>\n",
       "      <td>NaN</td>\n",
       "      <td>104.00</td>\n",
       "      <td>565</td>\n",
       "      <td>http://image.kyobobook.co.kr/images/book/large...</td>\n",
       "      <td>NaN</td>\n",
       "      <td>인생의 마지막에 가까워질수록 더욱 간절해지는 선하고 아름다운 삶을 향한 고민의 소산...</td>\n",
       "    </tr>\n",
       "    <tr>\n",
       "      <th>4</th>\n",
       "      <td>658</td>\n",
       "      <td>658</td>\n",
       "      <td>방구석 미술관:가볍고 편하게 시작하는 유쾌한 교양 미술</td>\n",
       "      <td>조원재 지음;위키피디아 본문사진</td>\n",
       "      <td>NaN</td>\n",
       "      <td>NaN</td>\n",
       "      <td>9788968331862</td>\n",
       "      <td>NaN</td>\n",
       "      <td>NaN</td>\n",
       "      <td>650.40</td>\n",
       "      <td>558</td>\n",
       "      <td>http://image.kyobobook.co.kr/images/book/large...</td>\n",
       "      <td>['미술이야기', '미술', '화가', '미술사', '오르세', '세잔']</td>\n",
       "      <td>조원재 작가와 함께 즐기는 ‘프라이빗 미술관 에디션’ _ 오르세 미술관 편\\n『방구...</td>\n",
       "    </tr>\n",
       "    <tr>\n",
       "      <th>5</th>\n",
       "      <td>663</td>\n",
       "      <td>660</td>\n",
       "      <td>인생 우화</td>\n",
       "      <td>류시화</td>\n",
       "      <td>NaN</td>\n",
       "      <td>NaN</td>\n",
       "      <td>9791186686348</td>\n",
       "      <td>NaN</td>\n",
       "      <td>NaN</td>\n",
       "      <td>813.80</td>\n",
       "      <td>556</td>\n",
       "      <td>http://image.kyobobook.co.kr/images/book/large...</td>\n",
       "      <td>NaN</td>\n",
       "      <td>우리 안의 바보는 어떤 엉뚱한 방식으로 문제를 해결하며 살아갈까?\\n류시화 시인이 ...</td>\n",
       "    </tr>\n",
       "    <tr>\n",
       "      <th>6</th>\n",
       "      <td>699</td>\n",
       "      <td>698</td>\n",
       "      <td>인생 수업</td>\n",
       "      <td>엘리자베스 퀴블러 로스,류시화 옮김</td>\n",
       "      <td>이레</td>\n",
       "      <td>2006.0</td>\n",
       "      <td>9788957090817</td>\n",
       "      <td>3840.0</td>\n",
       "      <td>NaN</td>\n",
       "      <td>199.10</td>\n",
       "      <td>535</td>\n",
       "      <td>https://bookthumb-phinf.pstatic.net/cover/024/...</td>\n",
       "      <td>['자신', '마지막', '바쇼하이쿠선집', '삶으로다시떠오르기', '사랑하라한번도...</td>\n",
       "      <td>배움을 얻는다는 것은 다른 사람이 아닌 자기 자신의 인생을 사는 것을 의미합니다. ...</td>\n",
       "    </tr>\n",
       "    <tr>\n",
       "      <th>7</th>\n",
       "      <td>701</td>\n",
       "      <td>701</td>\n",
       "      <td>옛날에 내가 죽은 집</td>\n",
       "      <td>지은이: 히가시노 게이고 ;옮긴이: 최고은</td>\n",
       "      <td>김영사</td>\n",
       "      <td>2019.0</td>\n",
       "      <td>9788934995289</td>\n",
       "      <td>3830.0</td>\n",
       "      <td>NaN</td>\n",
       "      <td>833.60</td>\n",
       "      <td>533</td>\n",
       "      <td>https://image.aladin.co.kr/product/19711/55/co...</td>\n",
       "      <td>['일본', '옛날에내가죽은집', '히가시노게이고', '오사카소년탐정단', '나미야...</td>\n",
       "      <td>극한의 제약, 무한의 상상력,\\n히가시노 게이고만이 가능한 고밀도 미스터리!\\n\\n...</td>\n",
       "    </tr>\n",
       "    <tr>\n",
       "      <th>8</th>\n",
       "      <td>738</td>\n",
       "      <td>733</td>\n",
       "      <td>(법륜 스님의) 행복 :행복해지고 싶지만 길을 몰라 헤매는 당신에게</td>\n",
       "      <td>법륜 지음 ;최승미 그림</td>\n",
       "      <td>나무의마음</td>\n",
       "      <td>2017.0</td>\n",
       "      <td>9788954637169</td>\n",
       "      <td>3810.0</td>\n",
       "      <td>NaN</td>\n",
       "      <td>199.10</td>\n",
       "      <td>524</td>\n",
       "      <td>http://image.kyobobook.co.kr/images/book/large...</td>\n",
       "      <td>NaN</td>\n",
       "      <td>당신은 행복해질 권리가 있다\\n법륜 스님은 지난 30년 동안 우리나라 전국방방곡곡은...</td>\n",
       "    </tr>\n",
       "    <tr>\n",
       "      <th>9</th>\n",
       "      <td>748</td>\n",
       "      <td>748</td>\n",
       "      <td>(있는 그대로) 참 소중한 너라서 :지금도 충분히 아름다운 그대에게</td>\n",
       "      <td>김지훈 지음</td>\n",
       "      <td>RHK(알에이치코리아)</td>\n",
       "      <td>2016.0</td>\n",
       "      <td>9791196484224</td>\n",
       "      <td>3810.0</td>\n",
       "      <td>NaN</td>\n",
       "      <td>818.00</td>\n",
       "      <td>519</td>\n",
       "      <td>https://bookthumb-phinf.pstatic.net/cover/107/...</td>\n",
       "      <td>['사랑', '독자', '행복', '고민', '마음', '위로', '공감', '감사...</td>\n",
       "      <td>있는 그대로 참 소중한 당신에게 전하는 진심 가득한 위로의 말\\n2년이 넘도록 전국...</td>\n",
       "    </tr>\n",
       "    <tr>\n",
       "      <th>10</th>\n",
       "      <td>806</td>\n",
       "      <td>806</td>\n",
       "      <td>어떻게 살 것인가</td>\n",
       "      <td>유시민 지음</td>\n",
       "      <td>NaN</td>\n",
       "      <td>2018.0</td>\n",
       "      <td>9788965132288</td>\n",
       "      <td>3810.0</td>\n",
       "      <td>NaN</td>\n",
       "      <td>340.40</td>\n",
       "      <td>499</td>\n",
       "      <td>http://image.kyobobook.co.kr/images/book/large...</td>\n",
       "      <td>NaN</td>\n",
       "      <td>자유인으로 돌아온 유시민, '어떻게 살 것인지'에 대해 되짚어본다!\\n정치인에서 자...</td>\n",
       "    </tr>\n",
       "    <tr>\n",
       "      <th>11</th>\n",
       "      <td>871</td>\n",
       "      <td>871</td>\n",
       "      <td>나는 죽을 때까지 재미있게 살고 싶다</td>\n",
       "      <td>이근후 지음;김선경 엮음</td>\n",
       "      <td>NaN</td>\n",
       "      <td>NaN</td>\n",
       "      <td>9788901154091</td>\n",
       "      <td>NaN</td>\n",
       "      <td>NaN</td>\n",
       "      <td>818.00</td>\n",
       "      <td>478</td>\n",
       "      <td>http://image.kyobobook.co.kr/images/book/large...</td>\n",
       "      <td>NaN</td>\n",
       "      <td>바로 지금, 자신에게 맞는 재미를 찾는 것이 진정 나이답게 늙어가는 일이다!\\n멋지...</td>\n",
       "    </tr>\n",
       "  </tbody>\n",
       "</table>\n",
       "</div>"
      ],
      "text/plain": [
       "     no  ranking                                bookname  \\\n",
       "0   116      116           존리의 부자되기 습관 :대한민국 경제독립 액션 플랜    \n",
       "1   469      469                      당신이 옳다 :정혜신의 적정심리학   \n",
       "2   541      541                      82년생 김지영 :조남주 장편소설   \n",
       "3   648      648           남아 있는 시간을 위하여:100세 철학자의 대표산문선   \n",
       "4   658      658          방구석 미술관:가볍고 편하게 시작하는 유쾌한 교양 미술   \n",
       "5   663      660                                   인생 우화   \n",
       "6   699      698                                   인생 수업   \n",
       "7   701      701                            옛날에 내가 죽은 집    \n",
       "8   738      733  (법륜 스님의) 행복 :행복해지고 싶지만 길을 몰라 헤매는 당신에게    \n",
       "9   748      748  (있는 그대로) 참 소중한 너라서 :지금도 충분히 아름다운 그대에게    \n",
       "10  806      806                               어떻게 살 것인가   \n",
       "11  871      871                    나는 죽을 때까지 재미있게 살고 싶다   \n",
       "\n",
       "                    authors     publisher  publication_year         isbn13  \\\n",
       "0                     존리 지음         지식노마드            2020.0  9791187481720   \n",
       "1                       정혜신           NaN               NaN  9788965746669   \n",
       "2                    조남주 지음           NaN            2018.0  9788937473135   \n",
       "3                       김형석           NaN               NaN  9788934980629   \n",
       "4         조원재 지음;위키피디아 본문사진           NaN               NaN  9788968331862   \n",
       "5                       류시화           NaN               NaN  9791186686348   \n",
       "6       엘리자베스 퀴블러 로스,류시화 옮김            이레            2006.0  9788957090817   \n",
       "7   지은이: 히가시노 게이고 ;옮긴이: 최고은           김영사            2019.0  9788934995289   \n",
       "8             법륜 지음 ;최승미 그림         나무의마음            2017.0  9788954637169   \n",
       "9                    김지훈 지음  RHK(알에이치코리아)            2016.0  9791196484224   \n",
       "10                   유시민 지음           NaN            2018.0  9788965132288   \n",
       "11            이근후 지음;김선경 엮음           NaN               NaN  9788901154091   \n",
       "\n",
       "    addition_symbol  vol  class_no  loan_count  \\\n",
       "0           13320.0  NaN    327.04        1371   \n",
       "1               NaN  NaN    189.00         684   \n",
       "2            3810.0  NaN    813.70         631   \n",
       "3               NaN  NaN    104.00         565   \n",
       "4               NaN  NaN    650.40         558   \n",
       "5               NaN  NaN    813.80         556   \n",
       "6            3840.0  NaN    199.10         535   \n",
       "7            3830.0  NaN    833.60         533   \n",
       "8            3810.0  NaN    199.10         524   \n",
       "9            3810.0  NaN    818.00         519   \n",
       "10           3810.0  NaN    340.40         499   \n",
       "11              NaN  NaN    818.00         478   \n",
       "\n",
       "                                         bookImageURL  \\\n",
       "0   https://image.aladin.co.kr/product/22631/95/co...   \n",
       "1   http://image.kyobobook.co.kr/images/book/large...   \n",
       "2   http://image.kyobobook.co.kr/images/book/large...   \n",
       "3   http://image.kyobobook.co.kr/images/book/large...   \n",
       "4   http://image.kyobobook.co.kr/images/book/large...   \n",
       "5   http://image.kyobobook.co.kr/images/book/large...   \n",
       "6   https://bookthumb-phinf.pstatic.net/cover/024/...   \n",
       "7   https://image.aladin.co.kr/product/19711/55/co...   \n",
       "8   http://image.kyobobook.co.kr/images/book/large...   \n",
       "9   https://bookthumb-phinf.pstatic.net/cover/107/...   \n",
       "10  http://image.kyobobook.co.kr/images/book/large...   \n",
       "11  http://image.kyobobook.co.kr/images/book/large...   \n",
       "\n",
       "                                              keyword  \\\n",
       "0   ['펀드', '경제독립', '투자', '금융문맹', '부자', '시작', '한국',...   \n",
       "1            ['공감', '심리', '치유', '심리치유', '콤플렉스', '내공']   \n",
       "2       ['페미니즘', '인생', '한국 여성', '성 차별', '고백', '성 평등']   \n",
       "3                                                 NaN   \n",
       "4           ['미술이야기', '미술', '화가', '미술사', '오르세', '세잔']   \n",
       "5                                                 NaN   \n",
       "6   ['자신', '마지막', '바쇼하이쿠선집', '삶으로다시떠오르기', '사랑하라한번도...   \n",
       "7   ['일본', '옛날에내가죽은집', '히가시노게이고', '오사카소년탐정단', '나미야...   \n",
       "8                                                 NaN   \n",
       "9   ['사랑', '독자', '행복', '고민', '마음', '위로', '공감', '감사...   \n",
       "10                                                NaN   \n",
       "11                                                NaN   \n",
       "\n",
       "                                             describe  \n",
       "0   돈을 위해 일하지 말고 돈이 당신을 위해 일하게 하라!!\\n열심히 일하는데 왜 돈에...  \n",
       "1   안정적인 일상을 위해 스스로 마음의 문제를 해결할 수 있도록 도와주는 공감 행동지침...  \n",
       "2   공포, 피로, 당황, 놀람, 혼란, 좌절의 연속에 대한 한국 여자의 인생 현장 보고...  \n",
       "3   인생의 마지막에 가까워질수록 더욱 간절해지는 선하고 아름다운 삶을 향한 고민의 소산...  \n",
       "4   조원재 작가와 함께 즐기는 ‘프라이빗 미술관 에디션’ _ 오르세 미술관 편\\n『방구...  \n",
       "5   우리 안의 바보는 어떤 엉뚱한 방식으로 문제를 해결하며 살아갈까?\\n류시화 시인이 ...  \n",
       "6   배움을 얻는다는 것은 다른 사람이 아닌 자기 자신의 인생을 사는 것을 의미합니다. ...  \n",
       "7   극한의 제약, 무한의 상상력,\\n히가시노 게이고만이 가능한 고밀도 미스터리!\\n\\n...  \n",
       "8   당신은 행복해질 권리가 있다\\n법륜 스님은 지난 30년 동안 우리나라 전국방방곡곡은...  \n",
       "9   있는 그대로 참 소중한 당신에게 전하는 진심 가득한 위로의 말\\n2년이 넘도록 전국...  \n",
       "10  자유인으로 돌아온 유시민, '어떻게 살 것인지'에 대해 되짚어본다!\\n정치인에서 자...  \n",
       "11  바로 지금, 자신에게 맞는 재미를 찾는 것이 진정 나이답게 늙어가는 일이다!\\n멋지...  "
      ]
     },
     "execution_count": 54,
     "metadata": {},
     "output_type": "execute_result"
    }
   ],
   "source": [
    "adult_na_df"
   ]
  },
  {
   "cell_type": "code",
   "execution_count": 58,
   "metadata": {},
   "outputs": [],
   "source": [
    "# 최종 adult 데이터 넣기\n",
    "adult_final_df=pd.concat([adult_na_df,adult_revised],ignore_index=True)"
   ]
  },
  {
   "cell_type": "markdown",
   "metadata": {},
   "source": [
    "- 최종 데이터 저장"
   ]
  },
  {
   "cell_type": "code",
   "execution_count": null,
   "metadata": {},
   "outputs": [],
   "source": [
    "# 책 제목 중복데이터 제거 \n",
    "adult_final_df=adult_final_df.drop_duplicates(['bookname'], keep='first')"
   ]
  },
  {
   "cell_type": "code",
   "execution_count": 68,
   "metadata": {},
   "outputs": [
    {
     "data": {
      "text/plain": [
       "891"
      ]
     },
     "execution_count": 68,
     "metadata": {},
     "output_type": "execute_result"
    }
   ],
   "source": [
    "len(adult_final_df)"
   ]
  },
  {
   "cell_type": "code",
   "execution_count": null,
   "metadata": {},
   "outputs": [],
   "source": [
    "adult_final_df.reset_index(drop=True,inplace=True)"
   ]
  },
  {
   "cell_type": "code",
   "execution_count": 67,
   "metadata": {},
   "outputs": [],
   "source": [
    "adult_final_df.to_csv('./data/final/content_re/adult_final_df.csv',encoding='utf-8-sig',index=False)"
   ]
  },
  {
   "cell_type": "code",
   "execution_count": 60,
   "metadata": {},
   "outputs": [
    {
     "name": "stdout",
     "output_type": "stream",
     "text": [
      "<class 'pandas.core.frame.DataFrame'>\n",
      "RangeIndex: 995 entries, 0 to 994\n",
      "Data columns (total 14 columns):\n",
      " #   Column            Non-Null Count  Dtype  \n",
      "---  ------            --------------  -----  \n",
      " 0   no                995 non-null    int64  \n",
      " 1   ranking           995 non-null    int64  \n",
      " 2   bookname          995 non-null    object \n",
      " 3   authors           995 non-null    object \n",
      " 4   publisher         988 non-null    object \n",
      " 5   publication_year  970 non-null    float64\n",
      " 6   isbn13            995 non-null    int64  \n",
      " 7   addition_symbol   977 non-null    float64\n",
      " 8   vol               181 non-null    float64\n",
      " 9   class_no          983 non-null    float64\n",
      " 10  loan_count        995 non-null    int64  \n",
      " 11  bookImageURL      995 non-null    object \n",
      " 12  keyword           848 non-null    object \n",
      " 13  describe          995 non-null    object \n",
      "dtypes: float64(4), int64(4), object(6)\n",
      "memory usage: 109.0+ KB\n"
     ]
    }
   ],
   "source": [
    "adult_final_df.info()"
   ]
  },
  {
   "cell_type": "markdown",
   "metadata": {},
   "source": [
    "## TF-IDF를 통한 어른 책 내용 기반 추천"
   ]
  },
  {
   "cell_type": "code",
   "execution_count": 102,
   "metadata": {},
   "outputs": [],
   "source": [
    "adult_final_df=pd.read_excel('./data/final/content_re/adult_final_df.xlsx')"
   ]
  },
  {
   "cell_type": "code",
   "execution_count": 104,
   "metadata": {},
   "outputs": [
    {
     "data": {
      "text/html": [
       "<div>\n",
       "<style scoped>\n",
       "    .dataframe tbody tr th:only-of-type {\n",
       "        vertical-align: middle;\n",
       "    }\n",
       "\n",
       "    .dataframe tbody tr th {\n",
       "        vertical-align: top;\n",
       "    }\n",
       "\n",
       "    .dataframe thead th {\n",
       "        text-align: right;\n",
       "    }\n",
       "</style>\n",
       "<table border=\"1\" class=\"dataframe\">\n",
       "  <thead>\n",
       "    <tr style=\"text-align: right;\">\n",
       "      <th></th>\n",
       "      <th>no</th>\n",
       "      <th>ranking</th>\n",
       "      <th>bookname</th>\n",
       "      <th>authors</th>\n",
       "      <th>publisher</th>\n",
       "      <th>publication_year</th>\n",
       "      <th>isbn13</th>\n",
       "      <th>addition_symbol</th>\n",
       "      <th>vol</th>\n",
       "      <th>class_no</th>\n",
       "      <th>loan_count</th>\n",
       "      <th>bookImageURL</th>\n",
       "      <th>keyword</th>\n",
       "      <th>describe</th>\n",
       "    </tr>\n",
       "  </thead>\n",
       "  <tbody>\n",
       "    <tr>\n",
       "      <th>0</th>\n",
       "      <td>116</td>\n",
       "      <td>116</td>\n",
       "      <td>존리의 부자되기 습관 :대한민국 경제독립 액션 플랜</td>\n",
       "      <td>존리 지음</td>\n",
       "      <td>지식노마드</td>\n",
       "      <td>2020.0</td>\n",
       "      <td>9791187481720</td>\n",
       "      <td>13320.0</td>\n",
       "      <td>NaN</td>\n",
       "      <td>327.04</td>\n",
       "      <td>1371</td>\n",
       "      <td>https://image.aladin.co.kr/product/22631/95/co...</td>\n",
       "      <td>['펀드', '경제독립', '투자', '금융문맹', '부자', '시작', '한국',...</td>\n",
       "      <td>돈을 위해 일하지 말고 돈이 당신을 위해 일하게 하라!!\\n열심히 일하는데 왜 돈에...</td>\n",
       "    </tr>\n",
       "    <tr>\n",
       "      <th>1</th>\n",
       "      <td>469</td>\n",
       "      <td>469</td>\n",
       "      <td>당신이 옳다 :정혜신의 적정심리학</td>\n",
       "      <td>정혜신</td>\n",
       "      <td>NaN</td>\n",
       "      <td>NaN</td>\n",
       "      <td>9788965746669</td>\n",
       "      <td>NaN</td>\n",
       "      <td>NaN</td>\n",
       "      <td>189.00</td>\n",
       "      <td>684</td>\n",
       "      <td>http://image.kyobobook.co.kr/images/book/large...</td>\n",
       "      <td>['공감', '심리', '치유', '심리치유', '콤플렉스', '내공']</td>\n",
       "      <td>안정적인 일상을 위해 스스로 마음의 문제를 해결할 수 있도록 도와주는 공감 행동지침...</td>\n",
       "    </tr>\n",
       "    <tr>\n",
       "      <th>2</th>\n",
       "      <td>648</td>\n",
       "      <td>648</td>\n",
       "      <td>남아 있는 시간을 위하여:100세 철학자의 대표산문선</td>\n",
       "      <td>김형석</td>\n",
       "      <td>NaN</td>\n",
       "      <td>NaN</td>\n",
       "      <td>9788934980629</td>\n",
       "      <td>NaN</td>\n",
       "      <td>NaN</td>\n",
       "      <td>104.00</td>\n",
       "      <td>565</td>\n",
       "      <td>http://image.kyobobook.co.kr/images/book/large...</td>\n",
       "      <td>NaN</td>\n",
       "      <td>인생의 마지막에 가까워질수록 더욱 간절해지는 선하고 아름다운 삶을 향한 고민의 소산...</td>\n",
       "    </tr>\n",
       "    <tr>\n",
       "      <th>3</th>\n",
       "      <td>663</td>\n",
       "      <td>660</td>\n",
       "      <td>인생 우화</td>\n",
       "      <td>류시화</td>\n",
       "      <td>NaN</td>\n",
       "      <td>NaN</td>\n",
       "      <td>9791186686348</td>\n",
       "      <td>NaN</td>\n",
       "      <td>NaN</td>\n",
       "      <td>813.80</td>\n",
       "      <td>556</td>\n",
       "      <td>http://image.kyobobook.co.kr/images/book/large...</td>\n",
       "      <td>NaN</td>\n",
       "      <td>우리 안의 바보는 어떤 엉뚱한 방식으로 문제를 해결하며 살아갈까?\\n류시화 시인이 ...</td>\n",
       "    </tr>\n",
       "    <tr>\n",
       "      <th>4</th>\n",
       "      <td>699</td>\n",
       "      <td>698</td>\n",
       "      <td>인생 수업</td>\n",
       "      <td>엘리자베스 퀴블러 로스,류시화 옮김</td>\n",
       "      <td>이레</td>\n",
       "      <td>2006.0</td>\n",
       "      <td>9788957090817</td>\n",
       "      <td>3840.0</td>\n",
       "      <td>NaN</td>\n",
       "      <td>199.10</td>\n",
       "      <td>535</td>\n",
       "      <td>https://bookthumb-phinf.pstatic.net/cover/024/...</td>\n",
       "      <td>['자신', '마지막', '바쇼하이쿠선집', '삶으로다시떠오르기', '사랑하라한번도...</td>\n",
       "      <td>배움을 얻는다는 것은 다른 사람이 아닌 자기 자신의 인생을 사는 것을 의미합니다. ...</td>\n",
       "    </tr>\n",
       "    <tr>\n",
       "      <th>...</th>\n",
       "      <td>...</td>\n",
       "      <td>...</td>\n",
       "      <td>...</td>\n",
       "      <td>...</td>\n",
       "      <td>...</td>\n",
       "      <td>...</td>\n",
       "      <td>...</td>\n",
       "      <td>...</td>\n",
       "      <td>...</td>\n",
       "      <td>...</td>\n",
       "      <td>...</td>\n",
       "      <td>...</td>\n",
       "      <td>...</td>\n",
       "      <td>...</td>\n",
       "    </tr>\n",
       "    <tr>\n",
       "      <th>883</th>\n",
       "      <td>995</td>\n",
       "      <td>990</td>\n",
       "      <td>수도권 알짜 부동산 답사기 :알짜 노하우</td>\n",
       "      <td>김학렬 지음</td>\n",
       "      <td>지혜로</td>\n",
       "      <td>2019.0</td>\n",
       "      <td>9791187799108</td>\n",
       "      <td>13320.0</td>\n",
       "      <td>NaN</td>\n",
       "      <td>327.87</td>\n",
       "      <td>445</td>\n",
       "      <td>https://image.aladin.co.kr/product/19916/14/co...</td>\n",
       "      <td>['서울', '레시피', '동네', '부동산', '지역분석', '인천', '지역',...</td>\n",
       "      <td>대한민국 역사상 가장 강력한 부동산 규제정책이 펼쳐지고 있다. 내 집 마련을 해야 ...</td>\n",
       "    </tr>\n",
       "    <tr>\n",
       "      <th>884</th>\n",
       "      <td>996</td>\n",
       "      <td>990</td>\n",
       "      <td>사라진 세계</td>\n",
       "      <td>톰 스웨터리치 지음 ;장호연 옮김</td>\n",
       "      <td>허블</td>\n",
       "      <td>2020.0</td>\n",
       "      <td>9791190090070</td>\n",
       "      <td>3840.0</td>\n",
       "      <td>NaN</td>\n",
       "      <td>843.60</td>\n",
       "      <td>445</td>\n",
       "      <td>https://image.aladin.co.kr/product/23332/89/co...</td>\n",
       "      <td>NaN</td>\n",
       "      <td>허리우드가 주목하는, 특히, 아카데미 후보작 《디스트릭트9》으로 세계적인 명성을 쌓...</td>\n",
       "    </tr>\n",
       "    <tr>\n",
       "      <th>885</th>\n",
       "      <td>997</td>\n",
       "      <td>990</td>\n",
       "      <td>나를 아프게 하지 않는다 :상처만 주는 가짜 자존감 나를 지키는 진짜 자존감</td>\n",
       "      <td>전미경 지음</td>\n",
       "      <td>지와인</td>\n",
       "      <td>2019.0</td>\n",
       "      <td>9791196533472</td>\n",
       "      <td>3180.0</td>\n",
       "      <td>NaN</td>\n",
       "      <td>189.10</td>\n",
       "      <td>445</td>\n",
       "      <td>https://image.aladin.co.kr/product/21831/77/co...</td>\n",
       "      <td>['자존감', '사람', '자기', '감정', '가짜', '관계', '시그니처', ...</td>\n",
       "      <td>우리는 어쩌다 자존감의 시대를 살게 되었을까? 원래 자존감이라는 게 이렇게 만들어지...</td>\n",
       "    </tr>\n",
       "    <tr>\n",
       "      <th>886</th>\n",
       "      <td>998</td>\n",
       "      <td>998</td>\n",
       "      <td>김미경의 인생미답 :살다 보면 누구나 마주하는 작고 소소한 질문들</td>\n",
       "      <td>김미경 지음</td>\n",
       "      <td>한경BP</td>\n",
       "      <td>2016.0</td>\n",
       "      <td>9788947540926</td>\n",
       "      <td>3320.0</td>\n",
       "      <td>NaN</td>\n",
       "      <td>199.10</td>\n",
       "      <td>444</td>\n",
       "      <td>http://image.aladin.co.kr/product/8193/51/cove...</td>\n",
       "      <td>['김미경', '자신', '문제', '인생', '사랑', '소소', '질문', '김...</td>\n",
       "      <td>스타 강사 김미경은 오랫동안 데리고 살아온 고민과 나름의 생각을 모두와 공유하고 싶...</td>\n",
       "    </tr>\n",
       "    <tr>\n",
       "      <th>887</th>\n",
       "      <td>999</td>\n",
       "      <td>998</td>\n",
       "      <td>모월모일 :박연준 산문집</td>\n",
       "      <td>지은이: 박연준</td>\n",
       "      <td>문학동네</td>\n",
       "      <td>2020.0</td>\n",
       "      <td>9788954670920</td>\n",
       "      <td>3810.0</td>\n",
       "      <td>NaN</td>\n",
       "      <td>814.70</td>\n",
       "      <td>444</td>\n",
       "      <td>https://image.aladin.co.kr/product/23529/3/cov...</td>\n",
       "      <td>['평범', '박연준', '모월모일', '시인', '특별', '고양이', '산문집'...</td>\n",
       "      <td>눈에 보이지도, 손에 잡히지도 않는 바이러스와의 전쟁으로 일상이 한순간에 달라졌다....</td>\n",
       "    </tr>\n",
       "  </tbody>\n",
       "</table>\n",
       "<p>888 rows × 14 columns</p>\n",
       "</div>"
      ],
      "text/plain": [
       "      no  ranking                                     bookname  \\\n",
       "0    116      116                 존리의 부자되기 습관 :대한민국 경제독립 액션 플랜   \n",
       "1    469      469                           당신이 옳다 :정혜신의 적정심리학   \n",
       "2    648      648                남아 있는 시간을 위하여:100세 철학자의 대표산문선   \n",
       "3    663      660                                        인생 우화   \n",
       "4    699      698                                        인생 수업   \n",
       "..   ...      ...                                          ...   \n",
       "883  995      990                      수도권 알짜 부동산 답사기 :알짜 노하우    \n",
       "884  996      990                                      사라진 세계    \n",
       "885  997      990  나를 아프게 하지 않는다 :상처만 주는 가짜 자존감 나를 지키는 진짜 자존감    \n",
       "886  998      998        김미경의 인생미답 :살다 보면 누구나 마주하는 작고 소소한 질문들    \n",
       "887  999      998                               모월모일 :박연준 산문집    \n",
       "\n",
       "                 authors publisher  publication_year         isbn13  \\\n",
       "0                  존리 지음     지식노마드            2020.0  9791187481720   \n",
       "1                    정혜신       NaN               NaN  9788965746669   \n",
       "2                    김형석       NaN               NaN  9788934980629   \n",
       "3                    류시화       NaN               NaN  9791186686348   \n",
       "4    엘리자베스 퀴블러 로스,류시화 옮김        이레            2006.0  9788957090817   \n",
       "..                   ...       ...               ...            ...   \n",
       "883               김학렬 지음       지혜로            2019.0  9791187799108   \n",
       "884   톰 스웨터리치 지음 ;장호연 옮김        허블            2020.0  9791190090070   \n",
       "885               전미경 지음       지와인            2019.0  9791196533472   \n",
       "886               김미경 지음      한경BP            2016.0  9788947540926   \n",
       "887             지은이: 박연준      문학동네            2020.0  9788954670920   \n",
       "\n",
       "     addition_symbol  vol  class_no  loan_count  \\\n",
       "0            13320.0  NaN    327.04        1371   \n",
       "1                NaN  NaN    189.00         684   \n",
       "2                NaN  NaN    104.00         565   \n",
       "3                NaN  NaN    813.80         556   \n",
       "4             3840.0  NaN    199.10         535   \n",
       "..               ...  ...       ...         ...   \n",
       "883          13320.0  NaN    327.87         445   \n",
       "884           3840.0  NaN    843.60         445   \n",
       "885           3180.0  NaN    189.10         445   \n",
       "886           3320.0  NaN    199.10         444   \n",
       "887           3810.0  NaN    814.70         444   \n",
       "\n",
       "                                          bookImageURL  \\\n",
       "0    https://image.aladin.co.kr/product/22631/95/co...   \n",
       "1    http://image.kyobobook.co.kr/images/book/large...   \n",
       "2    http://image.kyobobook.co.kr/images/book/large...   \n",
       "3    http://image.kyobobook.co.kr/images/book/large...   \n",
       "4    https://bookthumb-phinf.pstatic.net/cover/024/...   \n",
       "..                                                 ...   \n",
       "883  https://image.aladin.co.kr/product/19916/14/co...   \n",
       "884  https://image.aladin.co.kr/product/23332/89/co...   \n",
       "885  https://image.aladin.co.kr/product/21831/77/co...   \n",
       "886  http://image.aladin.co.kr/product/8193/51/cove...   \n",
       "887  https://image.aladin.co.kr/product/23529/3/cov...   \n",
       "\n",
       "                                               keyword  \\\n",
       "0    ['펀드', '경제독립', '투자', '금융문맹', '부자', '시작', '한국',...   \n",
       "1             ['공감', '심리', '치유', '심리치유', '콤플렉스', '내공']   \n",
       "2                                                  NaN   \n",
       "3                                                  NaN   \n",
       "4    ['자신', '마지막', '바쇼하이쿠선집', '삶으로다시떠오르기', '사랑하라한번도...   \n",
       "..                                                 ...   \n",
       "883  ['서울', '레시피', '동네', '부동산', '지역분석', '인천', '지역',...   \n",
       "884                                                NaN   \n",
       "885  ['자존감', '사람', '자기', '감정', '가짜', '관계', '시그니처', ...   \n",
       "886  ['김미경', '자신', '문제', '인생', '사랑', '소소', '질문', '김...   \n",
       "887  ['평범', '박연준', '모월모일', '시인', '특별', '고양이', '산문집'...   \n",
       "\n",
       "                                              describe  \n",
       "0    돈을 위해 일하지 말고 돈이 당신을 위해 일하게 하라!!\\n열심히 일하는데 왜 돈에...  \n",
       "1    안정적인 일상을 위해 스스로 마음의 문제를 해결할 수 있도록 도와주는 공감 행동지침...  \n",
       "2    인생의 마지막에 가까워질수록 더욱 간절해지는 선하고 아름다운 삶을 향한 고민의 소산...  \n",
       "3    우리 안의 바보는 어떤 엉뚱한 방식으로 문제를 해결하며 살아갈까?\\n류시화 시인이 ...  \n",
       "4    배움을 얻는다는 것은 다른 사람이 아닌 자기 자신의 인생을 사는 것을 의미합니다. ...  \n",
       "..                                                 ...  \n",
       "883  대한민국 역사상 가장 강력한 부동산 규제정책이 펼쳐지고 있다. 내 집 마련을 해야 ...  \n",
       "884  허리우드가 주목하는, 특히, 아카데미 후보작 《디스트릭트9》으로 세계적인 명성을 쌓...  \n",
       "885  우리는 어쩌다 자존감의 시대를 살게 되었을까? 원래 자존감이라는 게 이렇게 만들어지...  \n",
       "886  스타 강사 김미경은 오랫동안 데리고 살아온 고민과 나름의 생각을 모두와 공유하고 싶...  \n",
       "887  눈에 보이지도, 손에 잡히지도 않는 바이러스와의 전쟁으로 일상이 한순간에 달라졌다....  \n",
       "\n",
       "[888 rows x 14 columns]"
      ]
     },
     "execution_count": 104,
     "metadata": {},
     "output_type": "execute_result"
    }
   ],
   "source": [
    "adult_final_df"
   ]
  },
  {
   "cell_type": "code",
   "execution_count": 105,
   "metadata": {},
   "outputs": [
    {
     "name": "stdout",
     "output_type": "stream",
     "text": [
      "<class 'pandas.core.frame.DataFrame'>\n",
      "RangeIndex: 888 entries, 0 to 887\n",
      "Data columns (total 14 columns):\n",
      " #   Column            Non-Null Count  Dtype  \n",
      "---  ------            --------------  -----  \n",
      " 0   no                888 non-null    int64  \n",
      " 1   ranking           888 non-null    int64  \n",
      " 2   bookname          888 non-null    object \n",
      " 3   authors           888 non-null    object \n",
      " 4   publisher         883 non-null    object \n",
      " 5   publication_year  875 non-null    float64\n",
      " 6   isbn13            888 non-null    int64  \n",
      " 7   addition_symbol   872 non-null    float64\n",
      " 8   vol               84 non-null     float64\n",
      " 9   class_no          876 non-null    float64\n",
      " 10  loan_count        888 non-null    int64  \n",
      " 11  bookImageURL      888 non-null    object \n",
      " 12  keyword           842 non-null    object \n",
      " 13  describe          888 non-null    object \n",
      "dtypes: float64(4), int64(4), object(6)\n",
      "memory usage: 97.2+ KB\n"
     ]
    }
   ],
   "source": [
    "adult_final_df.info()"
   ]
  },
  {
   "cell_type": "code",
   "execution_count": 106,
   "metadata": {},
   "outputs": [],
   "source": [
    "# 블용어 txt파일 리스트 가져오기\n",
    "sw=pd.read_csv('./data/final/한국어불용어100.txt', sep = \"\\t\",  engine='python', encoding = \"utf-8\",header=None)"
   ]
  },
  {
   "cell_type": "code",
   "execution_count": 107,
   "metadata": {},
   "outputs": [],
   "source": [
    "stop_words=list(sw[0].dropna())"
   ]
  },
  {
   "cell_type": "code",
   "execution_count": 108,
   "metadata": {},
   "outputs": [],
   "source": [
    "tf = TfidfVectorizer(analyzer='word', ngram_range=(1, 2), min_df=0, stop_words=stop_words)\n",
    "tfidf_matrix = tf.fit_transform(adult_final_df['describe'])"
   ]
  },
  {
   "cell_type": "code",
   "execution_count": 109,
   "metadata": {},
   "outputs": [
    {
     "data": {
      "text/plain": [
       "(888, 152001)"
      ]
     },
     "execution_count": 109,
     "metadata": {},
     "output_type": "execute_result"
    }
   ],
   "source": [
    "tfidf_matrix.shape"
   ]
  },
  {
   "cell_type": "code",
   "execution_count": 110,
   "metadata": {},
   "outputs": [],
   "source": [
    "# linear_kernel는 두 벡터의 dot product 이다.\n",
    "cosine_sim = linear_kernel(tfidf_matrix, tfidf_matrix)"
   ]
  },
  {
   "cell_type": "code",
   "execution_count": 111,
   "metadata": {},
   "outputs": [
    {
     "data": {
      "text/plain": [
       "array([[1.        , 0.01900273, 0.01129969, ..., 0.00958737, 0.001026  ,\n",
       "        0.0017967 ],\n",
       "       [0.01900273, 1.        , 0.02005707, ..., 0.02334484, 0.01152541,\n",
       "        0.01091262],\n",
       "       [0.01129969, 0.02005707, 1.        , ..., 0.00772229, 0.00381778,\n",
       "        0.00446295],\n",
       "       ...,\n",
       "       [0.00958737, 0.02334484, 0.00772229, ..., 1.        , 0.00306536,\n",
       "        0.00486766],\n",
       "       [0.001026  , 0.01152541, 0.00381778, ..., 0.00306536, 1.        ,\n",
       "        0.00330135],\n",
       "       [0.0017967 , 0.01091262, 0.00446295, ..., 0.00486766, 0.00330135,\n",
       "        1.        ]])"
      ]
     },
     "execution_count": 111,
     "metadata": {},
     "output_type": "execute_result"
    }
   ],
   "source": [
    "cosine_sim"
   ]
  },
  {
   "cell_type": "code",
   "execution_count": 112,
   "metadata": {},
   "outputs": [
    {
     "name": "stdout",
     "output_type": "stream",
     "text": [
      "0     존리의 부자되기 습관 :대한민국 경제독립 액션 플랜\n",
      "1               당신이 옳다 :정혜신의 적정심리학\n",
      "2    남아 있는 시간을 위하여:100세 철학자의 대표산문선\n",
      "3                            인생 우화\n",
      "4                            인생 수업\n",
      "Name: bookname, dtype: object bookname\n",
      "존리의 부자되기 습관 :대한민국 경제독립 액션 플랜     0\n",
      "당신이 옳다 :정혜신의 적정심리학               1\n",
      "남아 있는 시간을 위하여:100세 철학자의 대표산문선    2\n",
      "인생 우화                            3\n",
      "인생 수업                            4\n",
      "dtype: int64\n"
     ]
    }
   ],
   "source": [
    "titles = adult_final_df['bookname']\n",
    "indices = pd.Series(adult_final_df.index, index=adult_final_df['bookname'])\n",
    "\n",
    "print(titles.head(), indices.head())"
   ]
  },
  {
   "cell_type": "code",
   "execution_count": 113,
   "metadata": {},
   "outputs": [],
   "source": [
    "def get_recommendations(title):\n",
    "    idx = indices[title]\n",
    "    sim_scores = list(enumerate(cosine_sim[idx]))\n",
    "    sim_scores = sorted(sim_scores, key=lambda x: x[1], reverse=True)\n",
    "    sim_scores = sim_scores[1:31]\n",
    "    movie_indices = [i[0] for i in sim_scores]\n",
    "    return titles.iloc[movie_indices]"
   ]
  },
  {
   "cell_type": "code",
   "execution_count": 114,
   "metadata": {},
   "outputs": [
    {
     "data": {
      "text/plain": [
       "433    진짜 부자 가짜 부자 =사경인 회계사의 부자 되는 돈 공부 /Real rich po...\n",
       "532             백만장자 시크릿 :부를 끌어당기는 17가지 원칙을 알려주는 부자 매뉴얼 \n",
       "287                          부자언니 부자특강 :평범한 월급쟁이 부자되는 공식\n",
       "629                     부자 아빠 가난한 아빠:부자들이 들려주는 돈과 투자의 비밀\n",
       "391    부자 되는 법을 가르쳐 드립니다 :죄책감도, 핑계도, 거짓도 없다. 정말로 효과 있...\n",
       "Name: bookname, dtype: object"
      ]
     },
     "execution_count": 114,
     "metadata": {},
     "output_type": "execute_result"
    }
   ],
   "source": [
    "get_recommendations('존리의 부자되기 습관 :대한민국 경제독립 액션 플랜').head(5)"
   ]
  },
  {
   "cell_type": "code",
   "execution_count": 116,
   "metadata": {},
   "outputs": [
    {
     "data": {
      "text/plain": [
       "548                      다락방 미술관 :그림 속 숨어있는 이야기 \n",
       "838                       (난생 처음 한번 공부하는) 미술 이야기\n",
       "624    모든 관계는 말투에서 시작된다 :기분 좋은 사람으로 기억되는 사소한 습관 \n",
       "681            미술관에 간 심리학 :나는 심리학을 공부하러 미술관에 간다 \n",
       "85         내가 원하는 것을 나도 모를 때 :잃어버린 나를 찾는 인생의 문장들\n",
       "Name: bookname, dtype: object"
      ]
     },
     "execution_count": 116,
     "metadata": {},
     "output_type": "execute_result"
    }
   ],
   "source": [
    "get_recommendations('방구석 미술관 :가볍고 편하게 시작하는 유쾌한 교양 미술').head(5)"
   ]
  },
  {
   "cell_type": "code",
   "execution_count": 98,
   "metadata": {},
   "outputs": [
    {
     "data": {
      "text/plain": [
       "'나는 죽을 때까지 재미있게 살고 싶다'"
      ]
     },
     "execution_count": 98,
     "metadata": {},
     "output_type": "execute_result"
    }
   ],
   "source": [
    "adult_final_df['bookname'][11]"
   ]
  },
  {
   "cell_type": "code",
   "execution_count": 117,
   "metadata": {},
   "outputs": [
    {
     "data": {
      "text/plain": [
       "702    나이든 나와 살아가는 법 :흔들리지 않고 의연하게 나이 들 수 있는 후반생의 마음 사전 \n",
       "427                           인생 수업 :잘 물든 단풍은 봄꽃보다 아름답다 \n",
       "314               나는 내 나이가 참 좋다 :우아하고 지혜롭게 세월의 강을 항해하는 법\n",
       "289                       (어차피 살 거라면) 백 살까지 유쾌하게 나이 드는 법\n",
       "504          50 이후, 인생을 결정하는 열 가지 힘 - 하버드 심리학 거장의 마지막 강의\n",
       "Name: bookname, dtype: object"
      ]
     },
     "execution_count": 117,
     "metadata": {},
     "output_type": "execute_result"
    }
   ],
   "source": [
    "get_recommendations('나는 죽을 때까지 재미있게 살고 싶다').head(5)"
   ]
  },
  {
   "cell_type": "code",
   "execution_count": 118,
   "metadata": {},
   "outputs": [
    {
     "data": {
      "text/plain": [
       "312                      나는 습관을 조금 바꾸기로 했다\n",
       "236     해빗 =내 안의 충동을 이겨내는 습관 설계의 법칙 /Habit\n",
       "499     백년운동 :척추·관절 아프지 않게 100세까지 운동하는 방법 \n",
       "227    떨림과 울림 :물리학자 김상욱이 바라본 우주와 세계 그리고 우리\n",
       "402           부자언니 부자연습 :가난한 공주 부자되기 프로젝트 \n",
       "Name: bookname, dtype: object"
      ]
     },
     "execution_count": 118,
     "metadata": {},
     "output_type": "execute_result"
    }
   ],
   "source": [
    "get_recommendations('아주 작은 습관의 힘 :최고의 변화는 어떻게 만들어지는가').head(5)"
   ]
  }
 ],
 "metadata": {
  "kernelspec": {
   "display_name": "Python 3",
   "language": "python",
   "name": "python3"
  },
  "language_info": {
   "codemirror_mode": {
    "name": "ipython",
    "version": 3
   },
   "file_extension": ".py",
   "mimetype": "text/x-python",
   "name": "python",
   "nbconvert_exporter": "python",
   "pygments_lexer": "ipython3",
   "version": "3.6.12"
  }
 },
 "nbformat": 4,
 "nbformat_minor": 4
}
