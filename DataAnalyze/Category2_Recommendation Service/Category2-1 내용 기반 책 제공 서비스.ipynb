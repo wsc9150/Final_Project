{
 "cells": [
  {
   "cell_type": "markdown",
   "metadata": {},
   "source": [
    "# 콘텐츠, 인기도 기반 책 제공 서비스"
   ]
  },
  {
   "cell_type": "code",
   "execution_count": 1,
   "metadata": {},
   "outputs": [],
   "source": [
    "import json\n",
    "import pandas as pd\n",
    "import numpy as np\n",
    "\n",
    "import requests\n",
    "\n",
    "from tqdm import tqdm_notebook"
   ]
  },
  {
   "cell_type": "code",
   "execution_count": 2,
   "metadata": {},
   "outputs": [],
   "source": [
    "%matplotlib inline\n",
    "\n",
    "import pandas as pd\n",
    "import numpy as np\n",
    "import matplotlib.pyplot as plt\n",
    "import seaborn as sns\n",
    "from scipy import stats\n",
    "from ast import literal_eval\n",
    "from sklearn.feature_extraction.text import TfidfVectorizer, CountVectorizer\n",
    "from sklearn.metrics.pairwise import linear_kernel, cosine_similarity\n",
    "from nltk.stem.snowball import SnowballStemmer\n",
    "from nltk.stem.wordnet import WordNetLemmatizer\n",
    "from nltk.corpus import wordnet\n",
    "# import SVD\n",
    "# import accuracy\n",
    "\n",
    "import warnings; warnings.simplefilter('ignore')"
   ]
  },
  {
   "cell_type": "code",
   "execution_count": 3,
   "metadata": {},
   "outputs": [],
   "source": [
    "from newspaper import Article\n",
    "from konlpy.tag import Kkma\n",
    "from konlpy.tag import Twitter\n",
    "from sklearn.feature_extraction.text import TfidfVectorizer\n",
    "from sklearn.feature_extraction.text import CountVectorizer\n",
    "from sklearn.preprocessing import normalize\n",
    "import numpy as np"
   ]
  },
  {
   "cell_type": "markdown",
   "metadata": {},
   "source": [
    "# A. 성인들이 읽는 책을 책소개를 통해 비슷한 책 추천해주기"
   ]
  },
  {
   "cell_type": "markdown",
   "metadata": {},
   "source": [
    "## 1) 도서관 데이터의 책 소개 크롤링으로 가져오기"
   ]
  },
  {
   "cell_type": "markdown",
   "metadata": {},
   "source": [
    "- 교보문고 사이트를 활용"
   ]
  },
  {
   "cell_type": "code",
   "execution_count": 16,
   "metadata": {},
   "outputs": [],
   "source": [
    "# 데이터 불러오기\n",
    "adult_final_df=pd.read_excel('./data/final/content_re/adult_final_df.xlsx')"
   ]
  },
  {
   "cell_type": "code",
   "execution_count": 17,
   "metadata": {},
   "outputs": [
    {
     "data": {
      "text/plain": [
       "995"
      ]
     },
     "execution_count": 17,
     "metadata": {},
     "output_type": "execute_result"
    }
   ],
   "source": [
    "len(adult_result)"
   ]
  },
  {
   "cell_type": "code",
   "execution_count": 9,
   "metadata": {},
   "outputs": [],
   "source": [
    "# 크롤링\n",
    "from urllib.request import urlopen\n",
    "from bs4 import BeautifulSoup\n",
    "from urllib.error import HTTPError\n",
    "from urllib.error import URLError"
   ]
  },
  {
   "cell_type": "code",
   "execution_count": 10,
   "metadata": {},
   "outputs": [],
   "source": [
    "# 오픈을 할때 예외처리를 통해 만약 오류가 생기면 원인을 알수 있게 함수 있음\n",
    "try :\n",
    "    html = urlopen('https://pythondojang.bitbucket.io/weather/observation/currentweather.html')\n",
    "except HTTPError as he :\n",
    "    print('http error')\n",
    "except URLError as ue :\n",
    "    print('url error')\n",
    "else :\n",
    "    soup = BeautifulSoup(html.read(), 'html.parser')"
   ]
  },
  {
   "cell_type": "code",
   "execution_count": null,
   "metadata": {},
   "outputs": [],
   "source": [
    "from selenium import webdriver\n",
    "from bs4 import BeautifulSoup\n",
    "import requests\n",
    "from tqdm import tqdm_notebook\n",
    "from bs4 import BeautifulSoup\n",
    "import time"
   ]
  },
  {
   "cell_type": "code",
   "execution_count": null,
   "metadata": {},
   "outputs": [],
   "source": [
    "# isbn 리스트 생성\n",
    "adult_isbn_list = list(adult_result['isbn13'].astype(str))"
   ]
  },
  {
   "cell_type": "code",
   "execution_count": null,
   "metadata": {},
   "outputs": [],
   "source": [
    "# 자동화 웹 페이지 열기\n",
    "path = './driver/chromedriver.exe'\n",
    "driver = webdriver.Chrome(path)\n",
    "driver"
   ]
  },
  {
   "cell_type": "code",
   "execution_count": null,
   "metadata": {},
   "outputs": [],
   "source": [
    "isbn_url = 'http://www.kyobobook.co.kr/product/detailViewKor.laf?ejkGb=KOR&mallGb=KOR&barcode='\n",
    "rest_url = '&orderClick=LAG&Kc='"
   ]
  },
  {
   "cell_type": "code",
   "execution_count": null,
   "metadata": {},
   "outputs": [],
   "source": [
    "intro = []\n",
    "\n",
    "for i in tqdm_notebook(range(len(adult_isbn_list))) :\n",
    "    url = isbn_url + str(adult_isbn_list[i]) + rest_url\n",
    "    driver.get(url)\n",
    "    \n",
    "    a_list = driver.find_elements_by_css_selector('div.box_detail_article')\n",
    "    time.sleep(1.5)\n",
    "    a_list = driver.find_elements_by_css_selector('div.box_detail_article')\n",
    "    \n",
    "    if len(a_list) > 0 :\n",
    "        intro.append(a_list[0].text)\n",
    "    else :\n",
    "        intro.append('')\n",
    "        continue"
   ]
  },
  {
   "cell_type": "code",
   "execution_count": 12,
   "metadata": {},
   "outputs": [],
   "source": [
    "adult_final_df=adult_result"
   ]
  },
  {
   "cell_type": "code",
   "execution_count": null,
   "metadata": {},
   "outputs": [],
   "source": [
    "adult_final_df['describe']=intro"
   ]
  },
  {
   "cell_type": "code",
   "execution_count": 18,
   "metadata": {},
   "outputs": [
    {
     "data": {
      "text/html": [
       "<div>\n",
       "<style scoped>\n",
       "    .dataframe tbody tr th:only-of-type {\n",
       "        vertical-align: middle;\n",
       "    }\n",
       "\n",
       "    .dataframe tbody tr th {\n",
       "        vertical-align: top;\n",
       "    }\n",
       "\n",
       "    .dataframe thead th {\n",
       "        text-align: right;\n",
       "    }\n",
       "</style>\n",
       "<table border=\"1\" class=\"dataframe\">\n",
       "  <thead>\n",
       "    <tr style=\"text-align: right;\">\n",
       "      <th></th>\n",
       "      <th>no</th>\n",
       "      <th>ranking</th>\n",
       "      <th>bookname</th>\n",
       "      <th>authors</th>\n",
       "      <th>publisher</th>\n",
       "      <th>publication_year</th>\n",
       "      <th>isbn13</th>\n",
       "      <th>addition_symbol</th>\n",
       "      <th>vol</th>\n",
       "      <th>class_no</th>\n",
       "      <th>loan_count</th>\n",
       "      <th>bookImageURL</th>\n",
       "      <th>keyword</th>\n",
       "      <th>describe</th>\n",
       "    </tr>\n",
       "  </thead>\n",
       "  <tbody>\n",
       "    <tr>\n",
       "      <th>0</th>\n",
       "      <td>116</td>\n",
       "      <td>116</td>\n",
       "      <td>존리의 부자되기 습관 :대한민국 경제독립 액션 플랜</td>\n",
       "      <td>존리 지음</td>\n",
       "      <td>지식노마드</td>\n",
       "      <td>2020.0</td>\n",
       "      <td>9791187481720</td>\n",
       "      <td>13320.0</td>\n",
       "      <td>NaN</td>\n",
       "      <td>327.04</td>\n",
       "      <td>1371</td>\n",
       "      <td>https://image.aladin.co.kr/product/22631/95/co...</td>\n",
       "      <td>['펀드', '경제독립', '투자', '금융문맹', '부자', '시작', '한국',...</td>\n",
       "      <td>돈을 위해 일하지 말고 돈이 당신을 위해 일하게 하라!!\\n열심히 일하는데 왜 돈에...</td>\n",
       "    </tr>\n",
       "    <tr>\n",
       "      <th>1</th>\n",
       "      <td>469</td>\n",
       "      <td>469</td>\n",
       "      <td>당신이 옳다 :정혜신의 적정심리학</td>\n",
       "      <td>정혜신</td>\n",
       "      <td>NaN</td>\n",
       "      <td>NaN</td>\n",
       "      <td>9788965746669</td>\n",
       "      <td>NaN</td>\n",
       "      <td>NaN</td>\n",
       "      <td>189.00</td>\n",
       "      <td>684</td>\n",
       "      <td>http://image.kyobobook.co.kr/images/book/large...</td>\n",
       "      <td>['공감', '심리', '치유', '심리치유', '콤플렉스', '내공']</td>\n",
       "      <td>안정적인 일상을 위해 스스로 마음의 문제를 해결할 수 있도록 도와주는 공감 행동지침...</td>\n",
       "    </tr>\n",
       "    <tr>\n",
       "      <th>2</th>\n",
       "      <td>648</td>\n",
       "      <td>648</td>\n",
       "      <td>남아 있는 시간을 위하여:100세 철학자의 대표산문선</td>\n",
       "      <td>김형석</td>\n",
       "      <td>NaN</td>\n",
       "      <td>NaN</td>\n",
       "      <td>9788934980629</td>\n",
       "      <td>NaN</td>\n",
       "      <td>NaN</td>\n",
       "      <td>104.00</td>\n",
       "      <td>565</td>\n",
       "      <td>http://image.kyobobook.co.kr/images/book/large...</td>\n",
       "      <td>NaN</td>\n",
       "      <td>인생의 마지막에 가까워질수록 더욱 간절해지는 선하고 아름다운 삶을 향한 고민의 소산...</td>\n",
       "    </tr>\n",
       "  </tbody>\n",
       "</table>\n",
       "</div>"
      ],
      "text/plain": [
       "    no  ranking                       bookname authors publisher  \\\n",
       "0  116      116  존리의 부자되기 습관 :대한민국 경제독립 액션 플랜    존리 지음     지식노마드   \n",
       "1  469      469             당신이 옳다 :정혜신의 적정심리학     정혜신       NaN   \n",
       "2  648      648  남아 있는 시간을 위하여:100세 철학자의 대표산문선     김형석       NaN   \n",
       "\n",
       "   publication_year         isbn13  addition_symbol  vol  class_no  \\\n",
       "0            2020.0  9791187481720          13320.0  NaN    327.04   \n",
       "1               NaN  9788965746669              NaN  NaN    189.00   \n",
       "2               NaN  9788934980629              NaN  NaN    104.00   \n",
       "\n",
       "   loan_count                                       bookImageURL  \\\n",
       "0        1371  https://image.aladin.co.kr/product/22631/95/co...   \n",
       "1         684  http://image.kyobobook.co.kr/images/book/large...   \n",
       "2         565  http://image.kyobobook.co.kr/images/book/large...   \n",
       "\n",
       "                                             keyword  \\\n",
       "0  ['펀드', '경제독립', '투자', '금융문맹', '부자', '시작', '한국',...   \n",
       "1           ['공감', '심리', '치유', '심리치유', '콤플렉스', '내공']   \n",
       "2                                                NaN   \n",
       "\n",
       "                                            describe  \n",
       "0  돈을 위해 일하지 말고 돈이 당신을 위해 일하게 하라!!\\n열심히 일하는데 왜 돈에...  \n",
       "1  안정적인 일상을 위해 스스로 마음의 문제를 해결할 수 있도록 도와주는 공감 행동지침...  \n",
       "2  인생의 마지막에 가까워질수록 더욱 간절해지는 선하고 아름다운 삶을 향한 고민의 소산...  "
      ]
     },
     "execution_count": 18,
     "metadata": {},
     "output_type": "execute_result"
    }
   ],
   "source": [
    "adult_final_df.head(3)"
   ]
  },
  {
   "cell_type": "code",
   "execution_count": 19,
   "metadata": {},
   "outputs": [
    {
     "name": "stdout",
     "output_type": "stream",
     "text": [
      "<class 'pandas.core.frame.DataFrame'>\n",
      "RangeIndex: 888 entries, 0 to 887\n",
      "Data columns (total 14 columns):\n",
      " #   Column            Non-Null Count  Dtype  \n",
      "---  ------            --------------  -----  \n",
      " 0   no                888 non-null    int64  \n",
      " 1   ranking           888 non-null    int64  \n",
      " 2   bookname          888 non-null    object \n",
      " 3   authors           888 non-null    object \n",
      " 4   publisher         883 non-null    object \n",
      " 5   publication_year  875 non-null    float64\n",
      " 6   isbn13            888 non-null    int64  \n",
      " 7   addition_symbol   872 non-null    float64\n",
      " 8   vol               84 non-null     float64\n",
      " 9   class_no          876 non-null    float64\n",
      " 10  loan_count        888 non-null    int64  \n",
      " 11  bookImageURL      888 non-null    object \n",
      " 12  keyword           842 non-null    object \n",
      " 13  describe          888 non-null    object \n",
      "dtypes: float64(4), int64(4), object(6)\n",
      "memory usage: 97.2+ KB\n"
     ]
    }
   ],
   "source": [
    "adult_final_df.info()"
   ]
  },
  {
   "cell_type": "code",
   "execution_count": 20,
   "metadata": {},
   "outputs": [],
   "source": [
    "# 책소개가 없는 데이터지우기\n",
    "adult_final_df=adult_final_df[pd.notnull(adult_final_df['describe'])]"
   ]
  },
  {
   "cell_type": "code",
   "execution_count": 21,
   "metadata": {},
   "outputs": [],
   "source": [
    "# 인덱스 정리\n",
    "adult_final_df.reset_index(drop=True,inplace=True)"
   ]
  },
  {
   "cell_type": "code",
   "execution_count": 22,
   "metadata": {},
   "outputs": [
    {
     "data": {
      "text/plain": [
       "'인생 수업'"
      ]
     },
     "execution_count": 22,
     "metadata": {},
     "output_type": "execute_result"
    }
   ],
   "source": [
    "adult_final_df['bookname'][4]"
   ]
  },
  {
   "cell_type": "markdown",
   "metadata": {},
   "source": [
    "## 2) 책 소개를 형용사 + 명사 데이터로 바꾸기"
   ]
  },
  {
   "cell_type": "code",
   "execution_count": 25,
   "metadata": {},
   "outputs": [],
   "source": [
    "book_intro=[]\n",
    "for i in range(len(adult_final_df)):\n",
    "    sentences_tag = []\n",
    "    lines=adult_final_df['describe'][i].replace('\\n',' ').split('.')\n",
    "    twitter = Twitter()\n",
    "    for sentence in lines:\n",
    "        morph = twitter.pos(sentence)\n",
    "        sentences_tag.append(morph)\n",
    "    noun_adj_list = []\n",
    "    for sentence1 in sentences_tag:\n",
    "        for word, tag in sentence1:\n",
    "            if tag in ['Noun','Adjective']:\n",
    "                noun_adj_list.append(word)\n",
    "    book_intro.append(noun_adj_list)"
   ]
  },
  {
   "cell_type": "code",
   "execution_count": 26,
   "metadata": {},
   "outputs": [
    {
     "data": {
      "text/plain": [
       "888"
      ]
     },
     "execution_count": 26,
     "metadata": {},
     "output_type": "execute_result"
    }
   ],
   "source": [
    "len(book_intro)"
   ]
  },
  {
   "cell_type": "code",
   "execution_count": 27,
   "metadata": {},
   "outputs": [],
   "source": [
    "adult_final_df['book_intro']=book_intro"
   ]
  },
  {
   "cell_type": "code",
   "execution_count": 28,
   "metadata": {},
   "outputs": [],
   "source": [
    "intro=[]\n",
    "for i in range(len(adult_final_df)):\n",
    "    s=' '.join(adult_final_df['book_intro'][i])\n",
    "    intro.append(s)"
   ]
  },
  {
   "cell_type": "code",
   "execution_count": 29,
   "metadata": {},
   "outputs": [],
   "source": [
    "adult_final_df['intro']=intro"
   ]
  },
  {
   "cell_type": "code",
   "execution_count": 30,
   "metadata": {},
   "outputs": [
    {
     "data": {
      "text/plain": [
       "0    돈을 위해 일하지 말고 돈이 당신을 위해 일하게 하라!!\\n열심히 일하는데 왜 돈에...\n",
       "1    안정적인 일상을 위해 스스로 마음의 문제를 해결할 수 있도록 도와주는 공감 행동지침...\n",
       "2    인생의 마지막에 가까워질수록 더욱 간절해지는 선하고 아름다운 삶을 향한 고민의 소산...\n",
       "Name: describe, dtype: object"
      ]
     },
     "execution_count": 30,
     "metadata": {},
     "output_type": "execute_result"
    }
   ],
   "source": [
    "adult_final_df['describe'].head(3)"
   ]
  },
  {
   "cell_type": "code",
   "execution_count": 31,
   "metadata": {},
   "outputs": [
    {
     "data": {
      "text/plain": [
       "0    돈 위해 일 돈 당신 위해 일 하라 일 왜 돈 삶 살 있는가 한국인 세계 나라 머리...\n",
       "1    안정 일상 위해 스스로 마음 문제 해결 수 있도록 공감 행동지침 여 년 정신과 의사...\n",
       "2    인생 마지막 더욱 간절해지는 선하고 아름다운 삶 향 고민 소산 고독 병 영원 사랑 ...\n",
       "Name: intro, dtype: object"
      ]
     },
     "execution_count": 31,
     "metadata": {},
     "output_type": "execute_result"
    }
   ],
   "source": [
    "adult_final_df['intro'].head(3)"
   ]
  },
  {
   "cell_type": "markdown",
   "metadata": {},
   "source": [
    "## 3) TF-IDF "
   ]
  },
  {
   "cell_type": "code",
   "execution_count": 32,
   "metadata": {},
   "outputs": [],
   "source": [
    "# 블용어 txt파일 리스트 가져오기\n",
    "sw=pd.read_csv('./data/final/한국어불용어100.txt', sep = \"\\t\",  engine='python', encoding = \"utf-8\",header=None)"
   ]
  },
  {
   "cell_type": "code",
   "execution_count": 33,
   "metadata": {},
   "outputs": [],
   "source": [
    "stop_words=list(sw[0].dropna())"
   ]
  },
  {
   "cell_type": "code",
   "execution_count": 34,
   "metadata": {},
   "outputs": [],
   "source": [
    "tf = TfidfVectorizer(analyzer='word', ngram_range=(1, 2), min_df=1, stop_words=stop_words)\n",
    "tfidf_matrix = tf.fit_transform(adult_final_df['intro'])"
   ]
  },
  {
   "cell_type": "code",
   "execution_count": 35,
   "metadata": {},
   "outputs": [],
   "source": [
    "cosine_sim = linear_kernel(tfidf_matrix, tfidf_matrix)"
   ]
  },
  {
   "cell_type": "code",
   "execution_count": 36,
   "metadata": {},
   "outputs": [],
   "source": [
    "titles = adult_final_df['bookname']\n",
    "indices = pd.Series(adult_final_df.index, index=adult_final_df['bookname'])"
   ]
  },
  {
   "cell_type": "code",
   "execution_count": 37,
   "metadata": {},
   "outputs": [],
   "source": [
    "def get_recommendations(title):\n",
    "    idx = indices[title]\n",
    "    sim_scores = list(enumerate(cosine_sim[idx]))\n",
    "    sim_scores = sorted(sim_scores, key=lambda x: x[1], reverse=True)\n",
    "    sim_scores = sim_scores[1:31]\n",
    "    movie_indices = [i[0] for i in sim_scores]\n",
    "    return titles.iloc[movie_indices]"
   ]
  },
  {
   "cell_type": "code",
   "execution_count": 38,
   "metadata": {},
   "outputs": [
    {
     "data": {
      "text/plain": [
       "702    나이든 나와 살아가는 법 :흔들리지 않고 의연하게 나이 들 수 있는 후반생의 마음 사전 \n",
       "427                           인생 수업 :잘 물든 단풍은 봄꽃보다 아름답다 \n",
       "314              나는 내 나이가 참 좋다 :우아하고 지혜롭게 세월의 강을 항해하는 법 \n",
       "289                      (어차피 살 거라면) 백 살까지 유쾌하게 나이 드는 법 \n",
       "53                            하마터면 열심히 살 뻔했다 :야매 득도 에세이 \n",
       "339                                   어른답게 삽시다 :이시형 에세이 \n",
       "220                           백년을 살아보니 :인생의 황금기는 60~75세 \n",
       "50     50부터는 인생관을 바꿔야 산다 :이제 자존심, 꿈, 사람은 버리고 오직 나를 위해...\n",
       "2                          남아 있는 시간을 위하여:100세 철학자의 대표산문선\n",
       "504          50 이후, 인생을 결정하는 열 가지 힘 - 하버드 심리학 거장의 마지막 강의\n",
       "Name: bookname, dtype: object"
      ]
     },
     "execution_count": 38,
     "metadata": {},
     "output_type": "execute_result"
    }
   ],
   "source": [
    "# ex1\n",
    "get_recommendations('나는 죽을 때까지 재미있게 살고 싶다').head(10)"
   ]
  },
  {
   "cell_type": "code",
   "execution_count": 40,
   "metadata": {},
   "outputs": [
    {
     "data": {
      "text/plain": [
       "236        해빗 =내 안의 충동을 이겨내는 습관 설계의 법칙 /Habit \n",
       "312                         나는 습관을 조금 바꾸기로 했다 \n",
       "858              (흔들리지 않고 끝까지 계속하게 만드는) 루틴의 힘 \n",
       "528                습관의 힘 :반복되는 행동이 만드는 극적인 변화 \n",
       "465        예술하는 습관 :위대한 창조의 순간을 만든 구체적 하루의 기록 \n",
       "332               1만 시간의 재발견 :노력은 왜 우리를 배신하는가 \n",
       "61                       12가지 인생의 법칙 :혼돈의 해독제 \n",
       "188        미라클모닝 :당신의 하루를 바꾸는 기적 아침 6분이면 충분하다 \n",
       "402               부자언니 부자연습 :가난한 공주 부자되기 프로젝트 \n",
       "769    지금까지 산 것처럼 앞으로도 살 건가요? :내 인생의 판을 바꿀 질문 \n",
       "Name: bookname, dtype: object"
      ]
     },
     "execution_count": 40,
     "metadata": {},
     "output_type": "execute_result"
    }
   ],
   "source": [
    "# ex2\n",
    "get_recommendations('아주 작은 습관의 힘 :최고의 변화는 어떻게 만들어지는가 ').head(10)"
   ]
  },
  {
   "cell_type": "markdown",
   "metadata": {},
   "source": [
    "# B. 청소년들이 읽는 책을 책소개를 통해 비슷한 책 추천해주기"
   ]
  },
  {
   "cell_type": "markdown",
   "metadata": {},
   "source": [
    "## 1) 도서관 데이터의 책 소개 크롤링으로 가져오기"
   ]
  },
  {
   "cell_type": "markdown",
   "metadata": {},
   "source": [
    "- 데이터 불러오기"
   ]
  },
  {
   "cell_type": "code",
   "execution_count": 42,
   "metadata": {},
   "outputs": [],
   "source": [
    "# excel 불러오기\n",
    "teenager_book_revised=pd.read_excel('./data/final/content_re/teenager_book_revised.xlsx')"
   ]
  },
  {
   "cell_type": "code",
   "execution_count": 43,
   "metadata": {},
   "outputs": [
    {
     "name": "stdout",
     "output_type": "stream",
     "text": [
      "<class 'pandas.core.frame.DataFrame'>\n",
      "RangeIndex: 985 entries, 0 to 984\n",
      "Data columns (total 14 columns):\n",
      " #   Column            Non-Null Count  Dtype  \n",
      "---  ------            --------------  -----  \n",
      " 0   no                985 non-null    int64  \n",
      " 1   ranking           985 non-null    int64  \n",
      " 2   bookname          985 non-null    object \n",
      " 3   authors           985 non-null    object \n",
      " 4   publisher         985 non-null    object \n",
      " 5   publication_year  920 non-null    float64\n",
      " 6   isbn13            985 non-null    int64  \n",
      " 7   addition_symbol   920 non-null    float64\n",
      " 8   vol               185 non-null    float64\n",
      " 9   class_no          920 non-null    float64\n",
      " 10  loan_count        985 non-null    int64  \n",
      " 11  bookImageURL      984 non-null    object \n",
      " 12  keyword           546 non-null    object \n",
      " 13  describe          978 non-null    object \n",
      "dtypes: float64(4), int64(4), object(6)\n",
      "memory usage: 107.9+ KB\n"
     ]
    }
   ],
   "source": [
    "teenager_book_revised.info()"
   ]
  },
  {
   "cell_type": "code",
   "execution_count": null,
   "metadata": {},
   "outputs": [],
   "source": [
    "# isbn 리스트 생성\n",
    "teenager_isbn_list = list(teenager_book_revised['isbn13'].astype(str))"
   ]
  },
  {
   "cell_type": "code",
   "execution_count": null,
   "metadata": {},
   "outputs": [],
   "source": [
    "# 자동화 웹 페이지 열기\n",
    "path = './driver/chromedriver.exe'\n",
    "driver = webdriver.Chrome(path)\n",
    "driver"
   ]
  },
  {
   "cell_type": "code",
   "execution_count": null,
   "metadata": {},
   "outputs": [],
   "source": [
    "isbn_url = 'http://www.kyobobook.co.kr/product/detailViewKor.laf?ejkGb=KOR&mallGb=KOR&barcode='\n",
    "rest_url = '&orderClick=LAG&Kc='"
   ]
  },
  {
   "cell_type": "code",
   "execution_count": null,
   "metadata": {},
   "outputs": [],
   "source": [
    "intro = []\n",
    "\n",
    "for i in tqdm_notebook(range(len(teenager_isbn_list))) :\n",
    "    url = isbn_url + str(teenager_isbn_list[i]) + rest_url\n",
    "    driver.get(url)\n",
    "    \n",
    "    a_list = driver.find_elements_by_css_selector('div.box_detail_article')\n",
    "    time.sleep(1.5)\n",
    "    a_list = driver.find_elements_by_css_selector('div.box_detail_article')\n",
    "    \n",
    "    if len(a_list) > 0 :\n",
    "        intro.append(a_list[0].text)\n",
    "    else :\n",
    "        intro.append('')\n",
    "        continue"
   ]
  },
  {
   "cell_type": "code",
   "execution_count": null,
   "metadata": {},
   "outputs": [],
   "source": [
    "teenager_book_revised['describe']=intro"
   ]
  },
  {
   "cell_type": "code",
   "execution_count": null,
   "metadata": {},
   "outputs": [],
   "source": [
    "# 데이터 저장하기\n",
    "teenager_book_revised.to_csv('./data/final/content_re/teenager_book_revised.csv',encoding='utf-8-sig',index=False)"
   ]
  },
  {
   "cell_type": "code",
   "execution_count": 44,
   "metadata": {},
   "outputs": [],
   "source": [
    "# 제목 양쪽 공백제거\n",
    "for i in range(len(teenager_book_revised)):\n",
    "    teenager_book_revised['bookname'][i]=str(teenager_book_revised['bookname'][i]).strip()"
   ]
  },
  {
   "cell_type": "code",
   "execution_count": 46,
   "metadata": {},
   "outputs": [],
   "source": [
    "# 책소개가 없는 데이터지우기\n",
    "teenager_book_revised=teenager_book_revised[pd.notnull(teenager_book_revised['describe'])]"
   ]
  },
  {
   "cell_type": "code",
   "execution_count": 47,
   "metadata": {},
   "outputs": [],
   "source": [
    "# 책 제목 중복 제거 \n",
    "teenager_book_revised.drop_duplicates('bookname',keep='first',inplace=True)"
   ]
  },
  {
   "cell_type": "code",
   "execution_count": 48,
   "metadata": {},
   "outputs": [],
   "source": [
    "# 인덱스 정리\n",
    "teenager_book_revised.reset_index(drop=True,inplace=True)"
   ]
  },
  {
   "cell_type": "code",
   "execution_count": 49,
   "metadata": {},
   "outputs": [
    {
     "name": "stdout",
     "output_type": "stream",
     "text": [
      "<class 'pandas.core.frame.DataFrame'>\n",
      "RangeIndex: 874 entries, 0 to 873\n",
      "Data columns (total 14 columns):\n",
      " #   Column            Non-Null Count  Dtype  \n",
      "---  ------            --------------  -----  \n",
      " 0   no                874 non-null    int64  \n",
      " 1   ranking           874 non-null    int64  \n",
      " 2   bookname          874 non-null    object \n",
      " 3   authors           874 non-null    object \n",
      " 4   publisher         874 non-null    object \n",
      " 5   publication_year  858 non-null    float64\n",
      " 6   isbn13            874 non-null    int64  \n",
      " 7   addition_symbol   813 non-null    float64\n",
      " 8   vol               99 non-null     float64\n",
      " 9   class_no          813 non-null    float64\n",
      " 10  loan_count        874 non-null    int64  \n",
      " 11  bookImageURL      874 non-null    object \n",
      " 12  keyword           534 non-null    object \n",
      " 13  describe          874 non-null    object \n",
      "dtypes: float64(4), int64(4), object(6)\n",
      "memory usage: 95.7+ KB\n"
     ]
    }
   ],
   "source": [
    "teenager_book_revised.info()"
   ]
  },
  {
   "cell_type": "markdown",
   "metadata": {},
   "source": [
    "# C. 어린이들이 읽는 책을 책소개를 통해 비슷한 책 추천해주기"
   ]
  },
  {
   "cell_type": "markdown",
   "metadata": {},
   "source": [
    "## ## 1) 도서관 데이터의 책 소개 크롤링으로 가져오기 - 앞의 작업과 반복작업이라 코드 생략"
   ]
  },
  {
   "cell_type": "markdown",
   "metadata": {},
   "source": [
    "- 데이터 불러오기"
   ]
  },
  {
   "cell_type": "code",
   "execution_count": 4,
   "metadata": {},
   "outputs": [],
   "source": [
    "child_final_df=pd.read_excel('./data/final/content_re/child_final_df.xlsx')"
   ]
  },
  {
   "cell_type": "code",
   "execution_count": 5,
   "metadata": {},
   "outputs": [
    {
     "name": "stdout",
     "output_type": "stream",
     "text": [
      "<class 'pandas.core.frame.DataFrame'>\n",
      "RangeIndex: 978 entries, 0 to 977\n",
      "Data columns (total 14 columns):\n",
      " #   Column            Non-Null Count  Dtype  \n",
      "---  ------            --------------  -----  \n",
      " 0   no                978 non-null    int64  \n",
      " 1   ranking           978 non-null    int64  \n",
      " 2   bookname          978 non-null    object \n",
      " 3   authors           978 non-null    object \n",
      " 4   publisher         978 non-null    object \n",
      " 5   publication_year  480 non-null    float64\n",
      " 6   isbn13            978 non-null    int64  \n",
      " 7   addition_symbol   932 non-null    float64\n",
      " 8   vol               797 non-null    float64\n",
      " 9   class_no          931 non-null    float64\n",
      " 10  loan_count_x      978 non-null    int64  \n",
      " 11  bookImageURL_x    977 non-null    object \n",
      " 12  keyword           512 non-null    object \n",
      " 13  describe          976 non-null    object \n",
      "dtypes: float64(4), int64(4), object(6)\n",
      "memory usage: 107.1+ KB\n"
     ]
    }
   ],
   "source": [
    "child_final_df.info()"
   ]
  },
  {
   "cell_type": "code",
   "execution_count": 6,
   "metadata": {},
   "outputs": [],
   "source": [
    "# 책소개가 없는 데이터지우기\n",
    "child_final_df=child_final_df[pd.notnull(child_final_df['describe'])]"
   ]
  },
  {
   "cell_type": "code",
   "execution_count": 7,
   "metadata": {},
   "outputs": [],
   "source": [
    "# 책 제목 중복 제거 \n",
    "child_final_df.drop_duplicates('bookname',keep='first',inplace=True)"
   ]
  },
  {
   "cell_type": "code",
   "execution_count": 8,
   "metadata": {},
   "outputs": [],
   "source": [
    "# 인덱스 정리\n",
    "child_final_df.reset_index(drop=True,inplace=True)"
   ]
  },
  {
   "cell_type": "code",
   "execution_count": 9,
   "metadata": {},
   "outputs": [],
   "source": [
    "# 제목 양쪽 공백제거\n",
    "for i in range(len(child_final_df)):\n",
    "    child_final_df['bookname'][i]=str(child_final_df['bookname'][i]).strip()"
   ]
  },
  {
   "cell_type": "code",
   "execution_count": 10,
   "metadata": {},
   "outputs": [
    {
     "name": "stdout",
     "output_type": "stream",
     "text": [
      "<class 'pandas.core.frame.DataFrame'>\n",
      "RangeIndex: 510 entries, 0 to 509\n",
      "Data columns (total 14 columns):\n",
      " #   Column            Non-Null Count  Dtype  \n",
      "---  ------            --------------  -----  \n",
      " 0   no                510 non-null    int64  \n",
      " 1   ranking           510 non-null    int64  \n",
      " 2   bookname          510 non-null    object \n",
      " 3   authors           510 non-null    object \n",
      " 4   publisher         510 non-null    object \n",
      " 5   publication_year  442 non-null    float64\n",
      " 6   isbn13            510 non-null    int64  \n",
      " 7   addition_symbol   464 non-null    float64\n",
      " 8   vol               332 non-null    float64\n",
      " 9   class_no          463 non-null    float64\n",
      " 10  loan_count_x      510 non-null    int64  \n",
      " 11  bookImageURL_x    510 non-null    object \n",
      " 12  keyword           439 non-null    object \n",
      " 13  describe          510 non-null    object \n",
      "dtypes: float64(4), int64(4), object(6)\n",
      "memory usage: 55.9+ KB\n"
     ]
    }
   ],
   "source": [
    "child_final_df.info()"
   ]
  },
  {
   "cell_type": "markdown",
   "metadata": {},
   "source": [
    "## 2) 책 소개를 형용사 + 명사 데이터로 바꾸기"
   ]
  },
  {
   "cell_type": "code",
   "execution_count": 11,
   "metadata": {},
   "outputs": [],
   "source": [
    "book_intro=[]\n",
    "for i in range(len(child_final_df)):\n",
    "    sentences_tag = []\n",
    "    lines=child_final_df['describe'][i].replace('\\n',' ').split('.')\n",
    "    twitter = Twitter()\n",
    "    for sentence in lines:\n",
    "        morph = twitter.pos(sentence)\n",
    "        sentences_tag.append(morph)\n",
    "    noun_adj_list = []\n",
    "    for sentence1 in sentences_tag:\n",
    "        for word, tag in sentence1:\n",
    "            if tag in ['Noun','Adjective']:\n",
    "                noun_adj_list.append(word)\n",
    "    book_intro.append(noun_adj_list)"
   ]
  },
  {
   "cell_type": "code",
   "execution_count": 12,
   "metadata": {},
   "outputs": [],
   "source": [
    "child_final_df['book_intro']=book_intro"
   ]
  },
  {
   "cell_type": "code",
   "execution_count": 13,
   "metadata": {},
   "outputs": [],
   "source": [
    "intro=[]\n",
    "for i in range(len(child_final_df)):\n",
    "    s=' '.join(child_final_df['book_intro'][i])\n",
    "    intro.append(s)"
   ]
  },
  {
   "cell_type": "code",
   "execution_count": 14,
   "metadata": {},
   "outputs": [],
   "source": [
    "child_final_df['intro']=intro"
   ]
  },
  {
   "cell_type": "code",
   "execution_count": 15,
   "metadata": {},
   "outputs": [
    {
     "data": {
      "text/plain": [
       "0    안전상식 학습만화 「쿠키런 서바이벌 대작전」 제4권 《산과 하늘 편》. 웨어울프맛 ...\n",
       "1    추리로 배우는 교과서 과학\\n\\n『어린이 과학 형사대 CSI』시리즈 제5권《CSI,...\n",
       "2    어린이용 그리스·로마 신화 베스트셀러. 아름다운 여신과 뛰어난 영웅, 그리고 신비로...\n",
       "Name: describe, dtype: object"
      ]
     },
     "execution_count": 15,
     "metadata": {},
     "output_type": "execute_result"
    }
   ],
   "source": [
    "child_final_df['describe'].head(3)"
   ]
  },
  {
   "cell_type": "code",
   "execution_count": 16,
   "metadata": {},
   "outputs": [
    {
     "data": {
      "text/plain": [
       "0    안전 상식 학습만화 쿠키런 서바이벌 작전 제 권 산 하늘 편 웨어울프 맛 쿠키 도움...\n",
       "1    추리 교과서 과학 어린이 과학 형사 시리즈 제 권 새로운 위기 처 이 시리즈 어린이...\n",
       "2    어린이 용 그리스 로마 신화 베스트셀러 아름다운 여신 뛰어난 영웅 신비로운 일 만화...\n",
       "Name: intro, dtype: object"
      ]
     },
     "execution_count": 16,
     "metadata": {},
     "output_type": "execute_result"
    }
   ],
   "source": [
    "child_final_df['intro'].head(3)"
   ]
  },
  {
   "cell_type": "code",
   "execution_count": null,
   "metadata": {},
   "outputs": [],
   "source": [
    "# 최종데이터 저장\n",
    "child_final_df.to_csv('./data/final/content_re/child_final.csv',encoding='utf-8-sig',index=False)"
   ]
  },
  {
   "cell_type": "markdown",
   "metadata": {},
   "source": [
    "## 3) TF-IDF "
   ]
  },
  {
   "cell_type": "code",
   "execution_count": 17,
   "metadata": {},
   "outputs": [],
   "source": [
    "sw=pd.read_csv('./data/final/한국어불용어100.txt', sep = \"\\t\",  engine='python', encoding = \"utf-8\",header=None)"
   ]
  },
  {
   "cell_type": "code",
   "execution_count": 18,
   "metadata": {},
   "outputs": [],
   "source": [
    "stop_words=list(sw[0].dropna())"
   ]
  },
  {
   "cell_type": "code",
   "execution_count": 20,
   "metadata": {},
   "outputs": [],
   "source": [
    "tf = TfidfVectorizer(analyzer='word', ngram_range=(1, 2), min_df=1, stop_words=stop_words)\n",
    "tfidf_matrix = tf.fit_transform(child_final_df['intro'])"
   ]
  },
  {
   "cell_type": "code",
   "execution_count": 21,
   "metadata": {},
   "outputs": [],
   "source": [
    "cosine_sim = linear_kernel(tfidf_matrix, tfidf_matrix)"
   ]
  },
  {
   "cell_type": "code",
   "execution_count": 22,
   "metadata": {},
   "outputs": [],
   "source": [
    "titles = child_final_df['bookname']\n",
    "indices = pd.Series(child_final_df.index, index=child_final_df['bookname'])"
   ]
  },
  {
   "cell_type": "code",
   "execution_count": 24,
   "metadata": {},
   "outputs": [],
   "source": [
    "def get_recommendations(title):\n",
    "    idx = indices[title]\n",
    "    sim_scores = list(enumerate(cosine_sim[idx]))\n",
    "    sim_scores = sorted(sim_scores, key=lambda x: x[1], reverse=True)\n",
    "    sim_scores = sim_scores[1:31]\n",
    "    movie_indices = [i[0] for i in sim_scores]\n",
    "    return titles.iloc[movie_indices]"
   ]
  },
  {
   "cell_type": "code",
   "execution_count": 25,
   "metadata": {},
   "outputs": [
    {
     "data": {
      "text/plain": [
       "201                  쿠키런 서바이벌 대작전 21 (별똥별 산 편)\n",
       "217        쿠키런 서바이벌 대작전 15 : 무인도 편 - 안전상식 학습만화\n",
       "245          쿠키런 서바이벌 대작전 5 : 화재 편 - 안전상식 학습만화\n",
       "251          쿠키런 서바이벌 대작전 6 : 동굴 편 - 안전상식 학습만화\n",
       "156               쿠키런 서바이벌 대작전 26 : 사이보그의 역습 편\n",
       "158                  쿠키런 서바이벌 대작전 23 : 차원의 문 편\n",
       "184                쿠키런 서바이벌 대작전 24 : 쿠키볼의 비밀 편\n",
       "198                 쿠키런 서바이벌 대작전 27 : 로봇의 심장 편\n",
       "432    쿠키런 서바이벌 대작전 28 : 최후의 생존자 편 - 안전상식 학습만화\n",
       "209        쿠키런 서바이벌 대작전 16 : 방사능 편 - 안전상식 학습만화\n",
       "Name: bookname, dtype: object"
      ]
     },
     "execution_count": 25,
     "metadata": {},
     "output_type": "execute_result"
    }
   ],
   "source": [
    "# ex1\n",
    "get_recommendations('쿠키런 서바이벌 대작전').head(10)"
   ]
  },
  {
   "cell_type": "code",
   "execution_count": 26,
   "metadata": {},
   "outputs": [
    {
     "data": {
      "text/plain": [
       "3                                 이사도라 문\n",
       "91                           마법의 설탕 두 조각\n",
       "426    빈대 가족의 가난 탈출기 - 짠돌이들에게 배우는 경제 지혜!\n",
       "38                       (기괴하고 요상한) 귀신딱지\n",
       "88                           내 멋대로 아빠 뽑기\n",
       "225                 빈대 가족의 덜렁이는 미운 우리 새끼\n",
       "259                              할머니는 도둑\n",
       "326                       엄마 사용법 :김성진 동화\n",
       "353                            엄마가 사라진 날\n",
       "246                          엄마는 게임 수업 중\n",
       "Name: bookname, dtype: object"
      ]
     },
     "execution_count": 26,
     "metadata": {},
     "output_type": "execute_result"
    }
   ],
   "source": [
    "# ex2\n",
    "get_recommendations('나, 생일 바꿀래!').head(10)"
   ]
  }
 ],
 "metadata": {
  "kernelspec": {
   "display_name": "Python 3",
   "language": "python",
   "name": "python3"
  },
  "language_info": {
   "codemirror_mode": {
    "name": "ipython",
    "version": 3
   },
   "file_extension": ".py",
   "mimetype": "text/x-python",
   "name": "python",
   "nbconvert_exporter": "python",
   "pygments_lexer": "ipython3",
   "version": "3.6.12"
  }
 },
 "nbformat": 4,
 "nbformat_minor": 4
}
