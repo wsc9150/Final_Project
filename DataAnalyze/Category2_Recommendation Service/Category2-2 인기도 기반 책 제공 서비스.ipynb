{
 "cells": [
  {
   "cell_type": "markdown",
   "metadata": {},
   "source": [
    "# 콘텐츠, 인기도 기반 책 제공 서비스"
   ]
  },
  {
   "cell_type": "markdown",
   "metadata": {},
   "source": [
    "## 1) 도서관 데이터의 리뷰 수, 리뷰 점수, 페이지 수 크롤링으로 가져오기"
   ]
  },
  {
   "cell_type": "markdown",
   "metadata": {},
   "source": [
    "- 교보문고 사이트를 활용"
   ]
  },
  {
   "cell_type": "code",
   "execution_count": 2,
   "metadata": {},
   "outputs": [],
   "source": [
    "import pandas as pd\n",
    "import numpy as np"
   ]
  },
  {
   "cell_type": "code",
   "execution_count": 3,
   "metadata": {},
   "outputs": [],
   "source": [
    "book = pd.read_csv('./data/final/mbti/best_seller_df.csv',encoding='utf-8')"
   ]
  },
  {
   "cell_type": "code",
   "execution_count": 4,
   "metadata": {},
   "outputs": [
    {
     "data": {
      "text/html": [
       "<div>\n",
       "<style scoped>\n",
       "    .dataframe tbody tr th:only-of-type {\n",
       "        vertical-align: middle;\n",
       "    }\n",
       "\n",
       "    .dataframe tbody tr th {\n",
       "        vertical-align: top;\n",
       "    }\n",
       "\n",
       "    .dataframe thead th {\n",
       "        text-align: right;\n",
       "    }\n",
       "</style>\n",
       "<table border=\"1\" class=\"dataframe\">\n",
       "  <thead>\n",
       "    <tr style=\"text-align: right;\">\n",
       "      <th></th>\n",
       "      <th>no</th>\n",
       "      <th>ranking</th>\n",
       "      <th>bookname</th>\n",
       "      <th>authors</th>\n",
       "      <th>publisher</th>\n",
       "      <th>publication_year</th>\n",
       "      <th>isbn13</th>\n",
       "      <th>addition_symbol</th>\n",
       "      <th>vol</th>\n",
       "      <th>class_no</th>\n",
       "      <th>loan_count</th>\n",
       "      <th>bookImageURL</th>\n",
       "    </tr>\n",
       "  </thead>\n",
       "  <tbody>\n",
       "    <tr>\n",
       "      <th>0</th>\n",
       "      <td>1</td>\n",
       "      <td>1</td>\n",
       "      <td>여행의 이유 :김영하 산문</td>\n",
       "      <td>지은이: 김영하</td>\n",
       "      <td>문학동네</td>\n",
       "      <td>2019.0</td>\n",
       "      <td>9788954655972</td>\n",
       "      <td>3810.0</td>\n",
       "      <td>NaN</td>\n",
       "      <td>816.7</td>\n",
       "      <td>13,336</td>\n",
       "      <td>https://image.aladin.co.kr/product/18827/60/co...</td>\n",
       "    </tr>\n",
       "    <tr>\n",
       "      <th>1</th>\n",
       "      <td>2</td>\n",
       "      <td>2</td>\n",
       "      <td>아몬드 (양장 특별 한정판)</td>\n",
       "      <td>손원평 (지은이)</td>\n",
       "      <td>창비</td>\n",
       "      <td>2017.0</td>\n",
       "      <td>9788936434267</td>\n",
       "      <td>3810.0</td>\n",
       "      <td>NaN</td>\n",
       "      <td>813.7</td>\n",
       "      <td>13,117</td>\n",
       "      <td>http://image.aladin.co.kr/product/16839/4/cove...</td>\n",
       "    </tr>\n",
       "    <tr>\n",
       "      <th>2</th>\n",
       "      <td>3</td>\n",
       "      <td>3</td>\n",
       "      <td>나미야 잡화점의 기적 :히가시노 게이고 장편소설</td>\n",
       "      <td>지은이: 히가시노 게이고 ;옮긴이: 양윤옥</td>\n",
       "      <td>현대문학</td>\n",
       "      <td>2012.0</td>\n",
       "      <td>9788972756194</td>\n",
       "      <td>3830.0</td>\n",
       "      <td>NaN</td>\n",
       "      <td>833.6</td>\n",
       "      <td>13,004</td>\n",
       "      <td>http://image.aladin.co.kr/product/15848/6/cove...</td>\n",
       "    </tr>\n",
       "    <tr>\n",
       "      <th>3</th>\n",
       "      <td>4</td>\n",
       "      <td>4</td>\n",
       "      <td>선량한 차별주의자</td>\n",
       "      <td>김지혜 지음</td>\n",
       "      <td>창비</td>\n",
       "      <td>2019.0</td>\n",
       "      <td>9788936477196</td>\n",
       "      <td>3300.0</td>\n",
       "      <td>NaN</td>\n",
       "      <td>334.0</td>\n",
       "      <td>11,629</td>\n",
       "      <td>https://image.aladin.co.kr/product/19874/76/co...</td>\n",
       "    </tr>\n",
       "    <tr>\n",
       "      <th>4</th>\n",
       "      <td>5</td>\n",
       "      <td>5</td>\n",
       "      <td>(추리 천재) 엉덩이 탐정</td>\n",
       "      <td>트롤 글·그림 ;김정화 옮김</td>\n",
       "      <td>미래엔</td>\n",
       "      <td>NaN</td>\n",
       "      <td>9791162339466</td>\n",
       "      <td>74830.0</td>\n",
       "      <td>7</td>\n",
       "      <td>833.6</td>\n",
       "      <td>11,385</td>\n",
       "      <td>https://image.aladin.co.kr/product/17457/14/co...</td>\n",
       "    </tr>\n",
       "  </tbody>\n",
       "</table>\n",
       "</div>"
      ],
      "text/plain": [
       "   no  ranking                     bookname                  authors  \\\n",
       "0   1        1              여행의 이유 :김영하 산문                  지은이: 김영하   \n",
       "1   2        2              아몬드 (양장 특별 한정판)                손원평 (지은이)   \n",
       "2   3        3  나미야 잡화점의 기적 :히가시노 게이고 장편소설   지은이: 히가시노 게이고 ;옮긴이: 양윤옥   \n",
       "3   4        4                   선량한 차별주의자                    김지혜 지음   \n",
       "4   5        5               (추리 천재) 엉덩이 탐정          트롤 글·그림 ;김정화 옮김   \n",
       "\n",
       "  publisher  publication_year         isbn13  addition_symbol  vol  class_no  \\\n",
       "0      문학동네            2019.0  9788954655972           3810.0  NaN     816.7   \n",
       "1        창비            2017.0  9788936434267           3810.0  NaN     813.7   \n",
       "2      현대문학            2012.0  9788972756194           3830.0  NaN     833.6   \n",
       "3        창비            2019.0  9788936477196           3300.0  NaN     334.0   \n",
       "4       미래엔               NaN  9791162339466          74830.0    7     833.6   \n",
       "\n",
       "  loan_count                                       bookImageURL  \n",
       "0     13,336  https://image.aladin.co.kr/product/18827/60/co...  \n",
       "1     13,117  http://image.aladin.co.kr/product/16839/4/cove...  \n",
       "2     13,004  http://image.aladin.co.kr/product/15848/6/cove...  \n",
       "3     11,629  https://image.aladin.co.kr/product/19874/76/co...  \n",
       "4     11,385  https://image.aladin.co.kr/product/17457/14/co...  "
      ]
     },
     "execution_count": 4,
     "metadata": {},
     "output_type": "execute_result"
    }
   ],
   "source": [
    "book.head()"
   ]
  },
  {
   "cell_type": "code",
   "execution_count": null,
   "metadata": {},
   "outputs": [],
   "source": [
    "# 크롤링\n",
    "from urllib.request import urlopen\n",
    "from bs4 import BeautifulSoup\n",
    "from urllib.error import HTTPError\n",
    "from urllib.error import URLError"
   ]
  },
  {
   "cell_type": "code",
   "execution_count": null,
   "metadata": {},
   "outputs": [],
   "source": [
    "# 오픈을 할때 예외처리를 통해 만약 오류가 생기면 원인을 알수 있게 함수 있음\n",
    "try :\n",
    "    html = urlopen('https://pythondojang.bitbucket.io/weather/observation/currentweather.html')\n",
    "except HTTPError as he :\n",
    "    print('http error')\n",
    "except URLError as ue :\n",
    "    print('url error')\n",
    "else :\n",
    "    soup = BeautifulSoup(html.read(), 'html.parser')"
   ]
  },
  {
   "cell_type": "code",
   "execution_count": null,
   "metadata": {},
   "outputs": [],
   "source": [
    "from selenium import webdriver\n",
    "from bs4 import BeautifulSoup\n",
    "import requests\n",
    "from tqdm import tqdm_notebook\n",
    "from bs4 import BeautifulSoup\n",
    "import time"
   ]
  },
  {
   "cell_type": "code",
   "execution_count": null,
   "metadata": {},
   "outputs": [],
   "source": [
    "path = './driver/chromedriver.exe'\n",
    "driver = webdriver.Chrome(path)\n",
    "\n",
    "isbn_url = 'http://www.kyobobook.co.kr/product/detailViewKor.laf?ejkGb=KOR&mallGb=KOR&barcode='\n",
    "rest_url = '&orderClick=LAG&Kc='"
   ]
  },
  {
   "cell_type": "code",
   "execution_count": null,
   "metadata": {},
   "outputs": [],
   "source": [
    "text_reviews_count=[]\n",
    "average_rating=[]\n",
    "num_pages=[]\n",
    "\n",
    "for i in tqdm_notebook(range(3500,5000)) :\n",
    "    url = isbn_url + str(isbn_list[i]) + rest_url\n",
    "    driver.get(url)\n",
    "    \n",
    "    try:\n",
    "        \n",
    "        average=driver.find_elements_by_css_selector('div.popup_load>em')\n",
    "        pages=driver.find_elements_by_css_selector('div.box_detail_content>table>tbody>tr>td')\n",
    "        text_reviews=driver.find_elements_by_css_selector('div.popup_load')\n",
    "\n",
    "#     time.sleep(2.0)\n",
    "        average_rating.append(average[0].text)\n",
    "        num_pages.append(pages[1].text)\n",
    "        text_reviews_count.append(text_reviews[0].text.split('리뷰')[1].replace('개)','').strip())\n",
    "    \n",
    "    except:\n",
    "        average_rating.append(\"\")\n",
    "        num_pages.append(\"\")\n",
    "        text_reviews_count.append(\"\")\n",
    "            \n",
    "    time.sleep(1.8)"
   ]
  },
  {
   "cell_type": "code",
   "execution_count": null,
   "metadata": {},
   "outputs": [],
   "source": [
    "# 데이터 프레임 생성\n",
    "book_score_df = pd.DataFrame(data={'text_reviews_count':text_reviews_count,'average_rating':average_rating,'num_pages':num_pages})"
   ]
  },
  {
   "cell_type": "code",
   "execution_count": null,
   "metadata": {},
   "outputs": [],
   "source": [
    "# csv 파일저장 \n",
    "book_score_df.to_csv('./data/final/book_score_df.csv',encoding='utf-8-sig',index=False)"
   ]
  },
  {
   "cell_type": "code",
   "execution_count": null,
   "metadata": {},
   "outputs": [],
   "source": [
    "# 인기대출도서 + 크롤링 데이터 결합\n",
    "best_book=pd.concat(book,book_score_df)"
   ]
  },
  {
   "cell_type": "code",
   "execution_count": null,
   "metadata": {},
   "outputs": [],
   "source": [
    "# 데이터 생성\n",
    "best_book.to_csv('./data/final/best_book.csv',encoding='utf-8-sig',index=False)"
   ]
  },
  {
   "cell_type": "markdown",
   "metadata": {},
   "source": [
    "## 2) 도서관 데이터 불러오기 및 데이터 전처리"
   ]
  },
  {
   "cell_type": "code",
   "execution_count": 17,
   "metadata": {},
   "outputs": [],
   "source": [
    "import warnings\n",
    "warnings.filterwarnings(\"ignore\")\n",
    "import os\n",
    "import seaborn as sns\n",
    "import isbnlib\n",
    "from newspaper import Article\n",
    "import matplotlib.pyplot as plt\n",
    "plt.style.use('ggplot')\n",
    "from tqdm import tqdm\n",
    "from progressbar import ProgressBar\n",
    "import re\n",
    "from scipy.cluster.vq import kmeans, vq\n",
    "from pylab import plot, show\n",
    "from matplotlib.lines import Line2D\n",
    "import matplotlib.colors as mcolors\n",
    "#import goodreads_api_client as gr\n",
    "from sklearn.cluster import KMeans\n",
    "from sklearn import neighbors\n",
    "from sklearn.model_selection import train_test_split\n",
    "from sklearn.preprocessing import MinMaxScaler"
   ]
  },
  {
   "cell_type": "code",
   "execution_count": 5,
   "metadata": {},
   "outputs": [],
   "source": [
    "df= pd.read_csv('./data/final/best_book.csv',encoding='utf-8')"
   ]
  },
  {
   "cell_type": "code",
   "execution_count": 6,
   "metadata": {},
   "outputs": [
    {
     "data": {
      "text/html": [
       "<div>\n",
       "<style scoped>\n",
       "    .dataframe tbody tr th:only-of-type {\n",
       "        vertical-align: middle;\n",
       "    }\n",
       "\n",
       "    .dataframe tbody tr th {\n",
       "        vertical-align: top;\n",
       "    }\n",
       "\n",
       "    .dataframe thead th {\n",
       "        text-align: right;\n",
       "    }\n",
       "</style>\n",
       "<table border=\"1\" class=\"dataframe\">\n",
       "  <thead>\n",
       "    <tr style=\"text-align: right;\">\n",
       "      <th></th>\n",
       "      <th>no</th>\n",
       "      <th>ranking</th>\n",
       "      <th>bookname</th>\n",
       "      <th>authors</th>\n",
       "      <th>publisher</th>\n",
       "      <th>publication_year</th>\n",
       "      <th>isbn13</th>\n",
       "      <th>addition_symbol</th>\n",
       "      <th>vol</th>\n",
       "      <th>class_no</th>\n",
       "      <th>loan_count</th>\n",
       "      <th>bookImageURL</th>\n",
       "      <th>text_reviews_count</th>\n",
       "      <th>average_rating</th>\n",
       "      <th>num_pages</th>\n",
       "    </tr>\n",
       "  </thead>\n",
       "  <tbody>\n",
       "    <tr>\n",
       "      <th>0</th>\n",
       "      <td>1</td>\n",
       "      <td>1</td>\n",
       "      <td>여행의 이유 :김영하 산문</td>\n",
       "      <td>지은이: 김영하</td>\n",
       "      <td>문학동네</td>\n",
       "      <td>2019.0</td>\n",
       "      <td>9.790000e+12</td>\n",
       "      <td>3810.0</td>\n",
       "      <td>NaN</td>\n",
       "      <td>816.7</td>\n",
       "      <td>13336</td>\n",
       "      <td>https://image.aladin.co.kr/product/18827/60/co...</td>\n",
       "      <td>1540.0</td>\n",
       "      <td>9.3</td>\n",
       "      <td>216쪽</td>\n",
       "    </tr>\n",
       "    <tr>\n",
       "      <th>1</th>\n",
       "      <td>2</td>\n",
       "      <td>2</td>\n",
       "      <td>아몬드 (양장 특별 한정판)</td>\n",
       "      <td>손원평 (지은이)</td>\n",
       "      <td>창비</td>\n",
       "      <td>2017.0</td>\n",
       "      <td>9.790000e+12</td>\n",
       "      <td>3810.0</td>\n",
       "      <td>NaN</td>\n",
       "      <td>813.7</td>\n",
       "      <td>13117</td>\n",
       "      <td>http://image.aladin.co.kr/product/16839/4/cove...</td>\n",
       "      <td>997.0</td>\n",
       "      <td>9.3</td>\n",
       "      <td>263쪽</td>\n",
       "    </tr>\n",
       "    <tr>\n",
       "      <th>2</th>\n",
       "      <td>3</td>\n",
       "      <td>3</td>\n",
       "      <td>나미야 잡화점의 기적 :히가시노 게이고 장편소설</td>\n",
       "      <td>지은이: 히가시노 게이고 ;옮긴이: 양윤옥</td>\n",
       "      <td>현대문학</td>\n",
       "      <td>2012.0</td>\n",
       "      <td>9.790000e+12</td>\n",
       "      <td>3830.0</td>\n",
       "      <td>NaN</td>\n",
       "      <td>833.6</td>\n",
       "      <td>13004</td>\n",
       "      <td>http://image.aladin.co.kr/product/15848/6/cove...</td>\n",
       "      <td>1819.0</td>\n",
       "      <td>9.3</td>\n",
       "      <td>456쪽</td>\n",
       "    </tr>\n",
       "  </tbody>\n",
       "</table>\n",
       "</div>"
      ],
      "text/plain": [
       "   no  ranking                     bookname                  authors  \\\n",
       "0   1        1              여행의 이유 :김영하 산문                  지은이: 김영하   \n",
       "1   2        2              아몬드 (양장 특별 한정판)                손원평 (지은이)   \n",
       "2   3        3  나미야 잡화점의 기적 :히가시노 게이고 장편소설   지은이: 히가시노 게이고 ;옮긴이: 양윤옥   \n",
       "\n",
       "  publisher  publication_year        isbn13  addition_symbol  vol  class_no  \\\n",
       "0      문학동네            2019.0  9.790000e+12           3810.0  NaN     816.7   \n",
       "1        창비            2017.0  9.790000e+12           3810.0  NaN     813.7   \n",
       "2      현대문학            2012.0  9.790000e+12           3830.0  NaN     833.6   \n",
       "\n",
       "   loan_count                                       bookImageURL  \\\n",
       "0       13336  https://image.aladin.co.kr/product/18827/60/co...   \n",
       "1       13117  http://image.aladin.co.kr/product/16839/4/cove...   \n",
       "2       13004  http://image.aladin.co.kr/product/15848/6/cove...   \n",
       "\n",
       "   text_reviews_count  average_rating num_pages  \n",
       "0              1540.0             9.3      216쪽  \n",
       "1               997.0             9.3      263쪽  \n",
       "2              1819.0             9.3      456쪽  "
      ]
     },
     "execution_count": 6,
     "metadata": {},
     "output_type": "execute_result"
    }
   ],
   "source": [
    "df.head(3)"
   ]
  },
  {
   "cell_type": "code",
   "execution_count": 7,
   "metadata": {},
   "outputs": [
    {
     "name": "stdout",
     "output_type": "stream",
     "text": [
      "<class 'pandas.core.frame.DataFrame'>\n",
      "RangeIndex: 5000 entries, 0 to 4999\n",
      "Data columns (total 15 columns):\n",
      " #   Column              Non-Null Count  Dtype  \n",
      "---  ------              --------------  -----  \n",
      " 0   no                  5000 non-null   int64  \n",
      " 1   ranking             5000 non-null   int64  \n",
      " 2   bookname            4999 non-null   object \n",
      " 3   authors             4985 non-null   object \n",
      " 4   publisher           4946 non-null   object \n",
      " 5   publication_year    4123 non-null   float64\n",
      " 6   isbn13              5000 non-null   float64\n",
      " 7   addition_symbol     4562 non-null   float64\n",
      " 8   vol                 2402 non-null   object \n",
      " 9   class_no            4564 non-null   float64\n",
      " 10  loan_count          5000 non-null   int64  \n",
      " 11  bookImageURL        4937 non-null   object \n",
      " 12  text_reviews_count  4703 non-null   float64\n",
      " 13  average_rating      4703 non-null   float64\n",
      " 14  num_pages           4704 non-null   object \n",
      "dtypes: float64(6), int64(3), object(6)\n",
      "memory usage: 586.1+ KB\n"
     ]
    }
   ],
   "source": [
    "df.info()"
   ]
  },
  {
   "cell_type": "code",
   "execution_count": 8,
   "metadata": {},
   "outputs": [],
   "source": [
    "# average_co 결측치 제거\n",
    "df=df[pd.notnull(df['average_rating'])]"
   ]
  },
  {
   "cell_type": "code",
   "execution_count": 9,
   "metadata": {},
   "outputs": [],
   "source": [
    "# 책이름 결측치 제거\n",
    "df=df[pd.notnull(df['bookname'])]"
   ]
  },
  {
   "cell_type": "code",
   "execution_count": 10,
   "metadata": {},
   "outputs": [],
   "source": [
    "# 책이미지 결측치 제거\n",
    "df=df[pd.notnull(df['bookImageURL'])]"
   ]
  },
  {
   "cell_type": "code",
   "execution_count": 11,
   "metadata": {},
   "outputs": [],
   "source": [
    "# 작가이름 결측치 제거 \n",
    "df=df[pd.notnull(df['bookImageURL'])]"
   ]
  },
  {
   "cell_type": "code",
   "execution_count": 12,
   "metadata": {},
   "outputs": [
    {
     "name": "stdout",
     "output_type": "stream",
     "text": [
      "<class 'pandas.core.frame.DataFrame'>\n",
      "Int64Index: 4698 entries, 0 to 4998\n",
      "Data columns (total 15 columns):\n",
      " #   Column              Non-Null Count  Dtype  \n",
      "---  ------              --------------  -----  \n",
      " 0   no                  4698 non-null   int64  \n",
      " 1   ranking             4698 non-null   int64  \n",
      " 2   bookname            4698 non-null   object \n",
      " 3   authors             4689 non-null   object \n",
      " 4   publisher           4695 non-null   object \n",
      " 5   publication_year    3885 non-null   float64\n",
      " 6   isbn13              4698 non-null   float64\n",
      " 7   addition_symbol     4306 non-null   float64\n",
      " 8   vol                 2188 non-null   object \n",
      " 9   class_no            4310 non-null   float64\n",
      " 10  loan_count          4698 non-null   int64  \n",
      " 11  bookImageURL        4698 non-null   object \n",
      " 12  text_reviews_count  4698 non-null   float64\n",
      " 13  average_rating      4698 non-null   float64\n",
      " 14  num_pages           4698 non-null   object \n",
      "dtypes: float64(6), int64(3), object(6)\n",
      "memory usage: 587.2+ KB\n"
     ]
    }
   ],
   "source": [
    "df.info()"
   ]
  },
  {
   "cell_type": "code",
   "execution_count": 13,
   "metadata": {},
   "outputs": [],
   "source": [
    "# publication_year을 숫자에서 문자형으로 타입변환\n",
    "df=df.astype({'publication_year':'str'})"
   ]
  },
  {
   "cell_type": "code",
   "execution_count": 15,
   "metadata": {},
   "outputs": [
    {
     "name": "stderr",
     "output_type": "stream",
     "text": [
      "C:\\ProgramData\\Anaconda3\\lib\\site-packages\\ipykernel_launcher.py:2: SettingWithCopyWarning: \n",
      "A value is trying to be set on a copy of a slice from a DataFrame\n",
      "\n",
      "See the caveats in the documentation: https://pandas.pydata.org/pandas-docs/stable/user_guide/indexing.html#returning-a-view-versus-a-copy\n",
      "  \n"
     ]
    }
   ],
   "source": [
    "for i in range(len(df)):\n",
    "    df['publication_year'][i]=df['publication_year'][i][0:4]"
   ]
  },
  {
   "cell_type": "code",
   "execution_count": 19,
   "metadata": {},
   "outputs": [
    {
     "data": {
      "text/plain": [
       "0       2019\n",
       "1       2017\n",
       "2       2012\n",
       "3       2019\n",
       "4        nan\n",
       "        ... \n",
       "4693     nan\n",
       "4694    2018\n",
       "4695     nan\n",
       "4696    2019\n",
       "4697    2019\n",
       "Name: publication_year, Length: 4698, dtype: object"
      ]
     },
     "execution_count": 19,
     "metadata": {},
     "output_type": "execute_result"
    }
   ],
   "source": [
    "df['publication_year']"
   ]
  },
  {
   "cell_type": "markdown",
   "metadata": {},
   "source": [
    "- 데이터프레임 인덱스 정리 필요"
   ]
  },
  {
   "cell_type": "code",
   "execution_count": 14,
   "metadata": {},
   "outputs": [],
   "source": [
    "df.reset_index(drop=True,inplace=True)"
   ]
  },
  {
   "cell_type": "code",
   "execution_count": 18,
   "metadata": {},
   "outputs": [],
   "source": [
    "# 제목 양쪽 공백제거\n",
    "for i in range(len(df)):\n",
    "    df['bookname'][i]=df['bookname'][i].strip()"
   ]
  },
  {
   "cell_type": "markdown",
   "metadata": {},
   "source": [
    "## 3) 데이터 시각화 및 EDA"
   ]
  },
  {
   "cell_type": "markdown",
   "metadata": {},
   "source": [
    "- 1) 평점 분포 확인하기"
   ]
  },
  {
   "cell_type": "code",
   "execution_count": 29,
   "metadata": {},
   "outputs": [
    {
     "data": {
      "text/plain": [
       "<AxesSubplot:xlabel='average_rating', ylabel='Density'>"
      ]
     },
     "execution_count": 29,
     "metadata": {},
     "output_type": "execute_result"
    },
    {
     "data": {
      "image/png": "[encoded data removed]",
      "text/plain": [
       "<Figure size 720x720 with 1 Axes>"
      ]
     },
     "metadata": {},
     "output_type": "display_data"
    }
   ],
   "source": [
    "# 평점 \n",
    "plt.figure(figsize=(10,10))\n",
    "rating= df.average_rating.astype(float)\n",
    "sns.distplot(rating, bins=50,color='blue')"
   ]
  },
  {
   "cell_type": "code",
   "execution_count": 20,
   "metadata": {},
   "outputs": [
    {
     "data": {
      "text/plain": [
       "count    4698.000000\n",
       "mean        9.497573\n",
       "std         0.798195\n",
       "min         0.000000\n",
       "25%         9.300000\n",
       "50%         9.600000\n",
       "75%         9.900000\n",
       "max        10.000000\n",
       "Name: average_rating, dtype: float64"
      ]
     },
     "execution_count": 20,
     "metadata": {},
     "output_type": "execute_result"
    }
   ],
   "source": [
    "df['average_rating'].describe()"
   ]
  },
  {
   "cell_type": "code",
   "execution_count": 21,
   "metadata": {},
   "outputs": [],
   "source": [
    "def segregation(data):\n",
    "    values = []\n",
    "    for val in data.average_rating:\n",
    "        if val==0:\n",
    "            values.append(\"average_rating zero\")\n",
    "        elif val>0 and val<=9.3:\n",
    "            values.append(\"average_rating lower\")\n",
    "        elif val>9.3 and val<=9.6:\n",
    "            values.append(\"average_rating medium\")\n",
    "        elif val>9.6 and val<=9.9:\n",
    "            values.append(\"average_rating higher\")\n",
    "        elif val>9.9:\n",
    "            values.append(\"average_rating highest\")\n",
    "        else:\n",
    "            values.append(\"NaN\")\n",
    "    print(len(values))\n",
    "    return values"
   ]
  },
  {
   "cell_type": "code",
   "execution_count": 22,
   "metadata": {},
   "outputs": [
    {
     "name": "stdout",
     "output_type": "stream",
     "text": [
      "4698\n"
     ]
    },
    {
     "data": {
      "text/plain": [
       "<matplotlib.legend.Legend at 0x1c8cb2449b0>"
      ]
     },
     "execution_count": 22,
     "metadata": {},
     "output_type": "execute_result"
    },
    {
     "data": {
      "image/png": "[encoded data removed]",
      "text/plain": [
       "<Figure size 432x288 with 1 Axes>"
      ]
     },
     "metadata": {},
     "output_type": "display_data"
    }
   ],
   "source": [
    "df['Ratings_Dist'] = segregation(df)\n",
    "ratings_pie = df['Ratings_Dist'].value_counts().reset_index()\n",
    "labels = ratings_pie['index']\n",
    "colors = ['aliceblue','lightblue','dodgerblue','royalblue','navy']\n",
    "percent = 100.*ratings_pie['Ratings_Dist']/ratings_pie['Ratings_Dist'].sum()\n",
    "fig, ax1 = plt.subplots()\n",
    "ax1.pie(ratings_pie['Ratings_Dist'],colors = colors, \n",
    "        pctdistance=0.85, startangle=90, explode=(0.05, 0.05, 0.05, 0.05, 0.05))\n",
    "#Draw a circle now:\n",
    "centre_circle = plt.Circle((0,0), 0.70, fc ='white')\n",
    "fig1 = plt.gcf()\n",
    "fig1.gca().add_artist(centre_circle)\n",
    "#Equal Aspect ratio ensures that pie is drawn as a circle\n",
    "plt.axis('equal')\n",
    "plt.tight_layout()\n",
    "labels = ['{0} - {1:1.2f} %'.format(i,j) for i,j in zip(labels, percent)]\n",
    "plt.legend( labels, loc = 'best',bbox_to_anchor=(-0.1, 1.),)"
   ]
  },
  {
   "cell_type": "markdown",
   "metadata": {},
   "source": [
    "- 2) 대여수 분포 확인하기"
   ]
  },
  {
   "cell_type": "code",
   "execution_count": 30,
   "metadata": {},
   "outputs": [
    {
     "data": {
      "text/plain": [
       "<AxesSubplot:xlabel='loan_count', ylabel='Density'>"
      ]
     },
     "execution_count": 30,
     "metadata": {},
     "output_type": "execute_result"
    },
    {
     "data": {
      "image/png": "[encoded data removed]",
      "text/plain": [
       "<Figure size 720x720 with 1 Axes>"
      ]
     },
     "metadata": {},
     "output_type": "display_data"
    }
   ],
   "source": [
    "# 도서 대여 수 분포 확인 \n",
    "plt.figure(figsize=(10,10))\n",
    "rating= df.loan_count\n",
    "sns.distplot(rating, bins=50,color='darkslateblue')"
   ]
  },
  {
   "cell_type": "code",
   "execution_count": 23,
   "metadata": {},
   "outputs": [],
   "source": [
    "def segregation(data):\n",
    "    values = []\n",
    "    for val in data.loan_count:\n",
    "        if val>0 and val<=1214:\n",
    "            values.append(\"loan_count lower\")\n",
    "        elif val>1214 and val<=1548:\n",
    "            values.append(\"loan_count medium\")\n",
    "        elif val>1548 and val<=2191:\n",
    "            values.append(\"loan_count higher\")\n",
    "        elif val>2191:\n",
    "            values.append(\"loan_count highest\")\n",
    "        else:\n",
    "            values.append(\"NaN\")\n",
    "    print(len(values))\n",
    "    return values"
   ]
  },
  {
   "cell_type": "code",
   "execution_count": 24,
   "metadata": {},
   "outputs": [
    {
     "name": "stdout",
     "output_type": "stream",
     "text": [
      "4698\n"
     ]
    },
    {
     "data": {
      "text/plain": [
       "<matplotlib.legend.Legend at 0x1c8cb30a898>"
      ]
     },
     "execution_count": 24,
     "metadata": {},
     "output_type": "execute_result"
    },
    {
     "data": {
      "image/png": "[encoded data removed]",
      "text/plain": [
       "<Figure size 432x288 with 1 Axes>"
      ]
     },
     "metadata": {},
     "output_type": "display_data"
    }
   ],
   "source": [
    "df['loan_Dist'] = segregation(df)\n",
    "ratings_pie = df['loan_Dist'].value_counts().reset_index()\n",
    "labels = ratings_pie['index']\n",
    "colors = ['aliceblue','lightblue','dodgerblue','royalblue','navy']\n",
    "percent = 100.*ratings_pie['loan_Dist']/ratings_pie['loan_Dist'].sum()\n",
    "fig, ax1 = plt.subplots()\n",
    "ax1.pie(ratings_pie['loan_Dist'],colors = colors, \n",
    "         pctdistance=0.85, startangle=90, explode=(0.05, 0.05, 0.05, 0.05))\n",
    "#Draw a circle now:\n",
    "centre_circle = plt.Circle((0,0), 0.70, fc ='white')\n",
    "fig1 = plt.gcf()\n",
    "fig1.gca().add_artist(centre_circle)\n",
    "#Equal Aspect ratio ensures that pie is drawn as a circle\n",
    "plt.axis('equal')\n",
    "plt.tight_layout()\n",
    "labels = ['{0} - {1:1.2f} %'.format(i,j) for i,j in zip(labels, percent)]\n",
    "plt.legend( labels, loc = 'best',bbox_to_anchor=(-0.1, 1.),)"
   ]
  },
  {
   "cell_type": "markdown",
   "metadata": {},
   "source": [
    "- 3) 리뷰수 분포 확인하기"
   ]
  },
  {
   "cell_type": "code",
   "execution_count": 31,
   "metadata": {},
   "outputs": [
    {
     "data": {
      "text/plain": [
       "<AxesSubplot:xlabel='text_reviews_count', ylabel='Density'>"
      ]
     },
     "execution_count": 31,
     "metadata": {},
     "output_type": "execute_result"
    },
    {
     "data": {
      "image/png": "[encoded data removed]",
      "text/plain": [
       "<Figure size 720x720 with 1 Axes>"
      ]
     },
     "metadata": {},
     "output_type": "display_data"
    }
   ],
   "source": [
    "# 리뷰 수\n",
    "plt.figure(figsize=(10,10))\n",
    "rating= df.text_reviews_count\n",
    "sns.distplot(rating, bins=50,color='royalblue')"
   ]
  },
  {
   "cell_type": "code",
   "execution_count": 26,
   "metadata": {},
   "outputs": [
    {
     "data": {
      "text/plain": [
       "count    4698.000000\n",
       "mean       53.727756\n",
       "std       119.437329\n",
       "min         0.000000\n",
       "25%         5.000000\n",
       "50%        16.000000\n",
       "75%        51.000000\n",
       "max      1882.000000\n",
       "Name: text_reviews_count, dtype: float64"
      ]
     },
     "execution_count": 26,
     "metadata": {},
     "output_type": "execute_result"
    }
   ],
   "source": [
    "df['text_reviews_count'].describe()"
   ]
  },
  {
   "cell_type": "code",
   "execution_count": 27,
   "metadata": {},
   "outputs": [],
   "source": [
    "def segregation(data):\n",
    "    values = []\n",
    "    for val in data.text_reviews_count:\n",
    "        if val==0:\n",
    "            values.append(\"text_reviews_count zero\")\n",
    "        elif val>0 and val<=5:\n",
    "            values.append(\"text_reviews_count lower\")\n",
    "        elif val>5 and val<=16:\n",
    "            values.append(\"text_reviews_count medium\")\n",
    "        elif val>16 and val<=51:\n",
    "            values.append(\"text_reviews_count higher\")\n",
    "        elif val>51:\n",
    "            values.append(\"text_reviews_count highest\")\n",
    "        else:\n",
    "            values.append(\"NaN\")\n",
    "    print(len(values))\n",
    "    return values"
   ]
  },
  {
   "cell_type": "code",
   "execution_count": 28,
   "metadata": {},
   "outputs": [
    {
     "name": "stdout",
     "output_type": "stream",
     "text": [
      "4698\n"
     ]
    },
    {
     "data": {
      "text/plain": [
       "<matplotlib.legend.Legend at 0x1c8cb36bba8>"
      ]
     },
     "execution_count": 28,
     "metadata": {},
     "output_type": "execute_result"
    },
    {
     "data": {
      "image/png": "[encoded data removed]",
      "text/plain": [
       "<Figure size 432x288 with 1 Axes>"
      ]
     },
     "metadata": {},
     "output_type": "display_data"
    }
   ],
   "source": [
    "df['text_reviews_count_dist'] = segregation(df)\n",
    "ratings_pie = df['text_reviews_count_dist'].value_counts().reset_index()\n",
    "labels = ratings_pie['index']\n",
    "colors = ['aliceblue','lightblue','dodgerblue','royalblue','navy']\n",
    "percent = 100.*ratings_pie['text_reviews_count_dist']/ratings_pie['text_reviews_count_dist'].sum()\n",
    "fig, ax1 = plt.subplots()\n",
    "ax1.pie(ratings_pie['text_reviews_count_dist'],colors = colors, \n",
    "        pctdistance=0.85, startangle=90, explode=(0.05, 0.05, 0.05, 0.05, 0.05))\n",
    "#Draw a circle now:\n",
    "centre_circle = plt.Circle((0,0), 0.70, fc ='white')\n",
    "fig1 = plt.gcf()\n",
    "fig1.gca().add_artist(centre_circle)\n",
    "#Equal Aspect ratio ensures that pie is drawn as a circle\n",
    "plt.axis('equal')\n",
    "plt.tight_layout()\n",
    "labels = ['{0} - {1:1.2f} %'.format(i,j) for i,j in zip(labels, percent)]\n",
    "plt.legend( labels, loc = 'best',bbox_to_anchor=(-0.1, 1.),)"
   ]
  },
  {
   "cell_type": "markdown",
   "metadata": {},
   "source": [
    "- 평점과 리뷰 수 사이의 관계를 살펴보기"
   ]
  },
  {
   "cell_type": "code",
   "execution_count": 32,
   "metadata": {},
   "outputs": [
    {
     "data": {
      "text/plain": [
       "<Figure size 1080x720 with 0 Axes>"
      ]
     },
     "metadata": {},
     "output_type": "display_data"
    },
    {
     "data": {
      "image/png": "[encoded data removed]",
      "text/plain": [
       "<Figure size 432x432 with 3 Axes>"
      ]
     },
     "metadata": {},
     "output_type": "display_data"
    }
   ],
   "source": [
    "#Checking for any relation between them.\n",
    "plt.figure(figsize=(15,10))\n",
    "sns.set_context('paper')\n",
    "ax =sns.jointplot(x=\"average_rating\",y='text_reviews_count', kind='scatter',  data= df[['text_reviews_count', 'average_rating']])\n",
    "ax.set_axis_labels(\"Average Rating\", \"Text Review Count\")\n",
    "plt.show()"
   ]
  },
  {
   "cell_type": "markdown",
   "metadata": {},
   "source": [
    "## 4) k_means 군집분석, KNN Modeling"
   ]
  },
  {
   "cell_type": "markdown",
   "metadata": {},
   "source": [
    "- KMeans 클러스터링은 레이블이 지정되지 않은 데이터를 그룹화하는 비지도 학습 유형입니다. 목표는 데이터에서 그룹을 찾는 것입니다.\n",
    "\n",
    "- 이를 통해 평점 수와 평균 평점 값 사이의 관계 또는 그룹을 찾기 위해 노력합니다."
   ]
  },
  {
   "cell_type": "code",
   "execution_count": 33,
   "metadata": {},
   "outputs": [],
   "source": [
    "trial = df[['average_rating','loan_count','text_reviews_count']]\n",
    "data = np.asarray([np.asarray(trial['average_rating']), np.asarray(trial['loan_count']),np.asarray(trial['text_reviews_count'])]).T"
   ]
  },
  {
   "cell_type": "code",
   "execution_count": 34,
   "metadata": {},
   "outputs": [
    {
     "data": {
      "text/plain": [
       "Text(0.5, 1.0, 'Elbow Curve')"
      ]
     },
     "execution_count": 34,
     "metadata": {},
     "output_type": "execute_result"
    },
    {
     "data": {
      "image/png": "[encoded data removed]",
      "text/plain": [
       "<Figure size 1080x720 with 1 Axes>"
      ]
     },
     "metadata": {},
     "output_type": "display_data"
    }
   ],
   "source": [
    "X = data\n",
    "distortions = []\n",
    "for k in range(2,30):\n",
    "    k_means = KMeans(n_clusters = k)\n",
    "    k_means.fit(X)\n",
    "    distortions.append(k_means.inertia_)\n",
    "\n",
    "fig = plt.figure(figsize=(15,10))\n",
    "plt.plot(range(2,30), distortions, 'bx-')\n",
    "plt.title(\"Elbow Curve\")\n",
    "\n",
    "# elbow point가 5에서 많이 꺾이는 것을 확인할 수 있다."
   ]
  },
  {
   "cell_type": "code",
   "execution_count": 35,
   "metadata": {},
   "outputs": [],
   "source": [
    "#elbow point를 통해 군집의 수를 5로 정함\n",
    "centroids, _ = kmeans(data, 5)\n",
    "\n",
    "#각 샘플을 클러스터에 할당하기 \n",
    "#벡터 양자화 : N개의 특징 벡터 집합 X를 k개의 특징 벡터들의 집합 Y로 매핑하는것\n",
    "\n",
    "idx, _ = vq(data, centroids)"
   ]
  },
  {
   "cell_type": "code",
   "execution_count": 36,
   "metadata": {},
   "outputs": [
    {
     "data": {
      "image/png": "[encoded data removed]",
      "text/plain": [
       "<Figure size 1080x720 with 1 Axes>"
      ]
     },
     "metadata": {},
     "output_type": "display_data"
    }
   ],
   "source": [
    "# some plotting using numpy's logical indexing\n",
    "sns.set_context('paper')\n",
    "plt.figure(figsize=(15,10))\n",
    "plt.plot(data[idx==0,0],data[idx==0,1],'or',#red circles\n",
    "     data[idx==1,0],data[idx==1,1],'ob',#blue circles\n",
    "     data[idx==2,0],data[idx==2,1],'oy', #yellow circles\n",
    "     data[idx==3,0],data[idx==3,1],'om', #magenta circles\n",
    "     data[idx==4,0],data[idx==4,1],'ok',#black circles\n",
    "    \n",
    "     \n",
    "        \n",
    "        \n",
    "        \n",
    "        \n",
    "        )\n",
    "plt.plot(centroids[:,0],centroids[:,1],'sg',markersize=8, )\n",
    "\n",
    "\n",
    "\n",
    "\n",
    "circle1 = Line2D(range(1), range(1), color = 'red', linewidth = 0, marker= 'o', markerfacecolor='red')\n",
    "circle2 = Line2D(range(1), range(1), color = 'blue', linewidth = 0,marker= 'o', markerfacecolor='blue')\n",
    "circle3 = Line2D(range(1), range(1), color = 'yellow',linewidth=0,  marker= 'o', markerfacecolor='yellow')\n",
    "circle4 = Line2D(range(1), range(1), color = 'magenta', linewidth=0,marker= 'o', markerfacecolor='magenta')\n",
    "circle5 = Line2D(range(1), range(1), color = 'black', linewidth = 0,marker= 'o', markerfacecolor='black')\n",
    "\n",
    "plt.legend((circle1, circle2, circle3, circle4, circle5)\n",
    "           , ('Cluster 1','Cluster 2', 'Cluster 3', 'Cluster 4', 'Cluster 5'), numpoints = 1, loc = 0, )\n",
    "\n",
    "\n",
    "plt.show()"
   ]
  },
  {
   "cell_type": "markdown",
   "metadata": {},
   "source": [
    "### Recommendation Engin"
   ]
  },
  {
   "cell_type": "code",
   "execution_count": 50,
   "metadata": {},
   "outputs": [],
   "source": [
    "books_features = pd.concat([df['Ratings_Dist'].str.get_dummies(sep=\",\"), df['average_rating'], df['loan_count'],df['text_reviews_count']], axis=1)"
   ]
  },
  {
   "cell_type": "code",
   "execution_count": 39,
   "metadata": {},
   "outputs": [
    {
     "data": {
      "text/html": [
       "<div>\n",
       "<style scoped>\n",
       "    .dataframe tbody tr th:only-of-type {\n",
       "        vertical-align: middle;\n",
       "    }\n",
       "\n",
       "    .dataframe tbody tr th {\n",
       "        vertical-align: top;\n",
       "    }\n",
       "\n",
       "    .dataframe thead th {\n",
       "        text-align: right;\n",
       "    }\n",
       "</style>\n",
       "<table border=\"1\" class=\"dataframe\">\n",
       "  <thead>\n",
       "    <tr style=\"text-align: right;\">\n",
       "      <th></th>\n",
       "      <th>average_rating higher</th>\n",
       "      <th>average_rating highest</th>\n",
       "      <th>average_rating lower</th>\n",
       "      <th>average_rating medium</th>\n",
       "      <th>average_rating zero</th>\n",
       "      <th>average_rating</th>\n",
       "      <th>loan_count</th>\n",
       "      <th>text_reviews_count</th>\n",
       "    </tr>\n",
       "  </thead>\n",
       "  <tbody>\n",
       "    <tr>\n",
       "      <th>0</th>\n",
       "      <td>0</td>\n",
       "      <td>0</td>\n",
       "      <td>1</td>\n",
       "      <td>0</td>\n",
       "      <td>0</td>\n",
       "      <td>9.3</td>\n",
       "      <td>13336</td>\n",
       "      <td>1540.0</td>\n",
       "    </tr>\n",
       "    <tr>\n",
       "      <th>1</th>\n",
       "      <td>0</td>\n",
       "      <td>0</td>\n",
       "      <td>1</td>\n",
       "      <td>0</td>\n",
       "      <td>0</td>\n",
       "      <td>9.3</td>\n",
       "      <td>13117</td>\n",
       "      <td>997.0</td>\n",
       "    </tr>\n",
       "    <tr>\n",
       "      <th>2</th>\n",
       "      <td>0</td>\n",
       "      <td>0</td>\n",
       "      <td>1</td>\n",
       "      <td>0</td>\n",
       "      <td>0</td>\n",
       "      <td>9.3</td>\n",
       "      <td>13004</td>\n",
       "      <td>1819.0</td>\n",
       "    </tr>\n",
       "    <tr>\n",
       "      <th>3</th>\n",
       "      <td>0</td>\n",
       "      <td>0</td>\n",
       "      <td>1</td>\n",
       "      <td>0</td>\n",
       "      <td>0</td>\n",
       "      <td>8.7</td>\n",
       "      <td>11629</td>\n",
       "      <td>244.0</td>\n",
       "    </tr>\n",
       "    <tr>\n",
       "      <th>4</th>\n",
       "      <td>1</td>\n",
       "      <td>0</td>\n",
       "      <td>0</td>\n",
       "      <td>0</td>\n",
       "      <td>0</td>\n",
       "      <td>9.7</td>\n",
       "      <td>11385</td>\n",
       "      <td>325.0</td>\n",
       "    </tr>\n",
       "    <tr>\n",
       "      <th>...</th>\n",
       "      <td>...</td>\n",
       "      <td>...</td>\n",
       "      <td>...</td>\n",
       "      <td>...</td>\n",
       "      <td>...</td>\n",
       "      <td>...</td>\n",
       "      <td>...</td>\n",
       "      <td>...</td>\n",
       "    </tr>\n",
       "    <tr>\n",
       "      <th>4693</th>\n",
       "      <td>0</td>\n",
       "      <td>1</td>\n",
       "      <td>0</td>\n",
       "      <td>0</td>\n",
       "      <td>0</td>\n",
       "      <td>10.0</td>\n",
       "      <td>1007</td>\n",
       "      <td>8.0</td>\n",
       "    </tr>\n",
       "    <tr>\n",
       "      <th>4694</th>\n",
       "      <td>0</td>\n",
       "      <td>0</td>\n",
       "      <td>1</td>\n",
       "      <td>0</td>\n",
       "      <td>0</td>\n",
       "      <td>9.3</td>\n",
       "      <td>1007</td>\n",
       "      <td>36.0</td>\n",
       "    </tr>\n",
       "    <tr>\n",
       "      <th>4695</th>\n",
       "      <td>0</td>\n",
       "      <td>0</td>\n",
       "      <td>0</td>\n",
       "      <td>1</td>\n",
       "      <td>0</td>\n",
       "      <td>9.5</td>\n",
       "      <td>1007</td>\n",
       "      <td>9.0</td>\n",
       "    </tr>\n",
       "    <tr>\n",
       "      <th>4696</th>\n",
       "      <td>0</td>\n",
       "      <td>0</td>\n",
       "      <td>0</td>\n",
       "      <td>1</td>\n",
       "      <td>0</td>\n",
       "      <td>9.4</td>\n",
       "      <td>1007</td>\n",
       "      <td>19.0</td>\n",
       "    </tr>\n",
       "    <tr>\n",
       "      <th>4697</th>\n",
       "      <td>0</td>\n",
       "      <td>0</td>\n",
       "      <td>1</td>\n",
       "      <td>0</td>\n",
       "      <td>0</td>\n",
       "      <td>7.5</td>\n",
       "      <td>1007</td>\n",
       "      <td>1.0</td>\n",
       "    </tr>\n",
       "  </tbody>\n",
       "</table>\n",
       "<p>4698 rows × 8 columns</p>\n",
       "</div>"
      ],
      "text/plain": [
       "      average_rating higher  average_rating highest  average_rating lower  \\\n",
       "0                         0                       0                     1   \n",
       "1                         0                       0                     1   \n",
       "2                         0                       0                     1   \n",
       "3                         0                       0                     1   \n",
       "4                         1                       0                     0   \n",
       "...                     ...                     ...                   ...   \n",
       "4693                      0                       1                     0   \n",
       "4694                      0                       0                     1   \n",
       "4695                      0                       0                     0   \n",
       "4696                      0                       0                     0   \n",
       "4697                      0                       0                     1   \n",
       "\n",
       "      average_rating medium  average_rating zero  average_rating  loan_count  \\\n",
       "0                         0                    0             9.3       13336   \n",
       "1                         0                    0             9.3       13117   \n",
       "2                         0                    0             9.3       13004   \n",
       "3                         0                    0             8.7       11629   \n",
       "4                         0                    0             9.7       11385   \n",
       "...                     ...                  ...             ...         ...   \n",
       "4693                      0                    0            10.0        1007   \n",
       "4694                      0                    0             9.3        1007   \n",
       "4695                      1                    0             9.5        1007   \n",
       "4696                      1                    0             9.4        1007   \n",
       "4697                      0                    0             7.5        1007   \n",
       "\n",
       "      text_reviews_count  \n",
       "0                 1540.0  \n",
       "1                  997.0  \n",
       "2                 1819.0  \n",
       "3                  244.0  \n",
       "4                  325.0  \n",
       "...                  ...  \n",
       "4693                 8.0  \n",
       "4694                36.0  \n",
       "4695                 9.0  \n",
       "4696                19.0  \n",
       "4697                 1.0  \n",
       "\n",
       "[4698 rows x 8 columns]"
      ]
     },
     "execution_count": 39,
     "metadata": {},
     "output_type": "execute_result"
    }
   ],
   "source": [
    "books_features"
   ]
  },
  {
   "cell_type": "markdown",
   "metadata": {},
   "source": [
    "- knn모델 정확도 확인하기"
   ]
  },
  {
   "cell_type": "code",
   "execution_count": 40,
   "metadata": {},
   "outputs": [],
   "source": [
    "def aa(data):\n",
    "    values = []\n",
    "    for val in data.Ratings_Dist:\n",
    "        if val==\"average_rating zero\":\n",
    "            values.append(0)\n",
    "        elif  val==\"average_rating lower\":\n",
    "            values.append(1)\n",
    "        elif val==\"average_rating medium\":\n",
    "            values.append(2)\n",
    "        elif val==\"average_rating higher\":\n",
    "            values.append(3)\n",
    "        elif val==\"average_rating highest\":\n",
    "            values.append(4)\n",
    "        else:\n",
    "            values.append(\"NaN\")\n",
    "    print(len(values))\n",
    "    return values"
   ]
  },
  {
   "cell_type": "code",
   "execution_count": 41,
   "metadata": {},
   "outputs": [
    {
     "name": "stdout",
     "output_type": "stream",
     "text": [
      "4698\n"
     ]
    }
   ],
   "source": [
    "df['check']=aa(df)"
   ]
  },
  {
   "cell_type": "code",
   "execution_count": 42,
   "metadata": {},
   "outputs": [],
   "source": [
    "df_data=pd.DataFrame([df.loan_count,df.text_reviews_count,df.average_rating])"
   ]
  },
  {
   "cell_type": "code",
   "execution_count": 43,
   "metadata": {},
   "outputs": [],
   "source": [
    "df_data=df_data.T"
   ]
  },
  {
   "cell_type": "code",
   "execution_count": 44,
   "metadata": {},
   "outputs": [],
   "source": [
    "min_max_scaler = MinMaxScaler()\n",
    "books_features = min_max_scaler.fit_transform(df_data)"
   ]
  },
  {
   "cell_type": "code",
   "execution_count": 45,
   "metadata": {},
   "outputs": [],
   "source": [
    "X_train, X_test, y_train, y_test = train_test_split(books_features, df['check'], test_size = 0.2, random_state = 100)"
   ]
  },
  {
   "cell_type": "code",
   "execution_count": 46,
   "metadata": {},
   "outputs": [],
   "source": [
    "# 필요한 library import\n",
    "from sklearn.neighbors import KNeighborsClassifier\n",
    "from sklearn.model_selection import train_test_split, cross_val_score"
   ]
  },
  {
   "cell_type": "code",
   "execution_count": 47,
   "metadata": {},
   "outputs": [
    {
     "data": {
      "text/plain": [
       "KNeighborsClassifier(algorithm='ball_tree', n_neighbors=6)"
      ]
     },
     "execution_count": 47,
     "metadata": {},
     "output_type": "execute_result"
    }
   ],
   "source": [
    "model = KNeighborsClassifier(n_neighbors=6, algorithm='ball_tree')\n",
    "model.fit(X_train,y_train)\n",
    "#distance, indices = model.kneighbors(books_features)"
   ]
  },
  {
   "cell_type": "code",
   "execution_count": 48,
   "metadata": {},
   "outputs": [],
   "source": [
    "prediction = model.predict(X_test)"
   ]
  },
  {
   "cell_type": "code",
   "execution_count": 49,
   "metadata": {},
   "outputs": [
    {
     "name": "stdout",
     "output_type": "stream",
     "text": [
      "테스트 정확도 : 0.969\n"
     ]
    }
   ],
   "source": [
    "print(\"테스트 정확도 : {0:.3f}\".format((prediction==y_test).mean()))"
   ]
  },
  {
   "cell_type": "markdown",
   "metadata": {},
   "source": [
    "- 정확도 확인 후 전체 데이터에 모델 적용하기 "
   ]
  },
  {
   "cell_type": "code",
   "execution_count": 51,
   "metadata": {},
   "outputs": [],
   "source": [
    "model = neighbors.NearestNeighbors(n_neighbors=6, algorithm='ball_tree')\n",
    "model.fit(books_features)\n",
    "distance, indices = model.kneighbors(books_features)"
   ]
  },
  {
   "cell_type": "code",
   "execution_count": 52,
   "metadata": {},
   "outputs": [
    {
     "data": {
      "text/plain": [
       "(array([[0.00000000e+00, 4.33664617e+02, 5.85499787e+02, 2.14323712e+03,\n",
       "         2.29839687e+03, 2.32846045e+03],\n",
       "        [0.00000000e+00, 5.85499787e+02, 8.29730679e+02, 1.66767903e+03,\n",
       "         1.85779713e+03, 1.90012897e+03],\n",
       "        [0.00000000e+00, 4.33664617e+02, 8.29730679e+02, 1.99926516e+03,\n",
       "         2.09075354e+03, 2.20299777e+03],\n",
       "        ...,\n",
       "        [0.00000000e+00, 1.80277564e+00, 2.86530976e+00, 3.16859590e+00,\n",
       "         3.47706773e+00, 4.37721373e+00],\n",
       "        [0.00000000e+00, 2.66270539e+00, 2.67581763e+00, 3.00665928e+00,\n",
       "         5.09901951e+00, 7.17565328e+00],\n",
       "        [0.00000000e+00, 1.53622915e+00, 1.80277564e+00, 3.04138127e+00,\n",
       "         3.50000000e+00, 3.64005494e+00]]),\n",
       " array([[   0,    2,    1,    3,    4,    5],\n",
       "        [   1,    0,    2,    3,    4,    5],\n",
       "        [   2,    0,    1,    6,    3,    4],\n",
       "        ...,\n",
       "        [4695, 4693, 4678, 4677, 4683, 4661],\n",
       "        [4696, 4686, 4681, 4669, 4658, 4692],\n",
       "        [4697, 4685, 4690, 4691, 4674, 4679]], dtype=int64))"
      ]
     },
     "execution_count": 52,
     "metadata": {},
     "output_type": "execute_result"
    }
   ],
   "source": [
    "distance, indices"
   ]
  },
  {
   "cell_type": "code",
   "execution_count": null,
   "metadata": {},
   "outputs": [],
   "source": [
    "# 책 이름을 찾는 데 도움이되는 특정 기능 만들기 :\n",
    "\n",
    "# 제목에서 색인 가져 오기\n",
    "# 일부 이름에서 ID 가져 오기 (모든 사람이 모든 이름을 기억할 수는 없기 때문에)\n",
    "# 기능 데이터 세트에서 유사한 책을 인쇄합니다. (이는 가장 가까운 이웃의 인덱스 지표를 사용하여 책을 선택합니다.)"
   ]
  },
  {
   "cell_type": "code",
   "execution_count": 53,
   "metadata": {},
   "outputs": [],
   "source": [
    "def get_index_from_name(name):\n",
    "    return df[df[\"bookname\"]==name].index.tolist()[0]\n",
    "\n",
    "all_books_names = list(df.bookname.values)\n",
    "\n",
    "# 특정단어를 통해 책 찾기\n",
    "def get_id_from_partial_name(partial):\n",
    "    for name in all_books_names:\n",
    "        if partial in name:\n",
    "            print(name)\n",
    "\n",
    "\n",
    "# 내가 검색한 책의 인기도와 유사한 책 5권 추천\n",
    "def print_similar_books(query=None,id=None):\n",
    "    if id:\n",
    "        for id in indices[id][1:]:\n",
    "            print(df.iloc[id][\"bookname\"],df.iloc[id][\"authors\"],df.iloc[id][\"bookImageURL\"])\n",
    "    if query:\n",
    "        found_id = get_index_from_name(query)\n",
    "        for id in indices[found_id][1:]:\n",
    "            print(df.iloc[id][\"bookname\"],df.iloc[id][\"authors\"],df.iloc[id][\"bookImageURL\"])"
   ]
  },
  {
   "cell_type": "markdown",
   "metadata": {},
   "source": [
    "- 시스템이 잘 작동하는지 확인하기"
   ]
  },
  {
   "cell_type": "code",
   "execution_count": 54,
   "metadata": {},
   "outputs": [
    {
     "name": "stdout",
     "output_type": "stream",
     "text": [
      "나미야 잡화점의 기적 :히가시노 게이고 장편소설 지은이: 히가시노 게이고 ;옮긴이: 양윤옥 http://image.aladin.co.kr/product/15848/6/cover/k622533431_1.jpg\n",
      "아몬드 (양장 특별 한정판) 손원평 (지은이) http://image.aladin.co.kr/product/16839/4/cover/k492534773_1.jpg\n",
      "선량한 차별주의자 김지혜 지음 https://image.aladin.co.kr/product/19874/76/cover/8936477196_1.jpg\n",
      "(추리 천재) 엉덩이 탐정 트롤 글·그림 ;김정화 옮김 https://image.aladin.co.kr/product/17457/14/cover/k792534209_1.jpg\n",
      "(추리 천재) 엉덩이 탐정 트롤 글·그림 ;김정화 옮김 https://image.aladin.co.kr/product/19874/27/cover/k432635431_1.jpg\n"
     ]
    }
   ],
   "source": [
    "# 평점이랑 많이 빌린책을 종합적으로 봤을때 인기있는 책 찾기 - test1\n",
    "print_similar_books(\"여행의 이유 :김영하 산문\")"
   ]
  },
  {
   "cell_type": "code",
   "execution_count": 55,
   "metadata": {},
   "outputs": [
    {
     "name": "stdout",
     "output_type": "stream",
     "text": [
      "(추리 천재) 엉덩이 탐정 트롤 글·그림 ;김정화 옮김 https://image.aladin.co.kr/product/17457/14/cover/k792534209_1.jpg\n",
      "(추리 천재) 엉덩이 탐정 트롤 글·그림 ;김정화 옮김 https://image.aladin.co.kr/product/19874/27/cover/k432635431_1.jpg\n",
      "추리 천재 엉덩이 탐정 5 - 유적에서 날아온 SOS 사건 트롤 https://bookthumb-phinf.pstatic.net/cover/129/756/12975600.jpg?type=m1&udate=20180126\n",
      "(추리 천재) 엉덩이 탐정 트롤 글·그림 ;김정화 옮김 https://bookthumb-phinf.pstatic.net/cover/124/953/12495377.jpg?type=m1&udate=20170829\n",
      "추리 천재 엉덩이 탐정 6 - 수상한 탐정 사무소 사건 트롤 https://bookthumb-phinf.pstatic.net/cover/135/613/13561388.jpg?type=m1&udate=20180619\n"
     ]
    }
   ],
   "source": [
    "print_similar_books('선량한 차별주의자')"
   ]
  },
  {
   "cell_type": "code",
   "execution_count": 56,
   "metadata": {},
   "outputs": [
    {
     "name": "stdout",
     "output_type": "stream",
     "text": [
      "해리포터와 마법사의 돌\n",
      "해리포터와 마법사의 돌\n",
      "해리포터 :마법사의 돌\n",
      "해리포터와 비밀의 방\n",
      "해리포터와 비밀의 방\n",
      "해리포터 :마법사의 돌\n",
      "해리포터 :비밀의 방\n",
      "해리포터 :스페셜 리허설 에디션 대본\n",
      "해리포터 :비밀의 방\n",
      "해리포터와 불의 잔\n",
      "해리포터 :스페셜 리허설 에디션 대본\n",
      "해리포터와 아즈카반의 죄수\n",
      "해리포터와 아즈카반의 죄수\n",
      "해리포터 :아즈카반의 죄수\n",
      "해리포터와 불의 잔\n",
      "해리포터와 불사조 기사단\n",
      "해리포터 :아즈카반의 죄수\n",
      "해리포터 :불의 잔\n",
      "해리포터와 불의 잔\n",
      "해리포터와 불사조 기사단\n",
      "해리포터와 혼혈왕자\n",
      "해리포터 :불의 잔\n",
      "해리포터와 불사조 기사단\n",
      "해리포터와 불사조 기사단\n",
      "해리포터와 불사조 기사단\n",
      "해리포터 :불사조 기사단\n",
      "해리포터와 죽음의 성물\n",
      "해리포터와 혼혈왕자\n",
      "해리포터 :불의 잔\n",
      "해리포터와 죽음의 성물\n",
      "해리포터 :혼혈 왕자\n",
      "해리포터와 혼혈왕자\n",
      "해리포터 :불의 잔\n",
      "해리포터 :불사조 기사단\n",
      "해리포터 :죽음의 성물\n",
      "해리포터 :불사조 기사단\n",
      "해리포터 :혼혈 왕자\n",
      "해리포터 :죽음의 성물\n",
      "해리포터 :불사조 기사단\n",
      "해리포터 :불사조 기사단\n",
      "해리포터 :혼혈 왕자\n",
      "해리포터 :죽음의 성물\n",
      "해리포터 :혼혈 왕자\n"
     ]
    }
   ],
   "source": [
    "# 특정 단어가 들어간 책 찾아주기 \n",
    "get_id_from_partial_name(\"해리포터\")"
   ]
  }
 ],
 "metadata": {
  "kernelspec": {
   "display_name": "Python 3",
   "language": "python",
   "name": "python3"
  },
  "language_info": {
   "codemirror_mode": {
    "name": "ipython",
    "version": 3
   },
   "file_extension": ".py",
   "mimetype": "text/x-python",
   "name": "python",
   "nbconvert_exporter": "python",
   "pygments_lexer": "ipython3",
   "version": "3.6.12"
  }
 },
 "nbformat": 4,
 "nbformat_minor": 4
}
