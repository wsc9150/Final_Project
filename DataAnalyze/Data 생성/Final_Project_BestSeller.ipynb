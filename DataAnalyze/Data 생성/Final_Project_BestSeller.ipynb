{
 "cells": [
  {
   "cell_type": "code",
   "execution_count": 2,
   "metadata": {},
   "outputs": [],
   "source": [
    "import json\n",
    "import pandas as pd\n",
    "import numpy as np\n",
    "\n",
    "import requests\n",
    "\n",
    "from tqdm import tqdm_notebook"
   ]
  },
  {
   "cell_type": "markdown",
   "metadata": {},
   "source": [
    "## 인기대출도서 데이터 수집 및 전처리"
   ]
  },
  {
   "cell_type": "code",
   "execution_count": 2,
   "metadata": {},
   "outputs": [],
   "source": [
    "# 인기대출도서 데이터 가져오기\n",
    "a1 = open('./data/final/BestSeller_1.json', encoding = 'utf-8').read()\n",
    "a2 = open('./data/final/BestSeller_2.json', encoding = 'utf-8').read()\n",
    "a3 = open('./data/final/BestSeller_3.json', encoding = 'utf-8').read()\n",
    "a4 = open('./data/final/BestSeller_4.json', encoding = 'utf-8').read()\n",
    "a5 = open('./data/final/BestSeller_5.json', encoding = 'utf-8').read()\n",
    "\n",
    "bestSeller01 = json.loads(a1)\n",
    "bestSeller02 = json.loads(a2)\n",
    "bestSeller03 = json.loads(a3)\n",
    "bestSeller04 = json.loads(a4)\n",
    "bestSeller05 = json.loads(a5)"
   ]
  },
  {
   "cell_type": "code",
   "execution_count": 3,
   "metadata": {},
   "outputs": [],
   "source": [
    "# 컬럼 이름 리스트 생성\n",
    "columns = bestSeller01['response']['docs'][0]['doc'].keys()\n",
    "\n",
    "# 비어있는 데이터프레임 생성\n",
    "best_seller_df = pd.DataFrame(columns = columns)"
   ]
  },
  {
   "cell_type": "code",
   "execution_count": 4,
   "metadata": {},
   "outputs": [],
   "source": [
    "# 반복을 수행하며 데이터프레임에 데이터 추가\n",
    "for i in range(5000) :\n",
    "    if 0 <= i <= 999 :\n",
    "        best_seller_df.loc[i] = list(bestSeller01['response']['docs'][i]['doc'].values())\n",
    "    elif 1000 <= i <= 1999 :\n",
    "        best_seller_df.loc[i] = list(bestSeller02['response']['docs'][i - 1000]['doc'].values())\n",
    "    elif 2000 <= i <= 2999 :\n",
    "        best_seller_df.loc[i] = list(bestSeller03['response']['docs'][i - 2000]['doc'].values())\n",
    "    elif 3000 <= i <= 3999 :\n",
    "        best_seller_df.loc[i] = list(bestSeller04['response']['docs'][i - 3000]['doc'].values())\n",
    "    else :\n",
    "        best_seller_df.loc[i] = list(bestSeller05['response']['docs'][i - 4000]['doc'].values())"
   ]
  },
  {
   "cell_type": "code",
   "execution_count": 5,
   "metadata": {},
   "outputs": [
    {
     "data": {
      "text/html": [
       "<div>\n",
       "<style scoped>\n",
       "    .dataframe tbody tr th:only-of-type {\n",
       "        vertical-align: middle;\n",
       "    }\n",
       "\n",
       "    .dataframe tbody tr th {\n",
       "        vertical-align: top;\n",
       "    }\n",
       "\n",
       "    .dataframe thead th {\n",
       "        text-align: right;\n",
       "    }\n",
       "</style>\n",
       "<table border=\"1\" class=\"dataframe\">\n",
       "  <thead>\n",
       "    <tr style=\"text-align: right;\">\n",
       "      <th></th>\n",
       "      <th>no</th>\n",
       "      <th>ranking</th>\n",
       "      <th>bookname</th>\n",
       "      <th>authors</th>\n",
       "      <th>publisher</th>\n",
       "      <th>publication_year</th>\n",
       "      <th>isbn13</th>\n",
       "      <th>addition_symbol</th>\n",
       "      <th>vol</th>\n",
       "      <th>class_no</th>\n",
       "      <th>loan_count</th>\n",
       "      <th>bookImageURL</th>\n",
       "    </tr>\n",
       "  </thead>\n",
       "  <tbody>\n",
       "    <tr>\n",
       "      <th>0</th>\n",
       "      <td>1</td>\n",
       "      <td>1</td>\n",
       "      <td>여행의 이유 :김영하 산문</td>\n",
       "      <td>지은이: 김영하</td>\n",
       "      <td>문학동네</td>\n",
       "      <td>2019</td>\n",
       "      <td>9788954655972</td>\n",
       "      <td>03810</td>\n",
       "      <td></td>\n",
       "      <td>816.7</td>\n",
       "      <td>13,336</td>\n",
       "      <td>https://image.aladin.co.kr/product/18827/60/co...</td>\n",
       "    </tr>\n",
       "    <tr>\n",
       "      <th>1</th>\n",
       "      <td>2</td>\n",
       "      <td>2</td>\n",
       "      <td>아몬드 (양장 특별 한정판)</td>\n",
       "      <td>손원평 (지은이)</td>\n",
       "      <td>창비</td>\n",
       "      <td>2017</td>\n",
       "      <td>9788936434267</td>\n",
       "      <td>03810</td>\n",
       "      <td></td>\n",
       "      <td>813.7</td>\n",
       "      <td>13,117</td>\n",
       "      <td>http://image.aladin.co.kr/product/16839/4/cove...</td>\n",
       "    </tr>\n",
       "    <tr>\n",
       "      <th>2</th>\n",
       "      <td>3</td>\n",
       "      <td>3</td>\n",
       "      <td>나미야 잡화점의 기적 :히가시노 게이고 장편소설</td>\n",
       "      <td>지은이: 히가시노 게이고 ;옮긴이: 양윤옥</td>\n",
       "      <td>현대문학</td>\n",
       "      <td>2012</td>\n",
       "      <td>9788972756194</td>\n",
       "      <td>03830</td>\n",
       "      <td></td>\n",
       "      <td>833.6</td>\n",
       "      <td>13,004</td>\n",
       "      <td>http://image.aladin.co.kr/product/15848/6/cove...</td>\n",
       "    </tr>\n",
       "    <tr>\n",
       "      <th>3</th>\n",
       "      <td>4</td>\n",
       "      <td>4</td>\n",
       "      <td>선량한 차별주의자</td>\n",
       "      <td>김지혜 지음</td>\n",
       "      <td>창비</td>\n",
       "      <td>2019</td>\n",
       "      <td>9788936477196</td>\n",
       "      <td>03300</td>\n",
       "      <td></td>\n",
       "      <td>334</td>\n",
       "      <td>11,629</td>\n",
       "      <td>https://image.aladin.co.kr/product/19874/76/co...</td>\n",
       "    </tr>\n",
       "    <tr>\n",
       "      <th>4</th>\n",
       "      <td>5</td>\n",
       "      <td>5</td>\n",
       "      <td>(추리 천재) 엉덩이 탐정</td>\n",
       "      <td>트롤 글·그림 ;김정화 옮김</td>\n",
       "      <td>미래엔</td>\n",
       "      <td></td>\n",
       "      <td>9791162339466</td>\n",
       "      <td>74830</td>\n",
       "      <td>7</td>\n",
       "      <td>833.6</td>\n",
       "      <td>11,385</td>\n",
       "      <td>https://image.aladin.co.kr/product/17457/14/co...</td>\n",
       "    </tr>\n",
       "  </tbody>\n",
       "</table>\n",
       "</div>"
      ],
      "text/plain": [
       "  no ranking                     bookname                  authors publisher  \\\n",
       "0  1       1              여행의 이유 :김영하 산문                  지은이: 김영하      문학동네   \n",
       "1  2       2              아몬드 (양장 특별 한정판)                손원평 (지은이)        창비   \n",
       "2  3       3  나미야 잡화점의 기적 :히가시노 게이고 장편소설   지은이: 히가시노 게이고 ;옮긴이: 양윤옥      현대문학   \n",
       "3  4       4                   선량한 차별주의자                    김지혜 지음        창비   \n",
       "4  5       5               (추리 천재) 엉덩이 탐정          트롤 글·그림 ;김정화 옮김       미래엔   \n",
       "\n",
       "  publication_year         isbn13 addition_symbol vol class_no loan_count  \\\n",
       "0             2019  9788954655972           03810        816.7     13,336   \n",
       "1             2017  9788936434267           03810        813.7     13,117   \n",
       "2             2012  9788972756194           03830        833.6     13,004   \n",
       "3             2019  9788936477196           03300          334     11,629   \n",
       "4                   9791162339466           74830   7    833.6     11,385   \n",
       "\n",
       "                                        bookImageURL  \n",
       "0  https://image.aladin.co.kr/product/18827/60/co...  \n",
       "1  http://image.aladin.co.kr/product/16839/4/cove...  \n",
       "2  http://image.aladin.co.kr/product/15848/6/cove...  \n",
       "3  https://image.aladin.co.kr/product/19874/76/co...  \n",
       "4  https://image.aladin.co.kr/product/17457/14/co...  "
      ]
     },
     "execution_count": 5,
     "metadata": {},
     "output_type": "execute_result"
    }
   ],
   "source": [
    "best_seller_df.head()"
   ]
  },
  {
   "cell_type": "code",
   "execution_count": 6,
   "metadata": {},
   "outputs": [
    {
     "data": {
      "text/html": [
       "<div>\n",
       "<style scoped>\n",
       "    .dataframe tbody tr th:only-of-type {\n",
       "        vertical-align: middle;\n",
       "    }\n",
       "\n",
       "    .dataframe tbody tr th {\n",
       "        vertical-align: top;\n",
       "    }\n",
       "\n",
       "    .dataframe thead th {\n",
       "        text-align: right;\n",
       "    }\n",
       "</style>\n",
       "<table border=\"1\" class=\"dataframe\">\n",
       "  <thead>\n",
       "    <tr style=\"text-align: right;\">\n",
       "      <th></th>\n",
       "      <th>no</th>\n",
       "      <th>ranking</th>\n",
       "      <th>bookname</th>\n",
       "      <th>authors</th>\n",
       "      <th>publisher</th>\n",
       "      <th>publication_year</th>\n",
       "      <th>isbn13</th>\n",
       "      <th>addition_symbol</th>\n",
       "      <th>vol</th>\n",
       "      <th>class_no</th>\n",
       "      <th>loan_count</th>\n",
       "      <th>bookImageURL</th>\n",
       "    </tr>\n",
       "  </thead>\n",
       "  <tbody>\n",
       "    <tr>\n",
       "      <th>4995</th>\n",
       "      <td>4996</td>\n",
       "      <td>4987</td>\n",
       "      <td>1인 가구 돈 관리 :잘사는 혼삶의 필수 아이템</td>\n",
       "      <td>공아연 지음</td>\n",
       "      <td>위즈덤하우스</td>\n",
       "      <td>2018</td>\n",
       "      <td>9791162203897</td>\n",
       "      <td>03320</td>\n",
       "      <td></td>\n",
       "      <td>591.1</td>\n",
       "      <td>1,007</td>\n",
       "      <td>http://image.aladin.co.kr/product/15076/53/cov...</td>\n",
       "    </tr>\n",
       "    <tr>\n",
       "      <th>4996</th>\n",
       "      <td>4997</td>\n",
       "      <td>4987</td>\n",
       "      <td>이태원 클라쓰</td>\n",
       "      <td>글·그림: 광진</td>\n",
       "      <td>Young Com(영컴)</td>\n",
       "      <td></td>\n",
       "      <td>9791162790021</td>\n",
       "      <td>07810</td>\n",
       "      <td>4</td>\n",
       "      <td>810</td>\n",
       "      <td>1,007</td>\n",
       "      <td>https://image.aladin.co.kr/product/13822/51/co...</td>\n",
       "    </tr>\n",
       "    <tr>\n",
       "      <th>4997</th>\n",
       "      <td>4998</td>\n",
       "      <td>4987</td>\n",
       "      <td>자기혁명 독서법 :뭐라도 해야 했던 사람에서 뭐든 하는 사람으로</td>\n",
       "      <td>이재범 지음</td>\n",
       "      <td>프레너미</td>\n",
       "      <td>2019</td>\n",
       "      <td>9791187383475</td>\n",
       "      <td>03320</td>\n",
       "      <td></td>\n",
       "      <td>029.4</td>\n",
       "      <td>1,007</td>\n",
       "      <td>https://image.aladin.co.kr/product/19831/89/co...</td>\n",
       "    </tr>\n",
       "    <tr>\n",
       "      <th>4998</th>\n",
       "      <td>4999</td>\n",
       "      <td>4987</td>\n",
       "      <td>일기 고쳐 주는 아이(그래 책이야 25)</td>\n",
       "      <td>박선화</td>\n",
       "      <td>잇츠북어린이</td>\n",
       "      <td>2019</td>\n",
       "      <td>9791187903307</td>\n",
       "      <td></td>\n",
       "      <td></td>\n",
       "      <td></td>\n",
       "      <td>1,007</td>\n",
       "      <td>https://bookthumb-phinf.pstatic.net/cover/157/...</td>\n",
       "    </tr>\n",
       "    <tr>\n",
       "      <th>4999</th>\n",
       "      <td>5000</td>\n",
       "      <td>5000</td>\n",
       "      <td>Night of the Ninjas</td>\n",
       "      <td>by Mary Pope Osborne;illustrated by Sal Murdocca</td>\n",
       "      <td>Random House</td>\n",
       "      <td>1995</td>\n",
       "      <td>9780679963714</td>\n",
       "      <td></td>\n",
       "      <td>5</td>\n",
       "      <td></td>\n",
       "      <td>1,006</td>\n",
       "      <td>https://bookthumb-phinf.pstatic.net/cover/005/...</td>\n",
       "    </tr>\n",
       "  </tbody>\n",
       "</table>\n",
       "</div>"
      ],
      "text/plain": [
       "        no ranking                              bookname  \\\n",
       "4995  4996    4987           1인 가구 돈 관리 :잘사는 혼삶의 필수 아이템    \n",
       "4996  4997    4987                              이태원 클라쓰    \n",
       "4997  4998    4987  자기혁명 독서법 :뭐라도 해야 했던 사람에서 뭐든 하는 사람으로    \n",
       "4998  4999    4987                일기 고쳐 주는 아이(그래 책이야 25)   \n",
       "4999  5000    5000                   Night of the Ninjas   \n",
       "\n",
       "                                               authors      publisher  \\\n",
       "4995                                            공아연 지음         위즈덤하우스   \n",
       "4996                                          글·그림: 광진  Young Com(영컴)   \n",
       "4997                                            이재범 지음           프레너미   \n",
       "4998                                               박선화         잇츠북어린이   \n",
       "4999  by Mary Pope Osborne;illustrated by Sal Murdocca   Random House   \n",
       "\n",
       "     publication_year         isbn13 addition_symbol vol class_no loan_count  \\\n",
       "4995             2018  9791162203897           03320        591.1      1,007   \n",
       "4996                   9791162790021           07810   4      810      1,007   \n",
       "4997             2019  9791187383475           03320        029.4      1,007   \n",
       "4998             2019  9791187903307                                   1,007   \n",
       "4999             1995  9780679963714                   5               1,006   \n",
       "\n",
       "                                           bookImageURL  \n",
       "4995  http://image.aladin.co.kr/product/15076/53/cov...  \n",
       "4996  https://image.aladin.co.kr/product/13822/51/co...  \n",
       "4997  https://image.aladin.co.kr/product/19831/89/co...  \n",
       "4998  https://bookthumb-phinf.pstatic.net/cover/157/...  \n",
       "4999  https://bookthumb-phinf.pstatic.net/cover/005/...  "
      ]
     },
     "execution_count": 6,
     "metadata": {},
     "output_type": "execute_result"
    }
   ],
   "source": [
    "best_seller_df.tail()"
   ]
  },
  {
   "cell_type": "code",
   "execution_count": 7,
   "metadata": {},
   "outputs": [],
   "source": [
    "# 데이터프레임을 csv로 저장\n",
    "best_seller_df.to_csv('best_seller_df.csv', mode = 'w', index = False)"
   ]
  },
  {
   "cell_type": "code",
   "execution_count": 8,
   "metadata": {},
   "outputs": [
    {
     "data": {
      "text/plain": [
       "no                  296\n",
       "ranking             296\n",
       "bookname            296\n",
       "authors             296\n",
       "publisher           296\n",
       "publication_year    296\n",
       "isbn13              296\n",
       "addition_symbol     296\n",
       "vol                 296\n",
       "class_no            296\n",
       "loan_count          296\n",
       "bookImageURL        296\n",
       "dtype: int64"
      ]
     },
     "execution_count": 8,
     "metadata": {},
     "output_type": "execute_result"
    }
   ],
   "source": [
    "# isbn 중복 여부 확인\n",
    "best_seller_df[best_seller_df.duplicated(['isbn13'])].count()"
   ]
  },
  {
   "cell_type": "code",
   "execution_count": 9,
   "metadata": {},
   "outputs": [],
   "source": [
    "# isbn 고유식별번호 중복 제거\n",
    "best_seller_df.drop_duplicates(['isbn13'], keep = 'first', inplace = True)"
   ]
  },
  {
   "cell_type": "code",
   "execution_count": 10,
   "metadata": {},
   "outputs": [
    {
     "data": {
      "text/plain": [
       "(4704, 12)"
      ]
     },
     "execution_count": 10,
     "metadata": {},
     "output_type": "execute_result"
    }
   ],
   "source": [
    "best_seller_df.shape"
   ]
  },
  {
   "cell_type": "code",
   "execution_count": 11,
   "metadata": {},
   "outputs": [],
   "source": [
    "# 인덱스 초기화\n",
    "best_seller_df.reset_index(drop = True, inplace = True)"
   ]
  },
  {
   "cell_type": "code",
   "execution_count": 12,
   "metadata": {
    "scrolled": false
   },
   "outputs": [
    {
     "data": {
      "text/html": [
       "<div>\n",
       "<style scoped>\n",
       "    .dataframe tbody tr th:only-of-type {\n",
       "        vertical-align: middle;\n",
       "    }\n",
       "\n",
       "    .dataframe tbody tr th {\n",
       "        vertical-align: top;\n",
       "    }\n",
       "\n",
       "    .dataframe thead th {\n",
       "        text-align: right;\n",
       "    }\n",
       "</style>\n",
       "<table border=\"1\" class=\"dataframe\">\n",
       "  <thead>\n",
       "    <tr style=\"text-align: right;\">\n",
       "      <th></th>\n",
       "      <th>no</th>\n",
       "      <th>ranking</th>\n",
       "      <th>bookname</th>\n",
       "      <th>authors</th>\n",
       "      <th>publisher</th>\n",
       "      <th>publication_year</th>\n",
       "      <th>isbn13</th>\n",
       "      <th>addition_symbol</th>\n",
       "      <th>vol</th>\n",
       "      <th>class_no</th>\n",
       "      <th>loan_count</th>\n",
       "      <th>bookImageURL</th>\n",
       "    </tr>\n",
       "  </thead>\n",
       "  <tbody>\n",
       "    <tr>\n",
       "      <th>4699</th>\n",
       "      <td>4996</td>\n",
       "      <td>4987</td>\n",
       "      <td>1인 가구 돈 관리 :잘사는 혼삶의 필수 아이템</td>\n",
       "      <td>공아연 지음</td>\n",
       "      <td>위즈덤하우스</td>\n",
       "      <td>2018</td>\n",
       "      <td>9791162203897</td>\n",
       "      <td>03320</td>\n",
       "      <td></td>\n",
       "      <td>591.1</td>\n",
       "      <td>1,007</td>\n",
       "      <td>http://image.aladin.co.kr/product/15076/53/cov...</td>\n",
       "    </tr>\n",
       "    <tr>\n",
       "      <th>4700</th>\n",
       "      <td>4997</td>\n",
       "      <td>4987</td>\n",
       "      <td>이태원 클라쓰</td>\n",
       "      <td>글·그림: 광진</td>\n",
       "      <td>Young Com(영컴)</td>\n",
       "      <td></td>\n",
       "      <td>9791162790021</td>\n",
       "      <td>07810</td>\n",
       "      <td>4</td>\n",
       "      <td>810</td>\n",
       "      <td>1,007</td>\n",
       "      <td>https://image.aladin.co.kr/product/13822/51/co...</td>\n",
       "    </tr>\n",
       "    <tr>\n",
       "      <th>4701</th>\n",
       "      <td>4998</td>\n",
       "      <td>4987</td>\n",
       "      <td>자기혁명 독서법 :뭐라도 해야 했던 사람에서 뭐든 하는 사람으로</td>\n",
       "      <td>이재범 지음</td>\n",
       "      <td>프레너미</td>\n",
       "      <td>2019</td>\n",
       "      <td>9791187383475</td>\n",
       "      <td>03320</td>\n",
       "      <td></td>\n",
       "      <td>029.4</td>\n",
       "      <td>1,007</td>\n",
       "      <td>https://image.aladin.co.kr/product/19831/89/co...</td>\n",
       "    </tr>\n",
       "    <tr>\n",
       "      <th>4702</th>\n",
       "      <td>4999</td>\n",
       "      <td>4987</td>\n",
       "      <td>일기 고쳐 주는 아이(그래 책이야 25)</td>\n",
       "      <td>박선화</td>\n",
       "      <td>잇츠북어린이</td>\n",
       "      <td>2019</td>\n",
       "      <td>9791187903307</td>\n",
       "      <td></td>\n",
       "      <td></td>\n",
       "      <td></td>\n",
       "      <td>1,007</td>\n",
       "      <td>https://bookthumb-phinf.pstatic.net/cover/157/...</td>\n",
       "    </tr>\n",
       "    <tr>\n",
       "      <th>4703</th>\n",
       "      <td>5000</td>\n",
       "      <td>5000</td>\n",
       "      <td>Night of the Ninjas</td>\n",
       "      <td>by Mary Pope Osborne;illustrated by Sal Murdocca</td>\n",
       "      <td>Random House</td>\n",
       "      <td>1995</td>\n",
       "      <td>9780679963714</td>\n",
       "      <td></td>\n",
       "      <td>5</td>\n",
       "      <td></td>\n",
       "      <td>1,006</td>\n",
       "      <td>https://bookthumb-phinf.pstatic.net/cover/005/...</td>\n",
       "    </tr>\n",
       "  </tbody>\n",
       "</table>\n",
       "</div>"
      ],
      "text/plain": [
       "        no ranking                              bookname  \\\n",
       "4699  4996    4987           1인 가구 돈 관리 :잘사는 혼삶의 필수 아이템    \n",
       "4700  4997    4987                              이태원 클라쓰    \n",
       "4701  4998    4987  자기혁명 독서법 :뭐라도 해야 했던 사람에서 뭐든 하는 사람으로    \n",
       "4702  4999    4987                일기 고쳐 주는 아이(그래 책이야 25)   \n",
       "4703  5000    5000                   Night of the Ninjas   \n",
       "\n",
       "                                               authors      publisher  \\\n",
       "4699                                            공아연 지음         위즈덤하우스   \n",
       "4700                                          글·그림: 광진  Young Com(영컴)   \n",
       "4701                                            이재범 지음           프레너미   \n",
       "4702                                               박선화         잇츠북어린이   \n",
       "4703  by Mary Pope Osborne;illustrated by Sal Murdocca   Random House   \n",
       "\n",
       "     publication_year         isbn13 addition_symbol vol class_no loan_count  \\\n",
       "4699             2018  9791162203897           03320        591.1      1,007   \n",
       "4700                   9791162790021           07810   4      810      1,007   \n",
       "4701             2019  9791187383475           03320        029.4      1,007   \n",
       "4702             2019  9791187903307                                   1,007   \n",
       "4703             1995  9780679963714                   5               1,006   \n",
       "\n",
       "                                           bookImageURL  \n",
       "4699  http://image.aladin.co.kr/product/15076/53/cov...  \n",
       "4700  https://image.aladin.co.kr/product/13822/51/co...  \n",
       "4701  https://image.aladin.co.kr/product/19831/89/co...  \n",
       "4702  https://bookthumb-phinf.pstatic.net/cover/157/...  \n",
       "4703  https://bookthumb-phinf.pstatic.net/cover/005/...  "
      ]
     },
     "execution_count": 12,
     "metadata": {},
     "output_type": "execute_result"
    }
   ],
   "source": [
    "best_seller_df.tail()"
   ]
  },
  {
   "cell_type": "code",
   "execution_count": 13,
   "metadata": {},
   "outputs": [
    {
     "data": {
      "text/plain": [
       "no                  957\n",
       "ranking             957\n",
       "bookname            957\n",
       "authors             957\n",
       "publisher           957\n",
       "publication_year    957\n",
       "isbn13              957\n",
       "addition_symbol     957\n",
       "vol                 957\n",
       "class_no            957\n",
       "loan_count          957\n",
       "bookImageURL        957\n",
       "dtype: int64"
      ]
     },
     "execution_count": 13,
     "metadata": {},
     "output_type": "execute_result"
    }
   ],
   "source": [
    "# 책 이름 중복 여부 확인\n",
    "best_seller_df[best_seller_df.duplicated(['bookname'])].count()"
   ]
  },
  {
   "cell_type": "code",
   "execution_count": 14,
   "metadata": {},
   "outputs": [],
   "source": [
    "# bookname 책 이름 중복 제거\n",
    "best_seller_df.drop_duplicates(['bookname'], keep = 'first', inplace = True)"
   ]
  },
  {
   "cell_type": "code",
   "execution_count": 15,
   "metadata": {},
   "outputs": [
    {
     "data": {
      "text/plain": [
       "(3747, 12)"
      ]
     },
     "execution_count": 15,
     "metadata": {},
     "output_type": "execute_result"
    }
   ],
   "source": [
    "best_seller_df.shape"
   ]
  },
  {
   "cell_type": "code",
   "execution_count": 16,
   "metadata": {},
   "outputs": [],
   "source": [
    "# 인덱스 초기화\n",
    "best_seller_df.reset_index(drop = True, inplace = True)"
   ]
  },
  {
   "cell_type": "code",
   "execution_count": 17,
   "metadata": {},
   "outputs": [
    {
     "data": {
      "text/html": [
       "<div>\n",
       "<style scoped>\n",
       "    .dataframe tbody tr th:only-of-type {\n",
       "        vertical-align: middle;\n",
       "    }\n",
       "\n",
       "    .dataframe tbody tr th {\n",
       "        vertical-align: top;\n",
       "    }\n",
       "\n",
       "    .dataframe thead th {\n",
       "        text-align: right;\n",
       "    }\n",
       "</style>\n",
       "<table border=\"1\" class=\"dataframe\">\n",
       "  <thead>\n",
       "    <tr style=\"text-align: right;\">\n",
       "      <th></th>\n",
       "      <th>no</th>\n",
       "      <th>ranking</th>\n",
       "      <th>bookname</th>\n",
       "      <th>authors</th>\n",
       "      <th>publisher</th>\n",
       "      <th>publication_year</th>\n",
       "      <th>isbn13</th>\n",
       "      <th>addition_symbol</th>\n",
       "      <th>vol</th>\n",
       "      <th>class_no</th>\n",
       "      <th>loan_count</th>\n",
       "      <th>bookImageURL</th>\n",
       "    </tr>\n",
       "  </thead>\n",
       "  <tbody>\n",
       "    <tr>\n",
       "      <th>3742</th>\n",
       "      <td>4994</td>\n",
       "      <td>4987</td>\n",
       "      <td>살인 카드 게임 :제임스 패터슨 장편소설</td>\n",
       "      <td>저자: 제임스 패터슨 ;옮긴이: 조은아</td>\n",
       "      <td>Book Plaza(북플라자)</td>\n",
       "      <td>2018</td>\n",
       "      <td>9788998274153</td>\n",
       "      <td>03840</td>\n",
       "      <td></td>\n",
       "      <td>843.6</td>\n",
       "      <td>1,007</td>\n",
       "      <td>http://image.aladin.co.kr/product/14798/82/cov...</td>\n",
       "    </tr>\n",
       "    <tr>\n",
       "      <th>3743</th>\n",
       "      <td>4996</td>\n",
       "      <td>4987</td>\n",
       "      <td>1인 가구 돈 관리 :잘사는 혼삶의 필수 아이템</td>\n",
       "      <td>공아연 지음</td>\n",
       "      <td>위즈덤하우스</td>\n",
       "      <td>2018</td>\n",
       "      <td>9791162203897</td>\n",
       "      <td>03320</td>\n",
       "      <td></td>\n",
       "      <td>591.1</td>\n",
       "      <td>1,007</td>\n",
       "      <td>http://image.aladin.co.kr/product/15076/53/cov...</td>\n",
       "    </tr>\n",
       "    <tr>\n",
       "      <th>3744</th>\n",
       "      <td>4998</td>\n",
       "      <td>4987</td>\n",
       "      <td>자기혁명 독서법 :뭐라도 해야 했던 사람에서 뭐든 하는 사람으로</td>\n",
       "      <td>이재범 지음</td>\n",
       "      <td>프레너미</td>\n",
       "      <td>2019</td>\n",
       "      <td>9791187383475</td>\n",
       "      <td>03320</td>\n",
       "      <td></td>\n",
       "      <td>029.4</td>\n",
       "      <td>1,007</td>\n",
       "      <td>https://image.aladin.co.kr/product/19831/89/co...</td>\n",
       "    </tr>\n",
       "    <tr>\n",
       "      <th>3745</th>\n",
       "      <td>4999</td>\n",
       "      <td>4987</td>\n",
       "      <td>일기 고쳐 주는 아이(그래 책이야 25)</td>\n",
       "      <td>박선화</td>\n",
       "      <td>잇츠북어린이</td>\n",
       "      <td>2019</td>\n",
       "      <td>9791187903307</td>\n",
       "      <td></td>\n",
       "      <td></td>\n",
       "      <td></td>\n",
       "      <td>1,007</td>\n",
       "      <td>https://bookthumb-phinf.pstatic.net/cover/157/...</td>\n",
       "    </tr>\n",
       "    <tr>\n",
       "      <th>3746</th>\n",
       "      <td>5000</td>\n",
       "      <td>5000</td>\n",
       "      <td>Night of the Ninjas</td>\n",
       "      <td>by Mary Pope Osborne;illustrated by Sal Murdocca</td>\n",
       "      <td>Random House</td>\n",
       "      <td>1995</td>\n",
       "      <td>9780679963714</td>\n",
       "      <td></td>\n",
       "      <td>5</td>\n",
       "      <td></td>\n",
       "      <td>1,006</td>\n",
       "      <td>https://bookthumb-phinf.pstatic.net/cover/005/...</td>\n",
       "    </tr>\n",
       "  </tbody>\n",
       "</table>\n",
       "</div>"
      ],
      "text/plain": [
       "        no ranking                              bookname  \\\n",
       "3742  4994    4987               살인 카드 게임 :제임스 패터슨 장편소설    \n",
       "3743  4996    4987           1인 가구 돈 관리 :잘사는 혼삶의 필수 아이템    \n",
       "3744  4998    4987  자기혁명 독서법 :뭐라도 해야 했던 사람에서 뭐든 하는 사람으로    \n",
       "3745  4999    4987                일기 고쳐 주는 아이(그래 책이야 25)   \n",
       "3746  5000    5000                   Night of the Ninjas   \n",
       "\n",
       "                                               authors         publisher  \\\n",
       "3742                             저자: 제임스 패터슨 ;옮긴이: 조은아  Book Plaza(북플라자)   \n",
       "3743                                            공아연 지음            위즈덤하우스   \n",
       "3744                                            이재범 지음              프레너미   \n",
       "3745                                               박선화            잇츠북어린이   \n",
       "3746  by Mary Pope Osborne;illustrated by Sal Murdocca      Random House   \n",
       "\n",
       "     publication_year         isbn13 addition_symbol vol class_no loan_count  \\\n",
       "3742             2018  9788998274153           03840        843.6      1,007   \n",
       "3743             2018  9791162203897           03320        591.1      1,007   \n",
       "3744             2019  9791187383475           03320        029.4      1,007   \n",
       "3745             2019  9791187903307                                   1,007   \n",
       "3746             1995  9780679963714                   5               1,006   \n",
       "\n",
       "                                           bookImageURL  \n",
       "3742  http://image.aladin.co.kr/product/14798/82/cov...  \n",
       "3743  http://image.aladin.co.kr/product/15076/53/cov...  \n",
       "3744  https://image.aladin.co.kr/product/19831/89/co...  \n",
       "3745  https://bookthumb-phinf.pstatic.net/cover/157/...  \n",
       "3746  https://bookthumb-phinf.pstatic.net/cover/005/...  "
      ]
     },
     "execution_count": 17,
     "metadata": {},
     "output_type": "execute_result"
    }
   ],
   "source": [
    "best_seller_df.tail()"
   ]
  },
  {
   "cell_type": "code",
   "execution_count": 18,
   "metadata": {},
   "outputs": [
    {
     "data": {
      "text/plain": [
       "3747"
      ]
     },
     "execution_count": 18,
     "metadata": {},
     "output_type": "execute_result"
    }
   ],
   "source": [
    "best_seller_df['isbn13'].count()"
   ]
  },
  {
   "cell_type": "code",
   "execution_count": 19,
   "metadata": {},
   "outputs": [
    {
     "data": {
      "text/plain": [
       "3747"
      ]
     },
     "execution_count": 19,
     "metadata": {},
     "output_type": "execute_result"
    }
   ],
   "source": [
    "len(best_seller_df['isbn13'].unique())"
   ]
  },
  {
   "cell_type": "code",
   "execution_count": 20,
   "metadata": {},
   "outputs": [],
   "source": [
    "# 데이터프레임을 csv로 저장\n",
    "best_seller_df.to_csv('best_seller_df.csv', mode = 'w', index = False)"
   ]
  },
  {
   "cell_type": "code",
   "execution_count": 7,
   "metadata": {},
   "outputs": [],
   "source": [
    "# 데이터 불러오기\n",
    "best_seller_df = pd.read_csv('best_seller_df.csv')"
   ]
  },
  {
   "cell_type": "code",
   "execution_count": 8,
   "metadata": {},
   "outputs": [
    {
     "data": {
      "text/html": [
       "<div>\n",
       "<style scoped>\n",
       "    .dataframe tbody tr th:only-of-type {\n",
       "        vertical-align: middle;\n",
       "    }\n",
       "\n",
       "    .dataframe tbody tr th {\n",
       "        vertical-align: top;\n",
       "    }\n",
       "\n",
       "    .dataframe thead th {\n",
       "        text-align: right;\n",
       "    }\n",
       "</style>\n",
       "<table border=\"1\" class=\"dataframe\">\n",
       "  <thead>\n",
       "    <tr style=\"text-align: right;\">\n",
       "      <th></th>\n",
       "      <th>no</th>\n",
       "      <th>ranking</th>\n",
       "      <th>bookname</th>\n",
       "      <th>authors</th>\n",
       "      <th>publisher</th>\n",
       "      <th>publication_year</th>\n",
       "      <th>isbn13</th>\n",
       "      <th>addition_symbol</th>\n",
       "      <th>vol</th>\n",
       "      <th>class_no</th>\n",
       "      <th>loan_count</th>\n",
       "      <th>bookImageURL</th>\n",
       "    </tr>\n",
       "  </thead>\n",
       "  <tbody>\n",
       "    <tr>\n",
       "      <th>0</th>\n",
       "      <td>1</td>\n",
       "      <td>1</td>\n",
       "      <td>여행의 이유 :김영하 산문</td>\n",
       "      <td>지은이: 김영하</td>\n",
       "      <td>문학동네</td>\n",
       "      <td>2019.0</td>\n",
       "      <td>9788954655972</td>\n",
       "      <td>3810.0</td>\n",
       "      <td>NaN</td>\n",
       "      <td>816.7</td>\n",
       "      <td>13,336</td>\n",
       "      <td>https://image.aladin.co.kr/product/18827/60/co...</td>\n",
       "    </tr>\n",
       "    <tr>\n",
       "      <th>1</th>\n",
       "      <td>2</td>\n",
       "      <td>2</td>\n",
       "      <td>아몬드 (양장 특별 한정판)</td>\n",
       "      <td>손원평 (지은이)</td>\n",
       "      <td>창비</td>\n",
       "      <td>2017.0</td>\n",
       "      <td>9788936434267</td>\n",
       "      <td>3810.0</td>\n",
       "      <td>NaN</td>\n",
       "      <td>813.7</td>\n",
       "      <td>13,117</td>\n",
       "      <td>http://image.aladin.co.kr/product/16839/4/cove...</td>\n",
       "    </tr>\n",
       "    <tr>\n",
       "      <th>2</th>\n",
       "      <td>3</td>\n",
       "      <td>3</td>\n",
       "      <td>나미야 잡화점의 기적 :히가시노 게이고 장편소설</td>\n",
       "      <td>지은이: 히가시노 게이고 ;옮긴이: 양윤옥</td>\n",
       "      <td>현대문학</td>\n",
       "      <td>2012.0</td>\n",
       "      <td>9788972756194</td>\n",
       "      <td>3830.0</td>\n",
       "      <td>NaN</td>\n",
       "      <td>833.6</td>\n",
       "      <td>13,004</td>\n",
       "      <td>http://image.aladin.co.kr/product/15848/6/cove...</td>\n",
       "    </tr>\n",
       "    <tr>\n",
       "      <th>3</th>\n",
       "      <td>4</td>\n",
       "      <td>4</td>\n",
       "      <td>선량한 차별주의자</td>\n",
       "      <td>김지혜 지음</td>\n",
       "      <td>창비</td>\n",
       "      <td>2019.0</td>\n",
       "      <td>9788936477196</td>\n",
       "      <td>3300.0</td>\n",
       "      <td>NaN</td>\n",
       "      <td>334.0</td>\n",
       "      <td>11,629</td>\n",
       "      <td>https://image.aladin.co.kr/product/19874/76/co...</td>\n",
       "    </tr>\n",
       "    <tr>\n",
       "      <th>4</th>\n",
       "      <td>5</td>\n",
       "      <td>5</td>\n",
       "      <td>(추리 천재) 엉덩이 탐정</td>\n",
       "      <td>트롤 글·그림 ;김정화 옮김</td>\n",
       "      <td>미래엔</td>\n",
       "      <td>NaN</td>\n",
       "      <td>9791162339466</td>\n",
       "      <td>74830.0</td>\n",
       "      <td>7.0</td>\n",
       "      <td>833.6</td>\n",
       "      <td>11,385</td>\n",
       "      <td>https://image.aladin.co.kr/product/17457/14/co...</td>\n",
       "    </tr>\n",
       "  </tbody>\n",
       "</table>\n",
       "</div>"
      ],
      "text/plain": [
       "   no  ranking                     bookname                  authors  \\\n",
       "0   1        1              여행의 이유 :김영하 산문                  지은이: 김영하   \n",
       "1   2        2              아몬드 (양장 특별 한정판)                손원평 (지은이)   \n",
       "2   3        3  나미야 잡화점의 기적 :히가시노 게이고 장편소설   지은이: 히가시노 게이고 ;옮긴이: 양윤옥   \n",
       "3   4        4                   선량한 차별주의자                    김지혜 지음   \n",
       "4   5        5               (추리 천재) 엉덩이 탐정          트롤 글·그림 ;김정화 옮김   \n",
       "\n",
       "  publisher  publication_year         isbn13  addition_symbol  vol  class_no  \\\n",
       "0      문학동네            2019.0  9788954655972           3810.0  NaN     816.7   \n",
       "1        창비            2017.0  9788936434267           3810.0  NaN     813.7   \n",
       "2      현대문학            2012.0  9788972756194           3830.0  NaN     833.6   \n",
       "3        창비            2019.0  9788936477196           3300.0  NaN     334.0   \n",
       "4       미래엔               NaN  9791162339466          74830.0  7.0     833.6   \n",
       "\n",
       "  loan_count                                       bookImageURL  \n",
       "0     13,336  https://image.aladin.co.kr/product/18827/60/co...  \n",
       "1     13,117  http://image.aladin.co.kr/product/16839/4/cove...  \n",
       "2     13,004  http://image.aladin.co.kr/product/15848/6/cove...  \n",
       "3     11,629  https://image.aladin.co.kr/product/19874/76/co...  \n",
       "4     11,385  https://image.aladin.co.kr/product/17457/14/co...  "
      ]
     },
     "execution_count": 8,
     "metadata": {},
     "output_type": "execute_result"
    }
   ],
   "source": [
    "best_seller_df.head()"
   ]
  },
  {
   "cell_type": "code",
   "execution_count": 9,
   "metadata": {},
   "outputs": [
    {
     "data": {
      "text/html": [
       "<div>\n",
       "<style scoped>\n",
       "    .dataframe tbody tr th:only-of-type {\n",
       "        vertical-align: middle;\n",
       "    }\n",
       "\n",
       "    .dataframe tbody tr th {\n",
       "        vertical-align: top;\n",
       "    }\n",
       "\n",
       "    .dataframe thead th {\n",
       "        text-align: right;\n",
       "    }\n",
       "</style>\n",
       "<table border=\"1\" class=\"dataframe\">\n",
       "  <thead>\n",
       "    <tr style=\"text-align: right;\">\n",
       "      <th></th>\n",
       "      <th>no</th>\n",
       "      <th>ranking</th>\n",
       "      <th>bookname</th>\n",
       "      <th>authors</th>\n",
       "      <th>publisher</th>\n",
       "      <th>publication_year</th>\n",
       "      <th>isbn13</th>\n",
       "      <th>addition_symbol</th>\n",
       "      <th>vol</th>\n",
       "      <th>class_no</th>\n",
       "      <th>loan_count</th>\n",
       "      <th>bookImageURL</th>\n",
       "    </tr>\n",
       "  </thead>\n",
       "  <tbody>\n",
       "    <tr>\n",
       "      <th>3742</th>\n",
       "      <td>4994</td>\n",
       "      <td>4987</td>\n",
       "      <td>살인 카드 게임 :제임스 패터슨 장편소설</td>\n",
       "      <td>저자: 제임스 패터슨 ;옮긴이: 조은아</td>\n",
       "      <td>Book Plaza(북플라자)</td>\n",
       "      <td>2018.0</td>\n",
       "      <td>9788998274153</td>\n",
       "      <td>3840.0</td>\n",
       "      <td>NaN</td>\n",
       "      <td>843.6</td>\n",
       "      <td>1,007</td>\n",
       "      <td>http://image.aladin.co.kr/product/14798/82/cov...</td>\n",
       "    </tr>\n",
       "    <tr>\n",
       "      <th>3743</th>\n",
       "      <td>4996</td>\n",
       "      <td>4987</td>\n",
       "      <td>1인 가구 돈 관리 :잘사는 혼삶의 필수 아이템</td>\n",
       "      <td>공아연 지음</td>\n",
       "      <td>위즈덤하우스</td>\n",
       "      <td>2018.0</td>\n",
       "      <td>9791162203897</td>\n",
       "      <td>3320.0</td>\n",
       "      <td>NaN</td>\n",
       "      <td>591.1</td>\n",
       "      <td>1,007</td>\n",
       "      <td>http://image.aladin.co.kr/product/15076/53/cov...</td>\n",
       "    </tr>\n",
       "    <tr>\n",
       "      <th>3744</th>\n",
       "      <td>4998</td>\n",
       "      <td>4987</td>\n",
       "      <td>자기혁명 독서법 :뭐라도 해야 했던 사람에서 뭐든 하는 사람으로</td>\n",
       "      <td>이재범 지음</td>\n",
       "      <td>프레너미</td>\n",
       "      <td>2019.0</td>\n",
       "      <td>9791187383475</td>\n",
       "      <td>3320.0</td>\n",
       "      <td>NaN</td>\n",
       "      <td>29.4</td>\n",
       "      <td>1,007</td>\n",
       "      <td>https://image.aladin.co.kr/product/19831/89/co...</td>\n",
       "    </tr>\n",
       "    <tr>\n",
       "      <th>3745</th>\n",
       "      <td>4999</td>\n",
       "      <td>4987</td>\n",
       "      <td>일기 고쳐 주는 아이(그래 책이야 25)</td>\n",
       "      <td>박선화</td>\n",
       "      <td>잇츠북어린이</td>\n",
       "      <td>2019.0</td>\n",
       "      <td>9791187903307</td>\n",
       "      <td>NaN</td>\n",
       "      <td>NaN</td>\n",
       "      <td>NaN</td>\n",
       "      <td>1,007</td>\n",
       "      <td>https://bookthumb-phinf.pstatic.net/cover/157/...</td>\n",
       "    </tr>\n",
       "    <tr>\n",
       "      <th>3746</th>\n",
       "      <td>5000</td>\n",
       "      <td>5000</td>\n",
       "      <td>Night of the Ninjas</td>\n",
       "      <td>by Mary Pope Osborne;illustrated by Sal Murdocca</td>\n",
       "      <td>Random House</td>\n",
       "      <td>1995.0</td>\n",
       "      <td>9780679963714</td>\n",
       "      <td>NaN</td>\n",
       "      <td>5.0</td>\n",
       "      <td>NaN</td>\n",
       "      <td>1,006</td>\n",
       "      <td>https://bookthumb-phinf.pstatic.net/cover/005/...</td>\n",
       "    </tr>\n",
       "  </tbody>\n",
       "</table>\n",
       "</div>"
      ],
      "text/plain": [
       "        no  ranking                              bookname  \\\n",
       "3742  4994     4987               살인 카드 게임 :제임스 패터슨 장편소설    \n",
       "3743  4996     4987           1인 가구 돈 관리 :잘사는 혼삶의 필수 아이템    \n",
       "3744  4998     4987  자기혁명 독서법 :뭐라도 해야 했던 사람에서 뭐든 하는 사람으로    \n",
       "3745  4999     4987                일기 고쳐 주는 아이(그래 책이야 25)   \n",
       "3746  5000     5000                   Night of the Ninjas   \n",
       "\n",
       "                                               authors         publisher  \\\n",
       "3742                             저자: 제임스 패터슨 ;옮긴이: 조은아  Book Plaza(북플라자)   \n",
       "3743                                            공아연 지음            위즈덤하우스   \n",
       "3744                                            이재범 지음              프레너미   \n",
       "3745                                               박선화            잇츠북어린이   \n",
       "3746  by Mary Pope Osborne;illustrated by Sal Murdocca      Random House   \n",
       "\n",
       "      publication_year         isbn13  addition_symbol  vol  class_no  \\\n",
       "3742            2018.0  9788998274153           3840.0  NaN     843.6   \n",
       "3743            2018.0  9791162203897           3320.0  NaN     591.1   \n",
       "3744            2019.0  9791187383475           3320.0  NaN      29.4   \n",
       "3745            2019.0  9791187903307              NaN  NaN       NaN   \n",
       "3746            1995.0  9780679963714              NaN  5.0       NaN   \n",
       "\n",
       "     loan_count                                       bookImageURL  \n",
       "3742      1,007  http://image.aladin.co.kr/product/14798/82/cov...  \n",
       "3743      1,007  http://image.aladin.co.kr/product/15076/53/cov...  \n",
       "3744      1,007  https://image.aladin.co.kr/product/19831/89/co...  \n",
       "3745      1,007  https://bookthumb-phinf.pstatic.net/cover/157/...  \n",
       "3746      1,006  https://bookthumb-phinf.pstatic.net/cover/005/...  "
      ]
     },
     "execution_count": 9,
     "metadata": {},
     "output_type": "execute_result"
    }
   ],
   "source": [
    "best_seller_df.tail()"
   ]
  },
  {
   "cell_type": "markdown",
   "metadata": {},
   "source": [
    "## 인기대출도서 isbn을 이용한 도서별 키워드 데이터 수집"
   ]
  },
  {
   "cell_type": "code",
   "execution_count": 10,
   "metadata": {},
   "outputs": [],
   "source": [
    "# 인기도서 isbn 리스트 생성\n",
    "best_seller_isbn_list = list(best_seller_df['isbn13'].astype(str))"
   ]
  },
  {
   "cell_type": "code",
   "execution_count": 11,
   "metadata": {},
   "outputs": [
    {
     "data": {
      "text/plain": [
       "3747"
      ]
     },
     "execution_count": 11,
     "metadata": {},
     "output_type": "execute_result"
    }
   ],
   "source": [
    "len(best_seller_isbn_list)"
   ]
  },
  {
   "cell_type": "code",
   "execution_count": 12,
   "metadata": {},
   "outputs": [],
   "source": [
    "# api 주소 호출을 위한 url 변수 생성\n",
    "api_url = [\n",
    "    'http://data4library.kr/api/keywordList?authKey=2de07acdbc8edb45815b0788321c701a3d0881ebcdc8952f7c41c3f7f958a10c&isbn13=',\n",
    "    'http://data4library.kr/api/keywordList?authKey=c96c4e4696015af34412e7a7e6fdde51471b8afd01dc99500d1da873f4d6606a&isbn13=',\n",
    "    'http://data4library.kr/api/keywordList?authKey=19eb5917bd75c9176a7491885f27acc65bc61e6e75f55c35f29946b94ec16d74&isbn13=',\n",
    "    'http://data4library.kr/api/keywordList?authKey=76c1e62b08217a3170bfb33f6939c24ec881a7681bc647665ab0e4059723d0b4&isbn13=',\n",
    "    'http://data4library.kr/api/keywordList?authKey=&isbn13='\n",
    "]\n",
    "rest_url = '&format=json'"
   ]
  },
  {
   "cell_type": "code",
   "execution_count": 24,
   "metadata": {},
   "outputs": [
    {
     "data": {
      "text/html": [
       "<div>\n",
       "<style scoped>\n",
       "    .dataframe tbody tr th:only-of-type {\n",
       "        vertical-align: middle;\n",
       "    }\n",
       "\n",
       "    .dataframe tbody tr th {\n",
       "        vertical-align: top;\n",
       "    }\n",
       "\n",
       "    .dataframe thead th {\n",
       "        text-align: right;\n",
       "    }\n",
       "</style>\n",
       "<table border=\"1\" class=\"dataframe\">\n",
       "  <thead>\n",
       "    <tr style=\"text-align: right;\">\n",
       "      <th></th>\n",
       "      <th>isbn13</th>\n",
       "      <th>keyword</th>\n",
       "    </tr>\n",
       "  </thead>\n",
       "  <tbody>\n",
       "  </tbody>\n",
       "</table>\n",
       "</div>"
      ],
      "text/plain": [
       "Empty DataFrame\n",
       "Columns: [isbn13, keyword]\n",
       "Index: []"
      ]
     },
     "execution_count": 24,
     "metadata": {},
     "output_type": "execute_result"
    }
   ],
   "source": [
    "# isbn과 키워드리스트를 가지는 데이터프레임 생성\n",
    "isbn_keyword_df = pd.DataFrame(columns = ['isbn13', 'keyword'])\n",
    "isbn_keyword_df"
   ]
  },
  {
   "cell_type": "code",
   "execution_count": null,
   "metadata": {},
   "outputs": [],
   "source": [
    "# url 요청으로 키워드 json 파일 다운로드\n",
    "# for i in tqdm_notebook(range(len(best_seller_isbn_list))) :\n",
    "#     keyword_url = api_url + best_seller_isbn_list[i] + rest_url\n",
    "    \n",
    "#     response = requests.get(keyword_url)\n",
    "#     keyword_json = response.json()\n",
    "    \n",
    "#     keyword_list = []\n",
    "    \n",
    "#     if keyword_json['response']['resultNum'] != 0 :\n",
    "#         for j in range(len(keyword_json['response']['items'])) :\n",
    "#             keyword_list.append(keyword_json['response']['items'][j]['item'])\n",
    "    \n",
    "#         isbn_keyword_df.loc[i] = [best_seller_isbn_list[i], keyword_list]\n",
    "#     else :\n",
    "#         isbn_keyword_df.loc[i] = [best_seller_isbn_list[i], None]"
   ]
  },
  {
   "cell_type": "code",
   "execution_count": 25,
   "metadata": {},
   "outputs": [
    {
     "name": "stderr",
     "output_type": "stream",
     "text": [
      "D:\\Anaconda3\\lib\\site-packages\\ipykernel_launcher.py:2: TqdmDeprecationWarning: This function will be removed in tqdm==5.0.0\n",
      "Please use `tqdm.notebook.tqdm` instead of `tqdm.tqdm_notebook`\n",
      "  \n"
     ]
    },
    {
     "data": {
      "application/vnd.jupyter.widget-view+json": {
       "model_id": "da64797e4d4a449d92ac5464ef7ded06",
       "version_major": 2,
       "version_minor": 0
      },
      "text/plain": [
       "HBox(children=(FloatProgress(value=0.0, max=500.0), HTML(value='')))"
      ]
     },
     "metadata": {},
     "output_type": "display_data"
    },
    {
     "name": "stdout",
     "output_type": "stream",
     "text": [
      "\n"
     ]
    }
   ],
   "source": [
    "# url 요청으로 키워드 json 파일 다운로드\n",
    "for i in tqdm_notebook(range(500)) :\n",
    "    keyword_url = api_url[0] + best_seller_isbn_list[i] + rest_url\n",
    "    \n",
    "    response = requests.get(keyword_url)\n",
    "    keyword_json = response.json()\n",
    "    \n",
    "    keyword_list = []\n",
    "    \n",
    "    if keyword_json['response']['resultNum'] != 0 :\n",
    "        for j in range(len(keyword_json['response']['items'])) :\n",
    "            keyword_list.append(keyword_json['response']['items'][j]['item'])\n",
    "    \n",
    "        isbn_keyword_df.loc[i] = [best_seller_isbn_list[i], keyword_list]\n",
    "    else :\n",
    "        isbn_keyword_df.loc[i] = [best_seller_isbn_list[i], None]"
   ]
  },
  {
   "cell_type": "code",
   "execution_count": 125,
   "metadata": {},
   "outputs": [],
   "source": [
    "# 데이터프레임을 csv로 저장\n",
    "isbn_keyword_df.to_csv('isbn_keyword_df.csv', mode = 'w', index = False, encoding = 'utf-8-sig')"
   ]
  },
  {
   "cell_type": "code",
   "execution_count": 25,
   "metadata": {},
   "outputs": [],
   "source": [
    "# 데이터 불러오기\n",
    "isbn_keyword_df = pd.read_csv('isbn_keyword_df.csv')"
   ]
  },
  {
   "cell_type": "code",
   "execution_count": 26,
   "metadata": {},
   "outputs": [
    {
     "name": "stdout",
     "output_type": "stream",
     "text": [
      "<class 'pandas.core.frame.DataFrame'>\n",
      "RangeIndex: 3747 entries, 0 to 3746\n",
      "Data columns (total 2 columns):\n",
      "isbn13     3747 non-null object\n",
      "keyword    3529 non-null object\n",
      "dtypes: object(2)\n",
      "memory usage: 58.6+ KB\n"
     ]
    }
   ],
   "source": [
    "isbn_keyword_df['isbn13'] = isbn_keyword_df['isbn13'].astype(str)\n",
    "isbn_keyword_df.info()"
   ]
  },
  {
   "cell_type": "code",
   "execution_count": 27,
   "metadata": {},
   "outputs": [
    {
     "data": {
      "text/html": [
       "<div>\n",
       "<style scoped>\n",
       "    .dataframe tbody tr th:only-of-type {\n",
       "        vertical-align: middle;\n",
       "    }\n",
       "\n",
       "    .dataframe tbody tr th {\n",
       "        vertical-align: top;\n",
       "    }\n",
       "\n",
       "    .dataframe thead th {\n",
       "        text-align: right;\n",
       "    }\n",
       "</style>\n",
       "<table border=\"1\" class=\"dataframe\">\n",
       "  <thead>\n",
       "    <tr style=\"text-align: right;\">\n",
       "      <th></th>\n",
       "      <th>isbn13</th>\n",
       "      <th>keyword</th>\n",
       "    </tr>\n",
       "  </thead>\n",
       "  <tbody>\n",
       "    <tr>\n",
       "      <th>3742</th>\n",
       "      <td>9788998274153</td>\n",
       "      <td>[{'word': '패터슨', 'weight': '6'}, {'word': '스릴러...</td>\n",
       "    </tr>\n",
       "    <tr>\n",
       "      <th>3743</th>\n",
       "      <td>9791162203897</td>\n",
       "      <td>[{'word': '관리', 'weight': '34'}, {'word': '가구'...</td>\n",
       "    </tr>\n",
       "    <tr>\n",
       "      <th>3744</th>\n",
       "      <td>9791187383475</td>\n",
       "      <td>NaN</td>\n",
       "    </tr>\n",
       "    <tr>\n",
       "      <th>3745</th>\n",
       "      <td>9791187903307</td>\n",
       "      <td>[{'word': '자신', 'weight': '8'}, {'word': '어린이'...</td>\n",
       "    </tr>\n",
       "    <tr>\n",
       "      <th>3746</th>\n",
       "      <td>9780679963714</td>\n",
       "      <td>[{'word': '어린이', 'weight': '4'}, {'word': '뉴욕타...</td>\n",
       "    </tr>\n",
       "  </tbody>\n",
       "</table>\n",
       "</div>"
      ],
      "text/plain": [
       "             isbn13                                            keyword\n",
       "3742  9788998274153  [{'word': '패터슨', 'weight': '6'}, {'word': '스릴러...\n",
       "3743  9791162203897  [{'word': '관리', 'weight': '34'}, {'word': '가구'...\n",
       "3744  9791187383475                                                NaN\n",
       "3745  9791187903307  [{'word': '자신', 'weight': '8'}, {'word': '어린이'...\n",
       "3746  9780679963714  [{'word': '어린이', 'weight': '4'}, {'word': '뉴욕타..."
      ]
     },
     "execution_count": 27,
     "metadata": {},
     "output_type": "execute_result"
    }
   ],
   "source": [
    "isbn_keyword_df.tail()"
   ]
  },
  {
   "cell_type": "code",
   "execution_count": 16,
   "metadata": {},
   "outputs": [
    {
     "name": "stderr",
     "output_type": "stream",
     "text": [
      "D:\\Anaconda3\\lib\\site-packages\\ipykernel_launcher.py:2: TqdmDeprecationWarning: This function will be removed in tqdm==5.0.0\n",
      "Please use `tqdm.notebook.tqdm` instead of `tqdm.tqdm_notebook`\n",
      "  \n"
     ]
    },
    {
     "data": {
      "application/vnd.jupyter.widget-view+json": {
       "model_id": "08510287848c4cc4affe6b2f20ec22ba",
       "version_major": 2,
       "version_minor": 0
      },
      "text/plain": [
       "HBox(children=(FloatProgress(value=0.0, max=147.0), HTML(value='')))"
      ]
     },
     "metadata": {},
     "output_type": "display_data"
    },
    {
     "name": "stdout",
     "output_type": "stream",
     "text": [
      "\n"
     ]
    }
   ],
   "source": [
    "# url 요청으로 키워드 json 파일 다운로드\n",
    "for i in tqdm_notebook(range(3600, len(best_seller_isbn_list))) :\n",
    "    keyword_url = api_url[0] + best_seller_isbn_list[i] + rest_url\n",
    "    \n",
    "    response = requests.get(keyword_url)\n",
    "    keyword_json = response.json()\n",
    "    \n",
    "    keyword_list = []\n",
    "    \n",
    "    # 중간에 response에 resultNum이 존재하지 않을 경우 따로 조건문을 생성해주어야 한다. \n",
    "    if (keyword_json['response']['resultNum'] != 0) :\n",
    "        for j in range(len(keyword_json['response']['items'])) :\n",
    "            keyword_list.append(keyword_json['response']['items'][j]['item'])\n",
    "\n",
    "        isbn_keyword_df.loc[i] = [best_seller_isbn_list[i], keyword_list]\n",
    "    else :\n",
    "        isbn_keyword_df.loc[i] = [best_seller_isbn_list[i], np.nan]"
   ]
  },
  {
   "cell_type": "code",
   "execution_count": 17,
   "metadata": {},
   "outputs": [
    {
     "data": {
      "text/html": [
       "<div>\n",
       "<style scoped>\n",
       "    .dataframe tbody tr th:only-of-type {\n",
       "        vertical-align: middle;\n",
       "    }\n",
       "\n",
       "    .dataframe tbody tr th {\n",
       "        vertical-align: top;\n",
       "    }\n",
       "\n",
       "    .dataframe thead th {\n",
       "        text-align: right;\n",
       "    }\n",
       "</style>\n",
       "<table border=\"1\" class=\"dataframe\">\n",
       "  <thead>\n",
       "    <tr style=\"text-align: right;\">\n",
       "      <th></th>\n",
       "      <th>isbn13</th>\n",
       "      <th>keyword</th>\n",
       "    </tr>\n",
       "  </thead>\n",
       "  <tbody>\n",
       "    <tr>\n",
       "      <th>3742</th>\n",
       "      <td>9788998274153</td>\n",
       "      <td>[{'word': '패터슨', 'weight': '6'}, {'word': '스릴러...</td>\n",
       "    </tr>\n",
       "    <tr>\n",
       "      <th>3743</th>\n",
       "      <td>9791162203897</td>\n",
       "      <td>[{'word': '관리', 'weight': '34'}, {'word': '가구'...</td>\n",
       "    </tr>\n",
       "    <tr>\n",
       "      <th>3744</th>\n",
       "      <td>9791187383475</td>\n",
       "      <td>NaN</td>\n",
       "    </tr>\n",
       "    <tr>\n",
       "      <th>3745</th>\n",
       "      <td>9791187903307</td>\n",
       "      <td>[{'word': '자신', 'weight': '8'}, {'word': '어린이'...</td>\n",
       "    </tr>\n",
       "    <tr>\n",
       "      <th>3746</th>\n",
       "      <td>9780679963714</td>\n",
       "      <td>[{'word': '어린이', 'weight': '4'}, {'word': '뉴욕타...</td>\n",
       "    </tr>\n",
       "  </tbody>\n",
       "</table>\n",
       "</div>"
      ],
      "text/plain": [
       "             isbn13                                            keyword\n",
       "3742  9788998274153  [{'word': '패터슨', 'weight': '6'}, {'word': '스릴러...\n",
       "3743  9791162203897  [{'word': '관리', 'weight': '34'}, {'word': '가구'...\n",
       "3744  9791187383475                                                NaN\n",
       "3745  9791187903307  [{'word': '자신', 'weight': '8'}, {'word': '어린이'...\n",
       "3746  9780679963714  [{'word': '어린이', 'weight': '4'}, {'word': '뉴욕타..."
      ]
     },
     "execution_count": 17,
     "metadata": {},
     "output_type": "execute_result"
    }
   ],
   "source": [
    "isbn_keyword_df.tail()"
   ]
  },
  {
   "cell_type": "code",
   "execution_count": 28,
   "metadata": {},
   "outputs": [
    {
     "data": {
      "text/plain": [
       "(3747, 2)"
      ]
     },
     "execution_count": 28,
     "metadata": {},
     "output_type": "execute_result"
    }
   ],
   "source": [
    "isbn_keyword_df.shape"
   ]
  },
  {
   "cell_type": "code",
   "execution_count": 30,
   "metadata": {},
   "outputs": [],
   "source": [
    "# 데이터프레임을 csv로 저장\n",
    "isbn_keyword_df.to_csv('isbn_keyword_df.csv', mode = 'w', index = False, encoding = 'utf-8-sig')"
   ]
  },
  {
   "cell_type": "markdown",
   "metadata": {},
   "source": [
    "## isbn_keyword_df 데이터로 isbn 책의 소개 데이터 내려받기"
   ]
  },
  {
   "cell_type": "code",
   "execution_count": 2,
   "metadata": {},
   "outputs": [],
   "source": [
    "# 데이터 불러오기\n",
    "isbn_keyword_df = pd.read_csv('isbn_keyword_df.csv')"
   ]
  },
  {
   "cell_type": "code",
   "execution_count": 20,
   "metadata": {},
   "outputs": [
    {
     "data": {
      "text/html": [
       "<div>\n",
       "<style scoped>\n",
       "    .dataframe tbody tr th:only-of-type {\n",
       "        vertical-align: middle;\n",
       "    }\n",
       "\n",
       "    .dataframe tbody tr th {\n",
       "        vertical-align: top;\n",
       "    }\n",
       "\n",
       "    .dataframe thead th {\n",
       "        text-align: right;\n",
       "    }\n",
       "</style>\n",
       "<table border=\"1\" class=\"dataframe\">\n",
       "  <thead>\n",
       "    <tr style=\"text-align: right;\">\n",
       "      <th></th>\n",
       "      <th>isbn13</th>\n",
       "      <th>keyword</th>\n",
       "    </tr>\n",
       "  </thead>\n",
       "  <tbody>\n",
       "    <tr>\n",
       "      <th>0</th>\n",
       "      <td>9788954655972</td>\n",
       "      <td>[{'word': '여행', 'weight': '18'}, {'word': '김영하...</td>\n",
       "    </tr>\n",
       "    <tr>\n",
       "      <th>1</th>\n",
       "      <td>9788936434267</td>\n",
       "      <td>[{'word': '감정', 'weight': '16'}, {'word': '아몬드...</td>\n",
       "    </tr>\n",
       "    <tr>\n",
       "      <th>2</th>\n",
       "      <td>9788972756194</td>\n",
       "      <td>[{'word': '편지', 'weight': '13'}, {'word': '히가시...</td>\n",
       "    </tr>\n",
       "    <tr>\n",
       "      <th>3</th>\n",
       "      <td>9788936477196</td>\n",
       "      <td>[{'word': '차별', 'weight': '18'}, {'word': '선량'...</td>\n",
       "    </tr>\n",
       "    <tr>\n",
       "      <th>4</th>\n",
       "      <td>9791162339466</td>\n",
       "      <td>[{'word': '엉덩이', 'weight': '27'}, {'word': '탐정...</td>\n",
       "    </tr>\n",
       "  </tbody>\n",
       "</table>\n",
       "</div>"
      ],
      "text/plain": [
       "          isbn13                                            keyword\n",
       "0  9788954655972  [{'word': '여행', 'weight': '18'}, {'word': '김영하...\n",
       "1  9788936434267  [{'word': '감정', 'weight': '16'}, {'word': '아몬드...\n",
       "2  9788972756194  [{'word': '편지', 'weight': '13'}, {'word': '히가시...\n",
       "3  9788936477196  [{'word': '차별', 'weight': '18'}, {'word': '선량'...\n",
       "4  9791162339466  [{'word': '엉덩이', 'weight': '27'}, {'word': '탐정..."
      ]
     },
     "execution_count": 20,
     "metadata": {},
     "output_type": "execute_result"
    }
   ],
   "source": [
    "isbn_keyword_df.head()"
   ]
  },
  {
   "cell_type": "code",
   "execution_count": 5,
   "metadata": {},
   "outputs": [],
   "source": [
    "# 인기도서 isbn 리스트 생성\n",
    "best_seller_isbn_list = list(isbn_keyword_df['isbn13'].astype(str))"
   ]
  },
  {
   "cell_type": "code",
   "execution_count": 7,
   "metadata": {},
   "outputs": [
    {
     "data": {
      "text/plain": [
       "3747"
      ]
     },
     "execution_count": 7,
     "metadata": {},
     "output_type": "execute_result"
    }
   ],
   "source": [
    "len(best_seller_isbn_list)"
   ]
  },
  {
   "cell_type": "code",
   "execution_count": 8,
   "metadata": {},
   "outputs": [],
   "source": [
    "# 도서 상세조회 api 이용\n",
    "# api 주소 호출을 위한 url 변수 생성\n",
    "api_url = [\n",
    "    'http://data4library.kr/api/srchDtlList?authKey=2de07acdbc8edb45815b0788321c701a3d0881ebcdc8952f7c41c3f7f958a10c&isbn13=',\n",
    "    'http://data4library.kr/api/srchDtlList?authKey=c96c4e4696015af34412e7a7e6fdde51471b8afd01dc99500d1da873f4d6606a&isbn13=',\n",
    "    'http://data4library.kr/api/srchDtlList?authKey=19eb5917bd75c9176a7491885f27acc65bc61e6e75f55c35f29946b94ec16d74&isbn13=',\n",
    "    'http://data4library.kr/api/srchDtlList?authKey=76c1e62b08217a3170bfb33f6939c24ec881a7681bc647665ab0e4059723d0b4&isbn13=',\n",
    "    'http://data4library.kr/api/srchDtlList?authKey=1aef030f94fbc0535a4863fdd659db4defd2b53ed15d2e38dd2b274c8ae4e66a&isbn13='\n",
    "]\n",
    "rest_url = '&format=json'"
   ]
  },
  {
   "cell_type": "code",
   "execution_count": 21,
   "metadata": {},
   "outputs": [
    {
     "data": {
      "text/html": [
       "<div>\n",
       "<style scoped>\n",
       "    .dataframe tbody tr th:only-of-type {\n",
       "        vertical-align: middle;\n",
       "    }\n",
       "\n",
       "    .dataframe tbody tr th {\n",
       "        vertical-align: top;\n",
       "    }\n",
       "\n",
       "    .dataframe thead th {\n",
       "        text-align: right;\n",
       "    }\n",
       "</style>\n",
       "<table border=\"1\" class=\"dataframe\">\n",
       "  <thead>\n",
       "    <tr style=\"text-align: right;\">\n",
       "      <th></th>\n",
       "      <th>isbn13</th>\n",
       "      <th>describe</th>\n",
       "    </tr>\n",
       "  </thead>\n",
       "  <tbody>\n",
       "  </tbody>\n",
       "</table>\n",
       "</div>"
      ],
      "text/plain": [
       "Empty DataFrame\n",
       "Columns: [isbn13, describe]\n",
       "Index: []"
      ]
     },
     "execution_count": 21,
     "metadata": {},
     "output_type": "execute_result"
    }
   ],
   "source": [
    "# isbn과 키워드리스트를 가지는 데이터프레임 생성\n",
    "isbn_desc_df = pd.DataFrame(columns = ['isbn13', 'describe'])\n",
    "isbn_desc_df"
   ]
  },
  {
   "cell_type": "code",
   "execution_count": 64,
   "metadata": {},
   "outputs": [
    {
     "name": "stderr",
     "output_type": "stream",
     "text": [
      "D:\\Anaconda3\\lib\\site-packages\\ipykernel_launcher.py:2: TqdmDeprecationWarning: This function will be removed in tqdm==5.0.0\n",
      "Please use `tqdm.notebook.tqdm` instead of `tqdm.tqdm_notebook`\n",
      "  \n"
     ]
    },
    {
     "data": {
      "application/vnd.jupyter.widget-view+json": {
       "model_id": "d802485e34e0435b9d1848baf58099b5",
       "version_major": 2,
       "version_minor": 0
      },
      "text/plain": [
       "HBox(children=(FloatProgress(value=0.0, max=500.0), HTML(value='')))"
      ]
     },
     "metadata": {},
     "output_type": "display_data"
    },
    {
     "name": "stdout",
     "output_type": "stream",
     "text": [
      "\n"
     ]
    }
   ],
   "source": [
    "# url 요청으로 키워드 json 파일 다운로드\n",
    "for i in tqdm_notebook(range(1900, 2400)) :\n",
    "    desc_url = api_url[4] + best_seller_isbn_list[i] + rest_url\n",
    "    \n",
    "    response = requests.get(desc_url)\n",
    "    desc_json = response.json()\n",
    "    \n",
    "    describe = desc_json['response']['detail'][0]['book']['description']\n",
    "    \n",
    "    isbn_desc_df.loc[i] = [best_seller_isbn_list[i], describe]"
   ]
  },
  {
   "cell_type": "code",
   "execution_count": 65,
   "metadata": {},
   "outputs": [
    {
     "data": {
      "text/html": [
       "<div>\n",
       "<style scoped>\n",
       "    .dataframe tbody tr th:only-of-type {\n",
       "        vertical-align: middle;\n",
       "    }\n",
       "\n",
       "    .dataframe tbody tr th {\n",
       "        vertical-align: top;\n",
       "    }\n",
       "\n",
       "    .dataframe thead th {\n",
       "        text-align: right;\n",
       "    }\n",
       "</style>\n",
       "<table border=\"1\" class=\"dataframe\">\n",
       "  <thead>\n",
       "    <tr style=\"text-align: right;\">\n",
       "      <th></th>\n",
       "      <th>isbn13</th>\n",
       "      <th>describe</th>\n",
       "    </tr>\n",
       "  </thead>\n",
       "  <tbody>\n",
       "    <tr>\n",
       "      <th>2395</th>\n",
       "      <td>9791162541135</td>\n",
       "      <td>2015년 CNN 인터뷰를 통해 “내 돈 전부를 북한에 투자할 수 있다면 그렇게 하...</td>\n",
       "    </tr>\n",
       "    <tr>\n",
       "      <th>2396</th>\n",
       "      <td>9788925550091</td>\n",
       "      <td>이도우의 장편소설. 서른한 살 공진솔. 사소한 일 하나하나 지켜가며, 나름 자신의 ...</td>\n",
       "    </tr>\n",
       "    <tr>\n",
       "      <th>2397</th>\n",
       "      <td>9788936445270</td>\n",
       "      <td>제4회 '좋은 어린이 책' 원고 공모 기획 부문 대상작! 컴퓨터 게임을 좋아하는 어...</td>\n",
       "    </tr>\n",
       "    <tr>\n",
       "      <th>2398</th>\n",
       "      <td>9788990982520</td>\n",
       "      <td>&amp;lt;용의자 x의 헌신&amp;gt;, &amp;lt;방황하는 칼날&amp;gt;의 작가 히가시노 게이...</td>\n",
       "    </tr>\n",
       "    <tr>\n",
       "      <th>2399</th>\n",
       "      <td>9791187504092</td>\n",
       "      <td>마술 실력을 가장 빠르고 확실하게 키울 수 있는 ‘50가지 마술 기법’을 소개한 책...</td>\n",
       "    </tr>\n",
       "  </tbody>\n",
       "</table>\n",
       "</div>"
      ],
      "text/plain": [
       "             isbn13                                           describe\n",
       "2395  9791162541135  2015년 CNN 인터뷰를 통해 “내 돈 전부를 북한에 투자할 수 있다면 그렇게 하...\n",
       "2396  9788925550091  이도우의 장편소설. 서른한 살 공진솔. 사소한 일 하나하나 지켜가며, 나름 자신의 ...\n",
       "2397  9788936445270  제4회 '좋은 어린이 책' 원고 공모 기획 부문 대상작! 컴퓨터 게임을 좋아하는 어...\n",
       "2398  9788990982520  &lt;용의자 x의 헌신&gt;, &lt;방황하는 칼날&gt;의 작가 히가시노 게이...\n",
       "2399  9791187504092  마술 실력을 가장 빠르고 확실하게 키울 수 있는 ‘50가지 마술 기법’을 소개한 책..."
      ]
     },
     "execution_count": 65,
     "metadata": {},
     "output_type": "execute_result"
    }
   ],
   "source": [
    "isbn_desc_df.tail()"
   ]
  },
  {
   "cell_type": "code",
   "execution_count": 66,
   "metadata": {},
   "outputs": [
    {
     "data": {
      "text/plain": [
       "(2400, 2)"
      ]
     },
     "execution_count": 66,
     "metadata": {},
     "output_type": "execute_result"
    }
   ],
   "source": [
    "isbn_desc_df.shape"
   ]
  },
  {
   "cell_type": "code",
   "execution_count": 67,
   "metadata": {},
   "outputs": [],
   "source": [
    "isbn_desc_df.to_csv('isbn_desc_df.csv', mode = 'w', index = False, encoding = 'utf-8-sig')"
   ]
  },
  {
   "cell_type": "code",
   "execution_count": 32,
   "metadata": {},
   "outputs": [],
   "source": [
    "# 정수의 도움!\n",
    "isbn_desc_df = pd.read_csv('isbn_desc_df.csv')\n",
    "isbn_desc_df02 = pd.read_csv('isbn_desc_df02.csv')"
   ]
  },
  {
   "cell_type": "code",
   "execution_count": 37,
   "metadata": {},
   "outputs": [],
   "source": [
    "# 데이터프레임 통합\n",
    "isbn_desc_df = pd.concat([isbn_desc_df, isbn_desc_df02], ignore_index = True)"
   ]
  },
  {
   "cell_type": "code",
   "execution_count": 38,
   "metadata": {},
   "outputs": [
    {
     "data": {
      "text/html": [
       "<div>\n",
       "<style scoped>\n",
       "    .dataframe tbody tr th:only-of-type {\n",
       "        vertical-align: middle;\n",
       "    }\n",
       "\n",
       "    .dataframe tbody tr th {\n",
       "        vertical-align: top;\n",
       "    }\n",
       "\n",
       "    .dataframe thead th {\n",
       "        text-align: right;\n",
       "    }\n",
       "</style>\n",
       "<table border=\"1\" class=\"dataframe\">\n",
       "  <thead>\n",
       "    <tr style=\"text-align: right;\">\n",
       "      <th></th>\n",
       "      <th>isbn13</th>\n",
       "      <th>describe</th>\n",
       "    </tr>\n",
       "  </thead>\n",
       "  <tbody>\n",
       "    <tr>\n",
       "      <th>3742</th>\n",
       "      <td>9788998274153</td>\n",
       "      <td>추리소설계의 거장 제임스 패터슨이 쓴 인기 미드 [인스팅트] 원작소설. 피비린내가 ...</td>\n",
       "    </tr>\n",
       "    <tr>\n",
       "      <th>3743</th>\n",
       "      <td>9791162203897</td>\n",
       "      <td>《1인 가구 살림법》의 저자인 ‘세송’이 10여 년을 1인 가구로 살며 쌓은 돈 관...</td>\n",
       "    </tr>\n",
       "    <tr>\n",
       "      <th>3744</th>\n",
       "      <td>9791187383475</td>\n",
       "      <td>세상을 독서로 배운 저자의 책 이야기다. ‘핑크팬더’라는 닉네임으로 잘 알려져 있는...</td>\n",
       "    </tr>\n",
       "    <tr>\n",
       "      <th>3745</th>\n",
       "      <td>9791187903307</td>\n",
       "      <td>평소 부러워하던 친구와 자신의 삶을 바꿀 수 있다면,어떤 선택을 할 건가요?크든 작...</td>\n",
       "    </tr>\n",
       "    <tr>\n",
       "      <th>3746</th>\n",
       "      <td>9780679963714</td>\n",
       "      <td>THE MAGIC TREE HOUSE TAKES JACK AND ANNIE BACK...</td>\n",
       "    </tr>\n",
       "  </tbody>\n",
       "</table>\n",
       "</div>"
      ],
      "text/plain": [
       "             isbn13                                           describe\n",
       "3742  9788998274153  추리소설계의 거장 제임스 패터슨이 쓴 인기 미드 [인스팅트] 원작소설. 피비린내가 ...\n",
       "3743  9791162203897  《1인 가구 살림법》의 저자인 ‘세송’이 10여 년을 1인 가구로 살며 쌓은 돈 관...\n",
       "3744  9791187383475  세상을 독서로 배운 저자의 책 이야기다. ‘핑크팬더’라는 닉네임으로 잘 알려져 있는...\n",
       "3745  9791187903307  평소 부러워하던 친구와 자신의 삶을 바꿀 수 있다면,어떤 선택을 할 건가요?크든 작...\n",
       "3746  9780679963714  THE MAGIC TREE HOUSE TAKES JACK AND ANNIE BACK..."
      ]
     },
     "execution_count": 38,
     "metadata": {},
     "output_type": "execute_result"
    }
   ],
   "source": [
    "isbn_desc_df.tail()"
   ]
  },
  {
   "cell_type": "code",
   "execution_count": 39,
   "metadata": {},
   "outputs": [],
   "source": [
    "# 키워드 데이터와 통합하기 위한 데이터 불러오기\n",
    "isbn_keyword_df = pd.read_csv('isbn_keyword_df.csv')"
   ]
  },
  {
   "cell_type": "code",
   "execution_count": 40,
   "metadata": {},
   "outputs": [
    {
     "data": {
      "text/html": [
       "<div>\n",
       "<style scoped>\n",
       "    .dataframe tbody tr th:only-of-type {\n",
       "        vertical-align: middle;\n",
       "    }\n",
       "\n",
       "    .dataframe tbody tr th {\n",
       "        vertical-align: top;\n",
       "    }\n",
       "\n",
       "    .dataframe thead th {\n",
       "        text-align: right;\n",
       "    }\n",
       "</style>\n",
       "<table border=\"1\" class=\"dataframe\">\n",
       "  <thead>\n",
       "    <tr style=\"text-align: right;\">\n",
       "      <th></th>\n",
       "      <th>isbn13</th>\n",
       "      <th>keyword</th>\n",
       "    </tr>\n",
       "  </thead>\n",
       "  <tbody>\n",
       "    <tr>\n",
       "      <th>3742</th>\n",
       "      <td>9788998274153</td>\n",
       "      <td>[{'word': '패터슨', 'weight': '6'}, {'word': '스릴러...</td>\n",
       "    </tr>\n",
       "    <tr>\n",
       "      <th>3743</th>\n",
       "      <td>9791162203897</td>\n",
       "      <td>[{'word': '관리', 'weight': '34'}, {'word': '가구'...</td>\n",
       "    </tr>\n",
       "    <tr>\n",
       "      <th>3744</th>\n",
       "      <td>9791187383475</td>\n",
       "      <td>NaN</td>\n",
       "    </tr>\n",
       "    <tr>\n",
       "      <th>3745</th>\n",
       "      <td>9791187903307</td>\n",
       "      <td>[{'word': '자신', 'weight': '8'}, {'word': '어린이'...</td>\n",
       "    </tr>\n",
       "    <tr>\n",
       "      <th>3746</th>\n",
       "      <td>9780679963714</td>\n",
       "      <td>[{'word': '어린이', 'weight': '4'}, {'word': '뉴욕타...</td>\n",
       "    </tr>\n",
       "  </tbody>\n",
       "</table>\n",
       "</div>"
      ],
      "text/plain": [
       "             isbn13                                            keyword\n",
       "3742  9788998274153  [{'word': '패터슨', 'weight': '6'}, {'word': '스릴러...\n",
       "3743  9791162203897  [{'word': '관리', 'weight': '34'}, {'word': '가구'...\n",
       "3744  9791187383475                                                NaN\n",
       "3745  9791187903307  [{'word': '자신', 'weight': '8'}, {'word': '어린이'...\n",
       "3746  9780679963714  [{'word': '어린이', 'weight': '4'}, {'word': '뉴욕타..."
      ]
     },
     "execution_count": 40,
     "metadata": {},
     "output_type": "execute_result"
    }
   ],
   "source": [
    "isbn_keyword_df.tail()"
   ]
  },
  {
   "cell_type": "code",
   "execution_count": 41,
   "metadata": {},
   "outputs": [],
   "source": [
    "# 데이터프레임 통합\n",
    "isbn_keyword_desc_df = pd.merge(isbn_keyword_df, isbn_desc_df, how = 'inner', on = 'isbn13')"
   ]
  },
  {
   "cell_type": "code",
   "execution_count": 43,
   "metadata": {},
   "outputs": [],
   "source": [
    "# csv로 데이터프레임 저장\n",
    "isbn_keyword_desc_df.to_csv('isbn_keyword_desc_df.csv', mode = 'w', index = False, encoding = 'utf-8-sig')"
   ]
  }
 ],
 "metadata": {
  "kernelspec": {
   "display_name": "Python 3",
   "language": "python",
   "name": "python3"
  },
  "language_info": {
   "codemirror_mode": {
    "name": "ipython",
    "version": 3
   },
   "file_extension": ".py",
   "mimetype": "text/x-python",
   "name": "python",
   "nbconvert_exporter": "python",
   "pygments_lexer": "ipython3",
   "version": "3.6.5"
  }
 },
 "nbformat": 4,
 "nbformat_minor": 2
}
