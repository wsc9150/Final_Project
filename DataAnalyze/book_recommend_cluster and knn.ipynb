{
 "cells": [
  {
   "cell_type": "markdown",
   "metadata": {},
   "source": [
    "- 출처 : https://www.kaggle.com/hoshi7/goodreads-analysis-and-recommending-books 참고하여 분석"
   ]
  },
  {
   "cell_type": "code",
   "execution_count": null,
   "metadata": {},
   "outputs": [],
   "source": [
    "!pip install isbnlib\n",
    "!pip install newspaper3k\n",
    "!pip install goodreads_api_client\n",
    "!pip install progressbar"
   ]
  },
  {
   "cell_type": "code",
   "execution_count": null,
   "metadata": {},
   "outputs": [],
   "source": [
    "import numpy as np \n",
    "import pandas as pd\n",
    "import os\n",
    "import seaborn as sns\n",
    "import isbnlib\n",
    "from newspaper import Article\n",
    "import matplotlib.pyplot as plt\n",
    "plt.style.use('ggplot')\n",
    "from tqdm import tqdm\n",
    "from progressbar import ProgressBar\n",
    "import re\n",
    "from scipy.cluster.vq import kmeans, vq\n",
    "from pylab import plot, show\n",
    "from matplotlib.lines import Line2D\n",
    "import matplotlib.colors as mcolors\n",
    "#import goodreads_api_client as gr\n",
    "from sklearn.cluster import KMeans\n",
    "from sklearn import neighbors\n",
    "from sklearn.model_selection import train_test_split\n",
    "from sklearn.preprocessing import MinMaxScaler"
   ]
  },
  {
   "cell_type": "code",
   "execution_count": 15,
   "metadata": {},
   "outputs": [],
   "source": [
    "import warnings\n",
    "warnings.filterwarnings(\"ignore\")"
   ]
  },
  {
   "cell_type": "markdown",
   "metadata": {},
   "source": [
    "## 도서관 데이터 불러오기 및 데이터 전처리"
   ]
  },
  {
   "cell_type": "code",
   "execution_count": 2,
   "metadata": {},
   "outputs": [],
   "source": [
    "df= pd.read_csv('./data/final/best_book.csv',encoding='utf-8')"
   ]
  },
  {
   "cell_type": "code",
   "execution_count": 3,
   "metadata": {},
   "outputs": [
    {
     "data": {
      "text/html": [
       "<div>\n",
       "<style scoped>\n",
       "    .dataframe tbody tr th:only-of-type {\n",
       "        vertical-align: middle;\n",
       "    }\n",
       "\n",
       "    .dataframe tbody tr th {\n",
       "        vertical-align: top;\n",
       "    }\n",
       "\n",
       "    .dataframe thead th {\n",
       "        text-align: right;\n",
       "    }\n",
       "</style>\n",
       "<table border=\"1\" class=\"dataframe\">\n",
       "  <thead>\n",
       "    <tr style=\"text-align: right;\">\n",
       "      <th></th>\n",
       "      <th>no</th>\n",
       "      <th>ranking</th>\n",
       "      <th>bookname</th>\n",
       "      <th>authors</th>\n",
       "      <th>publisher</th>\n",
       "      <th>publication_year</th>\n",
       "      <th>isbn13</th>\n",
       "      <th>addition_symbol</th>\n",
       "      <th>vol</th>\n",
       "      <th>class_no</th>\n",
       "      <th>loan_count</th>\n",
       "      <th>bookImageURL</th>\n",
       "      <th>text_reviews_count</th>\n",
       "      <th>average_rating</th>\n",
       "      <th>num_pages</th>\n",
       "    </tr>\n",
       "  </thead>\n",
       "  <tbody>\n",
       "    <tr>\n",
       "      <th>0</th>\n",
       "      <td>1</td>\n",
       "      <td>1</td>\n",
       "      <td>여행의 이유 :김영하 산문</td>\n",
       "      <td>지은이: 김영하</td>\n",
       "      <td>문학동네</td>\n",
       "      <td>2019.0</td>\n",
       "      <td>9.790000e+12</td>\n",
       "      <td>3810.0</td>\n",
       "      <td>NaN</td>\n",
       "      <td>816.7</td>\n",
       "      <td>13336</td>\n",
       "      <td>https://image.aladin.co.kr/product/18827/60/co...</td>\n",
       "      <td>1540.0</td>\n",
       "      <td>9.3</td>\n",
       "      <td>216쪽</td>\n",
       "    </tr>\n",
       "    <tr>\n",
       "      <th>1</th>\n",
       "      <td>2</td>\n",
       "      <td>2</td>\n",
       "      <td>아몬드 (양장 특별 한정판)</td>\n",
       "      <td>손원평 (지은이)</td>\n",
       "      <td>창비</td>\n",
       "      <td>2017.0</td>\n",
       "      <td>9.790000e+12</td>\n",
       "      <td>3810.0</td>\n",
       "      <td>NaN</td>\n",
       "      <td>813.7</td>\n",
       "      <td>13117</td>\n",
       "      <td>http://image.aladin.co.kr/product/16839/4/cove...</td>\n",
       "      <td>997.0</td>\n",
       "      <td>9.3</td>\n",
       "      <td>263쪽</td>\n",
       "    </tr>\n",
       "    <tr>\n",
       "      <th>2</th>\n",
       "      <td>3</td>\n",
       "      <td>3</td>\n",
       "      <td>나미야 잡화점의 기적 :히가시노 게이고 장편소설</td>\n",
       "      <td>지은이: 히가시노 게이고 ;옮긴이: 양윤옥</td>\n",
       "      <td>현대문학</td>\n",
       "      <td>2012.0</td>\n",
       "      <td>9.790000e+12</td>\n",
       "      <td>3830.0</td>\n",
       "      <td>NaN</td>\n",
       "      <td>833.6</td>\n",
       "      <td>13004</td>\n",
       "      <td>http://image.aladin.co.kr/product/15848/6/cove...</td>\n",
       "      <td>1819.0</td>\n",
       "      <td>9.3</td>\n",
       "      <td>456쪽</td>\n",
       "    </tr>\n",
       "  </tbody>\n",
       "</table>\n",
       "</div>"
      ],
      "text/plain": [
       "   no  ranking                     bookname                  authors  \\\n",
       "0   1        1              여행의 이유 :김영하 산문                  지은이: 김영하   \n",
       "1   2        2              아몬드 (양장 특별 한정판)                손원평 (지은이)   \n",
       "2   3        3  나미야 잡화점의 기적 :히가시노 게이고 장편소설   지은이: 히가시노 게이고 ;옮긴이: 양윤옥   \n",
       "\n",
       "  publisher  publication_year        isbn13  addition_symbol  vol  class_no  \\\n",
       "0      문학동네            2019.0  9.790000e+12           3810.0  NaN     816.7   \n",
       "1        창비            2017.0  9.790000e+12           3810.0  NaN     813.7   \n",
       "2      현대문학            2012.0  9.790000e+12           3830.0  NaN     833.6   \n",
       "\n",
       "   loan_count                                       bookImageURL  \\\n",
       "0       13336  https://image.aladin.co.kr/product/18827/60/co...   \n",
       "1       13117  http://image.aladin.co.kr/product/16839/4/cove...   \n",
       "2       13004  http://image.aladin.co.kr/product/15848/6/cove...   \n",
       "\n",
       "   text_reviews_count  average_rating num_pages  \n",
       "0              1540.0             9.3      216쪽  \n",
       "1               997.0             9.3      263쪽  \n",
       "2              1819.0             9.3      456쪽  "
      ]
     },
     "execution_count": 3,
     "metadata": {},
     "output_type": "execute_result"
    }
   ],
   "source": [
    "df.head(3)"
   ]
  },
  {
   "cell_type": "code",
   "execution_count": 4,
   "metadata": {},
   "outputs": [
    {
     "data": {
      "text/plain": [
       "Index(['no', 'ranking', 'bookname', 'authors', 'publisher', 'publication_year',\n",
       "       'isbn13', 'addition_symbol', 'vol', 'class_no', 'loan_count',\n",
       "       'bookImageURL', 'text_reviews_count', 'average_rating', 'num_pages'],\n",
       "      dtype='object')"
      ]
     },
     "execution_count": 4,
     "metadata": {},
     "output_type": "execute_result"
    }
   ],
   "source": [
    "df.columns"
   ]
  },
  {
   "cell_type": "code",
   "execution_count": 5,
   "metadata": {},
   "outputs": [],
   "source": [
    "# average_co 결측치 제거\n",
    "df=df[pd.notnull(df['average_rating'])]"
   ]
  },
  {
   "cell_type": "code",
   "execution_count": 6,
   "metadata": {},
   "outputs": [],
   "source": [
    "# 책이름 결측치 제거\n",
    "df=df[pd.notnull(df['bookname'])]"
   ]
  },
  {
   "cell_type": "code",
   "execution_count": 7,
   "metadata": {},
   "outputs": [],
   "source": [
    "# 책이미지 결측치 제거\n",
    "df=df[pd.notnull(df['bookImageURL'])]"
   ]
  },
  {
   "cell_type": "code",
   "execution_count": null,
   "metadata": {},
   "outputs": [],
   "source": [
    "# 작가이름 결측치 제거 \n",
    "df=df[pd.notnull(df['bookImageURL'])]"
   ]
  },
  {
   "cell_type": "markdown",
   "metadata": {},
   "source": [
    "- publication_year을 숫자에서 문자형으로 타입변환"
   ]
  },
  {
   "cell_type": "code",
   "execution_count": 13,
   "metadata": {},
   "outputs": [],
   "source": [
    "df=df.astype({'publication_year':'str'})"
   ]
  },
  {
   "cell_type": "code",
   "execution_count": 14,
   "metadata": {},
   "outputs": [
    {
     "name": "stderr",
     "output_type": "stream",
     "text": [
      "C:\\ProgramData\\Anaconda3\\lib\\site-packages\\ipykernel_launcher.py:2: SettingWithCopyWarning: \n",
      "A value is trying to be set on a copy of a slice from a DataFrame\n",
      "\n",
      "See the caveats in the documentation: https://pandas.pydata.org/pandas-docs/stable/user_guide/indexing.html#returning-a-view-versus-a-copy\n",
      "  \n"
     ]
    }
   ],
   "source": [
    "for i in range(len(df)):\n",
    "    df['publication_year'][i]=df['publication_year'][i][0:4]"
   ]
  },
  {
   "cell_type": "code",
   "execution_count": 40,
   "metadata": {},
   "outputs": [],
   "source": [
    "# 제목 양쪽 공백제거\n",
    "for i in range(len(df)):\n",
    "    df['bookname'][i]=df['bookname'][i].strip()"
   ]
  },
  {
   "cell_type": "markdown",
   "metadata": {},
   "source": [
    "- 데이터프레임 인덱스 정리 필요"
   ]
  },
  {
   "cell_type": "code",
   "execution_count": 10,
   "metadata": {},
   "outputs": [],
   "source": [
    "df.reset_index(drop=True,inplace=True)"
   ]
  },
  {
   "cell_type": "code",
   "execution_count": 11,
   "metadata": {},
   "outputs": [
    {
     "data": {
      "text/html": [
       "<div>\n",
       "<style scoped>\n",
       "    .dataframe tbody tr th:only-of-type {\n",
       "        vertical-align: middle;\n",
       "    }\n",
       "\n",
       "    .dataframe tbody tr th {\n",
       "        vertical-align: top;\n",
       "    }\n",
       "\n",
       "    .dataframe thead th {\n",
       "        text-align: right;\n",
       "    }\n",
       "</style>\n",
       "<table border=\"1\" class=\"dataframe\">\n",
       "  <thead>\n",
       "    <tr style=\"text-align: right;\">\n",
       "      <th></th>\n",
       "      <th>no</th>\n",
       "      <th>ranking</th>\n",
       "      <th>bookname</th>\n",
       "      <th>authors</th>\n",
       "      <th>publisher</th>\n",
       "      <th>publication_year</th>\n",
       "      <th>isbn13</th>\n",
       "      <th>addition_symbol</th>\n",
       "      <th>vol</th>\n",
       "      <th>class_no</th>\n",
       "      <th>loan_count</th>\n",
       "      <th>bookImageURL</th>\n",
       "      <th>text_reviews_count</th>\n",
       "      <th>average_rating</th>\n",
       "      <th>num_pages</th>\n",
       "    </tr>\n",
       "  </thead>\n",
       "  <tbody>\n",
       "    <tr>\n",
       "      <th>0</th>\n",
       "      <td>1</td>\n",
       "      <td>1</td>\n",
       "      <td>여행의 이유 :김영하 산문</td>\n",
       "      <td>지은이: 김영하</td>\n",
       "      <td>문학동네</td>\n",
       "      <td>2019.0</td>\n",
       "      <td>9.790000e+12</td>\n",
       "      <td>3810.0</td>\n",
       "      <td>NaN</td>\n",
       "      <td>816.7</td>\n",
       "      <td>13336</td>\n",
       "      <td>https://image.aladin.co.kr/product/18827/60/co...</td>\n",
       "      <td>1540.0</td>\n",
       "      <td>9.3</td>\n",
       "      <td>216쪽</td>\n",
       "    </tr>\n",
       "  </tbody>\n",
       "</table>\n",
       "</div>"
      ],
      "text/plain": [
       "   no  ranking         bookname   authors publisher  publication_year  \\\n",
       "0   1        1  여행의 이유 :김영하 산문   지은이: 김영하      문학동네            2019.0   \n",
       "\n",
       "         isbn13  addition_symbol  vol  class_no  loan_count  \\\n",
       "0  9.790000e+12           3810.0  NaN     816.7       13336   \n",
       "\n",
       "                                        bookImageURL  text_reviews_count  \\\n",
       "0  https://image.aladin.co.kr/product/18827/60/co...              1540.0   \n",
       "\n",
       "   average_rating num_pages  \n",
       "0             9.3      216쪽  "
      ]
     },
     "execution_count": 11,
     "metadata": {},
     "output_type": "execute_result"
    }
   ],
   "source": [
    "df.head(1)"
   ]
  },
  {
   "cell_type": "code",
   "execution_count": 16,
   "metadata": {},
   "outputs": [
    {
     "data": {
      "text/plain": [
       "0       2019\n",
       "1       2017\n",
       "2       2012\n",
       "3       2019\n",
       "4        nan\n",
       "        ... \n",
       "4693     nan\n",
       "4694    2018\n",
       "4695     nan\n",
       "4696    2019\n",
       "4697    2019\n",
       "Name: publication_year, Length: 4698, dtype: object"
      ]
     },
     "execution_count": 16,
     "metadata": {},
     "output_type": "execute_result"
    }
   ],
   "source": [
    "df['publication_year']"
   ]
  },
  {
   "cell_type": "markdown",
   "metadata": {},
   "source": [
    "# Recommendation Engine"
   ]
  },
  {
   "cell_type": "code",
   "execution_count": null,
   "metadata": {},
   "outputs": [],
   "source": [
    "\n",
    "#클러스터링을 살펴보면 Average Rating과 Ratings Count 사이의 관계에서 발생할 수있는 몇 가지 권장 사항이있을 수 있음을 추론 할 수 있습니다.\n",
    "\n",
    "#Ratings_Distribution (자체 생성 분류 추세)을 사용하는 추천 시스템은 K Nearest Neighbors의 알고리즘과 함께 작동합니다.\n",
    "\n",
    "#사용자가 입력 한 책을 기반으로 가장 가까운 이웃이 사용자가 좋아할만한 책으로 분류됩니다.\n",
    "\n",
    "K#NN은 분류 및 회귀 문제 모두에 사용됩니다. \n",
    "\n",
    "#인스턴스의 레이블을 예측하는 분류 문제에서 먼저 거리 메트릭을 기반으로 주어진 인스턴스에 가장 가까운 k 개의 인스턴스를 찾고 \n",
    "# 다수결 투표 방식 또는 가중 다수 투표 (가까운 이웃이 더 높은 가중치가 부여됨)를 기반으로 레이블을 예측합니다."
   ]
  },
  {
   "cell_type": "markdown",
   "metadata": {},
   "source": [
    "- 등급 분포를 기반으로 책을 다음과 같은 등급 척도로 분류하는 책 기능 테이블 만들기"
   ]
  },
  {
   "cell_type": "code",
   "execution_count": 28,
   "metadata": {},
   "outputs": [
    {
     "data": {
      "text/plain": [
       "count    4698.000000\n",
       "mean        9.497573\n",
       "std         0.798195\n",
       "min         0.000000\n",
       "25%         9.300000\n",
       "50%         9.600000\n",
       "75%         9.900000\n",
       "max        10.000000\n",
       "Name: average_rating, dtype: float64"
      ]
     },
     "execution_count": 28,
     "metadata": {},
     "output_type": "execute_result"
    }
   ],
   "source": [
    "df['average_rating'].describe()"
   ]
  },
  {
   "cell_type": "code",
   "execution_count": 29,
   "metadata": {},
   "outputs": [],
   "source": [
    "def segregation(data):\n",
    "    values = []\n",
    "    for val in data.average_rating:\n",
    "        if val==0:\n",
    "            values.append(\"average_rating 0\")\n",
    "        elif val>0 and val<=9.3:\n",
    "            values.append(\"average_rating q1\")\n",
    "        elif val>9.3 and val<=9.6:\n",
    "            values.append(\"average_rating mean\")\n",
    "        elif val>9.6 and val<=9.9:\n",
    "            values.append(\"average_rating q3\")\n",
    "        elif val>9.9:\n",
    "            values.append(\"average_rating q3_max\")\n",
    "        else:\n",
    "            values.append(\"NaN\")\n",
    "    print(len(values))\n",
    "    return values"
   ]
  },
  {
   "cell_type": "code",
   "execution_count": 30,
   "metadata": {},
   "outputs": [
    {
     "data": {
      "text/plain": [
       "False    4698\n",
       "Name: average_rating, dtype: int64"
      ]
     },
     "execution_count": 30,
     "metadata": {},
     "output_type": "execute_result"
    }
   ],
   "source": [
    "df.average_rating.isnull().value_counts()"
   ]
  },
  {
   "cell_type": "code",
   "execution_count": 31,
   "metadata": {},
   "outputs": [
    {
     "data": {
      "text/plain": [
       "<AxesSubplot:xlabel='average_rating', ylabel='Density'>"
      ]
     },
     "execution_count": 31,
     "metadata": {},
     "output_type": "execute_result"
    },
    {
     "data": {
      "image/png": "[encoded data removed]",
      "text/plain": [
       "<Figure size 720x720 with 1 Axes>"
      ]
     },
     "metadata": {},
     "output_type": "display_data"
    }
   ],
   "source": [
    "plt.figure(figsize=(10,10))\n",
    "rating= df.average_rating.astype(float)\n",
    "sns.distplot(rating, bins=20)"
   ]
  },
  {
   "cell_type": "code",
   "execution_count": 32,
   "metadata": {},
   "outputs": [
    {
     "name": "stdout",
     "output_type": "stream",
     "text": [
      "4698\n"
     ]
    },
    {
     "data": {
      "text/plain": [
       "<matplotlib.legend.Legend at 0x1d5a5da8080>"
      ]
     },
     "execution_count": 32,
     "metadata": {},
     "output_type": "execute_result"
    },
    {
     "data": {
      "image/png": "[encoded data removed]",
      "text/plain": [
       "<Figure size 432x288 with 1 Axes>"
      ]
     },
     "metadata": {},
     "output_type": "display_data"
    }
   ],
   "source": [
    "df['Ratings_Dist'] = segregation(df)\n",
    "ratings_pie = df['Ratings_Dist'].value_counts().reset_index()\n",
    "labels = ratings_pie['index']\n",
    "colors = ['lightblue','darkmagenta','coral','bisque', 'black']\n",
    "percent = 100.*ratings_pie['Ratings_Dist']/ratings_pie['Ratings_Dist'].sum()\n",
    "fig, ax1 = plt.subplots()\n",
    "ax1.pie(ratings_pie['Ratings_Dist'],colors = colors, \n",
    "        pctdistance=0.85, startangle=90, explode=(0.05, 0.05, 0.05, 0.05, 0.05))\n",
    "#Draw a circle now:\n",
    "centre_circle = plt.Circle((0,0), 0.70, fc ='white')\n",
    "fig1 = plt.gcf()\n",
    "fig1.gca().add_artist(centre_circle)\n",
    "#Equal Aspect ratio ensures that pie is drawn as a circle\n",
    "plt.axis('equal')\n",
    "plt.tight_layout()\n",
    "labels = ['{0} - {1:1.2f} %'.format(i,j) for i,j in zip(labels, percent)]\n",
    "plt.legend( labels, loc = 'best',bbox_to_anchor=(-0.1, 1.),)"
   ]
  },
  {
   "cell_type": "code",
   "execution_count": null,
   "metadata": {},
   "outputs": [],
   "source": [
    "# 0 평점이 적은 것을 보아 현재 데이터에서 인지도가 낮은 책은 없는것으로 보입니다.\n",
    "\n",
    "# q1의 비중이 가장 높은것을 보아 이 책들은 사람들의 반은 좋아하고 \n",
    "# 반은 좋아하지 않는 것으로 보입니다.\n",
    "\n",
    "# 전체적으로 사람들이 평점을 높게 주는것을 확인 할 수 있었습니다."
   ]
  },
  {
   "cell_type": "markdown",
   "metadata": {},
   "source": [
    "## 평점과 리뷰수 사이의 관계를 살펴보기"
   ]
  },
  {
   "cell_type": "code",
   "execution_count": 56,
   "metadata": {},
   "outputs": [
    {
     "data": {
      "text/plain": [
       "<Figure size 1080x720 with 0 Axes>"
      ]
     },
     "metadata": {},
     "output_type": "display_data"
    },
    {
     "data": {
      "image/png": "[encoded data removed]",
      "text/plain": [
       "<Figure size 432x432 with 3 Axes>"
      ]
     },
     "metadata": {},
     "output_type": "display_data"
    }
   ],
   "source": [
    "#Checking for any relation between them.\n",
    "plt.figure(figsize=(15,10))\n",
    "sns.set_context('paper')\n",
    "ax =sns.jointplot(x=\"average_rating\",y='text_reviews_count', kind='scatter',  data= df[['text_reviews_count', 'average_rating']])\n",
    "ax.set_axis_labels(\"Average Rating\", \"Text Review Count\")\n",
    "plt.show()"
   ]
  },
  {
   "cell_type": "code",
   "execution_count": null,
   "metadata": {},
   "outputs": [],
   "source": [
    "# 책에 대한 평점이 대부분 9점이라는 것을 파악 할 수 있다\n",
    "# 리뷰수는 500개 이하가 대부분인것을 확인 할 수 있다"
   ]
  },
  {
   "cell_type": "markdown",
   "metadata": {},
   "source": [
    "## TOPIC MODELING _ kmeans"
   ]
  },
  {
   "cell_type": "code",
   "execution_count": 22,
   "metadata": {},
   "outputs": [],
   "source": [
    "trial = df[['average_rating','loan_count','text_reviews_count']]\n",
    "data = np.asarray([np.asarray(trial['average_rating']), np.asarray(trial['loan_count']),np.asarray(trial['text_reviews_count'])]).T"
   ]
  },
  {
   "cell_type": "code",
   "execution_count": 23,
   "metadata": {},
   "outputs": [
    {
     "data": {
      "text/plain": [
       "Text(0.5, 1.0, 'Elbow Curve')"
      ]
     },
     "execution_count": 23,
     "metadata": {},
     "output_type": "execute_result"
    },
    {
     "data": {
      "image/png": "[encoded data removed]",
      "text/plain": [
       "<Figure size 1080x720 with 1 Axes>"
      ]
     },
     "metadata": {},
     "output_type": "display_data"
    }
   ],
   "source": [
    "X = data\n",
    "distortions = []\n",
    "for k in range(2,30):\n",
    "    k_means = KMeans(n_clusters = k)\n",
    "    k_means.fit(X)\n",
    "    distortions.append(k_means.inertia_)\n",
    "\n",
    "fig = plt.figure(figsize=(15,10))\n",
    "plt.plot(range(2,30), distortions, 'bx-')\n",
    "plt.title(\"Elbow Curve\")\n",
    "\n",
    "# elbow point가 5에서 많이 꺾이는 것을 확인할 수 있다."
   ]
  },
  {
   "cell_type": "code",
   "execution_count": 24,
   "metadata": {},
   "outputs": [],
   "source": [
    "#elbow point를 통해 군집의 수를 5로 정함\n",
    "centroids, _ = kmeans(data, 5)\n",
    "\n",
    "#각 샘플을 클러스터에 할당하기 \n",
    "#벡터 양자화 : N개의 특징 벡터 집합 X를 k개의 특징 벡터들의 집합 Y로 매핑하는것\n",
    "\n",
    "idx, _ = vq(data, centroids)"
   ]
  },
  {
   "cell_type": "code",
   "execution_count": 25,
   "metadata": {},
   "outputs": [
    {
     "data": {
      "image/png": "[encoded data removed]",
      "text/plain": [
       "<Figure size 1080x720 with 1 Axes>"
      ]
     },
     "metadata": {},
     "output_type": "display_data"
    }
   ],
   "source": [
    "# some plotting using numpy's logical indexing\n",
    "sns.set_context('paper')\n",
    "plt.figure(figsize=(15,10))\n",
    "plt.plot(data[idx==0,0],data[idx==0,1],'or',#red circles\n",
    "     data[idx==1,0],data[idx==1,1],'ob',#blue circles\n",
    "     data[idx==2,0],data[idx==2,1],'oy', #yellow circles\n",
    "     data[idx==3,0],data[idx==3,1],'om', #magenta circles\n",
    "     data[idx==4,0],data[idx==4,1],'ok',#black circles\n",
    "    \n",
    "     \n",
    "        \n",
    "        \n",
    "        \n",
    "        \n",
    "        )\n",
    "plt.plot(centroids[:,0],centroids[:,1],'sg',markersize=8, )\n",
    "\n",
    "\n",
    "\n",
    "\n",
    "circle1 = Line2D(range(1), range(1), color = 'red', linewidth = 0, marker= 'o', markerfacecolor='red')\n",
    "circle2 = Line2D(range(1), range(1), color = 'blue', linewidth = 0,marker= 'o', markerfacecolor='blue')\n",
    "circle3 = Line2D(range(1), range(1), color = 'yellow',linewidth=0,  marker= 'o', markerfacecolor='yellow')\n",
    "circle4 = Line2D(range(1), range(1), color = 'magenta', linewidth=0,marker= 'o', markerfacecolor='magenta')\n",
    "circle5 = Line2D(range(1), range(1), color = 'black', linewidth = 0,marker= 'o', markerfacecolor='black')\n",
    "\n",
    "plt.legend((circle1, circle2, circle3, circle4, circle5)\n",
    "           , ('Cluster 1','Cluster 2', 'Cluster 3', 'Cluster 4', 'Cluster 5'), numpoints = 1, loc = 0, )\n",
    "\n",
    "\n",
    "plt.show()"
   ]
  },
  {
   "cell_type": "code",
   "execution_count": 33,
   "metadata": {},
   "outputs": [],
   "source": [
    "books_features = pd.concat([df['Ratings_Dist'].str.get_dummies(sep=\",\"), df['average_rating'], df['loan_count'],df['text_reviews_count']], axis=1)"
   ]
  },
  {
   "cell_type": "code",
   "execution_count": 34,
   "metadata": {},
   "outputs": [
    {
     "data": {
      "text/html": [
       "<div>\n",
       "<style scoped>\n",
       "    .dataframe tbody tr th:only-of-type {\n",
       "        vertical-align: middle;\n",
       "    }\n",
       "\n",
       "    .dataframe tbody tr th {\n",
       "        vertical-align: top;\n",
       "    }\n",
       "\n",
       "    .dataframe thead th {\n",
       "        text-align: right;\n",
       "    }\n",
       "</style>\n",
       "<table border=\"1\" class=\"dataframe\">\n",
       "  <thead>\n",
       "    <tr style=\"text-align: right;\">\n",
       "      <th></th>\n",
       "      <th>average_rating 0</th>\n",
       "      <th>average_rating mean</th>\n",
       "      <th>average_rating q1</th>\n",
       "      <th>average_rating q3</th>\n",
       "      <th>average_rating q3_max</th>\n",
       "      <th>average_rating</th>\n",
       "      <th>loan_count</th>\n",
       "      <th>text_reviews_count</th>\n",
       "    </tr>\n",
       "  </thead>\n",
       "  <tbody>\n",
       "    <tr>\n",
       "      <th>0</th>\n",
       "      <td>0</td>\n",
       "      <td>0</td>\n",
       "      <td>1</td>\n",
       "      <td>0</td>\n",
       "      <td>0</td>\n",
       "      <td>9.3</td>\n",
       "      <td>13336</td>\n",
       "      <td>1540.0</td>\n",
       "    </tr>\n",
       "    <tr>\n",
       "      <th>1</th>\n",
       "      <td>0</td>\n",
       "      <td>0</td>\n",
       "      <td>1</td>\n",
       "      <td>0</td>\n",
       "      <td>0</td>\n",
       "      <td>9.3</td>\n",
       "      <td>13117</td>\n",
       "      <td>997.0</td>\n",
       "    </tr>\n",
       "    <tr>\n",
       "      <th>2</th>\n",
       "      <td>0</td>\n",
       "      <td>0</td>\n",
       "      <td>1</td>\n",
       "      <td>0</td>\n",
       "      <td>0</td>\n",
       "      <td>9.3</td>\n",
       "      <td>13004</td>\n",
       "      <td>1819.0</td>\n",
       "    </tr>\n",
       "    <tr>\n",
       "      <th>3</th>\n",
       "      <td>0</td>\n",
       "      <td>0</td>\n",
       "      <td>1</td>\n",
       "      <td>0</td>\n",
       "      <td>0</td>\n",
       "      <td>8.7</td>\n",
       "      <td>11629</td>\n",
       "      <td>244.0</td>\n",
       "    </tr>\n",
       "    <tr>\n",
       "      <th>4</th>\n",
       "      <td>0</td>\n",
       "      <td>0</td>\n",
       "      <td>0</td>\n",
       "      <td>1</td>\n",
       "      <td>0</td>\n",
       "      <td>9.7</td>\n",
       "      <td>11385</td>\n",
       "      <td>325.0</td>\n",
       "    </tr>\n",
       "  </tbody>\n",
       "</table>\n",
       "</div>"
      ],
      "text/plain": [
       "   average_rating 0  average_rating mean  average_rating q1  \\\n",
       "0                 0                    0                  1   \n",
       "1                 0                    0                  1   \n",
       "2                 0                    0                  1   \n",
       "3                 0                    0                  1   \n",
       "4                 0                    0                  0   \n",
       "\n",
       "   average_rating q3  average_rating q3_max  average_rating  loan_count  \\\n",
       "0                  0                      0             9.3       13336   \n",
       "1                  0                      0             9.3       13117   \n",
       "2                  0                      0             9.3       13004   \n",
       "3                  0                      0             8.7       11629   \n",
       "4                  1                      0             9.7       11385   \n",
       "\n",
       "   text_reviews_count  \n",
       "0              1540.0  \n",
       "1               997.0  \n",
       "2              1819.0  \n",
       "3               244.0  \n",
       "4               325.0  "
      ]
     },
     "execution_count": 34,
     "metadata": {},
     "output_type": "execute_result"
    }
   ],
   "source": [
    "books_features.head()"
   ]
  },
  {
   "cell_type": "code",
   "execution_count": 35,
   "metadata": {},
   "outputs": [
    {
     "data": {
      "text/plain": [
       "4698"
      ]
     },
     "execution_count": 35,
     "metadata": {},
     "output_type": "execute_result"
    }
   ],
   "source": [
    "len(books_features)"
   ]
  },
  {
   "cell_type": "code",
   "execution_count": null,
   "metadata": {},
   "outputs": [],
   "source": [
    "\n",
    "# 클러스터링을 살펴보면 Average Rating과 Ratings Count 사이의 관계에서 \n",
    "# 발생할 수있는 몇 가지 권장 사항이있을 수 있음을 추론 할 수 있습니다.\n",
    "\n",
    "# Ratings_Distribution (자체 생성 분류 추세)을 사용하면 추천 시스템은 \n",
    "# K Nearest Neighbors의 알고리즘으로 작동합니다.\n",
    "\n",
    "# 사용자가 입력 한 책을 기반으로 가장 가까운 이웃이 사용자가 좋아할만한 책으로 분류됩니다.\n",
    "\n",
    "# KNN은 분류 및 회귀 문제 모두에 사용됩니다. \n",
    "# 인스턴스의 레이블을 예측하는 분류 문제에서 먼저 거리 메트릭을 기반으로 \n",
    "# 주어진 인스턴스에 가장 가까운 k 개의 인스턴스를 찾고 다수결 투표 방식 \n",
    "# 또는 가중 다수 투표 (가까운 이웃이 더 높은 가중치가 부여됨)를 기반으로 레이블을 예측합니다."
   ]
  },
  {
   "cell_type": "code",
   "execution_count": null,
   "metadata": {},
   "outputs": [],
   "source": [
    "#  최소-최대 스케일러는 일부 책에 엄청난 양의 기능이 있지만 \n",
    "# 나머지 책은 기능이 적기 때문에 발생했을 편향을 줄이는 데 사용 \n",
    "# Min-Max 스케일러는 그들 모두에 대한 중앙값을 찾아 동등 화합니다."
   ]
  },
  {
   "cell_type": "markdown",
   "metadata": {},
   "source": [
    "- k-NN 은 대표적인 분류 알고리즘 중의 하나이다.\n",
    "- k-NN 에서 NN 은 Nearest Neighbors 즉, 가장 가까운 점들이라는 의미이며, k 는 가장 가까운 이웃의 갯수를 의미한다.\n",
    "- 예측하려고 하는 점 주위에 가장 가까이 있는 점들의 타겟값(클래스) 를 비교하여 해당 클래스를 판정한다."
   ]
  },
  {
   "cell_type": "code",
   "execution_count": 36,
   "metadata": {},
   "outputs": [],
   "source": [
    "min_max_scaler = MinMaxScaler()\n",
    "books_features = min_max_scaler.fit_transform(books_features)"
   ]
  },
  {
   "cell_type": "code",
   "execution_count": 37,
   "metadata": {},
   "outputs": [],
   "source": [
    "model = neighbors.NearestNeighbors(n_neighbors=6, algorithm='ball_tree')\n",
    "model.fit(books_features)\n",
    "distance, indices = model.kneighbors(books_features)"
   ]
  },
  {
   "cell_type": "code",
   "execution_count": 38,
   "metadata": {},
   "outputs": [],
   "source": [
    "# 책 이름을 찾는 데 도움이되는 특정 기능 만들기 :\n",
    "\n",
    "# 제목에서 색인 가져 오기\n",
    "# 일부 이름에서 ID 가져 오기 (모든 사람이 모든 이름을 기억할 수는 없기 때문에)\n",
    "# 기능 데이터 세트에서 유사한 책을 인쇄합니다. (이는 가장 가까운 이웃의 인덱스 지표를 사용하여 책을 선택합니다.)"
   ]
  },
  {
   "cell_type": "code",
   "execution_count": 53,
   "metadata": {},
   "outputs": [],
   "source": [
    "def get_index_from_name(name):\n",
    "    return df[df[\"bookname\"]==name].index.tolist()[0]\n",
    "\n",
    "all_books_names = list(df.bookname.values)\n",
    "\n",
    "# 특정단어를 통해 책 찾기\n",
    "def get_id_from_partial_name(partial):\n",
    "    for name in all_books_names:\n",
    "        if partial in name:\n",
    "            print(name)\n",
    "\n",
    "\n",
    "# 내가 검색한 책의 인기도와 유사한 책 5권 추천\n",
    "def print_similar_books(query=None,id=None):\n",
    "    if id:\n",
    "        for id in indices[id][1:]:\n",
    "            print(df.iloc[id][\"bookname\"],df.iloc[id][\"authors\"],df.iloc[id][\"bookImageURL\"])\n",
    "    if query:\n",
    "        found_id = get_index_from_name(query)\n",
    "        for id in indices[found_id][1:]:\n",
    "            print(df.iloc[id][\"bookname\"],df.iloc[id][\"authors\"],df.iloc[id][\"bookImageURL\"])"
   ]
  },
  {
   "cell_type": "code",
   "execution_count": null,
   "metadata": {},
   "outputs": [],
   "source": [
    "# 시스템이 잘 작동하는지 확인하기\n",
    "\n",
    "# System by name: 여행의 이유 :김영하 산문\n",
    "# System by Name: (법륜 스님의) 행복 :행복해지고 싶지만 길을 몰라 헤매는 당신에게 \n",
    "# System by partial name: 해리포터"
   ]
  },
  {
   "cell_type": "code",
   "execution_count": 45,
   "metadata": {},
   "outputs": [
    {
     "name": "stdout",
     "output_type": "stream",
     "text": [
      "나미야 잡화점의 기적 :히가시노 게이고 장편소설 지은이: 히가시노 게이고 ;옮긴이: 양윤옥 http://image.aladin.co.kr/product/15848/6/cover/k622533431_1.jpg\n",
      "82년생 김지영 :조남주 장편소설 지은이: 조남주 https://bookthumb-phinf.pstatic.net/cover/112/111/11211133.jpg?type=m1&udate=20180530\n",
      "나는 나로 살기로 했다 :냉담한 현실에서 어른살이를 위한 to do list 글·그림: 김수현 http://image.aladin.co.kr/product/16751/86/cover/k642534567_2.jpg\n",
      "아몬드 (양장 특별 한정판) 손원평 (지은이) http://image.aladin.co.kr/product/16839/4/cover/k492534773_1.jpg\n",
      "언어의 온도 :말과 글에는 나름의 따뜻함과 차가움이 있다 지은이: 이기주 http://image.aladin.co.kr/product/14842/6/cover/k742532452_1.jpg\n"
     ]
    }
   ],
   "source": [
    "# 평점이랑 많이 빌린책을 종합적으로 봤을때 인기있는 책 찾기 - 광고성이 없는 순수함..?\n",
    "print_similar_books(\"여행의 이유 :김영하 산문\")"
   ]
  },
  {
   "cell_type": "code",
   "execution_count": 46,
   "metadata": {},
   "outputs": [
    {
     "name": "stdout",
     "output_type": "stream",
     "text": [
      "여행의 이유 :김영하 산문 지은이: 김영하 https://image.aladin.co.kr/product/18827/60/cover/8954655971_2.jpg\n",
      "82년생 김지영 :조남주 장편소설 지은이: 조남주 https://bookthumb-phinf.pstatic.net/cover/112/111/11211133.jpg?type=m1&udate=20180530\n",
      "언어의 온도 :말과 글에는 나름의 따뜻함과 차가움이 있다 지은이: 이기주 http://image.aladin.co.kr/product/14842/6/cover/k742532452_1.jpg\n",
      "나는 나로 살기로 했다 :냉담한 현실에서 어른살이를 위한 to do list 글·그림: 김수현 http://image.aladin.co.kr/product/16751/86/cover/k642534567_2.jpg\n",
      "아몬드 (양장 특별 한정판) 손원평 (지은이) http://image.aladin.co.kr/product/16839/4/cover/k492534773_1.jpg\n"
     ]
    }
   ],
   "source": [
    "print_similar_books('나미야 잡화점의 기적 :히가시노 게이고 장편소설')"
   ]
  },
  {
   "cell_type": "code",
   "execution_count": 55,
   "metadata": {},
   "outputs": [
    {
     "name": "stdout",
     "output_type": "stream",
     "text": [
      "틀 밖에서 놀게 하라 :세계 창의력 교육 노벨상 '토런스상' 수상, 김경희 교수의 창의영재 교육법 김경희 지음 https://image.aladin.co.kr/product/21945/70/cover/8965709598_1.jpg\n",
      "언컨택트 =더 많은 연결을 위한 새로운 시대 진화 코드 /Uncontact 김용섭 지음 https://image.aladin.co.kr/product/23775/60/cover/k012639065_1.jpg\n",
      "이상한 손님 백희나 https://bookthumb-phinf.pstatic.net/cover/134/460/13446004.jpg?type=m1&udate=20180731\n",
      "수학이 필요한 순간 :인간은 얼마나 깊게 생각할 수 있는가 지은이: 김민형 https://image.aladin.co.kr/product/15892/11/cover/s802533642_1.jpg\n",
      "분신 히가시노 게이고 (지은이), 김난주 (옮긴이) https://image.aladin.co.kr/product/22056/44/cover/8990982839_1.jpg\n"
     ]
    }
   ],
   "source": [
    "print_similar_books(\"(법륜 스님의) 행복 :행복해지고 싶지만 길을 몰라 헤매는 당신에게\")"
   ]
  },
  {
   "cell_type": "code",
   "execution_count": 54,
   "metadata": {},
   "outputs": [
    {
     "name": "stdout",
     "output_type": "stream",
     "text": [
      "해리포터와 마법사의 돌\n",
      "해리포터와 마법사의 돌\n",
      "해리포터 :마법사의 돌\n",
      "해리포터와 비밀의 방\n",
      "해리포터와 비밀의 방\n",
      "해리포터 :마법사의 돌\n",
      "해리포터 :비밀의 방\n",
      "해리포터 :스페셜 리허설 에디션 대본\n",
      "해리포터 :비밀의 방\n",
      "해리포터와 불의 잔\n",
      "해리포터 :스페셜 리허설 에디션 대본\n",
      "해리포터와 아즈카반의 죄수\n",
      "해리포터와 아즈카반의 죄수\n",
      "해리포터 :아즈카반의 죄수\n",
      "해리포터와 불의 잔\n",
      "해리포터와 불사조 기사단\n",
      "해리포터 :아즈카반의 죄수\n",
      "해리포터 :불의 잔\n",
      "해리포터와 불의 잔\n",
      "해리포터와 불사조 기사단\n",
      "해리포터와 혼혈왕자\n",
      "해리포터 :불의 잔\n",
      "해리포터와 불사조 기사단\n",
      "해리포터와 불사조 기사단\n",
      "해리포터와 불사조 기사단\n",
      "해리포터 :불사조 기사단\n",
      "해리포터와 죽음의 성물\n",
      "해리포터와 혼혈왕자\n",
      "해리포터 :불의 잔\n",
      "해리포터와 죽음의 성물\n",
      "해리포터 :혼혈 왕자\n",
      "해리포터와 혼혈왕자\n",
      "해리포터 :불의 잔\n",
      "해리포터 :불사조 기사단\n",
      "해리포터 :죽음의 성물\n",
      "해리포터 :불사조 기사단\n",
      "해리포터 :혼혈 왕자\n",
      "해리포터 :죽음의 성물\n",
      "해리포터 :불사조 기사단\n",
      "해리포터 :불사조 기사단\n",
      "해리포터 :혼혈 왕자\n",
      "해리포터 :죽음의 성물\n",
      "해리포터 :혼혈 왕자\n"
     ]
    }
   ],
   "source": [
    "get_id_from_partial_name(\"해리포터\")"
   ]
  }
 ],
 "metadata": {
  "kernelspec": {
   "display_name": "Python 3",
   "language": "python",
   "name": "python3"
  },
  "language_info": {
   "codemirror_mode": {
    "name": "ipython",
    "version": 3
   },
   "file_extension": ".py",
   "mimetype": "text/x-python",
   "name": "python",
   "nbconvert_exporter": "python",
   "pygments_lexer": "ipython3",
   "version": "3.6.12"
  }
 },
 "nbformat": 4,
 "nbformat_minor": 4
}
