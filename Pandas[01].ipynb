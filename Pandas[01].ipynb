{
 "cells": [
  {
   "cell_type": "markdown",
   "metadata": {},
   "source": [
    "# Pandas\n",
    " - 데이터를 다룰 수 있는 방법을 제공해주는 라이브러리\n",
    " - 분석하려는 데이터는 대부분 Series(시계열)이거나 Table(표) 형태로 정의해야한다.\n",
    " - Series 클래스(벡터 느낌)와 DataFrame 클래스(Matrix)를 제공한다"
   ]
  },
  {
   "cell_type": "code",
   "execution_count": 2,
   "metadata": {},
   "outputs": [],
   "source": [
    "import pandas as pd \n",
    "import numpy as np\n",
    "import matplotlib.pyplot as plt"
   ]
  },
  {
   "cell_type": "markdown",
   "metadata": {},
   "source": [
    "### Series 클래스\n",
    "- 넘파이의 1차원 배열과 비슷하지만 넘파이와는 다르게 각 데이터의 의미를 표시하는 인덱스를 붙일 수 있다. \n",
    "- series = index + value"
   ]
  },
  {
   "cell_type": "code",
   "execution_count": 6,
   "metadata": {},
   "outputs": [
    {
     "name": "stdout",
     "output_type": "stream",
     "text": [
      "[1 2 3 4]\n",
      "object\n"
     ]
    }
   ],
   "source": [
    "# Series 와 Numpy array  비교\n",
    "arr = np.array([1,2,3,4], dtype = np.object)\n",
    "print(arr)\n",
    "print(arr.dtype)"
   ]
  },
  {
   "cell_type": "code",
   "execution_count": 12,
   "metadata": {},
   "outputs": [
    {
     "name": "stdout",
     "output_type": "stream",
     "text": [
      "0    1.0\n",
      "1    2.0\n",
      "2    3.0\n",
      "3    4.0\n",
      "dtype: float64\n",
      "<class 'numpy.ndarray'>\n",
      "RangeIndex(start=0, stop=4, step=1)\n",
      "<class 'pandas.core.indexes.range.RangeIndex'>\n"
     ]
    }
   ],
   "source": [
    "s = pd.Series([1,2,3,4], dtype = np.float64)\n",
    "print(s)\n",
    "print(type(s.values))\n",
    "print(s.index)\n",
    "print(type(s.index))"
   ]
  },
  {
   "cell_type": "code",
   "execution_count": 13,
   "metadata": {},
   "outputs": [],
   "source": [
    "def seriesInfo(s) :\n",
    "    print('value :', s.values)\n",
    "    print('value type:', type(s.values))\n",
    "    print('index :', s.index)\n",
    "    print('index type:',type(s.index))\n",
    "    print('index +value:',s)\n",
    "    "
   ]
  },
  {
   "cell_type": "code",
   "execution_count": 20,
   "metadata": {},
   "outputs": [
    {
     "name": "stdout",
     "output_type": "stream",
     "text": [
      "value : [344234 234234 234234  23423]\n",
      "value type: <class 'numpy.ndarray'>\n",
      "index : Index(['서울', '부산', '대전', '광주'], dtype='object')\n",
      "index type: <class 'pandas.core.indexes.base.Index'>\n",
      "index +value: 서울    344234\n",
      "부산    234234\n",
      "대전    234234\n",
      "광주     23423\n",
      "dtype: int32\n"
     ]
    }
   ],
   "source": [
    "# 인덱스의 라벨은 문자열뿐만 아니라 날짜, 시간, 정수 등 가능\n",
    "s = pd.Series([344234,234234,234234,23423],\n",
    "              dtype = np.int32,\n",
    "             index = ['서울', '부산', '대전', '광주'])\n",
    "seriesInfo(s)"
   ]
  },
  {
   "cell_type": "code",
   "execution_count": 21,
   "metadata": {},
   "outputs": [
    {
     "name": "stdout",
     "output_type": "stream",
     "text": [
      "지역별\n",
      "서울    344234\n",
      "부산    234234\n",
      "대전    234234\n",
      "광주     23423\n",
      "dtype: int32\n"
     ]
    }
   ],
   "source": [
    "s.index.name = '지역별'\n",
    "print(s)"
   ]
  },
  {
   "cell_type": "code",
   "execution_count": 23,
   "metadata": {},
   "outputs": [
    {
     "data": {
      "text/plain": [
       "지역별\n",
       "서울    3.44234\n",
       "부산    2.34234\n",
       "대전    2.34234\n",
       "광주    0.23423\n",
       "dtype: float64"
      ]
     },
     "execution_count": 23,
     "metadata": {},
     "output_type": "execute_result"
    }
   ],
   "source": [
    "s/100000"
   ]
  },
  {
   "cell_type": "markdown",
   "metadata": {},
   "source": [
    "- series indexing"
   ]
  },
  {
   "cell_type": "code",
   "execution_count": 25,
   "metadata": {},
   "outputs": [
    {
     "data": {
      "text/plain": [
       "344234"
      ]
     },
     "execution_count": 25,
     "metadata": {},
     "output_type": "execute_result"
    }
   ],
   "source": [
    "s['서울'] # s[0]도 가능"
   ]
  },
  {
   "cell_type": "code",
   "execution_count": 26,
   "metadata": {},
   "outputs": [
    {
     "data": {
      "text/plain": [
       "지역별\n",
       "서울    344234\n",
       "부산    234234\n",
       "dtype: int32"
      ]
     },
     "execution_count": 26,
     "metadata": {},
     "output_type": "execute_result"
    }
   ],
   "source": [
    "s[0:2] # slicing"
   ]
  },
  {
   "cell_type": "code",
   "execution_count": 31,
   "metadata": {},
   "outputs": [
    {
     "data": {
      "text/plain": [
       "지역별\n",
       "서울    344234\n",
       "대전    234234\n",
       "dtype: int32"
      ]
     },
     "execution_count": 31,
     "metadata": {},
     "output_type": "execute_result"
    }
   ],
   "source": [
    "s[['서울','대전']]"
   ]
  },
  {
   "cell_type": "code",
   "execution_count": 33,
   "metadata": {},
   "outputs": [
    {
     "data": {
      "text/plain": [
       "True"
      ]
     },
     "execution_count": 33,
     "metadata": {},
     "output_type": "execute_result"
    }
   ],
   "source": [
    "'서울' in s"
   ]
  },
  {
   "cell_type": "code",
   "execution_count": 34,
   "metadata": {},
   "outputs": [
    {
     "data": {
      "text/plain": [
       "False"
      ]
     },
     "execution_count": 34,
     "metadata": {},
     "output_type": "execute_result"
    }
   ],
   "source": [
    "'강원' in s"
   ]
  },
  {
   "cell_type": "code",
   "execution_count": 35,
   "metadata": {},
   "outputs": [
    {
     "name": "stdout",
     "output_type": "stream",
     "text": [
      "key:서울, value 344234\n",
      "key:부산, value 234234\n",
      "key:대전, value 234234\n",
      "key:광주, value 23423\n"
     ]
    }
   ],
   "source": [
    "for key, value in s.items():\n",
    "    print('key:{}, value {}'.format(key, value))"
   ]
  },
  {
   "cell_type": "code",
   "execution_count": 45,
   "metadata": {},
   "outputs": [
    {
     "name": "stdout",
     "output_type": "stream",
     "text": [
      "value : [-8.  5. 10.]\n",
      "value type: <class 'numpy.ndarray'>\n",
      "index : Index(['c', 'a', 'k'], dtype='object')\n",
      "index type: <class 'pandas.core.indexes.base.Index'>\n",
      "index +value: c    -8.0\n",
      "a     5.0\n",
      "k    10.0\n",
      "dtype: float64\n"
     ]
    }
   ],
   "source": [
    "s2 = pd.Series({'c' : 1, 'a' : '5', 'c' : -8, 'k' : 10}, dtype = np.float64)    # dictionary\n",
    "seriesInfo(s2)"
   ]
  },
  {
   "cell_type": "code",
   "execution_count": 47,
   "metadata": {},
   "outputs": [
    {
     "name": "stdout",
     "output_type": "stream",
     "text": [
      "fancy[0,2] indexing: c    -8.0\n",
      "k    10.0\n",
      "dtype: float64\n",
      "boolean s2%2==0: c    -8.0\n",
      "k    10.0\n",
      "dtype: float64\n"
     ]
    }
   ],
   "source": [
    "#Fancy Indexing & boolean indexing\n",
    "print('fancy[0,2] indexing: {}'.format(s2[[0,2]]))\n",
    "#boolean indexing 2의 배수인 것\n",
    "print('boolean s2%2==0: {}'.format(s2[s2%2==0]))"
   ]
  },
  {
   "cell_type": "code",
   "execution_count": 49,
   "metadata": {},
   "outputs": [
    {
     "name": "stdout",
     "output_type": "stream",
     "text": [
      "value : [ 344234.  234234. 2342213.      nan]\n",
      "value type: <class 'numpy.ndarray'>\n",
      "index : Index(['서울', '부산', '대전', '광주'], dtype='object')\n",
      "index type: <class 'pandas.core.indexes.base.Index'>\n",
      "index +value: 서울     344234.0\n",
      "부산     234234.0\n",
      "대전    2342213.0\n",
      "광주          NaN\n",
      "dtype: float64\n"
     ]
    }
   ],
   "source": [
    "# 인덱스의 라벨은 문자열뿐만 아니라 날짜, 시간, 정수 등 가능\n",
    "s3 = pd.Series({'서울':344234,'부산':234234,'인천':234234,'대전':2342213},\n",
    "              dtype = np.int32,\n",
    "             index = ['서울', '부산', '대전', '광주'])\n",
    "seriesInfo(s3)"
   ]
  },
  {
   "cell_type": "code",
   "execution_count": 50,
   "metadata": {},
   "outputs": [
    {
     "name": "stdout",
     "output_type": "stream",
     "text": [
      "a    NaN\n",
      "c    NaN\n",
      "k    NaN\n",
      "광주   NaN\n",
      "대전   NaN\n",
      "부산   NaN\n",
      "서울   NaN\n",
      "dtype: float64\n"
     ]
    }
   ],
   "source": [
    "diff_s = s - s2\n",
    "print(diff_s)"
   ]
  },
  {
   "cell_type": "code",
   "execution_count": null,
   "metadata": {},
   "outputs": [],
   "source": [
    "# A 공장의 2019-01-01부터 10일간의 생산량을 Series  저장\n",
    "# 생산량은 평균이 50이고 편차가 5인 정규분표생성(정수)"
   ]
  },
  {
   "cell_type": "code",
   "execution_count": null,
   "metadata": {},
   "outputs": [],
   "source": [
    "# B 공장의 2019-01-01부터 10일간의 생산량을 Series  저장\n",
    "# 생산량은 평균이 10이고 편차가 8인 정규분표생성(정수)\n",
    "\n",
    "# 날짜별로 모든 공장의 생산량 합계를 구한다면?\n"
   ]
  },
  {
   "cell_type": "code",
   "execution_count": 79,
   "metadata": {},
   "outputs": [],
   "source": [
    "import numpy as np\n",
    "import pandas as pd\n",
    "from datetime import date, datetime, timedelta\n",
    "from dateutil.parser import parse"
   ]
  },
  {
   "cell_type": "code",
   "execution_count": 83,
   "metadata": {},
   "outputs": [
    {
     "name": "stdout",
     "output_type": "stream",
     "text": [
      "2019-01-01 00:00:00\n",
      "2019-01-01    51\n",
      "2019-01-02    50\n",
      "2019-01-03    44\n",
      "2019-01-04    52\n",
      "2019-01-05    45\n",
      "2019-01-06    51\n",
      "2019-01-07    59\n",
      "2019-01-08    42\n",
      "2019-01-09    47\n",
      "2019-01-10    51\n",
      "dtype: int64\n",
      "**************************************************\n",
      "2019-01-01    78\n",
      "2019-01-02    78\n",
      "2019-01-03    77\n",
      "2019-01-04    76\n",
      "2019-01-05    60\n",
      "2019-01-06    64\n",
      "2019-01-07    70\n",
      "2019-01-08    77\n",
      "2019-01-09    81\n",
      "2019-01-10    57\n",
      "dtype: int64\n"
     ]
    }
   ],
   "source": [
    "start_day = datetime(2019,1,1)\n",
    "print(start_day)\n",
    "facA = pd.Series([int(x) for x in np.random.normal(50,5,(10,))],\n",
    "                index  = [start_day + timedelta(days = x) for x in range(10)])\n",
    "print(facA)\n",
    "facB = pd.Series([int(x) for x in np.random.normal(70,8,(10,))],\n",
    "                index  = [start_day + timedelta(days = x) for x in range(10)])\n",
    "print(\"*\"*50)\n",
    "print(facB)"
   ]
  },
  {
   "cell_type": "code",
   "execution_count": 81,
   "metadata": {},
   "outputs": [
    {
     "name": "stdout",
     "output_type": "stream",
     "text": [
      "2019-01-03 00:00:00\n"
     ]
    }
   ],
   "source": [
    "# 단위 테스트를 위한 셀\n",
    "#type(np.random.normal(50,5,(10,)))\n",
    "print(start_day + timedelta(days = 2))"
   ]
  },
  {
   "cell_type": "code",
   "execution_count": 86,
   "metadata": {},
   "outputs": [
    {
     "name": "stdout",
     "output_type": "stream",
     "text": [
      "DatetimeIndex(['2019-01-01', '2019-01-02', '2019-01-03', '2019-01-04',\n",
      "               '2019-01-05', '2019-01-06', '2019-01-07', '2019-01-08',\n",
      "               '2019-01-09', '2019-01-10'],\n",
      "              dtype='datetime64[ns]', freq=None)\n",
      "DatetimeIndex(['2019-01-01', '2019-01-02', '2019-01-03', '2019-01-04',\n",
      "               '2019-01-05', '2019-01-06', '2019-01-07', '2019-01-08',\n",
      "               '2019-01-09', '2019-01-10'],\n",
      "              dtype='datetime64[ns]', freq=None)\n"
     ]
    }
   ],
   "source": [
    "print(facA.index)\n",
    "print(facB.index)"
   ]
  },
  {
   "cell_type": "code",
   "execution_count": 88,
   "metadata": {},
   "outputs": [
    {
     "name": "stdout",
     "output_type": "stream",
     "text": [
      "2019-01-01    129\n",
      "2019-01-02    128\n",
      "2019-01-03    121\n",
      "2019-01-04    128\n",
      "2019-01-05    105\n",
      "2019-01-06    115\n",
      "2019-01-07    129\n",
      "2019-01-08    119\n",
      "2019-01-09    128\n",
      "2019-01-10    108\n",
      "dtype: int64\n"
     ]
    }
   ],
   "source": [
    "print(facA + facB)"
   ]
  },
  {
   "cell_type": "code",
   "execution_count": null,
   "metadata": {},
   "outputs": [],
   "source": []
  },
  {
   "cell_type": "code",
   "execution_count": null,
   "metadata": {},
   "outputs": [],
   "source": []
  },
  {
   "cell_type": "code",
   "execution_count": null,
   "metadata": {},
   "outputs": [],
   "source": []
  },
  {
   "cell_type": "code",
   "execution_count": null,
   "metadata": {},
   "outputs": [],
   "source": []
  },
  {
   "cell_type": "code",
   "execution_count": null,
   "metadata": {},
   "outputs": [],
   "source": []
  },
  {
   "cell_type": "code",
   "execution_count": null,
   "metadata": {},
   "outputs": [],
   "source": []
  },
  {
   "cell_type": "code",
   "execution_count": null,
   "metadata": {},
   "outputs": [],
   "source": []
  },
  {
   "cell_type": "code",
   "execution_count": null,
   "metadata": {},
   "outputs": [],
   "source": []
  },
  {
   "cell_type": "code",
   "execution_count": null,
   "metadata": {},
   "outputs": [],
   "source": []
  },
  {
   "cell_type": "code",
   "execution_count": null,
   "metadata": {},
   "outputs": [],
   "source": []
  },
  {
   "cell_type": "code",
   "execution_count": null,
   "metadata": {},
   "outputs": [],
   "source": []
  },
  {
   "cell_type": "code",
   "execution_count": null,
   "metadata": {},
   "outputs": [],
   "source": []
  },
  {
   "cell_type": "code",
   "execution_count": null,
   "metadata": {},
   "outputs": [],
   "source": []
  },
  {
   "cell_type": "code",
   "execution_count": null,
   "metadata": {},
   "outputs": [],
   "source": []
  },
  {
   "cell_type": "code",
   "execution_count": null,
   "metadata": {},
   "outputs": [],
   "source": []
  },
  {
   "cell_type": "code",
   "execution_count": null,
   "metadata": {},
   "outputs": [],
   "source": []
  },
  {
   "cell_type": "code",
   "execution_count": null,
   "metadata": {},
   "outputs": [],
   "source": []
  }
 ],
 "metadata": {
  "kernelspec": {
   "display_name": "Python 3",
   "language": "python",
   "name": "python3"
  },
  "language_info": {
   "codemirror_mode": {
    "name": "ipython",
    "version": 3
   },
   "file_extension": ".py",
   "mimetype": "text/x-python",
   "name": "python",
   "nbconvert_exporter": "python",
   "pygments_lexer": "ipython3",
   "version": "3.6.5"
  }
 },
 "nbformat": 4,
 "nbformat_minor": 2
}
