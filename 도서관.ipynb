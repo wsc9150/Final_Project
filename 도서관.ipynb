{
 "cells": [
  {
   "cell_type": "code",
   "execution_count": 1,
   "metadata": {},
   "outputs": [],
   "source": [
    "import pandas as pd\n",
    "import numpy as np"
   ]
  },
  {
   "cell_type": "code",
   "execution_count": 9,
   "metadata": {},
   "outputs": [],
   "source": [
    "public = pd.read_csv('./data/final/public_library.csv',encoding='euc-kr')"
   ]
  },
  {
   "cell_type": "code",
   "execution_count": 13,
   "metadata": {},
   "outputs": [
    {
     "data": {
      "text/plain": [
       "242"
      ]
     },
     "execution_count": 13,
     "metadata": {},
     "output_type": "execute_result"
    }
   ],
   "source": [
    "len(list(public.columns))"
   ]
  },
  {
   "cell_type": "code",
   "execution_count": 109,
   "metadata": {},
   "outputs": [],
   "source": [
    "public_modi = pd.read_csv('./data/final/public_library_modi.csv',encoding='euc-kr')"
   ]
  },
  {
   "cell_type": "code",
   "execution_count": 90,
   "metadata": {},
   "outputs": [
    {
     "data": {
      "text/plain": [
       "115"
      ]
     },
     "execution_count": 90,
     "metadata": {},
     "output_type": "execute_result"
    }
   ],
   "source": [
    "len(list(public_modi.columns))"
   ]
  },
  {
   "cell_type": "code",
   "execution_count": 110,
   "metadata": {},
   "outputs": [
    {
     "data": {
      "text/plain": [
       "['도서관명',\n",
       " '구분',\n",
       " '지역',\n",
       " '지역_시군구',\n",
       " '설립주체',\n",
       " '주소',\n",
       " '상세주소',\n",
       " '도서_국내_총류',\n",
       " '도서_국내_철학',\n",
       " '도서_국내_종교',\n",
       " '도서_국내_사회과학',\n",
       " '도서_국내_순수과학',\n",
       " '도서_국내_기술과학',\n",
       " '도서_국내_예술',\n",
       " '도서_국내_언어',\n",
       " '도서_국내_문학',\n",
       " '도서_국내_역사',\n",
       " '도서_국외_총류',\n",
       " '도서_국외_철학',\n",
       " '도서_국외_종교',\n",
       " '도서_국외_사회과학',\n",
       " '도서_국외_순수과학',\n",
       " '도서_국외_기술과학',\n",
       " '도서_국외_예술',\n",
       " '도서_국외_언어',\n",
       " '도서_국외_문학',\n",
       " '도서_국외_역사',\n",
       " '비도서_시청각자료',\n",
       " '비도서_기타자료',\n",
       " '전자자료_전자저널',\n",
       " '전자자료_전자도서',\n",
       " '전자자료_기타',\n",
       " '연속간행물_국내',\n",
       " '연속간행물_국외',\n",
       " '도서자료_연간구입',\n",
       " '도서자료_연간기증',\n",
       " '도서자료_연간제적',\n",
       " '비도서_연간구입',\n",
       " '비도서_연간기증',\n",
       " '비도서_연간제적',\n",
       " '전자자료_연간구입',\n",
       " '전자자료_연간기증',\n",
       " '전자자료_연간제적',\n",
       " '연속간행물_연간구입',\n",
       " '연속간행물_연간기증',\n",
       " '연속간행물_연간제적',\n",
       " '시설_연면적',\n",
       " '좌석_총좌석수',\n",
       " '좌석_어린이',\n",
       " '좌석_노인및장애인',\n",
       " '설비_이용자컴퓨터수',\n",
       " '설비_무인반납기',\n",
       " '설비_모바일도서관유무',\n",
       " '합계_전문_교육건수',\n",
       " '합계_전문_교육시간',\n",
       " '합계_일반_교육건수',\n",
       " '합계_일반_교육시간',\n",
       " '예산_자료구입비_도서_금액',\n",
       " '예산_자료구입비_비도서_금액',\n",
       " '예산_자료구입비_전자_금액',\n",
       " '예산_자료구입비_연속_금액',\n",
       " '예산_운영비_유지비_금액',\n",
       " '예산_운영비_프로그램비_금액',\n",
       " '개관일수',\n",
       " '평균개관시간',\n",
       " '회원등록자수_어린이',\n",
       " '회원등록자수_청소년',\n",
       " '회원등록자수_성인',\n",
       " '도서관_방문자수',\n",
       " '자료실_이용자수',\n",
       " '대출자수_어린이',\n",
       " '대출자수_청소년',\n",
       " '대출자수_성인',\n",
       " '대출권수_어린이_총류',\n",
       " '대출권수_어린이_철학',\n",
       " '대출권수_어린이_종교',\n",
       " '대출권수_어린이_사회과학',\n",
       " '대출권수_어린이_순수과학',\n",
       " '대출권수_어린이_기술과학',\n",
       " '대출권수_어린이_예술',\n",
       " '대출권수_어린이_언어',\n",
       " '대출권수_어린이_문학',\n",
       " '대출권수_어린이_역사',\n",
       " '대출권수_청소년_총류',\n",
       " '대출권수_청소년_철학',\n",
       " '대출권수_청소년_종교',\n",
       " '대출권수_청소년_사회과학',\n",
       " '대출권수_청소년_순수과학',\n",
       " '대출권수_청소년_기술과학',\n",
       " '대출권수_청소년_예술',\n",
       " '대출권수_청소년_언어',\n",
       " '대출권수_청소년_문학',\n",
       " '대출권수_청소년_역사',\n",
       " '대출권수_성인_총류',\n",
       " '대출권수_성인_철학',\n",
       " '대출권수_성인_종교',\n",
       " '대출권수_성인_사회과학',\n",
       " '대출권수_성인_순수과학',\n",
       " '대출권수_성인_기술과학',\n",
       " '대출권수_성인_예술',\n",
       " '대출권수_성인_언어',\n",
       " '대출권수_성인_문학',\n",
       " '대출권수_성인_역사',\n",
       " '상호대차_의뢰',\n",
       " '상호대차_제공',\n",
       " '정보서비스_의뢰',\n",
       " '정보서비스_제공',\n",
       " '홈페이지접속건수',\n",
       " '모바일웹접속건수',\n",
       " '문화프로그램_강좌_횟수',\n",
       " '도서프로그램_강좌_횟수',\n",
       " '독서동아리수',\n",
       " '학습동아리수',\n",
       " '기타동아리수',\n",
       " '도서관총예산']"
      ]
     },
     "execution_count": 110,
     "metadata": {},
     "output_type": "execute_result"
    }
   ],
   "source": [
    "list(public_modi.columns)"
   ]
  },
  {
   "cell_type": "code",
   "execution_count": 111,
   "metadata": {},
   "outputs": [],
   "source": [
    "public_modi['도서수']=[sum(public_modi.iloc[i,7:27]) for i in range(len(public_modi))]"
   ]
  },
  {
   "cell_type": "code",
   "execution_count": 112,
   "metadata": {},
   "outputs": [],
   "source": [
    "public_modi['비도서']=[sum(public_modi.iloc[i,27:29]) for i in range(len(public_modi))]"
   ]
  },
  {
   "cell_type": "code",
   "execution_count": 113,
   "metadata": {},
   "outputs": [],
   "source": [
    "public_modi['ebook']=[sum(public_modi.iloc[i,29:32]) for i in range(len(public_modi))]"
   ]
  },
  {
   "cell_type": "code",
   "execution_count": 114,
   "metadata": {},
   "outputs": [],
   "source": [
    "public_modi['연속간행물']=[sum(public_modi.iloc[i,32:34]) for i in range(len(public_modi))]"
   ]
  },
  {
   "cell_type": "code",
   "execution_count": 115,
   "metadata": {},
   "outputs": [],
   "source": [
    "public_modi['연간도서유입']=[int(public_modi.iloc[i,34])+int(public_modi.iloc[i,35]) for i in range(len(public_modi))]"
   ]
  },
  {
   "cell_type": "code",
   "execution_count": 116,
   "metadata": {},
   "outputs": [],
   "source": [
    "public_modi['연간비도서유입']=[int(public_modi.iloc[i,37])+int(public_modi.iloc[i,38]) for i in range(len(public_modi))]"
   ]
  },
  {
   "cell_type": "code",
   "execution_count": 117,
   "metadata": {},
   "outputs": [],
   "source": [
    "public_modi['연간전자자료유입']=[int(public_modi.iloc[i,40])+int(public_modi.iloc[i,41]) for i in range(len(public_modi))]"
   ]
  },
  {
   "cell_type": "code",
   "execution_count": 118,
   "metadata": {},
   "outputs": [],
   "source": [
    "public_modi['연간연속간행물유입']=[int(public_modi.iloc[i,43])+int(public_modi.iloc[i,44]) for i in range(len(public_modi))]"
   ]
  },
  {
   "cell_type": "code",
   "execution_count": 123,
   "metadata": {},
   "outputs": [],
   "source": [
    "public_modi['좌석_일반'] = [(public_modi['좌석_총좌석수'][i]-public_modi['좌석_어린이'][i]-public_modi['좌석_노인및장애인'][i]) for i in range(len(public_modi))]"
   ]
  },
  {
   "cell_type": "code",
   "execution_count": 129,
   "metadata": {},
   "outputs": [],
   "source": [
    "public_modi['대출권수_어린이도서'] = [sum(public_modi.iloc[i,73:83]) for i in range(len(public_modi))]"
   ]
  },
  {
   "cell_type": "code",
   "execution_count": 132,
   "metadata": {},
   "outputs": [],
   "source": [
    "public_modi['대출권수_청소년도서'] = [sum(public_modi.iloc[i,83:93]) for i in range(len(public_modi))]"
   ]
  },
  {
   "cell_type": "code",
   "execution_count": 135,
   "metadata": {},
   "outputs": [],
   "source": [
    "public_modi['대출권수_성인도서'] = [sum(public_modi.iloc[i,93:103]) for i in range(len(public_modi))]"
   ]
  },
  {
   "cell_type": "code",
   "execution_count": 137,
   "metadata": {},
   "outputs": [],
   "source": [
    "public_modi['전체대출권수'] = [sum(public_modi.iloc[i,73:103]) for i in range(len(public_modi))]"
   ]
  },
  {
   "cell_type": "code",
   "execution_count": 140,
   "metadata": {},
   "outputs": [],
   "source": [
    "public_modi['상호대차_제공비율'] = public_modi.iloc[:,104]/public_modi.iloc[:,103]"
   ]
  },
  {
   "cell_type": "code",
   "execution_count": 143,
   "metadata": {},
   "outputs": [],
   "source": [
    "public_modi['정보서비스_제공비율'] = public_modi.iloc[:,106]/public_modi.iloc[:,105]"
   ]
  },
  {
   "cell_type": "code",
   "execution_count": 150,
   "metadata": {},
   "outputs": [],
   "source": [
    "public_modi['도서관_동아리수'] = [sum(public_modi.iloc[i,111:114]) for i in range(len(public_modi))]"
   ]
  },
  {
   "cell_type": "code",
   "execution_count": 153,
   "metadata": {
    "scrolled": true
   },
   "outputs": [
    {
     "data": {
      "text/plain": [
       "Index(['도서관명', '구분', '지역', '지역_시군구', '설립주체', '주소', '상세주소', '도서_국내_총류',\n",
       "       '도서_국내_철학', '도서_국내_종교',\n",
       "       ...\n",
       "       '연간전자자료유입', '연간연속간행물유입', '좌석_일반', '대출권수_어린이도서', '대출권수_청소년도서',\n",
       "       '대출권수_성인도서', '전체대출권수', '상호대차_제공비율', '정보서비스_제공비율', '도서관_동아리수'],\n",
       "      dtype='object', length=131)"
      ]
     },
     "execution_count": 153,
     "metadata": {},
     "output_type": "execute_result"
    }
   ],
   "source": [
    "public_modi.columns"
   ]
  },
  {
   "cell_type": "code",
   "execution_count": 154,
   "metadata": {},
   "outputs": [],
   "source": [
    "public_modi.to_csv('./data/final/public_df.csv',index=False,encoding='utf-8-sig')"
   ]
  },
  {
   "cell_type": "code",
   "execution_count": null,
   "metadata": {},
   "outputs": [],
   "source": [
    "public_df = pd.read_csv('./data/final/public_df.csv',encoding='euc-kr')"
   ]
  }
 ],
 "metadata": {
  "kernelspec": {
   "display_name": "Python 3",
   "language": "python",
   "name": "python3"
  },
  "language_info": {
   "codemirror_mode": {
    "name": "ipython",
    "version": 3
   },
   "file_extension": ".py",
   "mimetype": "text/x-python",
   "name": "python",
   "nbconvert_exporter": "python",
   "pygments_lexer": "ipython3",
   "version": "3.6.12"
  }
 },
 "nbformat": 4,
 "nbformat_minor": 4
}
